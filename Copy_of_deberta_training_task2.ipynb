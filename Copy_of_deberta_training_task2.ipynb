{
  "nbformat": 4,
  "nbformat_minor": 0,
  "metadata": {
    "colab": {
      "provenance": [],
      "machine_shape": "hm",
      "authorship_tag": "ABX9TyM0DWAPT2RaaMbPoUgiBpd7",
      "include_colab_link": true
    },
    "kernelspec": {
      "name": "python3",
      "display_name": "Python 3"
    },
    "language_info": {
      "name": "python"
    },
    "accelerator": "TPU",
    "widgets": {
      "application/vnd.jupyter.widget-state+json": {
        "db170078ccdf4317bc5ac22db5b889f5": {
          "model_module": "@jupyter-widgets/controls",
          "model_name": "HBoxModel",
          "model_module_version": "1.5.0",
          "state": {
            "_dom_classes": [],
            "_model_module": "@jupyter-widgets/controls",
            "_model_module_version": "1.5.0",
            "_model_name": "HBoxModel",
            "_view_count": null,
            "_view_module": "@jupyter-widgets/controls",
            "_view_module_version": "1.5.0",
            "_view_name": "HBoxView",
            "box_style": "",
            "children": [
              "IPY_MODEL_6dcb9f9fac8f4bbfbac9fb20b59f464c",
              "IPY_MODEL_2a8138ca362c490382fb585d29006235",
              "IPY_MODEL_e3209d1af3e440ddb05569a3e2f97985"
            ],
            "layout": "IPY_MODEL_0d24daa6480f4aef82f4d9532ef0318e"
          }
        },
        "6dcb9f9fac8f4bbfbac9fb20b59f464c": {
          "model_module": "@jupyter-widgets/controls",
          "model_name": "HTMLModel",
          "model_module_version": "1.5.0",
          "state": {
            "_dom_classes": [],
            "_model_module": "@jupyter-widgets/controls",
            "_model_module_version": "1.5.0",
            "_model_name": "HTMLModel",
            "_view_count": null,
            "_view_module": "@jupyter-widgets/controls",
            "_view_module_version": "1.5.0",
            "_view_name": "HTMLView",
            "description": "",
            "description_tooltip": null,
            "layout": "IPY_MODEL_3ad74eaf12e54fb789c0a384fdc0d014",
            "placeholder": "​",
            "style": "IPY_MODEL_f51aea5b37a84b4bbe540d7d8cd3d012",
            "value": "Downloading (…)ve/main/spiece.model: 100%"
          }
        },
        "2a8138ca362c490382fb585d29006235": {
          "model_module": "@jupyter-widgets/controls",
          "model_name": "FloatProgressModel",
          "model_module_version": "1.5.0",
          "state": {
            "_dom_classes": [],
            "_model_module": "@jupyter-widgets/controls",
            "_model_module_version": "1.5.0",
            "_model_name": "FloatProgressModel",
            "_view_count": null,
            "_view_module": "@jupyter-widgets/controls",
            "_view_module_version": "1.5.0",
            "_view_name": "ProgressView",
            "bar_style": "success",
            "description": "",
            "description_tooltip": null,
            "layout": "IPY_MODEL_00fa04540b4343fcaf464f330ee7240e",
            "max": 791656,
            "min": 0,
            "orientation": "horizontal",
            "style": "IPY_MODEL_3a14b3fd0ae04ae4aa55765ac7e530bc",
            "value": 791656
          }
        },
        "e3209d1af3e440ddb05569a3e2f97985": {
          "model_module": "@jupyter-widgets/controls",
          "model_name": "HTMLModel",
          "model_module_version": "1.5.0",
          "state": {
            "_dom_classes": [],
            "_model_module": "@jupyter-widgets/controls",
            "_model_module_version": "1.5.0",
            "_model_name": "HTMLModel",
            "_view_count": null,
            "_view_module": "@jupyter-widgets/controls",
            "_view_module_version": "1.5.0",
            "_view_name": "HTMLView",
            "description": "",
            "description_tooltip": null,
            "layout": "IPY_MODEL_d6b446a6f18444cd9a5bcd662cffaae4",
            "placeholder": "​",
            "style": "IPY_MODEL_fbe11d918a6d4cbfbfe80802402c4ddd",
            "value": " 792k/792k [00:00&lt;00:00, 3.72MB/s]"
          }
        },
        "0d24daa6480f4aef82f4d9532ef0318e": {
          "model_module": "@jupyter-widgets/base",
          "model_name": "LayoutModel",
          "model_module_version": "1.2.0",
          "state": {
            "_model_module": "@jupyter-widgets/base",
            "_model_module_version": "1.2.0",
            "_model_name": "LayoutModel",
            "_view_count": null,
            "_view_module": "@jupyter-widgets/base",
            "_view_module_version": "1.2.0",
            "_view_name": "LayoutView",
            "align_content": null,
            "align_items": null,
            "align_self": null,
            "border": null,
            "bottom": null,
            "display": null,
            "flex": null,
            "flex_flow": null,
            "grid_area": null,
            "grid_auto_columns": null,
            "grid_auto_flow": null,
            "grid_auto_rows": null,
            "grid_column": null,
            "grid_gap": null,
            "grid_row": null,
            "grid_template_areas": null,
            "grid_template_columns": null,
            "grid_template_rows": null,
            "height": null,
            "justify_content": null,
            "justify_items": null,
            "left": null,
            "margin": null,
            "max_height": null,
            "max_width": null,
            "min_height": null,
            "min_width": null,
            "object_fit": null,
            "object_position": null,
            "order": null,
            "overflow": null,
            "overflow_x": null,
            "overflow_y": null,
            "padding": null,
            "right": null,
            "top": null,
            "visibility": null,
            "width": null
          }
        },
        "3ad74eaf12e54fb789c0a384fdc0d014": {
          "model_module": "@jupyter-widgets/base",
          "model_name": "LayoutModel",
          "model_module_version": "1.2.0",
          "state": {
            "_model_module": "@jupyter-widgets/base",
            "_model_module_version": "1.2.0",
            "_model_name": "LayoutModel",
            "_view_count": null,
            "_view_module": "@jupyter-widgets/base",
            "_view_module_version": "1.2.0",
            "_view_name": "LayoutView",
            "align_content": null,
            "align_items": null,
            "align_self": null,
            "border": null,
            "bottom": null,
            "display": null,
            "flex": null,
            "flex_flow": null,
            "grid_area": null,
            "grid_auto_columns": null,
            "grid_auto_flow": null,
            "grid_auto_rows": null,
            "grid_column": null,
            "grid_gap": null,
            "grid_row": null,
            "grid_template_areas": null,
            "grid_template_columns": null,
            "grid_template_rows": null,
            "height": null,
            "justify_content": null,
            "justify_items": null,
            "left": null,
            "margin": null,
            "max_height": null,
            "max_width": null,
            "min_height": null,
            "min_width": null,
            "object_fit": null,
            "object_position": null,
            "order": null,
            "overflow": null,
            "overflow_x": null,
            "overflow_y": null,
            "padding": null,
            "right": null,
            "top": null,
            "visibility": null,
            "width": null
          }
        },
        "f51aea5b37a84b4bbe540d7d8cd3d012": {
          "model_module": "@jupyter-widgets/controls",
          "model_name": "DescriptionStyleModel",
          "model_module_version": "1.5.0",
          "state": {
            "_model_module": "@jupyter-widgets/controls",
            "_model_module_version": "1.5.0",
            "_model_name": "DescriptionStyleModel",
            "_view_count": null,
            "_view_module": "@jupyter-widgets/base",
            "_view_module_version": "1.2.0",
            "_view_name": "StyleView",
            "description_width": ""
          }
        },
        "00fa04540b4343fcaf464f330ee7240e": {
          "model_module": "@jupyter-widgets/base",
          "model_name": "LayoutModel",
          "model_module_version": "1.2.0",
          "state": {
            "_model_module": "@jupyter-widgets/base",
            "_model_module_version": "1.2.0",
            "_model_name": "LayoutModel",
            "_view_count": null,
            "_view_module": "@jupyter-widgets/base",
            "_view_module_version": "1.2.0",
            "_view_name": "LayoutView",
            "align_content": null,
            "align_items": null,
            "align_self": null,
            "border": null,
            "bottom": null,
            "display": null,
            "flex": null,
            "flex_flow": null,
            "grid_area": null,
            "grid_auto_columns": null,
            "grid_auto_flow": null,
            "grid_auto_rows": null,
            "grid_column": null,
            "grid_gap": null,
            "grid_row": null,
            "grid_template_areas": null,
            "grid_template_columns": null,
            "grid_template_rows": null,
            "height": null,
            "justify_content": null,
            "justify_items": null,
            "left": null,
            "margin": null,
            "max_height": null,
            "max_width": null,
            "min_height": null,
            "min_width": null,
            "object_fit": null,
            "object_position": null,
            "order": null,
            "overflow": null,
            "overflow_x": null,
            "overflow_y": null,
            "padding": null,
            "right": null,
            "top": null,
            "visibility": null,
            "width": null
          }
        },
        "3a14b3fd0ae04ae4aa55765ac7e530bc": {
          "model_module": "@jupyter-widgets/controls",
          "model_name": "ProgressStyleModel",
          "model_module_version": "1.5.0",
          "state": {
            "_model_module": "@jupyter-widgets/controls",
            "_model_module_version": "1.5.0",
            "_model_name": "ProgressStyleModel",
            "_view_count": null,
            "_view_module": "@jupyter-widgets/base",
            "_view_module_version": "1.2.0",
            "_view_name": "StyleView",
            "bar_color": null,
            "description_width": ""
          }
        },
        "d6b446a6f18444cd9a5bcd662cffaae4": {
          "model_module": "@jupyter-widgets/base",
          "model_name": "LayoutModel",
          "model_module_version": "1.2.0",
          "state": {
            "_model_module": "@jupyter-widgets/base",
            "_model_module_version": "1.2.0",
            "_model_name": "LayoutModel",
            "_view_count": null,
            "_view_module": "@jupyter-widgets/base",
            "_view_module_version": "1.2.0",
            "_view_name": "LayoutView",
            "align_content": null,
            "align_items": null,
            "align_self": null,
            "border": null,
            "bottom": null,
            "display": null,
            "flex": null,
            "flex_flow": null,
            "grid_area": null,
            "grid_auto_columns": null,
            "grid_auto_flow": null,
            "grid_auto_rows": null,
            "grid_column": null,
            "grid_gap": null,
            "grid_row": null,
            "grid_template_areas": null,
            "grid_template_columns": null,
            "grid_template_rows": null,
            "height": null,
            "justify_content": null,
            "justify_items": null,
            "left": null,
            "margin": null,
            "max_height": null,
            "max_width": null,
            "min_height": null,
            "min_width": null,
            "object_fit": null,
            "object_position": null,
            "order": null,
            "overflow": null,
            "overflow_x": null,
            "overflow_y": null,
            "padding": null,
            "right": null,
            "top": null,
            "visibility": null,
            "width": null
          }
        },
        "fbe11d918a6d4cbfbfe80802402c4ddd": {
          "model_module": "@jupyter-widgets/controls",
          "model_name": "DescriptionStyleModel",
          "model_module_version": "1.5.0",
          "state": {
            "_model_module": "@jupyter-widgets/controls",
            "_model_module_version": "1.5.0",
            "_model_name": "DescriptionStyleModel",
            "_view_count": null,
            "_view_module": "@jupyter-widgets/base",
            "_view_module_version": "1.2.0",
            "_view_name": "StyleView",
            "description_width": ""
          }
        },
        "159d0d41118043aeb635b525ac44893b": {
          "model_module": "@jupyter-widgets/controls",
          "model_name": "HBoxModel",
          "model_module_version": "1.5.0",
          "state": {
            "_dom_classes": [],
            "_model_module": "@jupyter-widgets/controls",
            "_model_module_version": "1.5.0",
            "_model_name": "HBoxModel",
            "_view_count": null,
            "_view_module": "@jupyter-widgets/controls",
            "_view_module_version": "1.5.0",
            "_view_name": "HBoxView",
            "box_style": "",
            "children": [
              "IPY_MODEL_763382fcfdfb483199ed21bd609e13ad",
              "IPY_MODEL_86b0c865aed344439e06fe567e0e6e73",
              "IPY_MODEL_3c0e8af967fc416a8290d9970fd925e7"
            ],
            "layout": "IPY_MODEL_a479dd726bfa443084ef6fd6d9c5fdd6"
          }
        },
        "763382fcfdfb483199ed21bd609e13ad": {
          "model_module": "@jupyter-widgets/controls",
          "model_name": "HTMLModel",
          "model_module_version": "1.5.0",
          "state": {
            "_dom_classes": [],
            "_model_module": "@jupyter-widgets/controls",
            "_model_module_version": "1.5.0",
            "_model_name": "HTMLModel",
            "_view_count": null,
            "_view_module": "@jupyter-widgets/controls",
            "_view_module_version": "1.5.0",
            "_view_name": "HTMLView",
            "description": "",
            "description_tooltip": null,
            "layout": "IPY_MODEL_76f5dbb0c53c46739d04620f79c2815b",
            "placeholder": "​",
            "style": "IPY_MODEL_735a6ad31cd54d0ea7c1c1925a911411",
            "value": "Downloading (…)lve/main/config.json: 100%"
          }
        },
        "86b0c865aed344439e06fe567e0e6e73": {
          "model_module": "@jupyter-widgets/controls",
          "model_name": "FloatProgressModel",
          "model_module_version": "1.5.0",
          "state": {
            "_dom_classes": [],
            "_model_module": "@jupyter-widgets/controls",
            "_model_module_version": "1.5.0",
            "_model_name": "FloatProgressModel",
            "_view_count": null,
            "_view_module": "@jupyter-widgets/controls",
            "_view_module_version": "1.5.0",
            "_view_name": "ProgressView",
            "bar_style": "success",
            "description": "",
            "description_tooltip": null,
            "layout": "IPY_MODEL_190e0278151e4eb9b15c7e72479d43b6",
            "max": 1209,
            "min": 0,
            "orientation": "horizontal",
            "style": "IPY_MODEL_1bb19665cdac4afbb582dcc150e324fe",
            "value": 1209
          }
        },
        "3c0e8af967fc416a8290d9970fd925e7": {
          "model_module": "@jupyter-widgets/controls",
          "model_name": "HTMLModel",
          "model_module_version": "1.5.0",
          "state": {
            "_dom_classes": [],
            "_model_module": "@jupyter-widgets/controls",
            "_model_module_version": "1.5.0",
            "_model_name": "HTMLModel",
            "_view_count": null,
            "_view_module": "@jupyter-widgets/controls",
            "_view_module_version": "1.5.0",
            "_view_name": "HTMLView",
            "description": "",
            "description_tooltip": null,
            "layout": "IPY_MODEL_25a413f2f68245329a42c84cbca04286",
            "placeholder": "​",
            "style": "IPY_MODEL_82b18ae987a94d7f978d1d24269dfc8b",
            "value": " 1.21k/1.21k [00:00&lt;00:00, 111kB/s]"
          }
        },
        "a479dd726bfa443084ef6fd6d9c5fdd6": {
          "model_module": "@jupyter-widgets/base",
          "model_name": "LayoutModel",
          "model_module_version": "1.2.0",
          "state": {
            "_model_module": "@jupyter-widgets/base",
            "_model_module_version": "1.2.0",
            "_model_name": "LayoutModel",
            "_view_count": null,
            "_view_module": "@jupyter-widgets/base",
            "_view_module_version": "1.2.0",
            "_view_name": "LayoutView",
            "align_content": null,
            "align_items": null,
            "align_self": null,
            "border": null,
            "bottom": null,
            "display": null,
            "flex": null,
            "flex_flow": null,
            "grid_area": null,
            "grid_auto_columns": null,
            "grid_auto_flow": null,
            "grid_auto_rows": null,
            "grid_column": null,
            "grid_gap": null,
            "grid_row": null,
            "grid_template_areas": null,
            "grid_template_columns": null,
            "grid_template_rows": null,
            "height": null,
            "justify_content": null,
            "justify_items": null,
            "left": null,
            "margin": null,
            "max_height": null,
            "max_width": null,
            "min_height": null,
            "min_width": null,
            "object_fit": null,
            "object_position": null,
            "order": null,
            "overflow": null,
            "overflow_x": null,
            "overflow_y": null,
            "padding": null,
            "right": null,
            "top": null,
            "visibility": null,
            "width": null
          }
        },
        "76f5dbb0c53c46739d04620f79c2815b": {
          "model_module": "@jupyter-widgets/base",
          "model_name": "LayoutModel",
          "model_module_version": "1.2.0",
          "state": {
            "_model_module": "@jupyter-widgets/base",
            "_model_module_version": "1.2.0",
            "_model_name": "LayoutModel",
            "_view_count": null,
            "_view_module": "@jupyter-widgets/base",
            "_view_module_version": "1.2.0",
            "_view_name": "LayoutView",
            "align_content": null,
            "align_items": null,
            "align_self": null,
            "border": null,
            "bottom": null,
            "display": null,
            "flex": null,
            "flex_flow": null,
            "grid_area": null,
            "grid_auto_columns": null,
            "grid_auto_flow": null,
            "grid_auto_rows": null,
            "grid_column": null,
            "grid_gap": null,
            "grid_row": null,
            "grid_template_areas": null,
            "grid_template_columns": null,
            "grid_template_rows": null,
            "height": null,
            "justify_content": null,
            "justify_items": null,
            "left": null,
            "margin": null,
            "max_height": null,
            "max_width": null,
            "min_height": null,
            "min_width": null,
            "object_fit": null,
            "object_position": null,
            "order": null,
            "overflow": null,
            "overflow_x": null,
            "overflow_y": null,
            "padding": null,
            "right": null,
            "top": null,
            "visibility": null,
            "width": null
          }
        },
        "735a6ad31cd54d0ea7c1c1925a911411": {
          "model_module": "@jupyter-widgets/controls",
          "model_name": "DescriptionStyleModel",
          "model_module_version": "1.5.0",
          "state": {
            "_model_module": "@jupyter-widgets/controls",
            "_model_module_version": "1.5.0",
            "_model_name": "DescriptionStyleModel",
            "_view_count": null,
            "_view_module": "@jupyter-widgets/base",
            "_view_module_version": "1.2.0",
            "_view_name": "StyleView",
            "description_width": ""
          }
        },
        "190e0278151e4eb9b15c7e72479d43b6": {
          "model_module": "@jupyter-widgets/base",
          "model_name": "LayoutModel",
          "model_module_version": "1.2.0",
          "state": {
            "_model_module": "@jupyter-widgets/base",
            "_model_module_version": "1.2.0",
            "_model_name": "LayoutModel",
            "_view_count": null,
            "_view_module": "@jupyter-widgets/base",
            "_view_module_version": "1.2.0",
            "_view_name": "LayoutView",
            "align_content": null,
            "align_items": null,
            "align_self": null,
            "border": null,
            "bottom": null,
            "display": null,
            "flex": null,
            "flex_flow": null,
            "grid_area": null,
            "grid_auto_columns": null,
            "grid_auto_flow": null,
            "grid_auto_rows": null,
            "grid_column": null,
            "grid_gap": null,
            "grid_row": null,
            "grid_template_areas": null,
            "grid_template_columns": null,
            "grid_template_rows": null,
            "height": null,
            "justify_content": null,
            "justify_items": null,
            "left": null,
            "margin": null,
            "max_height": null,
            "max_width": null,
            "min_height": null,
            "min_width": null,
            "object_fit": null,
            "object_position": null,
            "order": null,
            "overflow": null,
            "overflow_x": null,
            "overflow_y": null,
            "padding": null,
            "right": null,
            "top": null,
            "visibility": null,
            "width": null
          }
        },
        "1bb19665cdac4afbb582dcc150e324fe": {
          "model_module": "@jupyter-widgets/controls",
          "model_name": "ProgressStyleModel",
          "model_module_version": "1.5.0",
          "state": {
            "_model_module": "@jupyter-widgets/controls",
            "_model_module_version": "1.5.0",
            "_model_name": "ProgressStyleModel",
            "_view_count": null,
            "_view_module": "@jupyter-widgets/base",
            "_view_module_version": "1.2.0",
            "_view_name": "StyleView",
            "bar_color": null,
            "description_width": ""
          }
        },
        "25a413f2f68245329a42c84cbca04286": {
          "model_module": "@jupyter-widgets/base",
          "model_name": "LayoutModel",
          "model_module_version": "1.2.0",
          "state": {
            "_model_module": "@jupyter-widgets/base",
            "_model_module_version": "1.2.0",
            "_model_name": "LayoutModel",
            "_view_count": null,
            "_view_module": "@jupyter-widgets/base",
            "_view_module_version": "1.2.0",
            "_view_name": "LayoutView",
            "align_content": null,
            "align_items": null,
            "align_self": null,
            "border": null,
            "bottom": null,
            "display": null,
            "flex": null,
            "flex_flow": null,
            "grid_area": null,
            "grid_auto_columns": null,
            "grid_auto_flow": null,
            "grid_auto_rows": null,
            "grid_column": null,
            "grid_gap": null,
            "grid_row": null,
            "grid_template_areas": null,
            "grid_template_columns": null,
            "grid_template_rows": null,
            "height": null,
            "justify_content": null,
            "justify_items": null,
            "left": null,
            "margin": null,
            "max_height": null,
            "max_width": null,
            "min_height": null,
            "min_width": null,
            "object_fit": null,
            "object_position": null,
            "order": null,
            "overflow": null,
            "overflow_x": null,
            "overflow_y": null,
            "padding": null,
            "right": null,
            "top": null,
            "visibility": null,
            "width": null
          }
        },
        "82b18ae987a94d7f978d1d24269dfc8b": {
          "model_module": "@jupyter-widgets/controls",
          "model_name": "DescriptionStyleModel",
          "model_module_version": "1.5.0",
          "state": {
            "_model_module": "@jupyter-widgets/controls",
            "_model_module_version": "1.5.0",
            "_model_name": "DescriptionStyleModel",
            "_view_count": null,
            "_view_module": "@jupyter-widgets/base",
            "_view_module_version": "1.2.0",
            "_view_name": "StyleView",
            "description_width": ""
          }
        },
        "693463733b1a4485ad70a48d97279e50": {
          "model_module": "@jupyter-widgets/controls",
          "model_name": "HBoxModel",
          "model_module_version": "1.5.0",
          "state": {
            "_dom_classes": [],
            "_model_module": "@jupyter-widgets/controls",
            "_model_module_version": "1.5.0",
            "_model_name": "HBoxModel",
            "_view_count": null,
            "_view_module": "@jupyter-widgets/controls",
            "_view_module_version": "1.5.0",
            "_view_name": "HBoxView",
            "box_style": "",
            "children": [
              "IPY_MODEL_b493a33b01d64990a38b067d95bf1ef4",
              "IPY_MODEL_f09a6b40aaab41f1b56703b3191a3910",
              "IPY_MODEL_485b0fd97aea4c059a15a28790c771f4"
            ],
            "layout": "IPY_MODEL_7de0587699a444d0b8fed736be6b891e"
          }
        },
        "b493a33b01d64990a38b067d95bf1ef4": {
          "model_module": "@jupyter-widgets/controls",
          "model_name": "HTMLModel",
          "model_module_version": "1.5.0",
          "state": {
            "_dom_classes": [],
            "_model_module": "@jupyter-widgets/controls",
            "_model_module_version": "1.5.0",
            "_model_name": "HTMLModel",
            "_view_count": null,
            "_view_module": "@jupyter-widgets/controls",
            "_view_module_version": "1.5.0",
            "_view_name": "HTMLView",
            "description": "",
            "description_tooltip": null,
            "layout": "IPY_MODEL_e5376c997bdb4f88bd911d245b01509e",
            "placeholder": "​",
            "style": "IPY_MODEL_44c59acefb9d4336aa60272238efe9d3",
            "value": "Downloading model.safetensors: 100%"
          }
        },
        "f09a6b40aaab41f1b56703b3191a3910": {
          "model_module": "@jupyter-widgets/controls",
          "model_name": "FloatProgressModel",
          "model_module_version": "1.5.0",
          "state": {
            "_dom_classes": [],
            "_model_module": "@jupyter-widgets/controls",
            "_model_module_version": "1.5.0",
            "_model_name": "FloatProgressModel",
            "_view_count": null,
            "_view_module": "@jupyter-widgets/controls",
            "_view_module_version": "1.5.0",
            "_view_name": "ProgressView",
            "bar_style": "success",
            "description": "",
            "description_tooltip": null,
            "layout": "IPY_MODEL_d0fcb044931a4431b80e930a48d3ffde",
            "max": 2950736730,
            "min": 0,
            "orientation": "horizontal",
            "style": "IPY_MODEL_695719922fe3419485fbc8805e86c21b",
            "value": 2950736730
          }
        },
        "485b0fd97aea4c059a15a28790c771f4": {
          "model_module": "@jupyter-widgets/controls",
          "model_name": "HTMLModel",
          "model_module_version": "1.5.0",
          "state": {
            "_dom_classes": [],
            "_model_module": "@jupyter-widgets/controls",
            "_model_module_version": "1.5.0",
            "_model_name": "HTMLModel",
            "_view_count": null,
            "_view_module": "@jupyter-widgets/controls",
            "_view_module_version": "1.5.0",
            "_view_name": "HTMLView",
            "description": "",
            "description_tooltip": null,
            "layout": "IPY_MODEL_7b7dcd648a8642fa99b2abd9e31a7810",
            "placeholder": "​",
            "style": "IPY_MODEL_616d09c8a1774748bfd44b116b996a62",
            "value": " 2.95G/2.95G [00:07&lt;00:00, 352MB/s]"
          }
        },
        "7de0587699a444d0b8fed736be6b891e": {
          "model_module": "@jupyter-widgets/base",
          "model_name": "LayoutModel",
          "model_module_version": "1.2.0",
          "state": {
            "_model_module": "@jupyter-widgets/base",
            "_model_module_version": "1.2.0",
            "_model_name": "LayoutModel",
            "_view_count": null,
            "_view_module": "@jupyter-widgets/base",
            "_view_module_version": "1.2.0",
            "_view_name": "LayoutView",
            "align_content": null,
            "align_items": null,
            "align_self": null,
            "border": null,
            "bottom": null,
            "display": null,
            "flex": null,
            "flex_flow": null,
            "grid_area": null,
            "grid_auto_columns": null,
            "grid_auto_flow": null,
            "grid_auto_rows": null,
            "grid_column": null,
            "grid_gap": null,
            "grid_row": null,
            "grid_template_areas": null,
            "grid_template_columns": null,
            "grid_template_rows": null,
            "height": null,
            "justify_content": null,
            "justify_items": null,
            "left": null,
            "margin": null,
            "max_height": null,
            "max_width": null,
            "min_height": null,
            "min_width": null,
            "object_fit": null,
            "object_position": null,
            "order": null,
            "overflow": null,
            "overflow_x": null,
            "overflow_y": null,
            "padding": null,
            "right": null,
            "top": null,
            "visibility": null,
            "width": null
          }
        },
        "e5376c997bdb4f88bd911d245b01509e": {
          "model_module": "@jupyter-widgets/base",
          "model_name": "LayoutModel",
          "model_module_version": "1.2.0",
          "state": {
            "_model_module": "@jupyter-widgets/base",
            "_model_module_version": "1.2.0",
            "_model_name": "LayoutModel",
            "_view_count": null,
            "_view_module": "@jupyter-widgets/base",
            "_view_module_version": "1.2.0",
            "_view_name": "LayoutView",
            "align_content": null,
            "align_items": null,
            "align_self": null,
            "border": null,
            "bottom": null,
            "display": null,
            "flex": null,
            "flex_flow": null,
            "grid_area": null,
            "grid_auto_columns": null,
            "grid_auto_flow": null,
            "grid_auto_rows": null,
            "grid_column": null,
            "grid_gap": null,
            "grid_row": null,
            "grid_template_areas": null,
            "grid_template_columns": null,
            "grid_template_rows": null,
            "height": null,
            "justify_content": null,
            "justify_items": null,
            "left": null,
            "margin": null,
            "max_height": null,
            "max_width": null,
            "min_height": null,
            "min_width": null,
            "object_fit": null,
            "object_position": null,
            "order": null,
            "overflow": null,
            "overflow_x": null,
            "overflow_y": null,
            "padding": null,
            "right": null,
            "top": null,
            "visibility": null,
            "width": null
          }
        },
        "44c59acefb9d4336aa60272238efe9d3": {
          "model_module": "@jupyter-widgets/controls",
          "model_name": "DescriptionStyleModel",
          "model_module_version": "1.5.0",
          "state": {
            "_model_module": "@jupyter-widgets/controls",
            "_model_module_version": "1.5.0",
            "_model_name": "DescriptionStyleModel",
            "_view_count": null,
            "_view_module": "@jupyter-widgets/base",
            "_view_module_version": "1.2.0",
            "_view_name": "StyleView",
            "description_width": ""
          }
        },
        "d0fcb044931a4431b80e930a48d3ffde": {
          "model_module": "@jupyter-widgets/base",
          "model_name": "LayoutModel",
          "model_module_version": "1.2.0",
          "state": {
            "_model_module": "@jupyter-widgets/base",
            "_model_module_version": "1.2.0",
            "_model_name": "LayoutModel",
            "_view_count": null,
            "_view_module": "@jupyter-widgets/base",
            "_view_module_version": "1.2.0",
            "_view_name": "LayoutView",
            "align_content": null,
            "align_items": null,
            "align_self": null,
            "border": null,
            "bottom": null,
            "display": null,
            "flex": null,
            "flex_flow": null,
            "grid_area": null,
            "grid_auto_columns": null,
            "grid_auto_flow": null,
            "grid_auto_rows": null,
            "grid_column": null,
            "grid_gap": null,
            "grid_row": null,
            "grid_template_areas": null,
            "grid_template_columns": null,
            "grid_template_rows": null,
            "height": null,
            "justify_content": null,
            "justify_items": null,
            "left": null,
            "margin": null,
            "max_height": null,
            "max_width": null,
            "min_height": null,
            "min_width": null,
            "object_fit": null,
            "object_position": null,
            "order": null,
            "overflow": null,
            "overflow_x": null,
            "overflow_y": null,
            "padding": null,
            "right": null,
            "top": null,
            "visibility": null,
            "width": null
          }
        },
        "695719922fe3419485fbc8805e86c21b": {
          "model_module": "@jupyter-widgets/controls",
          "model_name": "ProgressStyleModel",
          "model_module_version": "1.5.0",
          "state": {
            "_model_module": "@jupyter-widgets/controls",
            "_model_module_version": "1.5.0",
            "_model_name": "ProgressStyleModel",
            "_view_count": null,
            "_view_module": "@jupyter-widgets/base",
            "_view_module_version": "1.2.0",
            "_view_name": "StyleView",
            "bar_color": null,
            "description_width": ""
          }
        },
        "7b7dcd648a8642fa99b2abd9e31a7810": {
          "model_module": "@jupyter-widgets/base",
          "model_name": "LayoutModel",
          "model_module_version": "1.2.0",
          "state": {
            "_model_module": "@jupyter-widgets/base",
            "_model_module_version": "1.2.0",
            "_model_name": "LayoutModel",
            "_view_count": null,
            "_view_module": "@jupyter-widgets/base",
            "_view_module_version": "1.2.0",
            "_view_name": "LayoutView",
            "align_content": null,
            "align_items": null,
            "align_self": null,
            "border": null,
            "bottom": null,
            "display": null,
            "flex": null,
            "flex_flow": null,
            "grid_area": null,
            "grid_auto_columns": null,
            "grid_auto_flow": null,
            "grid_auto_rows": null,
            "grid_column": null,
            "grid_gap": null,
            "grid_row": null,
            "grid_template_areas": null,
            "grid_template_columns": null,
            "grid_template_rows": null,
            "height": null,
            "justify_content": null,
            "justify_items": null,
            "left": null,
            "margin": null,
            "max_height": null,
            "max_width": null,
            "min_height": null,
            "min_width": null,
            "object_fit": null,
            "object_position": null,
            "order": null,
            "overflow": null,
            "overflow_x": null,
            "overflow_y": null,
            "padding": null,
            "right": null,
            "top": null,
            "visibility": null,
            "width": null
          }
        },
        "616d09c8a1774748bfd44b116b996a62": {
          "model_module": "@jupyter-widgets/controls",
          "model_name": "DescriptionStyleModel",
          "model_module_version": "1.5.0",
          "state": {
            "_model_module": "@jupyter-widgets/controls",
            "_model_module_version": "1.5.0",
            "_model_name": "DescriptionStyleModel",
            "_view_count": null,
            "_view_module": "@jupyter-widgets/base",
            "_view_module_version": "1.2.0",
            "_view_name": "StyleView",
            "description_width": ""
          }
        },
        "9c51bf8050b34f74bcd0e5c16a6a51fa": {
          "model_module": "@jupyter-widgets/controls",
          "model_name": "HBoxModel",
          "model_module_version": "1.5.0",
          "state": {
            "_dom_classes": [],
            "_model_module": "@jupyter-widgets/controls",
            "_model_module_version": "1.5.0",
            "_model_name": "HBoxModel",
            "_view_count": null,
            "_view_module": "@jupyter-widgets/controls",
            "_view_module_version": "1.5.0",
            "_view_name": "HBoxView",
            "box_style": "",
            "children": [
              "IPY_MODEL_464d95cfc80e4fbf97086f7bfa78a14e",
              "IPY_MODEL_2ab2ec3a41f543aa9fbf4606ed19d1e7",
              "IPY_MODEL_d0f0e34f912d4ae49f4990bc00b60836"
            ],
            "layout": "IPY_MODEL_7929bb27dfcd4b2491687e3183d0ad6b"
          }
        },
        "464d95cfc80e4fbf97086f7bfa78a14e": {
          "model_module": "@jupyter-widgets/controls",
          "model_name": "HTMLModel",
          "model_module_version": "1.5.0",
          "state": {
            "_dom_classes": [],
            "_model_module": "@jupyter-widgets/controls",
            "_model_module_version": "1.5.0",
            "_model_name": "HTMLModel",
            "_view_count": null,
            "_view_module": "@jupyter-widgets/controls",
            "_view_module_version": "1.5.0",
            "_view_name": "HTMLView",
            "description": "",
            "description_tooltip": null,
            "layout": "IPY_MODEL_aa3ff4a0495747299ba3a65077a301fa",
            "placeholder": "​",
            "style": "IPY_MODEL_6e6405ceae7149a08e6ec78f2be3393b",
            "value": "Downloading (…)neration_config.json: 100%"
          }
        },
        "2ab2ec3a41f543aa9fbf4606ed19d1e7": {
          "model_module": "@jupyter-widgets/controls",
          "model_name": "FloatProgressModel",
          "model_module_version": "1.5.0",
          "state": {
            "_dom_classes": [],
            "_model_module": "@jupyter-widgets/controls",
            "_model_module_version": "1.5.0",
            "_model_name": "FloatProgressModel",
            "_view_count": null,
            "_view_module": "@jupyter-widgets/controls",
            "_view_module_version": "1.5.0",
            "_view_name": "ProgressView",
            "bar_style": "success",
            "description": "",
            "description_tooltip": null,
            "layout": "IPY_MODEL_f8eb8ad5e8ec427280f48aa2743bbf9d",
            "max": 147,
            "min": 0,
            "orientation": "horizontal",
            "style": "IPY_MODEL_2f59d6fc829040ab9327b03015111536",
            "value": 147
          }
        },
        "d0f0e34f912d4ae49f4990bc00b60836": {
          "model_module": "@jupyter-widgets/controls",
          "model_name": "HTMLModel",
          "model_module_version": "1.5.0",
          "state": {
            "_dom_classes": [],
            "_model_module": "@jupyter-widgets/controls",
            "_model_module_version": "1.5.0",
            "_model_name": "HTMLModel",
            "_view_count": null,
            "_view_module": "@jupyter-widgets/controls",
            "_view_module_version": "1.5.0",
            "_view_name": "HTMLView",
            "description": "",
            "description_tooltip": null,
            "layout": "IPY_MODEL_3932fc015b1b4b019f46cce5c3686bbd",
            "placeholder": "​",
            "style": "IPY_MODEL_5e759080935e40299a188ee713bce29e",
            "value": " 147/147 [00:00&lt;00:00, 13.3kB/s]"
          }
        },
        "7929bb27dfcd4b2491687e3183d0ad6b": {
          "model_module": "@jupyter-widgets/base",
          "model_name": "LayoutModel",
          "model_module_version": "1.2.0",
          "state": {
            "_model_module": "@jupyter-widgets/base",
            "_model_module_version": "1.2.0",
            "_model_name": "LayoutModel",
            "_view_count": null,
            "_view_module": "@jupyter-widgets/base",
            "_view_module_version": "1.2.0",
            "_view_name": "LayoutView",
            "align_content": null,
            "align_items": null,
            "align_self": null,
            "border": null,
            "bottom": null,
            "display": null,
            "flex": null,
            "flex_flow": null,
            "grid_area": null,
            "grid_auto_columns": null,
            "grid_auto_flow": null,
            "grid_auto_rows": null,
            "grid_column": null,
            "grid_gap": null,
            "grid_row": null,
            "grid_template_areas": null,
            "grid_template_columns": null,
            "grid_template_rows": null,
            "height": null,
            "justify_content": null,
            "justify_items": null,
            "left": null,
            "margin": null,
            "max_height": null,
            "max_width": null,
            "min_height": null,
            "min_width": null,
            "object_fit": null,
            "object_position": null,
            "order": null,
            "overflow": null,
            "overflow_x": null,
            "overflow_y": null,
            "padding": null,
            "right": null,
            "top": null,
            "visibility": null,
            "width": null
          }
        },
        "aa3ff4a0495747299ba3a65077a301fa": {
          "model_module": "@jupyter-widgets/base",
          "model_name": "LayoutModel",
          "model_module_version": "1.2.0",
          "state": {
            "_model_module": "@jupyter-widgets/base",
            "_model_module_version": "1.2.0",
            "_model_name": "LayoutModel",
            "_view_count": null,
            "_view_module": "@jupyter-widgets/base",
            "_view_module_version": "1.2.0",
            "_view_name": "LayoutView",
            "align_content": null,
            "align_items": null,
            "align_self": null,
            "border": null,
            "bottom": null,
            "display": null,
            "flex": null,
            "flex_flow": null,
            "grid_area": null,
            "grid_auto_columns": null,
            "grid_auto_flow": null,
            "grid_auto_rows": null,
            "grid_column": null,
            "grid_gap": null,
            "grid_row": null,
            "grid_template_areas": null,
            "grid_template_columns": null,
            "grid_template_rows": null,
            "height": null,
            "justify_content": null,
            "justify_items": null,
            "left": null,
            "margin": null,
            "max_height": null,
            "max_width": null,
            "min_height": null,
            "min_width": null,
            "object_fit": null,
            "object_position": null,
            "order": null,
            "overflow": null,
            "overflow_x": null,
            "overflow_y": null,
            "padding": null,
            "right": null,
            "top": null,
            "visibility": null,
            "width": null
          }
        },
        "6e6405ceae7149a08e6ec78f2be3393b": {
          "model_module": "@jupyter-widgets/controls",
          "model_name": "DescriptionStyleModel",
          "model_module_version": "1.5.0",
          "state": {
            "_model_module": "@jupyter-widgets/controls",
            "_model_module_version": "1.5.0",
            "_model_name": "DescriptionStyleModel",
            "_view_count": null,
            "_view_module": "@jupyter-widgets/base",
            "_view_module_version": "1.2.0",
            "_view_name": "StyleView",
            "description_width": ""
          }
        },
        "f8eb8ad5e8ec427280f48aa2743bbf9d": {
          "model_module": "@jupyter-widgets/base",
          "model_name": "LayoutModel",
          "model_module_version": "1.2.0",
          "state": {
            "_model_module": "@jupyter-widgets/base",
            "_model_module_version": "1.2.0",
            "_model_name": "LayoutModel",
            "_view_count": null,
            "_view_module": "@jupyter-widgets/base",
            "_view_module_version": "1.2.0",
            "_view_name": "LayoutView",
            "align_content": null,
            "align_items": null,
            "align_self": null,
            "border": null,
            "bottom": null,
            "display": null,
            "flex": null,
            "flex_flow": null,
            "grid_area": null,
            "grid_auto_columns": null,
            "grid_auto_flow": null,
            "grid_auto_rows": null,
            "grid_column": null,
            "grid_gap": null,
            "grid_row": null,
            "grid_template_areas": null,
            "grid_template_columns": null,
            "grid_template_rows": null,
            "height": null,
            "justify_content": null,
            "justify_items": null,
            "left": null,
            "margin": null,
            "max_height": null,
            "max_width": null,
            "min_height": null,
            "min_width": null,
            "object_fit": null,
            "object_position": null,
            "order": null,
            "overflow": null,
            "overflow_x": null,
            "overflow_y": null,
            "padding": null,
            "right": null,
            "top": null,
            "visibility": null,
            "width": null
          }
        },
        "2f59d6fc829040ab9327b03015111536": {
          "model_module": "@jupyter-widgets/controls",
          "model_name": "ProgressStyleModel",
          "model_module_version": "1.5.0",
          "state": {
            "_model_module": "@jupyter-widgets/controls",
            "_model_module_version": "1.5.0",
            "_model_name": "ProgressStyleModel",
            "_view_count": null,
            "_view_module": "@jupyter-widgets/base",
            "_view_module_version": "1.2.0",
            "_view_name": "StyleView",
            "bar_color": null,
            "description_width": ""
          }
        },
        "3932fc015b1b4b019f46cce5c3686bbd": {
          "model_module": "@jupyter-widgets/base",
          "model_name": "LayoutModel",
          "model_module_version": "1.2.0",
          "state": {
            "_model_module": "@jupyter-widgets/base",
            "_model_module_version": "1.2.0",
            "_model_name": "LayoutModel",
            "_view_count": null,
            "_view_module": "@jupyter-widgets/base",
            "_view_module_version": "1.2.0",
            "_view_name": "LayoutView",
            "align_content": null,
            "align_items": null,
            "align_self": null,
            "border": null,
            "bottom": null,
            "display": null,
            "flex": null,
            "flex_flow": null,
            "grid_area": null,
            "grid_auto_columns": null,
            "grid_auto_flow": null,
            "grid_auto_rows": null,
            "grid_column": null,
            "grid_gap": null,
            "grid_row": null,
            "grid_template_areas": null,
            "grid_template_columns": null,
            "grid_template_rows": null,
            "height": null,
            "justify_content": null,
            "justify_items": null,
            "left": null,
            "margin": null,
            "max_height": null,
            "max_width": null,
            "min_height": null,
            "min_width": null,
            "object_fit": null,
            "object_position": null,
            "order": null,
            "overflow": null,
            "overflow_x": null,
            "overflow_y": null,
            "padding": null,
            "right": null,
            "top": null,
            "visibility": null,
            "width": null
          }
        },
        "5e759080935e40299a188ee713bce29e": {
          "model_module": "@jupyter-widgets/controls",
          "model_name": "DescriptionStyleModel",
          "model_module_version": "1.5.0",
          "state": {
            "_model_module": "@jupyter-widgets/controls",
            "_model_module_version": "1.5.0",
            "_model_name": "DescriptionStyleModel",
            "_view_count": null,
            "_view_module": "@jupyter-widgets/base",
            "_view_module_version": "1.2.0",
            "_view_name": "StyleView",
            "description_width": ""
          }
        },
        "9199bbe697604d3192b9e65a3c49fff0": {
          "model_module": "@jupyter-widgets/controls",
          "model_name": "HBoxModel",
          "model_module_version": "1.5.0",
          "state": {
            "_dom_classes": [],
            "_model_module": "@jupyter-widgets/controls",
            "_model_module_version": "1.5.0",
            "_model_name": "HBoxModel",
            "_view_count": null,
            "_view_module": "@jupyter-widgets/controls",
            "_view_module_version": "1.5.0",
            "_view_name": "HBoxView",
            "box_style": "",
            "children": [
              "IPY_MODEL_efc1f194b7c8477aae4b213d16b686cf",
              "IPY_MODEL_44c0e0114bec446d9f78adb5c4ef8873",
              "IPY_MODEL_17876e520c794290b44b547dca26ca93"
            ],
            "layout": "IPY_MODEL_1bb446d0cf6b47f3b94eac8dcaf0b185"
          }
        },
        "efc1f194b7c8477aae4b213d16b686cf": {
          "model_module": "@jupyter-widgets/controls",
          "model_name": "HTMLModel",
          "model_module_version": "1.5.0",
          "state": {
            "_dom_classes": [],
            "_model_module": "@jupyter-widgets/controls",
            "_model_module_version": "1.5.0",
            "_model_name": "HTMLModel",
            "_view_count": null,
            "_view_module": "@jupyter-widgets/controls",
            "_view_module_version": "1.5.0",
            "_view_name": "HTMLView",
            "description": "",
            "description_tooltip": null,
            "layout": "IPY_MODEL_8b0873707ace4ef281aafbbea4ecb673",
            "placeholder": "​",
            "style": "IPY_MODEL_109a2ab323de430885ef6f892f7f562d",
            "value": "Downloading (…)olve/main/vocab.json: 100%"
          }
        },
        "44c0e0114bec446d9f78adb5c4ef8873": {
          "model_module": "@jupyter-widgets/controls",
          "model_name": "FloatProgressModel",
          "model_module_version": "1.5.0",
          "state": {
            "_dom_classes": [],
            "_model_module": "@jupyter-widgets/controls",
            "_model_module_version": "1.5.0",
            "_model_name": "FloatProgressModel",
            "_view_count": null,
            "_view_module": "@jupyter-widgets/controls",
            "_view_module_version": "1.5.0",
            "_view_name": "ProgressView",
            "bar_style": "success",
            "description": "",
            "description_tooltip": null,
            "layout": "IPY_MODEL_7fb0f9bf94564998befe5d1e1b010a74",
            "max": 898825,
            "min": 0,
            "orientation": "horizontal",
            "style": "IPY_MODEL_bd5ce2df4a784fc4ad4fe8f6e365d8b4",
            "value": 898825
          }
        },
        "17876e520c794290b44b547dca26ca93": {
          "model_module": "@jupyter-widgets/controls",
          "model_name": "HTMLModel",
          "model_module_version": "1.5.0",
          "state": {
            "_dom_classes": [],
            "_model_module": "@jupyter-widgets/controls",
            "_model_module_version": "1.5.0",
            "_model_name": "HTMLModel",
            "_view_count": null,
            "_view_module": "@jupyter-widgets/controls",
            "_view_module_version": "1.5.0",
            "_view_name": "HTMLView",
            "description": "",
            "description_tooltip": null,
            "layout": "IPY_MODEL_036b88db8d084082889587b48c694b18",
            "placeholder": "​",
            "style": "IPY_MODEL_d051ae8b1b6446a59d77739eb18f0d11",
            "value": " 899k/899k [00:00&lt;00:00, 1.32MB/s]"
          }
        },
        "1bb446d0cf6b47f3b94eac8dcaf0b185": {
          "model_module": "@jupyter-widgets/base",
          "model_name": "LayoutModel",
          "model_module_version": "1.2.0",
          "state": {
            "_model_module": "@jupyter-widgets/base",
            "_model_module_version": "1.2.0",
            "_model_name": "LayoutModel",
            "_view_count": null,
            "_view_module": "@jupyter-widgets/base",
            "_view_module_version": "1.2.0",
            "_view_name": "LayoutView",
            "align_content": null,
            "align_items": null,
            "align_self": null,
            "border": null,
            "bottom": null,
            "display": null,
            "flex": null,
            "flex_flow": null,
            "grid_area": null,
            "grid_auto_columns": null,
            "grid_auto_flow": null,
            "grid_auto_rows": null,
            "grid_column": null,
            "grid_gap": null,
            "grid_row": null,
            "grid_template_areas": null,
            "grid_template_columns": null,
            "grid_template_rows": null,
            "height": null,
            "justify_content": null,
            "justify_items": null,
            "left": null,
            "margin": null,
            "max_height": null,
            "max_width": null,
            "min_height": null,
            "min_width": null,
            "object_fit": null,
            "object_position": null,
            "order": null,
            "overflow": null,
            "overflow_x": null,
            "overflow_y": null,
            "padding": null,
            "right": null,
            "top": null,
            "visibility": null,
            "width": null
          }
        },
        "8b0873707ace4ef281aafbbea4ecb673": {
          "model_module": "@jupyter-widgets/base",
          "model_name": "LayoutModel",
          "model_module_version": "1.2.0",
          "state": {
            "_model_module": "@jupyter-widgets/base",
            "_model_module_version": "1.2.0",
            "_model_name": "LayoutModel",
            "_view_count": null,
            "_view_module": "@jupyter-widgets/base",
            "_view_module_version": "1.2.0",
            "_view_name": "LayoutView",
            "align_content": null,
            "align_items": null,
            "align_self": null,
            "border": null,
            "bottom": null,
            "display": null,
            "flex": null,
            "flex_flow": null,
            "grid_area": null,
            "grid_auto_columns": null,
            "grid_auto_flow": null,
            "grid_auto_rows": null,
            "grid_column": null,
            "grid_gap": null,
            "grid_row": null,
            "grid_template_areas": null,
            "grid_template_columns": null,
            "grid_template_rows": null,
            "height": null,
            "justify_content": null,
            "justify_items": null,
            "left": null,
            "margin": null,
            "max_height": null,
            "max_width": null,
            "min_height": null,
            "min_width": null,
            "object_fit": null,
            "object_position": null,
            "order": null,
            "overflow": null,
            "overflow_x": null,
            "overflow_y": null,
            "padding": null,
            "right": null,
            "top": null,
            "visibility": null,
            "width": null
          }
        },
        "109a2ab323de430885ef6f892f7f562d": {
          "model_module": "@jupyter-widgets/controls",
          "model_name": "DescriptionStyleModel",
          "model_module_version": "1.5.0",
          "state": {
            "_model_module": "@jupyter-widgets/controls",
            "_model_module_version": "1.5.0",
            "_model_name": "DescriptionStyleModel",
            "_view_count": null,
            "_view_module": "@jupyter-widgets/base",
            "_view_module_version": "1.2.0",
            "_view_name": "StyleView",
            "description_width": ""
          }
        },
        "7fb0f9bf94564998befe5d1e1b010a74": {
          "model_module": "@jupyter-widgets/base",
          "model_name": "LayoutModel",
          "model_module_version": "1.2.0",
          "state": {
            "_model_module": "@jupyter-widgets/base",
            "_model_module_version": "1.2.0",
            "_model_name": "LayoutModel",
            "_view_count": null,
            "_view_module": "@jupyter-widgets/base",
            "_view_module_version": "1.2.0",
            "_view_name": "LayoutView",
            "align_content": null,
            "align_items": null,
            "align_self": null,
            "border": null,
            "bottom": null,
            "display": null,
            "flex": null,
            "flex_flow": null,
            "grid_area": null,
            "grid_auto_columns": null,
            "grid_auto_flow": null,
            "grid_auto_rows": null,
            "grid_column": null,
            "grid_gap": null,
            "grid_row": null,
            "grid_template_areas": null,
            "grid_template_columns": null,
            "grid_template_rows": null,
            "height": null,
            "justify_content": null,
            "justify_items": null,
            "left": null,
            "margin": null,
            "max_height": null,
            "max_width": null,
            "min_height": null,
            "min_width": null,
            "object_fit": null,
            "object_position": null,
            "order": null,
            "overflow": null,
            "overflow_x": null,
            "overflow_y": null,
            "padding": null,
            "right": null,
            "top": null,
            "visibility": null,
            "width": null
          }
        },
        "bd5ce2df4a784fc4ad4fe8f6e365d8b4": {
          "model_module": "@jupyter-widgets/controls",
          "model_name": "ProgressStyleModel",
          "model_module_version": "1.5.0",
          "state": {
            "_model_module": "@jupyter-widgets/controls",
            "_model_module_version": "1.5.0",
            "_model_name": "ProgressStyleModel",
            "_view_count": null,
            "_view_module": "@jupyter-widgets/base",
            "_view_module_version": "1.2.0",
            "_view_name": "StyleView",
            "bar_color": null,
            "description_width": ""
          }
        },
        "036b88db8d084082889587b48c694b18": {
          "model_module": "@jupyter-widgets/base",
          "model_name": "LayoutModel",
          "model_module_version": "1.2.0",
          "state": {
            "_model_module": "@jupyter-widgets/base",
            "_model_module_version": "1.2.0",
            "_model_name": "LayoutModel",
            "_view_count": null,
            "_view_module": "@jupyter-widgets/base",
            "_view_module_version": "1.2.0",
            "_view_name": "LayoutView",
            "align_content": null,
            "align_items": null,
            "align_self": null,
            "border": null,
            "bottom": null,
            "display": null,
            "flex": null,
            "flex_flow": null,
            "grid_area": null,
            "grid_auto_columns": null,
            "grid_auto_flow": null,
            "grid_auto_rows": null,
            "grid_column": null,
            "grid_gap": null,
            "grid_row": null,
            "grid_template_areas": null,
            "grid_template_columns": null,
            "grid_template_rows": null,
            "height": null,
            "justify_content": null,
            "justify_items": null,
            "left": null,
            "margin": null,
            "max_height": null,
            "max_width": null,
            "min_height": null,
            "min_width": null,
            "object_fit": null,
            "object_position": null,
            "order": null,
            "overflow": null,
            "overflow_x": null,
            "overflow_y": null,
            "padding": null,
            "right": null,
            "top": null,
            "visibility": null,
            "width": null
          }
        },
        "d051ae8b1b6446a59d77739eb18f0d11": {
          "model_module": "@jupyter-widgets/controls",
          "model_name": "DescriptionStyleModel",
          "model_module_version": "1.5.0",
          "state": {
            "_model_module": "@jupyter-widgets/controls",
            "_model_module_version": "1.5.0",
            "_model_name": "DescriptionStyleModel",
            "_view_count": null,
            "_view_module": "@jupyter-widgets/base",
            "_view_module_version": "1.2.0",
            "_view_name": "StyleView",
            "description_width": ""
          }
        },
        "7add80831cf34e04a9044758de61666c": {
          "model_module": "@jupyter-widgets/controls",
          "model_name": "HBoxModel",
          "model_module_version": "1.5.0",
          "state": {
            "_dom_classes": [],
            "_model_module": "@jupyter-widgets/controls",
            "_model_module_version": "1.5.0",
            "_model_name": "HBoxModel",
            "_view_count": null,
            "_view_module": "@jupyter-widgets/controls",
            "_view_module_version": "1.5.0",
            "_view_name": "HBoxView",
            "box_style": "",
            "children": [
              "IPY_MODEL_393f182e5f4843b69faf875c99aea5c8",
              "IPY_MODEL_86698c7485c7465d99083ff118b7a3f5",
              "IPY_MODEL_478016aefe904d5dbd9505a6a591d6d4"
            ],
            "layout": "IPY_MODEL_b0d9ad3c08a0462ab38d0425f519104f"
          }
        },
        "393f182e5f4843b69faf875c99aea5c8": {
          "model_module": "@jupyter-widgets/controls",
          "model_name": "HTMLModel",
          "model_module_version": "1.5.0",
          "state": {
            "_dom_classes": [],
            "_model_module": "@jupyter-widgets/controls",
            "_model_module_version": "1.5.0",
            "_model_name": "HTMLModel",
            "_view_count": null,
            "_view_module": "@jupyter-widgets/controls",
            "_view_module_version": "1.5.0",
            "_view_name": "HTMLView",
            "description": "",
            "description_tooltip": null,
            "layout": "IPY_MODEL_541407e8b3a7499c838cb200a6c725ce",
            "placeholder": "​",
            "style": "IPY_MODEL_d3a3eeda339c46d086c2956ad97f449e",
            "value": "Downloading (…)olve/main/merges.txt: 100%"
          }
        },
        "86698c7485c7465d99083ff118b7a3f5": {
          "model_module": "@jupyter-widgets/controls",
          "model_name": "FloatProgressModel",
          "model_module_version": "1.5.0",
          "state": {
            "_dom_classes": [],
            "_model_module": "@jupyter-widgets/controls",
            "_model_module_version": "1.5.0",
            "_model_name": "FloatProgressModel",
            "_view_count": null,
            "_view_module": "@jupyter-widgets/controls",
            "_view_module_version": "1.5.0",
            "_view_name": "ProgressView",
            "bar_style": "success",
            "description": "",
            "description_tooltip": null,
            "layout": "IPY_MODEL_9594453a8ceb45159d5384fe74f47eef",
            "max": 456318,
            "min": 0,
            "orientation": "horizontal",
            "style": "IPY_MODEL_388cebf8a24e423c831f737c60e786fd",
            "value": 456318
          }
        },
        "478016aefe904d5dbd9505a6a591d6d4": {
          "model_module": "@jupyter-widgets/controls",
          "model_name": "HTMLModel",
          "model_module_version": "1.5.0",
          "state": {
            "_dom_classes": [],
            "_model_module": "@jupyter-widgets/controls",
            "_model_module_version": "1.5.0",
            "_model_name": "HTMLModel",
            "_view_count": null,
            "_view_module": "@jupyter-widgets/controls",
            "_view_module_version": "1.5.0",
            "_view_name": "HTMLView",
            "description": "",
            "description_tooltip": null,
            "layout": "IPY_MODEL_f6014daf5bf946e997c5e243397b7201",
            "placeholder": "​",
            "style": "IPY_MODEL_e3e9ae3f75a8489f8c3250367ddb8a16",
            "value": " 456k/456k [00:00&lt;00:00, 33.1MB/s]"
          }
        },
        "b0d9ad3c08a0462ab38d0425f519104f": {
          "model_module": "@jupyter-widgets/base",
          "model_name": "LayoutModel",
          "model_module_version": "1.2.0",
          "state": {
            "_model_module": "@jupyter-widgets/base",
            "_model_module_version": "1.2.0",
            "_model_name": "LayoutModel",
            "_view_count": null,
            "_view_module": "@jupyter-widgets/base",
            "_view_module_version": "1.2.0",
            "_view_name": "LayoutView",
            "align_content": null,
            "align_items": null,
            "align_self": null,
            "border": null,
            "bottom": null,
            "display": null,
            "flex": null,
            "flex_flow": null,
            "grid_area": null,
            "grid_auto_columns": null,
            "grid_auto_flow": null,
            "grid_auto_rows": null,
            "grid_column": null,
            "grid_gap": null,
            "grid_row": null,
            "grid_template_areas": null,
            "grid_template_columns": null,
            "grid_template_rows": null,
            "height": null,
            "justify_content": null,
            "justify_items": null,
            "left": null,
            "margin": null,
            "max_height": null,
            "max_width": null,
            "min_height": null,
            "min_width": null,
            "object_fit": null,
            "object_position": null,
            "order": null,
            "overflow": null,
            "overflow_x": null,
            "overflow_y": null,
            "padding": null,
            "right": null,
            "top": null,
            "visibility": null,
            "width": null
          }
        },
        "541407e8b3a7499c838cb200a6c725ce": {
          "model_module": "@jupyter-widgets/base",
          "model_name": "LayoutModel",
          "model_module_version": "1.2.0",
          "state": {
            "_model_module": "@jupyter-widgets/base",
            "_model_module_version": "1.2.0",
            "_model_name": "LayoutModel",
            "_view_count": null,
            "_view_module": "@jupyter-widgets/base",
            "_view_module_version": "1.2.0",
            "_view_name": "LayoutView",
            "align_content": null,
            "align_items": null,
            "align_self": null,
            "border": null,
            "bottom": null,
            "display": null,
            "flex": null,
            "flex_flow": null,
            "grid_area": null,
            "grid_auto_columns": null,
            "grid_auto_flow": null,
            "grid_auto_rows": null,
            "grid_column": null,
            "grid_gap": null,
            "grid_row": null,
            "grid_template_areas": null,
            "grid_template_columns": null,
            "grid_template_rows": null,
            "height": null,
            "justify_content": null,
            "justify_items": null,
            "left": null,
            "margin": null,
            "max_height": null,
            "max_width": null,
            "min_height": null,
            "min_width": null,
            "object_fit": null,
            "object_position": null,
            "order": null,
            "overflow": null,
            "overflow_x": null,
            "overflow_y": null,
            "padding": null,
            "right": null,
            "top": null,
            "visibility": null,
            "width": null
          }
        },
        "d3a3eeda339c46d086c2956ad97f449e": {
          "model_module": "@jupyter-widgets/controls",
          "model_name": "DescriptionStyleModel",
          "model_module_version": "1.5.0",
          "state": {
            "_model_module": "@jupyter-widgets/controls",
            "_model_module_version": "1.5.0",
            "_model_name": "DescriptionStyleModel",
            "_view_count": null,
            "_view_module": "@jupyter-widgets/base",
            "_view_module_version": "1.2.0",
            "_view_name": "StyleView",
            "description_width": ""
          }
        },
        "9594453a8ceb45159d5384fe74f47eef": {
          "model_module": "@jupyter-widgets/base",
          "model_name": "LayoutModel",
          "model_module_version": "1.2.0",
          "state": {
            "_model_module": "@jupyter-widgets/base",
            "_model_module_version": "1.2.0",
            "_model_name": "LayoutModel",
            "_view_count": null,
            "_view_module": "@jupyter-widgets/base",
            "_view_module_version": "1.2.0",
            "_view_name": "LayoutView",
            "align_content": null,
            "align_items": null,
            "align_self": null,
            "border": null,
            "bottom": null,
            "display": null,
            "flex": null,
            "flex_flow": null,
            "grid_area": null,
            "grid_auto_columns": null,
            "grid_auto_flow": null,
            "grid_auto_rows": null,
            "grid_column": null,
            "grid_gap": null,
            "grid_row": null,
            "grid_template_areas": null,
            "grid_template_columns": null,
            "grid_template_rows": null,
            "height": null,
            "justify_content": null,
            "justify_items": null,
            "left": null,
            "margin": null,
            "max_height": null,
            "max_width": null,
            "min_height": null,
            "min_width": null,
            "object_fit": null,
            "object_position": null,
            "order": null,
            "overflow": null,
            "overflow_x": null,
            "overflow_y": null,
            "padding": null,
            "right": null,
            "top": null,
            "visibility": null,
            "width": null
          }
        },
        "388cebf8a24e423c831f737c60e786fd": {
          "model_module": "@jupyter-widgets/controls",
          "model_name": "ProgressStyleModel",
          "model_module_version": "1.5.0",
          "state": {
            "_model_module": "@jupyter-widgets/controls",
            "_model_module_version": "1.5.0",
            "_model_name": "ProgressStyleModel",
            "_view_count": null,
            "_view_module": "@jupyter-widgets/base",
            "_view_module_version": "1.2.0",
            "_view_name": "StyleView",
            "bar_color": null,
            "description_width": ""
          }
        },
        "f6014daf5bf946e997c5e243397b7201": {
          "model_module": "@jupyter-widgets/base",
          "model_name": "LayoutModel",
          "model_module_version": "1.2.0",
          "state": {
            "_model_module": "@jupyter-widgets/base",
            "_model_module_version": "1.2.0",
            "_model_name": "LayoutModel",
            "_view_count": null,
            "_view_module": "@jupyter-widgets/base",
            "_view_module_version": "1.2.0",
            "_view_name": "LayoutView",
            "align_content": null,
            "align_items": null,
            "align_self": null,
            "border": null,
            "bottom": null,
            "display": null,
            "flex": null,
            "flex_flow": null,
            "grid_area": null,
            "grid_auto_columns": null,
            "grid_auto_flow": null,
            "grid_auto_rows": null,
            "grid_column": null,
            "grid_gap": null,
            "grid_row": null,
            "grid_template_areas": null,
            "grid_template_columns": null,
            "grid_template_rows": null,
            "height": null,
            "justify_content": null,
            "justify_items": null,
            "left": null,
            "margin": null,
            "max_height": null,
            "max_width": null,
            "min_height": null,
            "min_width": null,
            "object_fit": null,
            "object_position": null,
            "order": null,
            "overflow": null,
            "overflow_x": null,
            "overflow_y": null,
            "padding": null,
            "right": null,
            "top": null,
            "visibility": null,
            "width": null
          }
        },
        "e3e9ae3f75a8489f8c3250367ddb8a16": {
          "model_module": "@jupyter-widgets/controls",
          "model_name": "DescriptionStyleModel",
          "model_module_version": "1.5.0",
          "state": {
            "_model_module": "@jupyter-widgets/controls",
            "_model_module_version": "1.5.0",
            "_model_name": "DescriptionStyleModel",
            "_view_count": null,
            "_view_module": "@jupyter-widgets/base",
            "_view_module_version": "1.2.0",
            "_view_name": "StyleView",
            "description_width": ""
          }
        },
        "6b0156b3ac364a20ac3dc958c19a6715": {
          "model_module": "@jupyter-widgets/controls",
          "model_name": "HBoxModel",
          "model_module_version": "1.5.0",
          "state": {
            "_dom_classes": [],
            "_model_module": "@jupyter-widgets/controls",
            "_model_module_version": "1.5.0",
            "_model_name": "HBoxModel",
            "_view_count": null,
            "_view_module": "@jupyter-widgets/controls",
            "_view_module_version": "1.5.0",
            "_view_name": "HBoxView",
            "box_style": "",
            "children": [
              "IPY_MODEL_4c4a509e3005466f98e0cca1f458ceab",
              "IPY_MODEL_56e2a77901be4e0584623232037c11c1",
              "IPY_MODEL_69d79e63d8e84579ae6a61299cd0a2e8"
            ],
            "layout": "IPY_MODEL_0bb2c2f9d42e44e09929663293d81a1b"
          }
        },
        "4c4a509e3005466f98e0cca1f458ceab": {
          "model_module": "@jupyter-widgets/controls",
          "model_name": "HTMLModel",
          "model_module_version": "1.5.0",
          "state": {
            "_dom_classes": [],
            "_model_module": "@jupyter-widgets/controls",
            "_model_module_version": "1.5.0",
            "_model_name": "HTMLModel",
            "_view_count": null,
            "_view_module": "@jupyter-widgets/controls",
            "_view_module_version": "1.5.0",
            "_view_name": "HTMLView",
            "description": "",
            "description_tooltip": null,
            "layout": "IPY_MODEL_42b2e9969ac94b7087b0f0cef60c94d4",
            "placeholder": "​",
            "style": "IPY_MODEL_66610a4e3447485f8c35a509cfa6f07d",
            "value": "Downloading (…)okenizer_config.json: 100%"
          }
        },
        "56e2a77901be4e0584623232037c11c1": {
          "model_module": "@jupyter-widgets/controls",
          "model_name": "FloatProgressModel",
          "model_module_version": "1.5.0",
          "state": {
            "_dom_classes": [],
            "_model_module": "@jupyter-widgets/controls",
            "_model_module_version": "1.5.0",
            "_model_name": "FloatProgressModel",
            "_view_count": null,
            "_view_module": "@jupyter-widgets/controls",
            "_view_module_version": "1.5.0",
            "_view_name": "ProgressView",
            "bar_style": "success",
            "description": "",
            "description_tooltip": null,
            "layout": "IPY_MODEL_a2436f42263d4377add49ad997db0ae8",
            "max": 52,
            "min": 0,
            "orientation": "horizontal",
            "style": "IPY_MODEL_b59d8be642d54c12a9127f550967cc7d",
            "value": 52
          }
        },
        "69d79e63d8e84579ae6a61299cd0a2e8": {
          "model_module": "@jupyter-widgets/controls",
          "model_name": "HTMLModel",
          "model_module_version": "1.5.0",
          "state": {
            "_dom_classes": [],
            "_model_module": "@jupyter-widgets/controls",
            "_model_module_version": "1.5.0",
            "_model_name": "HTMLModel",
            "_view_count": null,
            "_view_module": "@jupyter-widgets/controls",
            "_view_module_version": "1.5.0",
            "_view_name": "HTMLView",
            "description": "",
            "description_tooltip": null,
            "layout": "IPY_MODEL_f7955b5a0c18416398f9e31078cd6b17",
            "placeholder": "​",
            "style": "IPY_MODEL_f630e0d22da448778eee9f341f64f2a7",
            "value": " 52.0/52.0 [00:00&lt;00:00, 3.88kB/s]"
          }
        },
        "0bb2c2f9d42e44e09929663293d81a1b": {
          "model_module": "@jupyter-widgets/base",
          "model_name": "LayoutModel",
          "model_module_version": "1.2.0",
          "state": {
            "_model_module": "@jupyter-widgets/base",
            "_model_module_version": "1.2.0",
            "_model_name": "LayoutModel",
            "_view_count": null,
            "_view_module": "@jupyter-widgets/base",
            "_view_module_version": "1.2.0",
            "_view_name": "LayoutView",
            "align_content": null,
            "align_items": null,
            "align_self": null,
            "border": null,
            "bottom": null,
            "display": null,
            "flex": null,
            "flex_flow": null,
            "grid_area": null,
            "grid_auto_columns": null,
            "grid_auto_flow": null,
            "grid_auto_rows": null,
            "grid_column": null,
            "grid_gap": null,
            "grid_row": null,
            "grid_template_areas": null,
            "grid_template_columns": null,
            "grid_template_rows": null,
            "height": null,
            "justify_content": null,
            "justify_items": null,
            "left": null,
            "margin": null,
            "max_height": null,
            "max_width": null,
            "min_height": null,
            "min_width": null,
            "object_fit": null,
            "object_position": null,
            "order": null,
            "overflow": null,
            "overflow_x": null,
            "overflow_y": null,
            "padding": null,
            "right": null,
            "top": null,
            "visibility": null,
            "width": null
          }
        },
        "42b2e9969ac94b7087b0f0cef60c94d4": {
          "model_module": "@jupyter-widgets/base",
          "model_name": "LayoutModel",
          "model_module_version": "1.2.0",
          "state": {
            "_model_module": "@jupyter-widgets/base",
            "_model_module_version": "1.2.0",
            "_model_name": "LayoutModel",
            "_view_count": null,
            "_view_module": "@jupyter-widgets/base",
            "_view_module_version": "1.2.0",
            "_view_name": "LayoutView",
            "align_content": null,
            "align_items": null,
            "align_self": null,
            "border": null,
            "bottom": null,
            "display": null,
            "flex": null,
            "flex_flow": null,
            "grid_area": null,
            "grid_auto_columns": null,
            "grid_auto_flow": null,
            "grid_auto_rows": null,
            "grid_column": null,
            "grid_gap": null,
            "grid_row": null,
            "grid_template_areas": null,
            "grid_template_columns": null,
            "grid_template_rows": null,
            "height": null,
            "justify_content": null,
            "justify_items": null,
            "left": null,
            "margin": null,
            "max_height": null,
            "max_width": null,
            "min_height": null,
            "min_width": null,
            "object_fit": null,
            "object_position": null,
            "order": null,
            "overflow": null,
            "overflow_x": null,
            "overflow_y": null,
            "padding": null,
            "right": null,
            "top": null,
            "visibility": null,
            "width": null
          }
        },
        "66610a4e3447485f8c35a509cfa6f07d": {
          "model_module": "@jupyter-widgets/controls",
          "model_name": "DescriptionStyleModel",
          "model_module_version": "1.5.0",
          "state": {
            "_model_module": "@jupyter-widgets/controls",
            "_model_module_version": "1.5.0",
            "_model_name": "DescriptionStyleModel",
            "_view_count": null,
            "_view_module": "@jupyter-widgets/base",
            "_view_module_version": "1.2.0",
            "_view_name": "StyleView",
            "description_width": ""
          }
        },
        "a2436f42263d4377add49ad997db0ae8": {
          "model_module": "@jupyter-widgets/base",
          "model_name": "LayoutModel",
          "model_module_version": "1.2.0",
          "state": {
            "_model_module": "@jupyter-widgets/base",
            "_model_module_version": "1.2.0",
            "_model_name": "LayoutModel",
            "_view_count": null,
            "_view_module": "@jupyter-widgets/base",
            "_view_module_version": "1.2.0",
            "_view_name": "LayoutView",
            "align_content": null,
            "align_items": null,
            "align_self": null,
            "border": null,
            "bottom": null,
            "display": null,
            "flex": null,
            "flex_flow": null,
            "grid_area": null,
            "grid_auto_columns": null,
            "grid_auto_flow": null,
            "grid_auto_rows": null,
            "grid_column": null,
            "grid_gap": null,
            "grid_row": null,
            "grid_template_areas": null,
            "grid_template_columns": null,
            "grid_template_rows": null,
            "height": null,
            "justify_content": null,
            "justify_items": null,
            "left": null,
            "margin": null,
            "max_height": null,
            "max_width": null,
            "min_height": null,
            "min_width": null,
            "object_fit": null,
            "object_position": null,
            "order": null,
            "overflow": null,
            "overflow_x": null,
            "overflow_y": null,
            "padding": null,
            "right": null,
            "top": null,
            "visibility": null,
            "width": null
          }
        },
        "b59d8be642d54c12a9127f550967cc7d": {
          "model_module": "@jupyter-widgets/controls",
          "model_name": "ProgressStyleModel",
          "model_module_version": "1.5.0",
          "state": {
            "_model_module": "@jupyter-widgets/controls",
            "_model_module_version": "1.5.0",
            "_model_name": "ProgressStyleModel",
            "_view_count": null,
            "_view_module": "@jupyter-widgets/base",
            "_view_module_version": "1.2.0",
            "_view_name": "StyleView",
            "bar_color": null,
            "description_width": ""
          }
        },
        "f7955b5a0c18416398f9e31078cd6b17": {
          "model_module": "@jupyter-widgets/base",
          "model_name": "LayoutModel",
          "model_module_version": "1.2.0",
          "state": {
            "_model_module": "@jupyter-widgets/base",
            "_model_module_version": "1.2.0",
            "_model_name": "LayoutModel",
            "_view_count": null,
            "_view_module": "@jupyter-widgets/base",
            "_view_module_version": "1.2.0",
            "_view_name": "LayoutView",
            "align_content": null,
            "align_items": null,
            "align_self": null,
            "border": null,
            "bottom": null,
            "display": null,
            "flex": null,
            "flex_flow": null,
            "grid_area": null,
            "grid_auto_columns": null,
            "grid_auto_flow": null,
            "grid_auto_rows": null,
            "grid_column": null,
            "grid_gap": null,
            "grid_row": null,
            "grid_template_areas": null,
            "grid_template_columns": null,
            "grid_template_rows": null,
            "height": null,
            "justify_content": null,
            "justify_items": null,
            "left": null,
            "margin": null,
            "max_height": null,
            "max_width": null,
            "min_height": null,
            "min_width": null,
            "object_fit": null,
            "object_position": null,
            "order": null,
            "overflow": null,
            "overflow_x": null,
            "overflow_y": null,
            "padding": null,
            "right": null,
            "top": null,
            "visibility": null,
            "width": null
          }
        },
        "f630e0d22da448778eee9f341f64f2a7": {
          "model_module": "@jupyter-widgets/controls",
          "model_name": "DescriptionStyleModel",
          "model_module_version": "1.5.0",
          "state": {
            "_model_module": "@jupyter-widgets/controls",
            "_model_module_version": "1.5.0",
            "_model_name": "DescriptionStyleModel",
            "_view_count": null,
            "_view_module": "@jupyter-widgets/base",
            "_view_module_version": "1.2.0",
            "_view_name": "StyleView",
            "description_width": ""
          }
        },
        "5368742126df404f848eaaf53995000f": {
          "model_module": "@jupyter-widgets/controls",
          "model_name": "HBoxModel",
          "model_module_version": "1.5.0",
          "state": {
            "_dom_classes": [],
            "_model_module": "@jupyter-widgets/controls",
            "_model_module_version": "1.5.0",
            "_model_name": "HBoxModel",
            "_view_count": null,
            "_view_module": "@jupyter-widgets/controls",
            "_view_module_version": "1.5.0",
            "_view_name": "HBoxView",
            "box_style": "",
            "children": [
              "IPY_MODEL_cf9d130e253a4afc9c0212223a60c56e",
              "IPY_MODEL_f3e4155b0cba4546b3d5e60e1a53c5fb",
              "IPY_MODEL_2edf3b51abf14cdaae437ccd2ef41fc7"
            ],
            "layout": "IPY_MODEL_ba93467b5f674278a8e73e882ffe0deb"
          }
        },
        "cf9d130e253a4afc9c0212223a60c56e": {
          "model_module": "@jupyter-widgets/controls",
          "model_name": "HTMLModel",
          "model_module_version": "1.5.0",
          "state": {
            "_dom_classes": [],
            "_model_module": "@jupyter-widgets/controls",
            "_model_module_version": "1.5.0",
            "_model_name": "HTMLModel",
            "_view_count": null,
            "_view_module": "@jupyter-widgets/controls",
            "_view_module_version": "1.5.0",
            "_view_name": "HTMLView",
            "description": "",
            "description_tooltip": null,
            "layout": "IPY_MODEL_e4927fa87bdd436584243d57163a26aa",
            "placeholder": "​",
            "style": "IPY_MODEL_0e46ec0df2f34699969a5232ec81b2e7",
            "value": "Downloading (…)lve/main/config.json: 100%"
          }
        },
        "f3e4155b0cba4546b3d5e60e1a53c5fb": {
          "model_module": "@jupyter-widgets/controls",
          "model_name": "FloatProgressModel",
          "model_module_version": "1.5.0",
          "state": {
            "_dom_classes": [],
            "_model_module": "@jupyter-widgets/controls",
            "_model_module_version": "1.5.0",
            "_model_name": "FloatProgressModel",
            "_view_count": null,
            "_view_module": "@jupyter-widgets/controls",
            "_view_module_version": "1.5.0",
            "_view_name": "ProgressView",
            "bar_style": "success",
            "description": "",
            "description_tooltip": null,
            "layout": "IPY_MODEL_9540621829904f3e8a9644fcc67f880c",
            "max": 474,
            "min": 0,
            "orientation": "horizontal",
            "style": "IPY_MODEL_7e06b6d81ae545218f0d3adcb0288db0",
            "value": 474
          }
        },
        "2edf3b51abf14cdaae437ccd2ef41fc7": {
          "model_module": "@jupyter-widgets/controls",
          "model_name": "HTMLModel",
          "model_module_version": "1.5.0",
          "state": {
            "_dom_classes": [],
            "_model_module": "@jupyter-widgets/controls",
            "_model_module_version": "1.5.0",
            "_model_name": "HTMLModel",
            "_view_count": null,
            "_view_module": "@jupyter-widgets/controls",
            "_view_module_version": "1.5.0",
            "_view_name": "HTMLView",
            "description": "",
            "description_tooltip": null,
            "layout": "IPY_MODEL_3956d22669be403794f2c5a3a042e5af",
            "placeholder": "​",
            "style": "IPY_MODEL_1f44edb1c92441b28733fbfabb3f0fdb",
            "value": " 474/474 [00:00&lt;00:00, 36.3kB/s]"
          }
        },
        "ba93467b5f674278a8e73e882ffe0deb": {
          "model_module": "@jupyter-widgets/base",
          "model_name": "LayoutModel",
          "model_module_version": "1.2.0",
          "state": {
            "_model_module": "@jupyter-widgets/base",
            "_model_module_version": "1.2.0",
            "_model_name": "LayoutModel",
            "_view_count": null,
            "_view_module": "@jupyter-widgets/base",
            "_view_module_version": "1.2.0",
            "_view_name": "LayoutView",
            "align_content": null,
            "align_items": null,
            "align_self": null,
            "border": null,
            "bottom": null,
            "display": null,
            "flex": null,
            "flex_flow": null,
            "grid_area": null,
            "grid_auto_columns": null,
            "grid_auto_flow": null,
            "grid_auto_rows": null,
            "grid_column": null,
            "grid_gap": null,
            "grid_row": null,
            "grid_template_areas": null,
            "grid_template_columns": null,
            "grid_template_rows": null,
            "height": null,
            "justify_content": null,
            "justify_items": null,
            "left": null,
            "margin": null,
            "max_height": null,
            "max_width": null,
            "min_height": null,
            "min_width": null,
            "object_fit": null,
            "object_position": null,
            "order": null,
            "overflow": null,
            "overflow_x": null,
            "overflow_y": null,
            "padding": null,
            "right": null,
            "top": null,
            "visibility": null,
            "width": null
          }
        },
        "e4927fa87bdd436584243d57163a26aa": {
          "model_module": "@jupyter-widgets/base",
          "model_name": "LayoutModel",
          "model_module_version": "1.2.0",
          "state": {
            "_model_module": "@jupyter-widgets/base",
            "_model_module_version": "1.2.0",
            "_model_name": "LayoutModel",
            "_view_count": null,
            "_view_module": "@jupyter-widgets/base",
            "_view_module_version": "1.2.0",
            "_view_name": "LayoutView",
            "align_content": null,
            "align_items": null,
            "align_self": null,
            "border": null,
            "bottom": null,
            "display": null,
            "flex": null,
            "flex_flow": null,
            "grid_area": null,
            "grid_auto_columns": null,
            "grid_auto_flow": null,
            "grid_auto_rows": null,
            "grid_column": null,
            "grid_gap": null,
            "grid_row": null,
            "grid_template_areas": null,
            "grid_template_columns": null,
            "grid_template_rows": null,
            "height": null,
            "justify_content": null,
            "justify_items": null,
            "left": null,
            "margin": null,
            "max_height": null,
            "max_width": null,
            "min_height": null,
            "min_width": null,
            "object_fit": null,
            "object_position": null,
            "order": null,
            "overflow": null,
            "overflow_x": null,
            "overflow_y": null,
            "padding": null,
            "right": null,
            "top": null,
            "visibility": null,
            "width": null
          }
        },
        "0e46ec0df2f34699969a5232ec81b2e7": {
          "model_module": "@jupyter-widgets/controls",
          "model_name": "DescriptionStyleModel",
          "model_module_version": "1.5.0",
          "state": {
            "_model_module": "@jupyter-widgets/controls",
            "_model_module_version": "1.5.0",
            "_model_name": "DescriptionStyleModel",
            "_view_count": null,
            "_view_module": "@jupyter-widgets/base",
            "_view_module_version": "1.2.0",
            "_view_name": "StyleView",
            "description_width": ""
          }
        },
        "9540621829904f3e8a9644fcc67f880c": {
          "model_module": "@jupyter-widgets/base",
          "model_name": "LayoutModel",
          "model_module_version": "1.2.0",
          "state": {
            "_model_module": "@jupyter-widgets/base",
            "_model_module_version": "1.2.0",
            "_model_name": "LayoutModel",
            "_view_count": null,
            "_view_module": "@jupyter-widgets/base",
            "_view_module_version": "1.2.0",
            "_view_name": "LayoutView",
            "align_content": null,
            "align_items": null,
            "align_self": null,
            "border": null,
            "bottom": null,
            "display": null,
            "flex": null,
            "flex_flow": null,
            "grid_area": null,
            "grid_auto_columns": null,
            "grid_auto_flow": null,
            "grid_auto_rows": null,
            "grid_column": null,
            "grid_gap": null,
            "grid_row": null,
            "grid_template_areas": null,
            "grid_template_columns": null,
            "grid_template_rows": null,
            "height": null,
            "justify_content": null,
            "justify_items": null,
            "left": null,
            "margin": null,
            "max_height": null,
            "max_width": null,
            "min_height": null,
            "min_width": null,
            "object_fit": null,
            "object_position": null,
            "order": null,
            "overflow": null,
            "overflow_x": null,
            "overflow_y": null,
            "padding": null,
            "right": null,
            "top": null,
            "visibility": null,
            "width": null
          }
        },
        "7e06b6d81ae545218f0d3adcb0288db0": {
          "model_module": "@jupyter-widgets/controls",
          "model_name": "ProgressStyleModel",
          "model_module_version": "1.5.0",
          "state": {
            "_model_module": "@jupyter-widgets/controls",
            "_model_module_version": "1.5.0",
            "_model_name": "ProgressStyleModel",
            "_view_count": null,
            "_view_module": "@jupyter-widgets/base",
            "_view_module_version": "1.2.0",
            "_view_name": "StyleView",
            "bar_color": null,
            "description_width": ""
          }
        },
        "3956d22669be403794f2c5a3a042e5af": {
          "model_module": "@jupyter-widgets/base",
          "model_name": "LayoutModel",
          "model_module_version": "1.2.0",
          "state": {
            "_model_module": "@jupyter-widgets/base",
            "_model_module_version": "1.2.0",
            "_model_name": "LayoutModel",
            "_view_count": null,
            "_view_module": "@jupyter-widgets/base",
            "_view_module_version": "1.2.0",
            "_view_name": "LayoutView",
            "align_content": null,
            "align_items": null,
            "align_self": null,
            "border": null,
            "bottom": null,
            "display": null,
            "flex": null,
            "flex_flow": null,
            "grid_area": null,
            "grid_auto_columns": null,
            "grid_auto_flow": null,
            "grid_auto_rows": null,
            "grid_column": null,
            "grid_gap": null,
            "grid_row": null,
            "grid_template_areas": null,
            "grid_template_columns": null,
            "grid_template_rows": null,
            "height": null,
            "justify_content": null,
            "justify_items": null,
            "left": null,
            "margin": null,
            "max_height": null,
            "max_width": null,
            "min_height": null,
            "min_width": null,
            "object_fit": null,
            "object_position": null,
            "order": null,
            "overflow": null,
            "overflow_x": null,
            "overflow_y": null,
            "padding": null,
            "right": null,
            "top": null,
            "visibility": null,
            "width": null
          }
        },
        "1f44edb1c92441b28733fbfabb3f0fdb": {
          "model_module": "@jupyter-widgets/controls",
          "model_name": "DescriptionStyleModel",
          "model_module_version": "1.5.0",
          "state": {
            "_model_module": "@jupyter-widgets/controls",
            "_model_module_version": "1.5.0",
            "_model_name": "DescriptionStyleModel",
            "_view_count": null,
            "_view_module": "@jupyter-widgets/base",
            "_view_module_version": "1.2.0",
            "_view_name": "StyleView",
            "description_width": ""
          }
        },
        "97abb541a9dd40fe9c0f93bf01c7f19f": {
          "model_module": "@jupyter-widgets/controls",
          "model_name": "HBoxModel",
          "model_module_version": "1.5.0",
          "state": {
            "_dom_classes": [],
            "_model_module": "@jupyter-widgets/controls",
            "_model_module_version": "1.5.0",
            "_model_name": "HBoxModel",
            "_view_count": null,
            "_view_module": "@jupyter-widgets/controls",
            "_view_module_version": "1.5.0",
            "_view_name": "HBoxView",
            "box_style": "",
            "children": [
              "IPY_MODEL_9a434ce0916942cbbf374bad480df3b5",
              "IPY_MODEL_8297fbec203c488ab6ef38696d7671b5",
              "IPY_MODEL_211fe72c058b4a81a469c7afed8d7bb8"
            ],
            "layout": "IPY_MODEL_6797814380c548529421e389c26cc61e"
          }
        },
        "9a434ce0916942cbbf374bad480df3b5": {
          "model_module": "@jupyter-widgets/controls",
          "model_name": "HTMLModel",
          "model_module_version": "1.5.0",
          "state": {
            "_dom_classes": [],
            "_model_module": "@jupyter-widgets/controls",
            "_model_module_version": "1.5.0",
            "_model_name": "HTMLModel",
            "_view_count": null,
            "_view_module": "@jupyter-widgets/controls",
            "_view_module_version": "1.5.0",
            "_view_name": "HTMLView",
            "description": "",
            "description_tooltip": null,
            "layout": "IPY_MODEL_3ddc12d2350e49c58b5a41d75f3d817c",
            "placeholder": "​",
            "style": "IPY_MODEL_5d11139bbe4e4e89b54127a1ef19c333",
            "value": "Downloading pytorch_model.bin: 100%"
          }
        },
        "8297fbec203c488ab6ef38696d7671b5": {
          "model_module": "@jupyter-widgets/controls",
          "model_name": "FloatProgressModel",
          "model_module_version": "1.5.0",
          "state": {
            "_dom_classes": [],
            "_model_module": "@jupyter-widgets/controls",
            "_model_module_version": "1.5.0",
            "_model_name": "FloatProgressModel",
            "_view_count": null,
            "_view_module": "@jupyter-widgets/controls",
            "_view_module_version": "1.5.0",
            "_view_name": "ProgressView",
            "bar_style": "success",
            "description": "",
            "description_tooltip": null,
            "layout": "IPY_MODEL_8ec54e7d54344a9dab7d03a679430239",
            "max": 558614189,
            "min": 0,
            "orientation": "horizontal",
            "style": "IPY_MODEL_f4ee580db4074c59adcb415edc158656",
            "value": 558614189
          }
        },
        "211fe72c058b4a81a469c7afed8d7bb8": {
          "model_module": "@jupyter-widgets/controls",
          "model_name": "HTMLModel",
          "model_module_version": "1.5.0",
          "state": {
            "_dom_classes": [],
            "_model_module": "@jupyter-widgets/controls",
            "_model_module_version": "1.5.0",
            "_model_name": "HTMLModel",
            "_view_count": null,
            "_view_module": "@jupyter-widgets/controls",
            "_view_module_version": "1.5.0",
            "_view_name": "HTMLView",
            "description": "",
            "description_tooltip": null,
            "layout": "IPY_MODEL_8676360611234b189fa109061d9fd229",
            "placeholder": "​",
            "style": "IPY_MODEL_049889917702450bbbd2f25d387eb8f3",
            "value": " 559M/559M [00:06&lt;00:00, 91.8MB/s]"
          }
        },
        "6797814380c548529421e389c26cc61e": {
          "model_module": "@jupyter-widgets/base",
          "model_name": "LayoutModel",
          "model_module_version": "1.2.0",
          "state": {
            "_model_module": "@jupyter-widgets/base",
            "_model_module_version": "1.2.0",
            "_model_name": "LayoutModel",
            "_view_count": null,
            "_view_module": "@jupyter-widgets/base",
            "_view_module_version": "1.2.0",
            "_view_name": "LayoutView",
            "align_content": null,
            "align_items": null,
            "align_self": null,
            "border": null,
            "bottom": null,
            "display": null,
            "flex": null,
            "flex_flow": null,
            "grid_area": null,
            "grid_auto_columns": null,
            "grid_auto_flow": null,
            "grid_auto_rows": null,
            "grid_column": null,
            "grid_gap": null,
            "grid_row": null,
            "grid_template_areas": null,
            "grid_template_columns": null,
            "grid_template_rows": null,
            "height": null,
            "justify_content": null,
            "justify_items": null,
            "left": null,
            "margin": null,
            "max_height": null,
            "max_width": null,
            "min_height": null,
            "min_width": null,
            "object_fit": null,
            "object_position": null,
            "order": null,
            "overflow": null,
            "overflow_x": null,
            "overflow_y": null,
            "padding": null,
            "right": null,
            "top": null,
            "visibility": null,
            "width": null
          }
        },
        "3ddc12d2350e49c58b5a41d75f3d817c": {
          "model_module": "@jupyter-widgets/base",
          "model_name": "LayoutModel",
          "model_module_version": "1.2.0",
          "state": {
            "_model_module": "@jupyter-widgets/base",
            "_model_module_version": "1.2.0",
            "_model_name": "LayoutModel",
            "_view_count": null,
            "_view_module": "@jupyter-widgets/base",
            "_view_module_version": "1.2.0",
            "_view_name": "LayoutView",
            "align_content": null,
            "align_items": null,
            "align_self": null,
            "border": null,
            "bottom": null,
            "display": null,
            "flex": null,
            "flex_flow": null,
            "grid_area": null,
            "grid_auto_columns": null,
            "grid_auto_flow": null,
            "grid_auto_rows": null,
            "grid_column": null,
            "grid_gap": null,
            "grid_row": null,
            "grid_template_areas": null,
            "grid_template_columns": null,
            "grid_template_rows": null,
            "height": null,
            "justify_content": null,
            "justify_items": null,
            "left": null,
            "margin": null,
            "max_height": null,
            "max_width": null,
            "min_height": null,
            "min_width": null,
            "object_fit": null,
            "object_position": null,
            "order": null,
            "overflow": null,
            "overflow_x": null,
            "overflow_y": null,
            "padding": null,
            "right": null,
            "top": null,
            "visibility": null,
            "width": null
          }
        },
        "5d11139bbe4e4e89b54127a1ef19c333": {
          "model_module": "@jupyter-widgets/controls",
          "model_name": "DescriptionStyleModel",
          "model_module_version": "1.5.0",
          "state": {
            "_model_module": "@jupyter-widgets/controls",
            "_model_module_version": "1.5.0",
            "_model_name": "DescriptionStyleModel",
            "_view_count": null,
            "_view_module": "@jupyter-widgets/base",
            "_view_module_version": "1.2.0",
            "_view_name": "StyleView",
            "description_width": ""
          }
        },
        "8ec54e7d54344a9dab7d03a679430239": {
          "model_module": "@jupyter-widgets/base",
          "model_name": "LayoutModel",
          "model_module_version": "1.2.0",
          "state": {
            "_model_module": "@jupyter-widgets/base",
            "_model_module_version": "1.2.0",
            "_model_name": "LayoutModel",
            "_view_count": null,
            "_view_module": "@jupyter-widgets/base",
            "_view_module_version": "1.2.0",
            "_view_name": "LayoutView",
            "align_content": null,
            "align_items": null,
            "align_self": null,
            "border": null,
            "bottom": null,
            "display": null,
            "flex": null,
            "flex_flow": null,
            "grid_area": null,
            "grid_auto_columns": null,
            "grid_auto_flow": null,
            "grid_auto_rows": null,
            "grid_column": null,
            "grid_gap": null,
            "grid_row": null,
            "grid_template_areas": null,
            "grid_template_columns": null,
            "grid_template_rows": null,
            "height": null,
            "justify_content": null,
            "justify_items": null,
            "left": null,
            "margin": null,
            "max_height": null,
            "max_width": null,
            "min_height": null,
            "min_width": null,
            "object_fit": null,
            "object_position": null,
            "order": null,
            "overflow": null,
            "overflow_x": null,
            "overflow_y": null,
            "padding": null,
            "right": null,
            "top": null,
            "visibility": null,
            "width": null
          }
        },
        "f4ee580db4074c59adcb415edc158656": {
          "model_module": "@jupyter-widgets/controls",
          "model_name": "ProgressStyleModel",
          "model_module_version": "1.5.0",
          "state": {
            "_model_module": "@jupyter-widgets/controls",
            "_model_module_version": "1.5.0",
            "_model_name": "ProgressStyleModel",
            "_view_count": null,
            "_view_module": "@jupyter-widgets/base",
            "_view_module_version": "1.2.0",
            "_view_name": "StyleView",
            "bar_color": null,
            "description_width": ""
          }
        },
        "8676360611234b189fa109061d9fd229": {
          "model_module": "@jupyter-widgets/base",
          "model_name": "LayoutModel",
          "model_module_version": "1.2.0",
          "state": {
            "_model_module": "@jupyter-widgets/base",
            "_model_module_version": "1.2.0",
            "_model_name": "LayoutModel",
            "_view_count": null,
            "_view_module": "@jupyter-widgets/base",
            "_view_module_version": "1.2.0",
            "_view_name": "LayoutView",
            "align_content": null,
            "align_items": null,
            "align_self": null,
            "border": null,
            "bottom": null,
            "display": null,
            "flex": null,
            "flex_flow": null,
            "grid_area": null,
            "grid_auto_columns": null,
            "grid_auto_flow": null,
            "grid_auto_rows": null,
            "grid_column": null,
            "grid_gap": null,
            "grid_row": null,
            "grid_template_areas": null,
            "grid_template_columns": null,
            "grid_template_rows": null,
            "height": null,
            "justify_content": null,
            "justify_items": null,
            "left": null,
            "margin": null,
            "max_height": null,
            "max_width": null,
            "min_height": null,
            "min_width": null,
            "object_fit": null,
            "object_position": null,
            "order": null,
            "overflow": null,
            "overflow_x": null,
            "overflow_y": null,
            "padding": null,
            "right": null,
            "top": null,
            "visibility": null,
            "width": null
          }
        },
        "049889917702450bbbd2f25d387eb8f3": {
          "model_module": "@jupyter-widgets/controls",
          "model_name": "DescriptionStyleModel",
          "model_module_version": "1.5.0",
          "state": {
            "_model_module": "@jupyter-widgets/controls",
            "_model_module_version": "1.5.0",
            "_model_name": "DescriptionStyleModel",
            "_view_count": null,
            "_view_module": "@jupyter-widgets/base",
            "_view_module_version": "1.2.0",
            "_view_name": "StyleView",
            "description_width": ""
          }
        }
      }
    }
  },
  "cells": [
    {
      "cell_type": "markdown",
      "metadata": {
        "id": "view-in-github",
        "colab_type": "text"
      },
      "source": [
        "<a href=\"https://colab.research.google.com/github/lordbvico/msci-641-final-project/blob/main/Copy_of_deberta_training_task2.ipynb\" target=\"_parent\"><img src=\"https://colab.research.google.com/assets/colab-badge.svg\" alt=\"Open In Colab\"/></a>"
      ]
    },
    {
      "cell_type": "code",
      "execution_count": null,
      "metadata": {
        "id": "B45tFkZv1VpY"
      },
      "outputs": [],
      "source": [
        "# Code to read csv file into Colaboratory:\n",
        "!pip install -U -q PyDrive\n",
        "from pydrive.auth import GoogleAuth\n",
        "from pydrive.drive import GoogleDrive\n",
        "from google.colab import auth\n",
        "from oauth2client.client import GoogleCredentials\n",
        "# Authenticate and create the PyDrive client.\n",
        "auth.authenticate_user()\n",
        "gauth = GoogleAuth()\n",
        "gauth.credentials = GoogleCredentials.get_application_default()\n",
        "drive = GoogleDrive(gauth)"
      ]
    },
    {
      "cell_type": "code",
      "source": [
        "import pandas as pd\n",
        "id = \"1AYls0rBsSfK9HsWWj8kdN6prEJcZsFEk\"\n",
        "downloaded = drive.CreateFile({'id':id})\n",
        "downloaded.GetContentFile('train.jsonl')\n",
        "#df = pd.read_json('train.jsonl', lines=True)"
      ],
      "metadata": {
        "id": "QkHh_vGm1h0N"
      },
      "execution_count": null,
      "outputs": []
    },
    {
      "cell_type": "code",
      "source": [
        "id1 = \"18yu4xEsU1W_DYlT4dE6fCeXIvFJ_JSWQ\"\n",
        "downloaded1 = drive.CreateFile({'id':id1})\n",
        "downloaded1.GetContentFile('val.jsonl')\n",
        "#df2 = pd.read_json('val.jsonl', lines=True)"
      ],
      "metadata": {
        "id": "nco15hP73AmA"
      },
      "execution_count": null,
      "outputs": []
    },
    {
      "cell_type": "code",
      "source": [
        "id2 = \"1z3X-ZrhbwIiabENW69nBUmj8O0Mb-_Er\"\n",
        "downloaded2 = drive.CreateFile({'id':id2})\n",
        "downloaded2.GetContentFile('test.jsonl')\n",
        "#df3 = pd.read_json('test.jsonl', lines=True)"
      ],
      "metadata": {
        "id": "tqd0iKMY33CM"
      },
      "execution_count": null,
      "outputs": []
    },
    {
      "cell_type": "code",
      "source": [
        "!pip install wandb -qU"
      ],
      "metadata": {
        "colab": {
          "base_uri": "https://localhost:8080/"
        },
        "id": "rr4_jhRZkXgG",
        "outputId": "c2cc5008-6eac-46c5-cf47-3f2c684b8317"
      },
      "execution_count": null,
      "outputs": [
        {
          "output_type": "stream",
          "name": "stdout",
          "text": [
            "\u001b[2K     \u001b[90m━━━━━━━━━━━━━━━━━━━━━━━━━━━━━━━━━━━━━━━━\u001b[0m \u001b[32m2.1/2.1 MB\u001b[0m \u001b[31m25.5 MB/s\u001b[0m eta \u001b[36m0:00:00\u001b[0m\n",
            "\u001b[2K     \u001b[90m━━━━━━━━━━━━━━━━━━━━━━━━━━━━━━━━━━━━━━\u001b[0m \u001b[32m188.5/188.5 kB\u001b[0m \u001b[31m25.0 MB/s\u001b[0m eta \u001b[36m0:00:00\u001b[0m\n",
            "\u001b[2K     \u001b[90m━━━━━━━━━━━━━━━━━━━━━━━━━━━━━━━━━━━━━━\u001b[0m \u001b[32m215.6/215.6 kB\u001b[0m \u001b[31m28.0 MB/s\u001b[0m eta \u001b[36m0:00:00\u001b[0m\n",
            "\u001b[?25h  Preparing metadata (setup.py) ... \u001b[?25l\u001b[?25hdone\n",
            "\u001b[2K     \u001b[90m━━━━━━━━━━━━━━━━━━━━━━━━━━━━━━━━━━━━━━━━\u001b[0m \u001b[32m62.7/62.7 kB\u001b[0m \u001b[31m9.4 MB/s\u001b[0m eta \u001b[36m0:00:00\u001b[0m\n",
            "\u001b[?25h  Building wheel for pathtools (setup.py) ... \u001b[?25l\u001b[?25hdone\n"
          ]
        }
      ]
    },
    {
      "cell_type": "code",
      "source": [
        "# Log in to your W&B account\n",
        "import wandb\n",
        "wandb.login()"
      ],
      "metadata": {
        "colab": {
          "base_uri": "https://localhost:8080/",
          "height": 71
        },
        "id": "LhaB2S4FkYED",
        "outputId": "34affaa7-74fb-47c6-e6d9-9d3d03de36cb"
      },
      "execution_count": null,
      "outputs": [
        {
          "output_type": "display_data",
          "data": {
            "text/plain": [
              "<IPython.core.display.Javascript object>"
            ],
            "application/javascript": [
              "\n",
              "        window._wandbApiKey = new Promise((resolve, reject) => {\n",
              "            function loadScript(url) {\n",
              "            return new Promise(function(resolve, reject) {\n",
              "                let newScript = document.createElement(\"script\");\n",
              "                newScript.onerror = reject;\n",
              "                newScript.onload = resolve;\n",
              "                document.body.appendChild(newScript);\n",
              "                newScript.src = url;\n",
              "            });\n",
              "            }\n",
              "            loadScript(\"https://cdn.jsdelivr.net/npm/postmate/build/postmate.min.js\").then(() => {\n",
              "            const iframe = document.createElement('iframe')\n",
              "            iframe.style.cssText = \"width:0;height:0;border:none\"\n",
              "            document.body.appendChild(iframe)\n",
              "            const handshake = new Postmate({\n",
              "                container: iframe,\n",
              "                url: 'https://wandb.ai/authorize'\n",
              "            });\n",
              "            const timeout = setTimeout(() => reject(\"Couldn't auto authenticate\"), 5000)\n",
              "            handshake.then(function(child) {\n",
              "                child.on('authorize', data => {\n",
              "                    clearTimeout(timeout)\n",
              "                    resolve(data)\n",
              "                });\n",
              "            });\n",
              "            })\n",
              "        });\n",
              "    "
            ]
          },
          "metadata": {}
        },
        {
          "output_type": "stream",
          "name": "stderr",
          "text": [
            "\u001b[34m\u001b[1mwandb\u001b[0m: Appending key for api.wandb.ai to your netrc file: /root/.netrc\n"
          ]
        },
        {
          "output_type": "execute_result",
          "data": {
            "text/plain": [
              "True"
            ]
          },
          "metadata": {},
          "execution_count": 6
        }
      ]
    },
    {
      "cell_type": "code",
      "source": [
        "!pip install transformers"
      ],
      "metadata": {
        "colab": {
          "base_uri": "https://localhost:8080/"
        },
        "id": "eWLSmxtQ4ii-",
        "outputId": "94651bd9-eef7-4e4e-c967-46235691eef0"
      },
      "execution_count": null,
      "outputs": [
        {
          "output_type": "stream",
          "name": "stdout",
          "text": [
            "Collecting transformers\n",
            "  Downloading transformers-4.31.0-py3-none-any.whl (7.4 MB)\n",
            "\u001b[2K     \u001b[90m━━━━━━━━━━━━━━━━━━━━━━━━━━━━━━━━━━━━━━━━\u001b[0m \u001b[32m7.4/7.4 MB\u001b[0m \u001b[31m65.3 MB/s\u001b[0m eta \u001b[36m0:00:00\u001b[0m\n",
            "\u001b[?25hRequirement already satisfied: filelock in /usr/local/lib/python3.10/dist-packages (from transformers) (3.12.2)\n",
            "Collecting huggingface-hub<1.0,>=0.14.1 (from transformers)\n",
            "  Downloading huggingface_hub-0.16.4-py3-none-any.whl (268 kB)\n",
            "\u001b[2K     \u001b[90m━━━━━━━━━━━━━━━━━━━━━━━━━━━━━━━━━━━━━━\u001b[0m \u001b[32m268.8/268.8 kB\u001b[0m \u001b[31m34.2 MB/s\u001b[0m eta \u001b[36m0:00:00\u001b[0m\n",
            "\u001b[?25hRequirement already satisfied: numpy>=1.17 in /usr/local/lib/python3.10/dist-packages (from transformers) (1.22.4)\n",
            "Requirement already satisfied: packaging>=20.0 in /usr/local/lib/python3.10/dist-packages (from transformers) (23.1)\n",
            "Requirement already satisfied: pyyaml>=5.1 in /usr/local/lib/python3.10/dist-packages (from transformers) (6.0.1)\n",
            "Requirement already satisfied: regex!=2019.12.17 in /usr/local/lib/python3.10/dist-packages (from transformers) (2022.10.31)\n",
            "Requirement already satisfied: requests in /usr/local/lib/python3.10/dist-packages (from transformers) (2.27.1)\n",
            "Collecting tokenizers!=0.11.3,<0.14,>=0.11.1 (from transformers)\n",
            "  Downloading tokenizers-0.13.3-cp310-cp310-manylinux_2_17_x86_64.manylinux2014_x86_64.whl (7.8 MB)\n",
            "\u001b[2K     \u001b[90m━━━━━━━━━━━━━━━━━━━━━━━━━━━━━━━━━━━━━━━━\u001b[0m \u001b[32m7.8/7.8 MB\u001b[0m \u001b[31m117.9 MB/s\u001b[0m eta \u001b[36m0:00:00\u001b[0m\n",
            "\u001b[?25hCollecting safetensors>=0.3.1 (from transformers)\n",
            "  Downloading safetensors-0.3.1-cp310-cp310-manylinux_2_17_x86_64.manylinux2014_x86_64.whl (1.3 MB)\n",
            "\u001b[2K     \u001b[90m━━━━━━━━━━━━━━━━━━━━━━━━━━━━━━━━━━━━━━━━\u001b[0m \u001b[32m1.3/1.3 MB\u001b[0m \u001b[31m80.1 MB/s\u001b[0m eta \u001b[36m0:00:00\u001b[0m\n",
            "\u001b[?25hRequirement already satisfied: tqdm>=4.27 in /usr/local/lib/python3.10/dist-packages (from transformers) (4.65.0)\n",
            "Requirement already satisfied: fsspec in /usr/local/lib/python3.10/dist-packages (from huggingface-hub<1.0,>=0.14.1->transformers) (2023.6.0)\n",
            "Requirement already satisfied: typing-extensions>=3.7.4.3 in /usr/local/lib/python3.10/dist-packages (from huggingface-hub<1.0,>=0.14.1->transformers) (4.7.1)\n",
            "Requirement already satisfied: urllib3<1.27,>=1.21.1 in /usr/local/lib/python3.10/dist-packages (from requests->transformers) (1.26.16)\n",
            "Requirement already satisfied: certifi>=2017.4.17 in /usr/local/lib/python3.10/dist-packages (from requests->transformers) (2023.7.22)\n",
            "Requirement already satisfied: charset-normalizer~=2.0.0 in /usr/local/lib/python3.10/dist-packages (from requests->transformers) (2.0.12)\n",
            "Requirement already satisfied: idna<4,>=2.5 in /usr/local/lib/python3.10/dist-packages (from requests->transformers) (3.4)\n",
            "Installing collected packages: tokenizers, safetensors, huggingface-hub, transformers\n",
            "Successfully installed huggingface-hub-0.16.4 safetensors-0.3.1 tokenizers-0.13.3 transformers-4.31.0\n"
          ]
        }
      ]
    },
    {
      "cell_type": "code",
      "source": [
        "!pip install sentencepiece"
      ],
      "metadata": {
        "colab": {
          "base_uri": "https://localhost:8080/"
        },
        "id": "ucjjb9zUUop5",
        "outputId": "6441311e-a679-4be9-98f0-b9b5dc075265"
      },
      "execution_count": null,
      "outputs": [
        {
          "output_type": "stream",
          "name": "stdout",
          "text": [
            "Collecting sentencepiece\n",
            "  Downloading sentencepiece-0.1.99-cp310-cp310-manylinux_2_17_x86_64.manylinux2014_x86_64.whl (1.3 MB)\n",
            "\u001b[?25l     \u001b[90m━━━━━━━━━━━━━━━━━━━━━━━━━━━━━━━━━━━━━━━━\u001b[0m \u001b[32m0.0/1.3 MB\u001b[0m \u001b[31m?\u001b[0m eta \u001b[36m-:--:--\u001b[0m\r\u001b[2K     \u001b[91m━━━\u001b[0m\u001b[90m╺\u001b[0m\u001b[90m━━━━━━━━━━━━━━━━━━━━━━━━━━━━━━━━━━━━\u001b[0m \u001b[32m0.1/1.3 MB\u001b[0m \u001b[31m3.4 MB/s\u001b[0m eta \u001b[36m0:00:01\u001b[0m\r\u001b[2K     \u001b[91m━━━━━━━━━━━━━━━━━━━━━━━━━━━━━━━━━━━━━━━\u001b[0m\u001b[91m╸\u001b[0m \u001b[32m1.3/1.3 MB\u001b[0m \u001b[31m22.3 MB/s\u001b[0m eta \u001b[36m0:00:01\u001b[0m\r\u001b[2K     \u001b[90m━━━━━━━━━━━━━━━━━━━━━━━━━━━━━━━━━━━━━━━━\u001b[0m \u001b[32m1.3/1.3 MB\u001b[0m \u001b[31m18.7 MB/s\u001b[0m eta \u001b[36m0:00:00\u001b[0m\n",
            "\u001b[?25hInstalling collected packages: sentencepiece\n",
            "Successfully installed sentencepiece-0.1.99\n"
          ]
        }
      ]
    },
    {
      "cell_type": "code",
      "source": [
        "import numpy as np\n",
        "import pandas as pd\n",
        "import torch\n",
        "import torch.nn as nn\n",
        "import torch.optim as optim\n",
        "import torch.nn.functional as F\n",
        "from torch.utils.data import DataLoader, TensorDataset\n",
        "from torch.utils.data import Dataset, DataLoader\n",
        "from sklearn.preprocessing import LabelEncoder\n",
        "from sklearn.model_selection import train_test_split\n",
        "from tqdm import tqdm\n",
        "from transformers import T5Tokenizer, T5ForConditionalGeneration\n",
        "import nltk\n",
        "from nltk.tokenize import RegexpTokenizer\n",
        "from nltk.stem import WordNetLemmatizer\n",
        "from nltk.translate import meteor_score\n",
        "import re\n",
        "import json\n",
        "from tqdm import tqdm\n",
        "import copy\n",
        "import wandb\n"
      ],
      "metadata": {
        "id": "MuIMa_2e17os"
      },
      "execution_count": null,
      "outputs": []
    },
    {
      "cell_type": "code",
      "source": [
        "nltk.download('wordnet')"
      ],
      "metadata": {
        "colab": {
          "base_uri": "https://localhost:8080/"
        },
        "id": "IT6yU2yZobUP",
        "outputId": "a5504be0-955b-4770-9839-8011d860184a"
      },
      "execution_count": null,
      "outputs": [
        {
          "output_type": "stream",
          "name": "stderr",
          "text": [
            "[nltk_data] Downloading package wordnet to /root/nltk_data...\n"
          ]
        },
        {
          "output_type": "execute_result",
          "data": {
            "text/plain": [
              "True"
            ]
          },
          "metadata": {},
          "execution_count": 10
        }
      ]
    },
    {
      "cell_type": "code",
      "source": [
        "sweep_config = {\n",
        "        \"name\": \"sweep\",\n",
        "        \"method\": \"bayes\",\n",
        "        \"metric\": {\"name\": \"Validation Accuracy\", \"goal\": \"maximize\"},\n",
        "        \"parameters\": {\n",
        "            'learning_rate': {'max': 0.00001, 'min': 0.000001},\n",
        "             \"num_epochs\": {\"values\": [3,4,5]}\n",
        "\n",
        "\n",
        "        }\n",
        "    }\n",
        "\n",
        "    # Initialize Wandb sweep\n",
        "sweep_id = wandb.sweep(sweep=sweep_config, project=\"T5 Large Parameter Sweep Aug 2 Task 2\")"
      ],
      "metadata": {
        "colab": {
          "base_uri": "https://localhost:8080/"
        },
        "id": "bdCsUGzXkT6I",
        "outputId": "3234d643-aefc-4bac-d67d-3824a69ac686"
      },
      "execution_count": null,
      "outputs": [
        {
          "output_type": "stream",
          "name": "stdout",
          "text": [
            "Create sweep with ID: sk2qp2kp\n",
            "Sweep URL: https://wandb.ai/team_vico/T5%20Large%20Parameter%20Sweep%20Aug%202%20Task%202/sweeps/sk2qp2kp\n"
          ]
        }
      ]
    },
    {
      "cell_type": "code",
      "source": [
        "def remove_special_characters(text):\n",
        "\n",
        "    # Convert the input to a string, regardless of its original type\n",
        "    text = str(text)\n",
        "    # Substitute multiple spaces with a single space\n",
        "    text = re.sub(r'\\s+', ' ', text)\n",
        "\n",
        "    # Substitute any non-word character with a space\n",
        "    text = re.sub(r'[^a-zA-Z0-9\\s]', ' ', text)\n",
        "\n",
        "\n",
        "    cleaned_text = ' '.join(text.split())\n",
        "\n",
        "    return cleaned_text\n"
      ],
      "metadata": {
        "id": "o_qklha2O0qJ"
      },
      "execution_count": null,
      "outputs": []
    },
    {
      "cell_type": "code",
      "source": [
        "def load_data(file_path):\n",
        "    with open(file_path, 'r') as file:\n",
        "        jsonl_content = file.readlines()\n",
        "\n",
        "    data = []\n",
        "    for json_str in jsonl_content:\n",
        "        result = json.loads(json_str)\n",
        "        result[\"postText\"] = remove_special_characters(result[\"postText\"])\n",
        "        result[\"targetTitle\"] = remove_special_characters(result[\"targetTitle\"])\n",
        "        result[\"targetParagraphs\"] =  remove_special_characters(result[\"targetParagraphs\"])\n",
        "        result[\"spoiler\"] = remove_special_characters(result[\"spoiler\"])\n",
        "        data.append(result)\n",
        "\n",
        "    return data\n",
        "\n",
        "def preprocess_data(data):\n",
        "    preprocessed_data = []\n",
        "\n",
        "    for row in data:\n",
        "        # Convert targetParagraphs list to string if it's a list\n",
        "\n",
        "\n",
        "\n",
        "        target_paragraphs = ' '.join(row['targetParagraphs']) if isinstance(row['targetParagraphs'], list) else row['targetParagraphs']\n",
        "        input_str = f\"generate_spoiler: {row['postText']} {row['targetTitle']} {target_paragraphs}\"\n",
        "        #input_str = f\"generate_spoiler: {row['postText']} {row['targetTitle']} {target_paragraphs}\"\n",
        "        spoiler = row['spoiler']\n",
        "\n",
        "        preprocessed_data.append({\n",
        "            'input_str': input_str,\n",
        "            'spoiler': spoiler\n",
        "        })\n",
        "\n",
        "    return preprocessed_data\n"
      ],
      "metadata": {
        "id": "NRsRJEakNRDG"
      },
      "execution_count": null,
      "outputs": []
    },
    {
      "cell_type": "code",
      "source": [
        "def load_data1(file_path):\n",
        "    with open(file_path, 'r') as file:\n",
        "        jsonl_content = file.readlines()\n",
        "\n",
        "    data = []\n",
        "    for json_str in jsonl_content:\n",
        "        result = json.loads(json_str)\n",
        "        result[\"postText\"] = remove_special_characters(result[\"postText\"])\n",
        "        result[\"targetTitle\"] = remove_special_characters(result[\"targetTitle\"])\n",
        "        result[\"targetParagraphs\"] =  remove_special_characters(result[\"targetParagraphs\"])\n",
        "        data.append(result)\n",
        "\n",
        "    return data"
      ],
      "metadata": {
        "id": "BmntpJdOl9hO"
      },
      "execution_count": null,
      "outputs": []
    },
    {
      "cell_type": "code",
      "source": [
        "def preprocess_test_data1(data):\n",
        "    preprocessed_data = []\n",
        "\n",
        "    for row in data:\n",
        "        # Convert targetParagraphs list to string if it's a list\n",
        "        target_paragraphs = ' '.join(row['targetParagraphs']) if isinstance(row['targetParagraphs'], list) else row['targetParagraphs']\n",
        "\n",
        "        input_str = f\"generate_spoiler: {row['postText']} {row['targetTitle']} {target_paragraphs}\"\n",
        "\n",
        "        preprocessed_data.append({\n",
        "            'input_str': input_str\n",
        "        })\n",
        "\n",
        "    return preprocessed_data\n",
        "\n"
      ],
      "metadata": {
        "id": "2w_IbHW9l-L4"
      },
      "execution_count": null,
      "outputs": []
    },
    {
      "cell_type": "code",
      "source": [
        "train_data = load_data('train.jsonl')\n",
        "val_data = load_data('val.jsonl')\n",
        "test_data = load_data1('test.jsonl')\n",
        "# Preprocess train data\n",
        "train_data = preprocess_data(train_data)\n",
        "val_data = preprocess_data(val_data)\n",
        "test_data = preprocess_test_data1(test_data)\n",
        "#train_data = train_data[:100]  # Use the first 1000 samples\n",
        "#val_data = val_data[:20]  # Use the first 200 samples"
      ],
      "metadata": {
        "id": "dxOP6kt5QJpR"
      },
      "execution_count": null,
      "outputs": []
    },
    {
      "cell_type": "code",
      "source": [
        "class ClickBaitDataset(Dataset):\n",
        "    def __init__(self, data, tokenizer, max_length):\n",
        "        self.data = data\n",
        "        self.tokenizer = tokenizer\n",
        "        self.max_length = max_length\n",
        "\n",
        "    def __len__(self):\n",
        "        return len(self.data)\n",
        "\n",
        "    def __getitem__(self, index):\n",
        "        row = self.data[index]\n",
        "        inputs = self.tokenizer.encode_plus(\n",
        "            row['input_str'],\n",
        "            max_length=self.max_length,\n",
        "            padding=\"max_length\",\n",
        "            truncation=True,\n",
        "            return_tensors=\"pt\",\n",
        "        )\n",
        "        outputs = self.tokenizer.encode(\n",
        "            row[\"spoiler\"],\n",
        "            max_length=self.max_length,\n",
        "            padding=\"max_length\",\n",
        "            truncation=True,\n",
        "            return_tensors=\"pt\",\n",
        "        )\n",
        "        return {\n",
        "            \"input_ids\": inputs[\"input_ids\"].flatten(),\n",
        "            \"attention_mask\": inputs[\"attention_mask\"].flatten(),\n",
        "            \"labels\": outputs.flatten(),\n",
        "        }"
      ],
      "metadata": {
        "id": "m0STzT7gmbnJ"
      },
      "execution_count": null,
      "outputs": []
    },
    {
      "cell_type": "code",
      "source": [
        "class ClickBaitTestDataset(Dataset):\n",
        "    def __init__(self, data, tokenizer, max_length):\n",
        "        self.data = data\n",
        "        self.tokenizer = tokenizer\n",
        "        self.max_length = max_length\n",
        "\n",
        "    def __len__(self):\n",
        "        return len(self.data)\n",
        "\n",
        "    def __getitem__(self, index):\n",
        "        row = self.data[index]\n",
        "        inputs = self.tokenizer.encode_plus(\n",
        "            row['input_str'],\n",
        "            max_length=self.max_length,\n",
        "            padding=\"max_length\",\n",
        "            truncation=True,\n",
        "            return_tensors=\"pt\",\n",
        "        )\n",
        "        return {\n",
        "            \"input_ids\": inputs[\"input_ids\"].flatten(),\n",
        "            \"attention_mask\": inputs[\"attention_mask\"].flatten(),\n",
        "        }\n"
      ],
      "metadata": {
        "id": "5soVw-u2ma7o"
      },
      "execution_count": null,
      "outputs": []
    },
    {
      "cell_type": "code",
      "source": [
        "tokenizer = T5Tokenizer.from_pretrained(\"t5-large\")\n",
        "model = T5ForConditionalGeneration.from_pretrained(\"t5-large\")\n",
        "\n",
        "# replace train_data and val_data with your own data\n",
        "train_dataset = ClickBaitDataset(train_data, tokenizer, max_length=512)\n",
        "val_dataset = ClickBaitDataset(val_data, tokenizer, max_length=512)\n",
        "\n",
        "train_loader = DataLoader(train_dataset, batch_size=4)\n",
        "val_loader = DataLoader(val_dataset, batch_size=4)"
      ],
      "metadata": {
        "colab": {
          "base_uri": "https://localhost:8080/",
          "height": 294,
          "referenced_widgets": [
            "db170078ccdf4317bc5ac22db5b889f5",
            "6dcb9f9fac8f4bbfbac9fb20b59f464c",
            "2a8138ca362c490382fb585d29006235",
            "e3209d1af3e440ddb05569a3e2f97985",
            "0d24daa6480f4aef82f4d9532ef0318e",
            "3ad74eaf12e54fb789c0a384fdc0d014",
            "f51aea5b37a84b4bbe540d7d8cd3d012",
            "00fa04540b4343fcaf464f330ee7240e",
            "3a14b3fd0ae04ae4aa55765ac7e530bc",
            "d6b446a6f18444cd9a5bcd662cffaae4",
            "fbe11d918a6d4cbfbfe80802402c4ddd",
            "159d0d41118043aeb635b525ac44893b",
            "763382fcfdfb483199ed21bd609e13ad",
            "86b0c865aed344439e06fe567e0e6e73",
            "3c0e8af967fc416a8290d9970fd925e7",
            "a479dd726bfa443084ef6fd6d9c5fdd6",
            "76f5dbb0c53c46739d04620f79c2815b",
            "735a6ad31cd54d0ea7c1c1925a911411",
            "190e0278151e4eb9b15c7e72479d43b6",
            "1bb19665cdac4afbb582dcc150e324fe",
            "25a413f2f68245329a42c84cbca04286",
            "82b18ae987a94d7f978d1d24269dfc8b",
            "693463733b1a4485ad70a48d97279e50",
            "b493a33b01d64990a38b067d95bf1ef4",
            "f09a6b40aaab41f1b56703b3191a3910",
            "485b0fd97aea4c059a15a28790c771f4",
            "7de0587699a444d0b8fed736be6b891e",
            "e5376c997bdb4f88bd911d245b01509e",
            "44c59acefb9d4336aa60272238efe9d3",
            "d0fcb044931a4431b80e930a48d3ffde",
            "695719922fe3419485fbc8805e86c21b",
            "7b7dcd648a8642fa99b2abd9e31a7810",
            "616d09c8a1774748bfd44b116b996a62",
            "9c51bf8050b34f74bcd0e5c16a6a51fa",
            "464d95cfc80e4fbf97086f7bfa78a14e",
            "2ab2ec3a41f543aa9fbf4606ed19d1e7",
            "d0f0e34f912d4ae49f4990bc00b60836",
            "7929bb27dfcd4b2491687e3183d0ad6b",
            "aa3ff4a0495747299ba3a65077a301fa",
            "6e6405ceae7149a08e6ec78f2be3393b",
            "f8eb8ad5e8ec427280f48aa2743bbf9d",
            "2f59d6fc829040ab9327b03015111536",
            "3932fc015b1b4b019f46cce5c3686bbd",
            "5e759080935e40299a188ee713bce29e"
          ]
        },
        "id": "ZzmMVp7YmfOe",
        "outputId": "3f13f3b3-ade2-41e3-8849-0072b0dc98c7"
      },
      "execution_count": null,
      "outputs": [
        {
          "output_type": "display_data",
          "data": {
            "text/plain": [
              "Downloading (…)ve/main/spiece.model:   0%|          | 0.00/792k [00:00<?, ?B/s]"
            ],
            "application/vnd.jupyter.widget-view+json": {
              "version_major": 2,
              "version_minor": 0,
              "model_id": "db170078ccdf4317bc5ac22db5b889f5"
            }
          },
          "metadata": {}
        },
        {
          "output_type": "display_data",
          "data": {
            "text/plain": [
              "Downloading (…)lve/main/config.json:   0%|          | 0.00/1.21k [00:00<?, ?B/s]"
            ],
            "application/vnd.jupyter.widget-view+json": {
              "version_major": 2,
              "version_minor": 0,
              "model_id": "159d0d41118043aeb635b525ac44893b"
            }
          },
          "metadata": {}
        },
        {
          "output_type": "stream",
          "name": "stderr",
          "text": [
            "/usr/local/lib/python3.10/dist-packages/transformers/models/t5/tokenization_t5.py:199: FutureWarning: This tokenizer was incorrectly instantiated with a model max length of 512 which will be corrected in Transformers v5.\n",
            "For now, this behavior is kept to avoid breaking backwards compatibility when padding/encoding with `truncation is True`.\n",
            "- Be aware that you SHOULD NOT rely on t5-large automatically truncating your input to 512 when padding/encoding.\n",
            "- If you want to encode/pad to sequences longer than 512 you can either instantiate this tokenizer with `model_max_length` or pass `max_length` when encoding/padding.\n",
            "- To avoid this warning, please instantiate this tokenizer with `model_max_length` set to your preferred value.\n",
            "  warnings.warn(\n",
            "You are using the legacy behaviour of the <class 'transformers.models.t5.tokenization_t5.T5Tokenizer'>. This means that tokens that come after special tokens will not be properly handled. We recommend you to read the related pull request available at https://github.com/huggingface/transformers/pull/24565\n"
          ]
        },
        {
          "output_type": "display_data",
          "data": {
            "text/plain": [
              "Downloading model.safetensors:   0%|          | 0.00/2.95G [00:00<?, ?B/s]"
            ],
            "application/vnd.jupyter.widget-view+json": {
              "version_major": 2,
              "version_minor": 0,
              "model_id": "693463733b1a4485ad70a48d97279e50"
            }
          },
          "metadata": {}
        },
        {
          "output_type": "display_data",
          "data": {
            "text/plain": [
              "Downloading (…)neration_config.json:   0%|          | 0.00/147 [00:00<?, ?B/s]"
            ],
            "application/vnd.jupyter.widget-view+json": {
              "version_major": 2,
              "version_minor": 0,
              "model_id": "9c51bf8050b34f74bcd0e5c16a6a51fa"
            }
          },
          "metadata": {}
        }
      ]
    },
    {
      "cell_type": "code",
      "source": [
        "def main():\n",
        "  run = wandb.init()\n",
        "  learning_rate = wandb.config.learning_rate\n",
        "  num_epochs = wandb.config.num_epochs\n",
        "\n",
        "  device = torch.device(\"cuda\" if torch.cuda.is_available() else \"cpu\")\n",
        "  model.to(device)\n",
        "\n",
        "  optimizer = torch.optim.Adam(model.parameters(), lr=learning_rate)\n",
        "  #best_val_loss = float('inf')\n",
        "  best_val_accuracy = 0\n",
        "  best_model = None\n",
        "\n",
        "  #NUM_EPOCHS = 5\n",
        "\n",
        "  # Training Loop\n",
        "  for epoch in range(num_epochs):\n",
        "      model.train()  # Set the model to training mode\n",
        "      #for i, batch in enumerate(train_loader):\n",
        "      for i, batch in tqdm(enumerate(train_loader), total=len(train_loader), desc=\"Training\"):\n",
        "\n",
        "          input_ids = batch[\"input_ids\"].to(device)\n",
        "          attention_mask = batch[\"attention_mask\"].to(device)\n",
        "          labels = batch[\"labels\"].to(device)\n",
        "\n",
        "          outputs = model(input_ids=input_ids, attention_mask=attention_mask, labels=labels)\n",
        "\n",
        "          loss = outputs.loss\n",
        "          loss.backward()\n",
        "\n",
        "          optimizer.step()\n",
        "          optimizer.zero_grad()\n",
        "\n",
        "          if i % 100 == 0:\n",
        "              print(f\"Epoch: {epoch}, Loss:  {loss.item()}\")\n",
        "\n",
        "      model.eval()  # Set the model to evaluation mode\n",
        "      val_loss = 0\n",
        "      val_accuracy = 0\n",
        "      with torch.no_grad():\n",
        "          #for i, batch in enumerate(val_loader):\n",
        "          for i, batch in tqdm(enumerate(val_loader), total=len(val_loader), desc=\"Validating\"):\n",
        "              input_ids = batch[\"input_ids\"].to(device)\n",
        "              attention_mask = batch[\"attention_mask\"].to(device)\n",
        "              labels = batch[\"labels\"].to(device)\n",
        "\n",
        "\n",
        "              # Compute loss for this batch\n",
        "              loss_outputs = model(input_ids=input_ids, attention_mask=attention_mask, labels=labels)\n",
        "              val_loss += loss_outputs.loss.item()\n",
        "\n",
        "              # Generate predictions for this batch\n",
        "              outputs = model.generate(input_ids, attention_mask=attention_mask)\n",
        "              # Convert tensor outputs to strings\n",
        "              outputs = outputs.cpu()\n",
        "\n",
        "              # Decode the output and the label to text\n",
        "              generated_text = tokenizer.batch_decode(outputs, skip_special_tokens=True)\n",
        "              labels_text = tokenizer.batch_decode(labels, skip_special_tokens=True)\n",
        "\n",
        "              # Calculate the METEOR score for each output and label pair, and sum them up\n",
        "              batch_score = 0\n",
        "\n",
        "\n",
        "              for ref, hyp in zip(labels_text, generated_text):\n",
        "                  ref_tokens = ref.split()  # Tokenize reference sentence\n",
        "                  hyp_tokens = hyp.split()  # Tokenize hypothesis sentence\n",
        "                  batch_score += meteor_score.single_meteor_score(ref_tokens, hyp_tokens)\n",
        "              batch_score /= len(labels_text)  # Calculate average METEOR score for this batch\n",
        "              val_accuracy += batch_score\n",
        "              #val_loss += outputs.loss.item()\n",
        "\n",
        "      # Calculate the average validation loss\n",
        "      val_loss = val_loss / len(val_loader)\n",
        "      print(f\"Validation Loss: {val_loss}\")\n",
        "\n",
        "      # Calculate the average METEOR score\n",
        "      val_accuracy = val_accuracy / len(val_loader)\n",
        "      print(f\"Validation METEOR Score: {val_accuracy}\")\n",
        "\n",
        "      # Save the best model\n",
        "      if val_accuracy > best_val_accuracy:\n",
        "          best_val_accuracy = val_accuracy\n",
        "          best_model = copy.deepcopy(model)\n",
        "          model.save_pretrained(f\"t5_spoiler_generation_model_lr{learning_rate}_accuracy{best_val_accuracy:.2f}_epoch{num_epochs}\")\n",
        "      wandb.log({\"Validation Accuracy\": val_accuracy, \"Validation Loss\": val_loss, \"Learning Rate\": learning_rate, \"Number of Epochs\": num_epochs})\n",
        "      print(best_val_accuracy)\n",
        "\n",
        "if __name__ == \"__main__\":\n",
        "  wandb.agent(sweep_id, function=main)\n"
      ],
      "metadata": {
        "colab": {
          "base_uri": "https://localhost:8080/",
          "height": 1000
        },
        "id": "sfPtasJvDFKn",
        "outputId": "07a6e4e5-7335-476a-8d09-b3f99e54d109"
      },
      "execution_count": null,
      "outputs": [
        {
          "output_type": "stream",
          "name": "stderr",
          "text": [
            "\u001b[34m\u001b[1mwandb\u001b[0m: Agent Starting Run: 0ukazmva with config:\n",
            "\u001b[34m\u001b[1mwandb\u001b[0m: \tlearning_rate: 4.389723975538331e-06\n",
            "\u001b[34m\u001b[1mwandb\u001b[0m: \tnum_epochs: 5\n",
            "\u001b[34m\u001b[1mwandb\u001b[0m: Currently logged in as: \u001b[33mlordbvico\u001b[0m (\u001b[33mteam_vico\u001b[0m). Use \u001b[1m`wandb login --relogin`\u001b[0m to force relogin\n"
          ]
        },
        {
          "output_type": "display_data",
          "data": {
            "text/plain": [
              "<IPython.core.display.HTML object>"
            ],
            "text/html": [
              "Tracking run with wandb version 0.15.8"
            ]
          },
          "metadata": {}
        },
        {
          "output_type": "display_data",
          "data": {
            "text/plain": [
              "<IPython.core.display.HTML object>"
            ],
            "text/html": [
              "Run data is saved locally in <code>/content/wandb/run-20230801_215812-0ukazmva</code>"
            ]
          },
          "metadata": {}
        },
        {
          "output_type": "display_data",
          "data": {
            "text/plain": [
              "<IPython.core.display.HTML object>"
            ],
            "text/html": [
              "Syncing run <strong><a href='https://wandb.ai/team_vico/T5%20Large%20Parameter%20Sweep%20Aug%202%20Task%202/runs/0ukazmva' target=\"_blank\">vocal-sweep-1</a></strong> to <a href='https://wandb.ai/team_vico/T5%20Large%20Parameter%20Sweep%20Aug%202%20Task%202' target=\"_blank\">Weights & Biases</a> (<a href='https://wandb.me/run' target=\"_blank\">docs</a>)<br/>Sweep page: <a href='https://wandb.ai/team_vico/T5%20Large%20Parameter%20Sweep%20Aug%202%20Task%202/sweeps/sk2qp2kp' target=\"_blank\">https://wandb.ai/team_vico/T5%20Large%20Parameter%20Sweep%20Aug%202%20Task%202/sweeps/sk2qp2kp</a>"
            ]
          },
          "metadata": {}
        },
        {
          "output_type": "display_data",
          "data": {
            "text/plain": [
              "<IPython.core.display.HTML object>"
            ],
            "text/html": [
              " View project at <a href='https://wandb.ai/team_vico/T5%20Large%20Parameter%20Sweep%20Aug%202%20Task%202' target=\"_blank\">https://wandb.ai/team_vico/T5%20Large%20Parameter%20Sweep%20Aug%202%20Task%202</a>"
            ]
          },
          "metadata": {}
        },
        {
          "output_type": "display_data",
          "data": {
            "text/plain": [
              "<IPython.core.display.HTML object>"
            ],
            "text/html": [
              " View sweep at <a href='https://wandb.ai/team_vico/T5%20Large%20Parameter%20Sweep%20Aug%202%20Task%202/sweeps/sk2qp2kp' target=\"_blank\">https://wandb.ai/team_vico/T5%20Large%20Parameter%20Sweep%20Aug%202%20Task%202/sweeps/sk2qp2kp</a>"
            ]
          },
          "metadata": {}
        },
        {
          "output_type": "display_data",
          "data": {
            "text/plain": [
              "<IPython.core.display.HTML object>"
            ],
            "text/html": [
              " View run at <a href='https://wandb.ai/team_vico/T5%20Large%20Parameter%20Sweep%20Aug%202%20Task%202/runs/0ukazmva' target=\"_blank\">https://wandb.ai/team_vico/T5%20Large%20Parameter%20Sweep%20Aug%202%20Task%202/runs/0ukazmva</a>"
            ]
          },
          "metadata": {}
        },
        {
          "output_type": "stream",
          "name": "stderr",
          "text": [
            "Training:   0%|          | 1/800 [00:03<52:59,  3.98s/it]"
          ]
        },
        {
          "output_type": "stream",
          "name": "stdout",
          "text": [
            "Epoch: 0, Loss:  35.17081069946289\n"
          ]
        },
        {
          "output_type": "stream",
          "name": "stderr",
          "text": [
            "Training:  13%|█▎        | 101/800 [01:23<09:22,  1.24it/s]"
          ]
        },
        {
          "output_type": "stream",
          "name": "stdout",
          "text": [
            "Epoch: 0, Loss:  26.38850975036621\n"
          ]
        },
        {
          "output_type": "stream",
          "name": "stderr",
          "text": [
            "Training:  25%|██▌       | 201/800 [02:42<08:03,  1.24it/s]"
          ]
        },
        {
          "output_type": "stream",
          "name": "stdout",
          "text": [
            "Epoch: 0, Loss:  9.443658828735352\n"
          ]
        },
        {
          "output_type": "stream",
          "name": "stderr",
          "text": [
            "Training:  38%|███▊      | 301/800 [04:02<06:44,  1.23it/s]"
          ]
        },
        {
          "output_type": "stream",
          "name": "stdout",
          "text": [
            "Epoch: 0, Loss:  1.3768115043640137\n"
          ]
        },
        {
          "output_type": "stream",
          "name": "stderr",
          "text": [
            "Training:  50%|█████     | 401/800 [05:21<05:21,  1.24it/s]"
          ]
        },
        {
          "output_type": "stream",
          "name": "stdout",
          "text": [
            "Epoch: 0, Loss:  0.42975685000419617\n"
          ]
        },
        {
          "output_type": "stream",
          "name": "stderr",
          "text": [
            "Training:  63%|██████▎   | 501/800 [06:41<04:00,  1.24it/s]"
          ]
        },
        {
          "output_type": "stream",
          "name": "stdout",
          "text": [
            "Epoch: 0, Loss:  0.16040000319480896\n"
          ]
        },
        {
          "output_type": "stream",
          "name": "stderr",
          "text": [
            "Training:  75%|███████▌  | 601/800 [08:00<02:40,  1.24it/s]"
          ]
        },
        {
          "output_type": "stream",
          "name": "stdout",
          "text": [
            "Epoch: 0, Loss:  0.49605122208595276\n"
          ]
        },
        {
          "output_type": "stream",
          "name": "stderr",
          "text": [
            "Training:  88%|████████▊ | 701/800 [09:19<01:20,  1.24it/s]"
          ]
        },
        {
          "output_type": "stream",
          "name": "stdout",
          "text": [
            "Epoch: 0, Loss:  0.3739747405052185\n"
          ]
        },
        {
          "output_type": "stream",
          "name": "stderr",
          "text": [
            "Training: 100%|██████████| 800/800 [10:38<00:00,  1.25it/s]\n",
            "Validating:   0%|          | 0/100 [00:00<?, ?it/s]/usr/local/lib/python3.10/dist-packages/transformers/generation/utils.py:1369: UserWarning: Using `max_length`'s default (20) to control the generation length. This behaviour is deprecated and will be removed from the config in v5 of Transformers -- we recommend using `max_new_tokens` to control the maximum length of the generation.\n",
            "  warnings.warn(\n",
            "Validating: 100%|██████████| 100/100 [02:32<00:00,  1.53s/it]\n"
          ]
        },
        {
          "output_type": "stream",
          "name": "stdout",
          "text": [
            "Validation Loss: 0.3290388898551464\n",
            "Validation METEOR Score: 0.0011558466619234905\n",
            "0.0011558466619234905\n"
          ]
        },
        {
          "output_type": "stream",
          "name": "stderr",
          "text": [
            "Training:   0%|          | 1/800 [00:00<11:16,  1.18it/s]"
          ]
        },
        {
          "output_type": "stream",
          "name": "stdout",
          "text": [
            "Epoch: 1, Loss:  0.36594992876052856\n"
          ]
        },
        {
          "output_type": "stream",
          "name": "stderr",
          "text": [
            "Training:  13%|█▎        | 101/800 [01:20<09:24,  1.24it/s]"
          ]
        },
        {
          "output_type": "stream",
          "name": "stdout",
          "text": [
            "Epoch: 1, Loss:  0.377956748008728\n"
          ]
        },
        {
          "output_type": "stream",
          "name": "stderr",
          "text": [
            "Training:  25%|██▌       | 201/800 [02:40<08:02,  1.24it/s]"
          ]
        },
        {
          "output_type": "stream",
          "name": "stdout",
          "text": [
            "Epoch: 1, Loss:  0.5043002963066101\n"
          ]
        },
        {
          "output_type": "stream",
          "name": "stderr",
          "text": [
            "Training:  38%|███▊      | 301/800 [03:59<06:45,  1.23it/s]"
          ]
        },
        {
          "output_type": "stream",
          "name": "stdout",
          "text": [
            "Epoch: 1, Loss:  0.1938524842262268\n"
          ]
        },
        {
          "output_type": "stream",
          "name": "stderr",
          "text": [
            "Training:  50%|█████     | 401/800 [05:19<05:21,  1.24it/s]"
          ]
        },
        {
          "output_type": "stream",
          "name": "stdout",
          "text": [
            "Epoch: 1, Loss:  0.2504253685474396\n"
          ]
        },
        {
          "output_type": "stream",
          "name": "stderr",
          "text": [
            "Training:  63%|██████▎   | 501/800 [06:38<04:01,  1.24it/s]"
          ]
        },
        {
          "output_type": "stream",
          "name": "stdout",
          "text": [
            "Epoch: 1, Loss:  0.06978043913841248\n"
          ]
        },
        {
          "output_type": "stream",
          "name": "stderr",
          "text": [
            "Training:  75%|███████▌  | 601/800 [07:58<02:41,  1.23it/s]"
          ]
        },
        {
          "output_type": "stream",
          "name": "stdout",
          "text": [
            "Epoch: 1, Loss:  0.3897784650325775\n"
          ]
        },
        {
          "output_type": "stream",
          "name": "stderr",
          "text": [
            "Training:  88%|████████▊ | 701/800 [09:17<01:19,  1.24it/s]"
          ]
        },
        {
          "output_type": "stream",
          "name": "stdout",
          "text": [
            "Epoch: 1, Loss:  0.27739307284355164\n"
          ]
        },
        {
          "output_type": "stream",
          "name": "stderr",
          "text": [
            "Training: 100%|██████████| 800/800 [10:36<00:00,  1.26it/s]\n",
            "Validating: 100%|██████████| 100/100 [02:26<00:00,  1.46s/it]\n"
          ]
        },
        {
          "output_type": "stream",
          "name": "stdout",
          "text": [
            "Validation Loss: 0.23413071181625128\n",
            "Validation METEOR Score: 0.012732959432542745\n",
            "0.012732959432542745\n"
          ]
        },
        {
          "output_type": "stream",
          "name": "stderr",
          "text": [
            "Training:   0%|          | 1/800 [00:00<11:27,  1.16it/s]"
          ]
        },
        {
          "output_type": "stream",
          "name": "stdout",
          "text": [
            "Epoch: 2, Loss:  0.2887137234210968\n"
          ]
        },
        {
          "output_type": "stream",
          "name": "stderr",
          "text": [
            "Training:  13%|█▎        | 101/800 [01:20<09:23,  1.24it/s]"
          ]
        },
        {
          "output_type": "stream",
          "name": "stdout",
          "text": [
            "Epoch: 2, Loss:  0.2959676682949066\n"
          ]
        },
        {
          "output_type": "stream",
          "name": "stderr",
          "text": [
            "Training:  25%|██▌       | 201/800 [02:39<08:02,  1.24it/s]"
          ]
        },
        {
          "output_type": "stream",
          "name": "stdout",
          "text": [
            "Epoch: 2, Loss:  0.3430509567260742\n"
          ]
        },
        {
          "output_type": "stream",
          "name": "stderr",
          "text": [
            "Training:  38%|███▊      | 301/800 [03:59<06:45,  1.23it/s]"
          ]
        },
        {
          "output_type": "stream",
          "name": "stdout",
          "text": [
            "Epoch: 2, Loss:  0.12684383988380432\n"
          ]
        },
        {
          "output_type": "stream",
          "name": "stderr",
          "text": [
            "Training:  50%|█████     | 401/800 [05:19<05:21,  1.24it/s]"
          ]
        },
        {
          "output_type": "stream",
          "name": "stdout",
          "text": [
            "Epoch: 2, Loss:  0.17496119439601898\n"
          ]
        },
        {
          "output_type": "stream",
          "name": "stderr",
          "text": [
            "Training:  63%|██████▎   | 501/800 [06:38<04:01,  1.24it/s]"
          ]
        },
        {
          "output_type": "stream",
          "name": "stdout",
          "text": [
            "Epoch: 2, Loss:  0.07531645148992538\n"
          ]
        },
        {
          "output_type": "stream",
          "name": "stderr",
          "text": [
            "Training:  75%|███████▌  | 601/800 [07:58<02:40,  1.24it/s]"
          ]
        },
        {
          "output_type": "stream",
          "name": "stdout",
          "text": [
            "Epoch: 2, Loss:  0.19348497688770294\n"
          ]
        },
        {
          "output_type": "stream",
          "name": "stderr",
          "text": [
            "Training:  88%|████████▊ | 701/800 [09:17<01:19,  1.24it/s]"
          ]
        },
        {
          "output_type": "stream",
          "name": "stdout",
          "text": [
            "Epoch: 2, Loss:  0.10406838357448578\n"
          ]
        },
        {
          "output_type": "stream",
          "name": "stderr",
          "text": [
            "Training: 100%|██████████| 800/800 [10:36<00:00,  1.26it/s]\n",
            "Validating: 100%|██████████| 100/100 [02:26<00:00,  1.47s/it]\n"
          ]
        },
        {
          "output_type": "stream",
          "name": "stdout",
          "text": [
            "Validation Loss: 0.11792429853230715\n",
            "Validation METEOR Score: 0.10961636413938203\n",
            "0.10961636413938203\n"
          ]
        },
        {
          "output_type": "stream",
          "name": "stderr",
          "text": [
            "Training:   0%|          | 1/800 [00:00<11:25,  1.17it/s]"
          ]
        },
        {
          "output_type": "stream",
          "name": "stdout",
          "text": [
            "Epoch: 3, Loss:  0.2414093017578125\n"
          ]
        },
        {
          "output_type": "stream",
          "name": "stderr",
          "text": [
            "Training:  13%|█▎        | 101/800 [01:20<09:23,  1.24it/s]"
          ]
        },
        {
          "output_type": "stream",
          "name": "stdout",
          "text": [
            "Epoch: 3, Loss:  0.25272661447525024\n"
          ]
        },
        {
          "output_type": "stream",
          "name": "stderr",
          "text": [
            "Training:  25%|██▌       | 201/800 [02:40<08:02,  1.24it/s]"
          ]
        },
        {
          "output_type": "stream",
          "name": "stdout",
          "text": [
            "Epoch: 3, Loss:  0.14282628893852234\n"
          ]
        },
        {
          "output_type": "stream",
          "name": "stderr",
          "text": [
            "Training:  38%|███▊      | 301/800 [03:59<06:45,  1.23it/s]"
          ]
        },
        {
          "output_type": "stream",
          "name": "stdout",
          "text": [
            "Epoch: 3, Loss:  0.09166360646486282\n"
          ]
        },
        {
          "output_type": "stream",
          "name": "stderr",
          "text": [
            "Training:  50%|█████     | 401/800 [05:19<05:21,  1.24it/s]"
          ]
        },
        {
          "output_type": "stream",
          "name": "stdout",
          "text": [
            "Epoch: 3, Loss:  0.1028217077255249\n"
          ]
        },
        {
          "output_type": "stream",
          "name": "stderr",
          "text": [
            "Training:  63%|██████▎   | 501/800 [06:38<04:00,  1.24it/s]"
          ]
        },
        {
          "output_type": "stream",
          "name": "stdout",
          "text": [
            "Epoch: 3, Loss:  0.05304085090756416\n"
          ]
        },
        {
          "output_type": "stream",
          "name": "stderr",
          "text": [
            "Training:  75%|███████▌  | 601/800 [07:58<02:40,  1.24it/s]"
          ]
        },
        {
          "output_type": "stream",
          "name": "stdout",
          "text": [
            "Epoch: 3, Loss:  0.11167886853218079\n"
          ]
        },
        {
          "output_type": "stream",
          "name": "stderr",
          "text": [
            "Training:  88%|████████▊ | 701/800 [09:17<01:19,  1.24it/s]"
          ]
        },
        {
          "output_type": "stream",
          "name": "stdout",
          "text": [
            "Epoch: 3, Loss:  0.054673392325639725\n"
          ]
        },
        {
          "output_type": "stream",
          "name": "stderr",
          "text": [
            "Training: 100%|██████████| 800/800 [10:36<00:00,  1.26it/s]\n",
            "Validating: 100%|██████████| 100/100 [02:27<00:00,  1.47s/it]\n"
          ]
        },
        {
          "output_type": "stream",
          "name": "stdout",
          "text": [
            "Validation Loss: 0.0893090091459453\n",
            "Validation METEOR Score: 0.11175051626792049\n",
            "0.11175051626792049\n"
          ]
        },
        {
          "output_type": "stream",
          "name": "stderr",
          "text": [
            "Training:   0%|          | 1/800 [00:00<11:21,  1.17it/s]"
          ]
        },
        {
          "output_type": "stream",
          "name": "stdout",
          "text": [
            "Epoch: 4, Loss:  0.169446662068367\n"
          ]
        },
        {
          "output_type": "stream",
          "name": "stderr",
          "text": [
            "Training:  13%|█▎        | 101/800 [01:20<09:23,  1.24it/s]"
          ]
        },
        {
          "output_type": "stream",
          "name": "stdout",
          "text": [
            "Epoch: 4, Loss:  0.19298361241817474\n"
          ]
        },
        {
          "output_type": "stream",
          "name": "stderr",
          "text": [
            "Training:  25%|██▌       | 201/800 [02:40<08:02,  1.24it/s]"
          ]
        },
        {
          "output_type": "stream",
          "name": "stdout",
          "text": [
            "Epoch: 4, Loss:  0.0781976729631424\n"
          ]
        },
        {
          "output_type": "stream",
          "name": "stderr",
          "text": [
            "Training:  38%|███▊      | 301/800 [03:59<06:45,  1.23it/s]"
          ]
        },
        {
          "output_type": "stream",
          "name": "stdout",
          "text": [
            "Epoch: 4, Loss:  0.08257414400577545\n"
          ]
        },
        {
          "output_type": "stream",
          "name": "stderr",
          "text": [
            "Training:  50%|█████     | 401/800 [05:19<05:21,  1.24it/s]"
          ]
        },
        {
          "output_type": "stream",
          "name": "stdout",
          "text": [
            "Epoch: 4, Loss:  0.09246005117893219\n"
          ]
        },
        {
          "output_type": "stream",
          "name": "stderr",
          "text": [
            "Training:  63%|██████▎   | 501/800 [06:38<04:01,  1.24it/s]"
          ]
        },
        {
          "output_type": "stream",
          "name": "stdout",
          "text": [
            "Epoch: 4, Loss:  0.034466419368982315\n"
          ]
        },
        {
          "output_type": "stream",
          "name": "stderr",
          "text": [
            "Training:  75%|███████▌  | 601/800 [07:58<02:40,  1.24it/s]"
          ]
        },
        {
          "output_type": "stream",
          "name": "stdout",
          "text": [
            "Epoch: 4, Loss:  0.07449547946453094\n"
          ]
        },
        {
          "output_type": "stream",
          "name": "stderr",
          "text": [
            "Training:  88%|████████▊ | 701/800 [09:17<01:19,  1.24it/s]"
          ]
        },
        {
          "output_type": "stream",
          "name": "stdout",
          "text": [
            "Epoch: 4, Loss:  0.03817058727145195\n"
          ]
        },
        {
          "output_type": "stream",
          "name": "stderr",
          "text": [
            "Training: 100%|██████████| 800/800 [10:36<00:00,  1.26it/s]\n",
            "Validating: 100%|██████████| 100/100 [02:23<00:00,  1.44s/it]\n"
          ]
        },
        {
          "output_type": "stream",
          "name": "stdout",
          "text": [
            "Validation Loss: 0.07415798911824822\n",
            "Validation METEOR Score: 0.13470037695961115\n",
            "0.13470037695961115\n"
          ]
        },
        {
          "output_type": "display_data",
          "data": {
            "text/plain": [
              "<IPython.core.display.HTML object>"
            ],
            "text/html": [
              "Waiting for W&B process to finish... <strong style=\"color:green\">(success).</strong>"
            ]
          },
          "metadata": {}
        },
        {
          "output_type": "display_data",
          "data": {
            "text/plain": [
              "<IPython.core.display.HTML object>"
            ],
            "text/html": [
              "<style>\n",
              "    table.wandb td:nth-child(1) { padding: 0 10px; text-align: left ; width: auto;} td:nth-child(2) {text-align: left ; width: 100%}\n",
              "    .wandb-row { display: flex; flex-direction: row; flex-wrap: wrap; justify-content: flex-start; width: 100% }\n",
              "    .wandb-col { display: flex; flex-direction: column; flex-basis: 100%; flex: 1; padding: 10px; }\n",
              "    </style>\n",
              "<div class=\"wandb-row\"><div class=\"wandb-col\"><h3>Run history:</h3><br/><table class=\"wandb\"><tr><td>Learning Rate</td><td>▁▁▁▁▁</td></tr><tr><td>Number of Epochs</td><td>▁▁▁▁▁</td></tr><tr><td>Validation Accuracy</td><td>▁▂▇▇█</td></tr><tr><td>Validation Loss</td><td>█▅▂▁▁</td></tr></table><br/></div><div class=\"wandb-col\"><h3>Run summary:</h3><br/><table class=\"wandb\"><tr><td>Learning Rate</td><td>0.0</td></tr><tr><td>Number of Epochs</td><td>5</td></tr><tr><td>Validation Accuracy</td><td>0.1347</td></tr><tr><td>Validation Loss</td><td>0.07416</td></tr></table><br/></div></div>"
            ]
          },
          "metadata": {}
        },
        {
          "output_type": "display_data",
          "data": {
            "text/plain": [
              "<IPython.core.display.HTML object>"
            ],
            "text/html": [
              " View run <strong style=\"color:#cdcd00\">vocal-sweep-1</strong> at: <a href='https://wandb.ai/team_vico/T5%20Large%20Parameter%20Sweep%20Aug%202%20Task%202/runs/0ukazmva' target=\"_blank\">https://wandb.ai/team_vico/T5%20Large%20Parameter%20Sweep%20Aug%202%20Task%202/runs/0ukazmva</a><br/>Synced 5 W&B file(s), 0 media file(s), 0 artifact file(s) and 0 other file(s)"
            ]
          },
          "metadata": {}
        },
        {
          "output_type": "display_data",
          "data": {
            "text/plain": [
              "<IPython.core.display.HTML object>"
            ],
            "text/html": [
              "Find logs at: <code>./wandb/run-20230801_215812-0ukazmva/logs</code>"
            ]
          },
          "metadata": {}
        },
        {
          "output_type": "stream",
          "name": "stderr",
          "text": [
            "\u001b[34m\u001b[1mwandb\u001b[0m: Agent Starting Run: nkvbd09k with config:\n",
            "\u001b[34m\u001b[1mwandb\u001b[0m: \tlearning_rate: 1.8189807898241588e-06\n",
            "\u001b[34m\u001b[1mwandb\u001b[0m: \tnum_epochs: 4\n"
          ]
        },
        {
          "output_type": "display_data",
          "data": {
            "text/plain": [
              "<IPython.core.display.HTML object>"
            ],
            "text/html": [
              "Tracking run with wandb version 0.15.8"
            ]
          },
          "metadata": {}
        },
        {
          "output_type": "display_data",
          "data": {
            "text/plain": [
              "<IPython.core.display.HTML object>"
            ],
            "text/html": [
              "Run data is saved locally in <code>/content/wandb/run-20230801_230427-nkvbd09k</code>"
            ]
          },
          "metadata": {}
        },
        {
          "output_type": "display_data",
          "data": {
            "text/plain": [
              "<IPython.core.display.HTML object>"
            ],
            "text/html": [
              "Syncing run <strong><a href='https://wandb.ai/team_vico/T5%20Large%20Parameter%20Sweep%20Aug%202%20Task%202/runs/nkvbd09k' target=\"_blank\">jolly-sweep-2</a></strong> to <a href='https://wandb.ai/team_vico/T5%20Large%20Parameter%20Sweep%20Aug%202%20Task%202' target=\"_blank\">Weights & Biases</a> (<a href='https://wandb.me/run' target=\"_blank\">docs</a>)<br/>Sweep page: <a href='https://wandb.ai/team_vico/T5%20Large%20Parameter%20Sweep%20Aug%202%20Task%202/sweeps/sk2qp2kp' target=\"_blank\">https://wandb.ai/team_vico/T5%20Large%20Parameter%20Sweep%20Aug%202%20Task%202/sweeps/sk2qp2kp</a>"
            ]
          },
          "metadata": {}
        },
        {
          "output_type": "display_data",
          "data": {
            "text/plain": [
              "<IPython.core.display.HTML object>"
            ],
            "text/html": [
              " View project at <a href='https://wandb.ai/team_vico/T5%20Large%20Parameter%20Sweep%20Aug%202%20Task%202' target=\"_blank\">https://wandb.ai/team_vico/T5%20Large%20Parameter%20Sweep%20Aug%202%20Task%202</a>"
            ]
          },
          "metadata": {}
        },
        {
          "output_type": "display_data",
          "data": {
            "text/plain": [
              "<IPython.core.display.HTML object>"
            ],
            "text/html": [
              " View sweep at <a href='https://wandb.ai/team_vico/T5%20Large%20Parameter%20Sweep%20Aug%202%20Task%202/sweeps/sk2qp2kp' target=\"_blank\">https://wandb.ai/team_vico/T5%20Large%20Parameter%20Sweep%20Aug%202%20Task%202/sweeps/sk2qp2kp</a>"
            ]
          },
          "metadata": {}
        },
        {
          "output_type": "display_data",
          "data": {
            "text/plain": [
              "<IPython.core.display.HTML object>"
            ],
            "text/html": [
              " View run at <a href='https://wandb.ai/team_vico/T5%20Large%20Parameter%20Sweep%20Aug%202%20Task%202/runs/nkvbd09k' target=\"_blank\">https://wandb.ai/team_vico/T5%20Large%20Parameter%20Sweep%20Aug%202%20Task%202/runs/nkvbd09k</a>"
            ]
          },
          "metadata": {}
        },
        {
          "output_type": "stream",
          "name": "stderr",
          "text": [
            "Training:   0%|          | 1/800 [00:00<11:41,  1.14it/s]"
          ]
        },
        {
          "output_type": "stream",
          "name": "stdout",
          "text": [
            "Epoch: 0, Loss:  0.14599774777889252\n"
          ]
        },
        {
          "output_type": "stream",
          "name": "stderr",
          "text": [
            "Training:  13%|█▎        | 101/800 [01:20<09:22,  1.24it/s]"
          ]
        },
        {
          "output_type": "stream",
          "name": "stdout",
          "text": [
            "Epoch: 0, Loss:  0.19260697066783905\n"
          ]
        },
        {
          "output_type": "stream",
          "name": "stderr",
          "text": [
            "Training:  25%|██▌       | 201/800 [02:39<08:03,  1.24it/s]"
          ]
        },
        {
          "output_type": "stream",
          "name": "stdout",
          "text": [
            "Epoch: 0, Loss:  0.06281381845474243\n"
          ]
        },
        {
          "output_type": "stream",
          "name": "stderr",
          "text": [
            "Training:  38%|███▊      | 301/800 [03:59<06:44,  1.23it/s]"
          ]
        },
        {
          "output_type": "stream",
          "name": "stdout",
          "text": [
            "Epoch: 0, Loss:  0.07235272228717804\n"
          ]
        },
        {
          "output_type": "stream",
          "name": "stderr",
          "text": [
            "Training:  50%|█████     | 401/800 [05:18<05:21,  1.24it/s]"
          ]
        },
        {
          "output_type": "stream",
          "name": "stdout",
          "text": [
            "Epoch: 0, Loss:  0.07749167829751968\n"
          ]
        },
        {
          "output_type": "stream",
          "name": "stderr",
          "text": [
            "Training:  63%|██████▎   | 501/800 [06:38<04:00,  1.24it/s]"
          ]
        },
        {
          "output_type": "stream",
          "name": "stdout",
          "text": [
            "Epoch: 0, Loss:  0.022812331095337868\n"
          ]
        },
        {
          "output_type": "stream",
          "name": "stderr",
          "text": [
            "Training:  75%|███████▌  | 601/800 [07:57<02:41,  1.23it/s]"
          ]
        },
        {
          "output_type": "stream",
          "name": "stdout",
          "text": [
            "Epoch: 0, Loss:  0.04036623612046242\n"
          ]
        },
        {
          "output_type": "stream",
          "name": "stderr",
          "text": [
            "Training:  88%|████████▊ | 701/800 [09:17<01:19,  1.24it/s]"
          ]
        },
        {
          "output_type": "stream",
          "name": "stdout",
          "text": [
            "Epoch: 0, Loss:  0.030256787315011024\n"
          ]
        },
        {
          "output_type": "stream",
          "name": "stderr",
          "text": [
            "Training: 100%|██████████| 800/800 [10:35<00:00,  1.26it/s]\n",
            "Validating: 100%|██████████| 100/100 [02:21<00:00,  1.41s/it]\n"
          ]
        },
        {
          "output_type": "stream",
          "name": "stdout",
          "text": [
            "Validation Loss: 0.06596949370577931\n",
            "Validation METEOR Score: 0.15360771468426382\n",
            "0.15360771468426382\n"
          ]
        },
        {
          "output_type": "stream",
          "name": "stderr",
          "text": [
            "Training:   0%|          | 1/800 [00:00<11:38,  1.14it/s]"
          ]
        },
        {
          "output_type": "stream",
          "name": "stdout",
          "text": [
            "Epoch: 1, Loss:  0.15205393731594086\n"
          ]
        },
        {
          "output_type": "stream",
          "name": "stderr",
          "text": [
            "Training:  13%|█▎        | 101/800 [01:20<09:23,  1.24it/s]"
          ]
        },
        {
          "output_type": "stream",
          "name": "stdout",
          "text": [
            "Epoch: 1, Loss:  0.15634477138519287\n"
          ]
        },
        {
          "output_type": "stream",
          "name": "stderr",
          "text": [
            "Training:  25%|██▌       | 201/800 [02:39<08:02,  1.24it/s]"
          ]
        },
        {
          "output_type": "stream",
          "name": "stdout",
          "text": [
            "Epoch: 1, Loss:  0.05041154474020004\n"
          ]
        },
        {
          "output_type": "stream",
          "name": "stderr",
          "text": [
            "Training:  38%|███▊      | 301/800 [03:59<06:44,  1.23it/s]"
          ]
        },
        {
          "output_type": "stream",
          "name": "stdout",
          "text": [
            "Epoch: 1, Loss:  0.058379750698804855\n"
          ]
        },
        {
          "output_type": "stream",
          "name": "stderr",
          "text": [
            "Training:  50%|█████     | 401/800 [05:18<05:21,  1.24it/s]"
          ]
        },
        {
          "output_type": "stream",
          "name": "stdout",
          "text": [
            "Epoch: 1, Loss:  0.06561943143606186\n"
          ]
        },
        {
          "output_type": "stream",
          "name": "stderr",
          "text": [
            "Training:  63%|██████▎   | 501/800 [06:38<04:00,  1.24it/s]"
          ]
        },
        {
          "output_type": "stream",
          "name": "stdout",
          "text": [
            "Epoch: 1, Loss:  0.02612597867846489\n"
          ]
        },
        {
          "output_type": "stream",
          "name": "stderr",
          "text": [
            "Training:  75%|███████▌  | 601/800 [07:57<02:40,  1.24it/s]"
          ]
        },
        {
          "output_type": "stream",
          "name": "stdout",
          "text": [
            "Epoch: 1, Loss:  0.03852444142103195\n"
          ]
        },
        {
          "output_type": "stream",
          "name": "stderr",
          "text": [
            "Training:  88%|████████▊ | 701/800 [09:17<01:19,  1.24it/s]"
          ]
        },
        {
          "output_type": "stream",
          "name": "stdout",
          "text": [
            "Epoch: 1, Loss:  0.031123656779527664\n"
          ]
        },
        {
          "output_type": "stream",
          "name": "stderr",
          "text": [
            "Training: 100%|██████████| 800/800 [10:36<00:00,  1.26it/s]\n",
            "Validating: 100%|██████████| 100/100 [02:19<00:00,  1.40s/it]\n"
          ]
        },
        {
          "output_type": "stream",
          "name": "stdout",
          "text": [
            "Validation Loss: 0.06122005969285965\n",
            "Validation METEOR Score: 0.1778358413430249\n",
            "0.1778358413430249\n"
          ]
        },
        {
          "output_type": "stream",
          "name": "stderr",
          "text": [
            "Training:   0%|          | 1/800 [00:00<11:29,  1.16it/s]"
          ]
        },
        {
          "output_type": "stream",
          "name": "stdout",
          "text": [
            "Epoch: 2, Loss:  0.13568487763404846\n"
          ]
        },
        {
          "output_type": "stream",
          "name": "stderr",
          "text": [
            "Training:  13%|█▎        | 101/800 [01:20<09:23,  1.24it/s]"
          ]
        },
        {
          "output_type": "stream",
          "name": "stdout",
          "text": [
            "Epoch: 2, Loss:  0.15514831244945526\n"
          ]
        },
        {
          "output_type": "stream",
          "name": "stderr",
          "text": [
            "Training:  25%|██▌       | 201/800 [02:39<08:02,  1.24it/s]"
          ]
        },
        {
          "output_type": "stream",
          "name": "stdout",
          "text": [
            "Epoch: 2, Loss:  0.03810524195432663\n"
          ]
        },
        {
          "output_type": "stream",
          "name": "stderr",
          "text": [
            "Training:  38%|███▊      | 301/800 [03:59<06:45,  1.23it/s]"
          ]
        },
        {
          "output_type": "stream",
          "name": "stdout",
          "text": [
            "Epoch: 2, Loss:  0.055208608508110046\n"
          ]
        },
        {
          "output_type": "stream",
          "name": "stderr",
          "text": [
            "Training:  50%|█████     | 401/800 [05:18<05:21,  1.24it/s]"
          ]
        },
        {
          "output_type": "stream",
          "name": "stdout",
          "text": [
            "Epoch: 2, Loss:  0.06319492310285568\n"
          ]
        },
        {
          "output_type": "stream",
          "name": "stderr",
          "text": [
            "Training:  63%|██████▎   | 501/800 [06:38<04:00,  1.24it/s]"
          ]
        },
        {
          "output_type": "stream",
          "name": "stdout",
          "text": [
            "Epoch: 2, Loss:  0.026694731786847115\n"
          ]
        },
        {
          "output_type": "stream",
          "name": "stderr",
          "text": [
            "Training:  75%|███████▌  | 601/800 [07:57<02:40,  1.24it/s]"
          ]
        },
        {
          "output_type": "stream",
          "name": "stdout",
          "text": [
            "Epoch: 2, Loss:  0.031209979206323624\n"
          ]
        },
        {
          "output_type": "stream",
          "name": "stderr",
          "text": [
            "Training:  88%|████████▊ | 701/800 [09:17<01:19,  1.24it/s]"
          ]
        },
        {
          "output_type": "stream",
          "name": "stdout",
          "text": [
            "Epoch: 2, Loss:  0.022337913513183594\n"
          ]
        },
        {
          "output_type": "stream",
          "name": "stderr",
          "text": [
            "Training: 100%|██████████| 800/800 [10:35<00:00,  1.26it/s]\n",
            "Validating: 100%|██████████| 100/100 [02:17<00:00,  1.38s/it]\n"
          ]
        },
        {
          "output_type": "stream",
          "name": "stdout",
          "text": [
            "Validation Loss: 0.05760512234643102\n",
            "Validation METEOR Score: 0.17685447381752145\n",
            "0.1778358413430249\n"
          ]
        },
        {
          "output_type": "stream",
          "name": "stderr",
          "text": [
            "Training:   0%|          | 1/800 [00:00<11:01,  1.21it/s]"
          ]
        },
        {
          "output_type": "stream",
          "name": "stdout",
          "text": [
            "Epoch: 3, Loss:  0.12778924405574799\n"
          ]
        },
        {
          "output_type": "stream",
          "name": "stderr",
          "text": [
            "Training:  13%|█▎        | 101/800 [01:20<09:23,  1.24it/s]"
          ]
        },
        {
          "output_type": "stream",
          "name": "stdout",
          "text": [
            "Epoch: 3, Loss:  0.15147913992404938\n"
          ]
        },
        {
          "output_type": "stream",
          "name": "stderr",
          "text": [
            "Training:  25%|██▌       | 201/800 [02:39<08:02,  1.24it/s]"
          ]
        },
        {
          "output_type": "stream",
          "name": "stdout",
          "text": [
            "Epoch: 3, Loss:  0.039093535393476486\n"
          ]
        },
        {
          "output_type": "stream",
          "name": "stderr",
          "text": [
            "Training:  38%|███▊      | 301/800 [03:59<06:45,  1.23it/s]"
          ]
        },
        {
          "output_type": "stream",
          "name": "stdout",
          "text": [
            "Epoch: 3, Loss:  0.051478464156389236\n"
          ]
        },
        {
          "output_type": "stream",
          "name": "stderr",
          "text": [
            "Training:  50%|█████     | 401/800 [05:18<05:21,  1.24it/s]"
          ]
        },
        {
          "output_type": "stream",
          "name": "stdout",
          "text": [
            "Epoch: 3, Loss:  0.06059231236577034\n"
          ]
        },
        {
          "output_type": "stream",
          "name": "stderr",
          "text": [
            "Training:  63%|██████▎   | 501/800 [06:38<04:00,  1.24it/s]"
          ]
        },
        {
          "output_type": "stream",
          "name": "stdout",
          "text": [
            "Epoch: 3, Loss:  0.02043670043349266\n"
          ]
        },
        {
          "output_type": "stream",
          "name": "stderr",
          "text": [
            "Training:  75%|███████▌  | 601/800 [07:57<02:40,  1.24it/s]"
          ]
        },
        {
          "output_type": "stream",
          "name": "stdout",
          "text": [
            "Epoch: 3, Loss:  0.03144466131925583\n"
          ]
        },
        {
          "output_type": "stream",
          "name": "stderr",
          "text": [
            "Training:  88%|████████▊ | 701/800 [09:16<01:19,  1.24it/s]"
          ]
        },
        {
          "output_type": "stream",
          "name": "stdout",
          "text": [
            "Epoch: 3, Loss:  0.024180572479963303\n"
          ]
        },
        {
          "output_type": "stream",
          "name": "stderr",
          "text": [
            "Training: 100%|██████████| 800/800 [10:35<00:00,  1.26it/s]\n",
            "Validating: 100%|██████████| 100/100 [02:19<00:00,  1.40s/it]\n"
          ]
        },
        {
          "output_type": "stream",
          "name": "stdout",
          "text": [
            "Validation Loss: 0.05426802011206746\n",
            "Validation METEOR Score: 0.2062010032014586\n",
            "0.2062010032014586\n"
          ]
        },
        {
          "output_type": "display_data",
          "data": {
            "text/plain": [
              "<IPython.core.display.HTML object>"
            ],
            "text/html": [
              "Waiting for W&B process to finish... <strong style=\"color:green\">(success).</strong>"
            ]
          },
          "metadata": {}
        },
        {
          "output_type": "display_data",
          "data": {
            "text/plain": [
              "<IPython.core.display.HTML object>"
            ],
            "text/html": [
              "<style>\n",
              "    table.wandb td:nth-child(1) { padding: 0 10px; text-align: left ; width: auto;} td:nth-child(2) {text-align: left ; width: 100%}\n",
              "    .wandb-row { display: flex; flex-direction: row; flex-wrap: wrap; justify-content: flex-start; width: 100% }\n",
              "    .wandb-col { display: flex; flex-direction: column; flex-basis: 100%; flex: 1; padding: 10px; }\n",
              "    </style>\n",
              "<div class=\"wandb-row\"><div class=\"wandb-col\"><h3>Run history:</h3><br/><table class=\"wandb\"><tr><td>Learning Rate</td><td>▁▁▁▁</td></tr><tr><td>Number of Epochs</td><td>▁▁▁▁</td></tr><tr><td>Validation Accuracy</td><td>▁▄▄█</td></tr><tr><td>Validation Loss</td><td>█▅▃▁</td></tr></table><br/></div><div class=\"wandb-col\"><h3>Run summary:</h3><br/><table class=\"wandb\"><tr><td>Learning Rate</td><td>0.0</td></tr><tr><td>Number of Epochs</td><td>4</td></tr><tr><td>Validation Accuracy</td><td>0.2062</td></tr><tr><td>Validation Loss</td><td>0.05427</td></tr></table><br/></div></div>"
            ]
          },
          "metadata": {}
        },
        {
          "output_type": "display_data",
          "data": {
            "text/plain": [
              "<IPython.core.display.HTML object>"
            ],
            "text/html": [
              " View run <strong style=\"color:#cdcd00\">jolly-sweep-2</strong> at: <a href='https://wandb.ai/team_vico/T5%20Large%20Parameter%20Sweep%20Aug%202%20Task%202/runs/nkvbd09k' target=\"_blank\">https://wandb.ai/team_vico/T5%20Large%20Parameter%20Sweep%20Aug%202%20Task%202/runs/nkvbd09k</a><br/>Synced 5 W&B file(s), 0 media file(s), 0 artifact file(s) and 0 other file(s)"
            ]
          },
          "metadata": {}
        },
        {
          "output_type": "display_data",
          "data": {
            "text/plain": [
              "<IPython.core.display.HTML object>"
            ],
            "text/html": [
              "Find logs at: <code>./wandb/run-20230801_230427-nkvbd09k/logs</code>"
            ]
          },
          "metadata": {}
        },
        {
          "output_type": "stream",
          "name": "stderr",
          "text": [
            "\u001b[34m\u001b[1mwandb\u001b[0m: Sweep Agent: Waiting for job.\n",
            "\u001b[34m\u001b[1mwandb\u001b[0m: Job received.\n",
            "\u001b[34m\u001b[1mwandb\u001b[0m: Agent Starting Run: 3uugx7zg with config:\n",
            "\u001b[34m\u001b[1mwandb\u001b[0m: \tlearning_rate: 8.275606782990084e-06\n",
            "\u001b[34m\u001b[1mwandb\u001b[0m: \tnum_epochs: 3\n"
          ]
        },
        {
          "output_type": "display_data",
          "data": {
            "text/plain": [
              "<IPython.core.display.HTML object>"
            ],
            "text/html": [
              "Tracking run with wandb version 0.15.8"
            ]
          },
          "metadata": {}
        },
        {
          "output_type": "display_data",
          "data": {
            "text/plain": [
              "<IPython.core.display.HTML object>"
            ],
            "text/html": [
              "Run data is saved locally in <code>/content/wandb/run-20230801_235656-3uugx7zg</code>"
            ]
          },
          "metadata": {}
        },
        {
          "output_type": "display_data",
          "data": {
            "text/plain": [
              "<IPython.core.display.HTML object>"
            ],
            "text/html": [
              "Syncing run <strong><a href='https://wandb.ai/team_vico/T5%20Large%20Parameter%20Sweep%20Aug%202%20Task%202/runs/3uugx7zg' target=\"_blank\">sandy-sweep-3</a></strong> to <a href='https://wandb.ai/team_vico/T5%20Large%20Parameter%20Sweep%20Aug%202%20Task%202' target=\"_blank\">Weights & Biases</a> (<a href='https://wandb.me/run' target=\"_blank\">docs</a>)<br/>Sweep page: <a href='https://wandb.ai/team_vico/T5%20Large%20Parameter%20Sweep%20Aug%202%20Task%202/sweeps/sk2qp2kp' target=\"_blank\">https://wandb.ai/team_vico/T5%20Large%20Parameter%20Sweep%20Aug%202%20Task%202/sweeps/sk2qp2kp</a>"
            ]
          },
          "metadata": {}
        },
        {
          "output_type": "display_data",
          "data": {
            "text/plain": [
              "<IPython.core.display.HTML object>"
            ],
            "text/html": [
              " View project at <a href='https://wandb.ai/team_vico/T5%20Large%20Parameter%20Sweep%20Aug%202%20Task%202' target=\"_blank\">https://wandb.ai/team_vico/T5%20Large%20Parameter%20Sweep%20Aug%202%20Task%202</a>"
            ]
          },
          "metadata": {}
        },
        {
          "output_type": "display_data",
          "data": {
            "text/plain": [
              "<IPython.core.display.HTML object>"
            ],
            "text/html": [
              " View sweep at <a href='https://wandb.ai/team_vico/T5%20Large%20Parameter%20Sweep%20Aug%202%20Task%202/sweeps/sk2qp2kp' target=\"_blank\">https://wandb.ai/team_vico/T5%20Large%20Parameter%20Sweep%20Aug%202%20Task%202/sweeps/sk2qp2kp</a>"
            ]
          },
          "metadata": {}
        },
        {
          "output_type": "display_data",
          "data": {
            "text/plain": [
              "<IPython.core.display.HTML object>"
            ],
            "text/html": [
              " View run at <a href='https://wandb.ai/team_vico/T5%20Large%20Parameter%20Sweep%20Aug%202%20Task%202/runs/3uugx7zg' target=\"_blank\">https://wandb.ai/team_vico/T5%20Large%20Parameter%20Sweep%20Aug%202%20Task%202/runs/3uugx7zg</a>"
            ]
          },
          "metadata": {}
        },
        {
          "output_type": "stream",
          "name": "stderr",
          "text": [
            "Training:   0%|          | 1/800 [00:00<11:41,  1.14it/s]"
          ]
        },
        {
          "output_type": "stream",
          "name": "stdout",
          "text": [
            "Epoch: 0, Loss:  0.1224931925535202\n"
          ]
        },
        {
          "output_type": "stream",
          "name": "stderr",
          "text": [
            "Training:  13%|█▎        | 101/800 [01:20<09:23,  1.24it/s]"
          ]
        },
        {
          "output_type": "stream",
          "name": "stdout",
          "text": [
            "Epoch: 0, Loss:  0.14673243463039398\n"
          ]
        },
        {
          "output_type": "stream",
          "name": "stderr",
          "text": [
            "Training:  25%|██▌       | 201/800 [02:39<08:02,  1.24it/s]"
          ]
        },
        {
          "output_type": "stream",
          "name": "stdout",
          "text": [
            "Epoch: 0, Loss:  0.03220278024673462\n"
          ]
        },
        {
          "output_type": "stream",
          "name": "stderr",
          "text": [
            "Training:  38%|███▊      | 301/800 [03:59<06:44,  1.23it/s]"
          ]
        },
        {
          "output_type": "stream",
          "name": "stdout",
          "text": [
            "Epoch: 0, Loss:  0.048310521990060806\n"
          ]
        },
        {
          "output_type": "stream",
          "name": "stderr",
          "text": [
            "Training:  50%|█████     | 401/800 [05:18<05:21,  1.24it/s]"
          ]
        },
        {
          "output_type": "stream",
          "name": "stdout",
          "text": [
            "Epoch: 0, Loss:  0.05849043279886246\n"
          ]
        },
        {
          "output_type": "stream",
          "name": "stderr",
          "text": [
            "Training:  63%|██████▎   | 501/800 [06:38<04:00,  1.24it/s]"
          ]
        },
        {
          "output_type": "stream",
          "name": "stdout",
          "text": [
            "Epoch: 0, Loss:  0.023181580007076263\n"
          ]
        },
        {
          "output_type": "stream",
          "name": "stderr",
          "text": [
            "Training:  75%|███████▌  | 601/800 [07:57<02:40,  1.24it/s]"
          ]
        },
        {
          "output_type": "stream",
          "name": "stdout",
          "text": [
            "Epoch: 0, Loss:  0.021713802590966225\n"
          ]
        },
        {
          "output_type": "stream",
          "name": "stderr",
          "text": [
            "Training:  88%|████████▊ | 701/800 [09:17<01:19,  1.24it/s]"
          ]
        },
        {
          "output_type": "stream",
          "name": "stdout",
          "text": [
            "Epoch: 0, Loss:  0.018726374953985214\n"
          ]
        },
        {
          "output_type": "stream",
          "name": "stderr",
          "text": [
            "Training: 100%|██████████| 800/800 [10:35<00:00,  1.26it/s]\n",
            "Validating: 100%|██████████| 100/100 [02:14<00:00,  1.34s/it]\n"
          ]
        },
        {
          "output_type": "stream",
          "name": "stdout",
          "text": [
            "Validation Loss: 0.04529570566955954\n",
            "Validation METEOR Score: 0.21086711034363795\n",
            "0.21086711034363795\n"
          ]
        },
        {
          "output_type": "stream",
          "name": "stderr",
          "text": [
            "Training:   0%|          | 1/800 [00:00<11:14,  1.18it/s]"
          ]
        },
        {
          "output_type": "stream",
          "name": "stdout",
          "text": [
            "Epoch: 1, Loss:  0.1144900992512703\n"
          ]
        },
        {
          "output_type": "stream",
          "name": "stderr",
          "text": [
            "Training:  13%|█▎        | 101/800 [01:20<09:23,  1.24it/s]"
          ]
        },
        {
          "output_type": "stream",
          "name": "stdout",
          "text": [
            "Epoch: 1, Loss:  0.13807159662246704\n"
          ]
        },
        {
          "output_type": "stream",
          "name": "stderr",
          "text": [
            "Training:  25%|██▌       | 201/800 [02:39<08:02,  1.24it/s]"
          ]
        },
        {
          "output_type": "stream",
          "name": "stdout",
          "text": [
            "Epoch: 1, Loss:  0.021390600129961967\n"
          ]
        },
        {
          "output_type": "stream",
          "name": "stderr",
          "text": [
            "Training:  38%|███▊      | 301/800 [03:59<06:45,  1.23it/s]"
          ]
        },
        {
          "output_type": "stream",
          "name": "stdout",
          "text": [
            "Epoch: 1, Loss:  0.03770463168621063\n"
          ]
        },
        {
          "output_type": "stream",
          "name": "stderr",
          "text": [
            "Training:  50%|█████     | 401/800 [05:18<05:21,  1.24it/s]"
          ]
        },
        {
          "output_type": "stream",
          "name": "stdout",
          "text": [
            "Epoch: 1, Loss:  0.04994609206914902\n"
          ]
        },
        {
          "output_type": "stream",
          "name": "stderr",
          "text": [
            "Training:  63%|██████▎   | 501/800 [06:38<04:00,  1.24it/s]"
          ]
        },
        {
          "output_type": "stream",
          "name": "stdout",
          "text": [
            "Epoch: 1, Loss:  0.02089325524866581\n"
          ]
        },
        {
          "output_type": "stream",
          "name": "stderr",
          "text": [
            "Training:  75%|███████▌  | 601/800 [07:57<02:40,  1.24it/s]"
          ]
        },
        {
          "output_type": "stream",
          "name": "stdout",
          "text": [
            "Epoch: 1, Loss:  0.021977495402097702\n"
          ]
        },
        {
          "output_type": "stream",
          "name": "stderr",
          "text": [
            "Training:  88%|████████▊ | 701/800 [09:17<01:19,  1.24it/s]"
          ]
        },
        {
          "output_type": "stream",
          "name": "stdout",
          "text": [
            "Epoch: 1, Loss:  0.014019398018717766\n"
          ]
        },
        {
          "output_type": "stream",
          "name": "stderr",
          "text": [
            "Training: 100%|██████████| 800/800 [10:35<00:00,  1.26it/s]\n",
            "Validating: 100%|██████████| 100/100 [02:16<00:00,  1.36s/it]\n"
          ]
        },
        {
          "output_type": "stream",
          "name": "stdout",
          "text": [
            "Validation Loss: 0.04205158764962107\n",
            "Validation METEOR Score: 0.24130219387080254\n",
            "0.24130219387080254\n"
          ]
        },
        {
          "output_type": "stream",
          "name": "stderr",
          "text": [
            "Training:   0%|          | 1/800 [00:00<11:24,  1.17it/s]"
          ]
        },
        {
          "output_type": "stream",
          "name": "stdout",
          "text": [
            "Epoch: 2, Loss:  0.11723821610212326\n"
          ]
        },
        {
          "output_type": "stream",
          "name": "stderr",
          "text": [
            "Training:  13%|█▎        | 101/800 [01:20<09:23,  1.24it/s]"
          ]
        },
        {
          "output_type": "stream",
          "name": "stdout",
          "text": [
            "Epoch: 2, Loss:  0.131965771317482\n"
          ]
        },
        {
          "output_type": "stream",
          "name": "stderr",
          "text": [
            "Training:  25%|██▌       | 201/800 [02:39<08:02,  1.24it/s]"
          ]
        },
        {
          "output_type": "stream",
          "name": "stdout",
          "text": [
            "Epoch: 2, Loss:  0.02204863540828228\n"
          ]
        },
        {
          "output_type": "stream",
          "name": "stderr",
          "text": [
            "Training:  38%|███▊      | 301/800 [03:59<06:44,  1.23it/s]"
          ]
        },
        {
          "output_type": "stream",
          "name": "stdout",
          "text": [
            "Epoch: 2, Loss:  0.03482579067349434\n"
          ]
        },
        {
          "output_type": "stream",
          "name": "stderr",
          "text": [
            "Training:  50%|█████     | 401/800 [05:18<05:21,  1.24it/s]"
          ]
        },
        {
          "output_type": "stream",
          "name": "stdout",
          "text": [
            "Epoch: 2, Loss:  0.04703879728913307\n"
          ]
        },
        {
          "output_type": "stream",
          "name": "stderr",
          "text": [
            "Training:  63%|██████▎   | 501/800 [06:38<04:00,  1.24it/s]"
          ]
        },
        {
          "output_type": "stream",
          "name": "stdout",
          "text": [
            "Epoch: 2, Loss:  0.016561735421419144\n"
          ]
        },
        {
          "output_type": "stream",
          "name": "stderr",
          "text": [
            "Training:  75%|███████▌  | 601/800 [07:57<02:40,  1.24it/s]"
          ]
        },
        {
          "output_type": "stream",
          "name": "stdout",
          "text": [
            "Epoch: 2, Loss:  0.01966286450624466\n"
          ]
        },
        {
          "output_type": "stream",
          "name": "stderr",
          "text": [
            "Training:  88%|████████▊ | 701/800 [09:17<01:19,  1.24it/s]"
          ]
        },
        {
          "output_type": "stream",
          "name": "stdout",
          "text": [
            "Epoch: 2, Loss:  0.015634896233677864\n"
          ]
        },
        {
          "output_type": "stream",
          "name": "stderr",
          "text": [
            "Training: 100%|██████████| 800/800 [10:35<00:00,  1.26it/s]\n",
            "Validating: 100%|██████████| 100/100 [02:11<00:00,  1.31s/it]\n"
          ]
        },
        {
          "output_type": "stream",
          "name": "stdout",
          "text": [
            "Validation Loss: 0.041514526628889145\n",
            "Validation METEOR Score: 0.2577050350004301\n",
            "0.2577050350004301\n"
          ]
        },
        {
          "output_type": "display_data",
          "data": {
            "text/plain": [
              "<IPython.core.display.HTML object>"
            ],
            "text/html": [
              "Waiting for W&B process to finish... <strong style=\"color:green\">(success).</strong>"
            ]
          },
          "metadata": {}
        },
        {
          "output_type": "display_data",
          "data": {
            "text/plain": [
              "<IPython.core.display.HTML object>"
            ],
            "text/html": [
              "<style>\n",
              "    table.wandb td:nth-child(1) { padding: 0 10px; text-align: left ; width: auto;} td:nth-child(2) {text-align: left ; width: 100%}\n",
              "    .wandb-row { display: flex; flex-direction: row; flex-wrap: wrap; justify-content: flex-start; width: 100% }\n",
              "    .wandb-col { display: flex; flex-direction: column; flex-basis: 100%; flex: 1; padding: 10px; }\n",
              "    </style>\n",
              "<div class=\"wandb-row\"><div class=\"wandb-col\"><h3>Run history:</h3><br/><table class=\"wandb\"><tr><td>Learning Rate</td><td>▁▁▁</td></tr><tr><td>Number of Epochs</td><td>▁▁▁</td></tr><tr><td>Validation Accuracy</td><td>▁▆█</td></tr><tr><td>Validation Loss</td><td>█▂▁</td></tr></table><br/></div><div class=\"wandb-col\"><h3>Run summary:</h3><br/><table class=\"wandb\"><tr><td>Learning Rate</td><td>1e-05</td></tr><tr><td>Number of Epochs</td><td>3</td></tr><tr><td>Validation Accuracy</td><td>0.25771</td></tr><tr><td>Validation Loss</td><td>0.04151</td></tr></table><br/></div></div>"
            ]
          },
          "metadata": {}
        },
        {
          "output_type": "display_data",
          "data": {
            "text/plain": [
              "<IPython.core.display.HTML object>"
            ],
            "text/html": [
              " View run <strong style=\"color:#cdcd00\">sandy-sweep-3</strong> at: <a href='https://wandb.ai/team_vico/T5%20Large%20Parameter%20Sweep%20Aug%202%20Task%202/runs/3uugx7zg' target=\"_blank\">https://wandb.ai/team_vico/T5%20Large%20Parameter%20Sweep%20Aug%202%20Task%202/runs/3uugx7zg</a><br/>Synced 5 W&B file(s), 0 media file(s), 0 artifact file(s) and 0 other file(s)"
            ]
          },
          "metadata": {}
        },
        {
          "output_type": "display_data",
          "data": {
            "text/plain": [
              "<IPython.core.display.HTML object>"
            ],
            "text/html": [
              "Find logs at: <code>./wandb/run-20230801_235656-3uugx7zg/logs</code>"
            ]
          },
          "metadata": {}
        },
        {
          "output_type": "stream",
          "name": "stderr",
          "text": [
            "\u001b[34m\u001b[1mwandb\u001b[0m: Sweep Agent: Waiting for job.\n",
            "\u001b[34m\u001b[1mwandb\u001b[0m: Job received.\n",
            "\u001b[34m\u001b[1mwandb\u001b[0m: Agent Starting Run: yej244nm with config:\n",
            "\u001b[34m\u001b[1mwandb\u001b[0m: \tlearning_rate: 8.252438953448873e-06\n",
            "\u001b[34m\u001b[1mwandb\u001b[0m: \tnum_epochs: 4\n"
          ]
        },
        {
          "output_type": "display_data",
          "data": {
            "text/plain": [
              "<IPython.core.display.HTML object>"
            ],
            "text/html": [
              "Tracking run with wandb version 0.15.8"
            ]
          },
          "metadata": {}
        },
        {
          "output_type": "display_data",
          "data": {
            "text/plain": [
              "<IPython.core.display.HTML object>"
            ],
            "text/html": [
              "Run data is saved locally in <code>/content/wandb/run-20230802_003607-yej244nm</code>"
            ]
          },
          "metadata": {}
        },
        {
          "output_type": "display_data",
          "data": {
            "text/plain": [
              "<IPython.core.display.HTML object>"
            ],
            "text/html": [
              "Syncing run <strong><a href='https://wandb.ai/team_vico/T5%20Large%20Parameter%20Sweep%20Aug%202%20Task%202/runs/yej244nm' target=\"_blank\">glowing-sweep-4</a></strong> to <a href='https://wandb.ai/team_vico/T5%20Large%20Parameter%20Sweep%20Aug%202%20Task%202' target=\"_blank\">Weights & Biases</a> (<a href='https://wandb.me/run' target=\"_blank\">docs</a>)<br/>Sweep page: <a href='https://wandb.ai/team_vico/T5%20Large%20Parameter%20Sweep%20Aug%202%20Task%202/sweeps/sk2qp2kp' target=\"_blank\">https://wandb.ai/team_vico/T5%20Large%20Parameter%20Sweep%20Aug%202%20Task%202/sweeps/sk2qp2kp</a>"
            ]
          },
          "metadata": {}
        },
        {
          "output_type": "display_data",
          "data": {
            "text/plain": [
              "<IPython.core.display.HTML object>"
            ],
            "text/html": [
              " View project at <a href='https://wandb.ai/team_vico/T5%20Large%20Parameter%20Sweep%20Aug%202%20Task%202' target=\"_blank\">https://wandb.ai/team_vico/T5%20Large%20Parameter%20Sweep%20Aug%202%20Task%202</a>"
            ]
          },
          "metadata": {}
        },
        {
          "output_type": "display_data",
          "data": {
            "text/plain": [
              "<IPython.core.display.HTML object>"
            ],
            "text/html": [
              " View sweep at <a href='https://wandb.ai/team_vico/T5%20Large%20Parameter%20Sweep%20Aug%202%20Task%202/sweeps/sk2qp2kp' target=\"_blank\">https://wandb.ai/team_vico/T5%20Large%20Parameter%20Sweep%20Aug%202%20Task%202/sweeps/sk2qp2kp</a>"
            ]
          },
          "metadata": {}
        },
        {
          "output_type": "display_data",
          "data": {
            "text/plain": [
              "<IPython.core.display.HTML object>"
            ],
            "text/html": [
              " View run at <a href='https://wandb.ai/team_vico/T5%20Large%20Parameter%20Sweep%20Aug%202%20Task%202/runs/yej244nm' target=\"_blank\">https://wandb.ai/team_vico/T5%20Large%20Parameter%20Sweep%20Aug%202%20Task%202/runs/yej244nm</a>"
            ]
          },
          "metadata": {}
        },
        {
          "output_type": "stream",
          "name": "stderr",
          "text": [
            "Training:   0%|          | 1/800 [00:00<11:35,  1.15it/s]"
          ]
        },
        {
          "output_type": "stream",
          "name": "stdout",
          "text": [
            "Epoch: 0, Loss:  0.10999389737844467\n"
          ]
        },
        {
          "output_type": "stream",
          "name": "stderr",
          "text": [
            "Training:  13%|█▎        | 101/800 [01:20<09:22,  1.24it/s]"
          ]
        },
        {
          "output_type": "stream",
          "name": "stdout",
          "text": [
            "Epoch: 0, Loss:  0.12543869018554688\n"
          ]
        },
        {
          "output_type": "stream",
          "name": "stderr",
          "text": [
            "Training:  25%|██▌       | 201/800 [02:39<08:02,  1.24it/s]"
          ]
        },
        {
          "output_type": "stream",
          "name": "stdout",
          "text": [
            "Epoch: 0, Loss:  0.013458741828799248\n"
          ]
        },
        {
          "output_type": "stream",
          "name": "stderr",
          "text": [
            "Training:  38%|███▊      | 301/800 [03:59<06:45,  1.23it/s]"
          ]
        },
        {
          "output_type": "stream",
          "name": "stdout",
          "text": [
            "Epoch: 0, Loss:  0.03162262961268425\n"
          ]
        },
        {
          "output_type": "stream",
          "name": "stderr",
          "text": [
            "Training:  50%|█████     | 401/800 [05:18<05:21,  1.24it/s]"
          ]
        },
        {
          "output_type": "stream",
          "name": "stdout",
          "text": [
            "Epoch: 0, Loss:  0.04991229623556137\n"
          ]
        },
        {
          "output_type": "stream",
          "name": "stderr",
          "text": [
            "Training:  63%|██████▎   | 501/800 [06:38<04:00,  1.24it/s]"
          ]
        },
        {
          "output_type": "stream",
          "name": "stdout",
          "text": [
            "Epoch: 0, Loss:  0.020102934911847115\n"
          ]
        },
        {
          "output_type": "stream",
          "name": "stderr",
          "text": [
            "Training:  75%|███████▌  | 601/800 [07:57<02:40,  1.24it/s]"
          ]
        },
        {
          "output_type": "stream",
          "name": "stdout",
          "text": [
            "Epoch: 0, Loss:  0.013503306545317173\n"
          ]
        },
        {
          "output_type": "stream",
          "name": "stderr",
          "text": [
            "Training:  88%|████████▊ | 701/800 [09:17<01:19,  1.24it/s]"
          ]
        },
        {
          "output_type": "stream",
          "name": "stdout",
          "text": [
            "Epoch: 0, Loss:  0.012720529921352863\n"
          ]
        },
        {
          "output_type": "stream",
          "name": "stderr",
          "text": [
            "Training: 100%|██████████| 800/800 [10:35<00:00,  1.26it/s]\n",
            "Validating: 100%|██████████| 100/100 [02:15<00:00,  1.36s/it]\n"
          ]
        },
        {
          "output_type": "stream",
          "name": "stdout",
          "text": [
            "Validation Loss: 0.03933612700551748\n",
            "Validation METEOR Score: 0.28635622795740145\n",
            "0.28635622795740145\n"
          ]
        },
        {
          "output_type": "stream",
          "name": "stderr",
          "text": [
            "Training:   0%|          | 1/800 [00:00<11:30,  1.16it/s]"
          ]
        },
        {
          "output_type": "stream",
          "name": "stdout",
          "text": [
            "Epoch: 1, Loss:  0.09653708338737488\n"
          ]
        },
        {
          "output_type": "stream",
          "name": "stderr",
          "text": [
            "Training:  13%|█▎        | 101/800 [01:20<09:23,  1.24it/s]"
          ]
        },
        {
          "output_type": "stream",
          "name": "stdout",
          "text": [
            "Epoch: 1, Loss:  0.12078656256198883\n"
          ]
        },
        {
          "output_type": "stream",
          "name": "stderr",
          "text": [
            "Training:  25%|██▌       | 201/800 [02:39<08:02,  1.24it/s]"
          ]
        },
        {
          "output_type": "stream",
          "name": "stdout",
          "text": [
            "Epoch: 1, Loss:  0.011637510731816292\n"
          ]
        },
        {
          "output_type": "stream",
          "name": "stderr",
          "text": [
            "Training:  38%|███▊      | 301/800 [03:59<06:45,  1.23it/s]"
          ]
        },
        {
          "output_type": "stream",
          "name": "stdout",
          "text": [
            "Epoch: 1, Loss:  0.029334494844079018\n"
          ]
        },
        {
          "output_type": "stream",
          "name": "stderr",
          "text": [
            "Training:  50%|█████     | 401/800 [05:18<05:21,  1.24it/s]"
          ]
        },
        {
          "output_type": "stream",
          "name": "stdout",
          "text": [
            "Epoch: 1, Loss:  0.037375498563051224\n"
          ]
        },
        {
          "output_type": "stream",
          "name": "stderr",
          "text": [
            "Training:  63%|██████▎   | 501/800 [06:38<04:00,  1.24it/s]"
          ]
        },
        {
          "output_type": "stream",
          "name": "stdout",
          "text": [
            "Epoch: 1, Loss:  0.01825016736984253\n"
          ]
        },
        {
          "output_type": "stream",
          "name": "stderr",
          "text": [
            "Training:  75%|███████▌  | 601/800 [07:57<02:40,  1.24it/s]"
          ]
        },
        {
          "output_type": "stream",
          "name": "stdout",
          "text": [
            "Epoch: 1, Loss:  0.013699030503630638\n"
          ]
        },
        {
          "output_type": "stream",
          "name": "stderr",
          "text": [
            "Training:  88%|████████▊ | 701/800 [09:17<01:19,  1.24it/s]"
          ]
        },
        {
          "output_type": "stream",
          "name": "stdout",
          "text": [
            "Epoch: 1, Loss:  0.010099743492901325\n"
          ]
        },
        {
          "output_type": "stream",
          "name": "stderr",
          "text": [
            "Training: 100%|██████████| 800/800 [10:36<00:00,  1.26it/s]\n",
            "Validating: 100%|██████████| 100/100 [02:15<00:00,  1.36s/it]\n"
          ]
        },
        {
          "output_type": "stream",
          "name": "stdout",
          "text": [
            "Validation Loss: 0.03872042503673583\n",
            "Validation METEOR Score: 0.29623226009768183\n",
            "0.29623226009768183\n"
          ]
        },
        {
          "output_type": "stream",
          "name": "stderr",
          "text": [
            "Training:   0%|          | 1/800 [00:00<11:36,  1.15it/s]"
          ]
        },
        {
          "output_type": "stream",
          "name": "stdout",
          "text": [
            "Epoch: 2, Loss:  0.09707033634185791\n"
          ]
        },
        {
          "output_type": "stream",
          "name": "stderr",
          "text": [
            "Training:  13%|█▎        | 101/800 [01:20<09:23,  1.24it/s]"
          ]
        },
        {
          "output_type": "stream",
          "name": "stdout",
          "text": [
            "Epoch: 2, Loss:  0.1147356778383255\n"
          ]
        },
        {
          "output_type": "stream",
          "name": "stderr",
          "text": [
            "Training:  25%|██▌       | 201/800 [02:39<08:02,  1.24it/s]"
          ]
        },
        {
          "output_type": "stream",
          "name": "stdout",
          "text": [
            "Epoch: 2, Loss:  0.009645656682550907\n"
          ]
        },
        {
          "output_type": "stream",
          "name": "stderr",
          "text": [
            "Training:  38%|███▊      | 301/800 [03:59<06:45,  1.23it/s]"
          ]
        },
        {
          "output_type": "stream",
          "name": "stdout",
          "text": [
            "Epoch: 2, Loss:  0.024206683039665222\n"
          ]
        },
        {
          "output_type": "stream",
          "name": "stderr",
          "text": [
            "Training:  50%|█████     | 401/800 [05:18<05:21,  1.24it/s]"
          ]
        },
        {
          "output_type": "stream",
          "name": "stdout",
          "text": [
            "Epoch: 2, Loss:  0.03635916858911514\n"
          ]
        },
        {
          "output_type": "stream",
          "name": "stderr",
          "text": [
            "Training:  63%|██████▎   | 501/800 [06:38<04:00,  1.24it/s]"
          ]
        },
        {
          "output_type": "stream",
          "name": "stdout",
          "text": [
            "Epoch: 2, Loss:  0.017484407871961594\n"
          ]
        },
        {
          "output_type": "stream",
          "name": "stderr",
          "text": [
            "Training:  75%|███████▌  | 601/800 [07:57<02:40,  1.24it/s]"
          ]
        },
        {
          "output_type": "stream",
          "name": "stdout",
          "text": [
            "Epoch: 2, Loss:  0.015102677047252655\n"
          ]
        },
        {
          "output_type": "stream",
          "name": "stderr",
          "text": [
            "Training:  88%|████████▊ | 701/800 [09:17<01:19,  1.24it/s]"
          ]
        },
        {
          "output_type": "stream",
          "name": "stdout",
          "text": [
            "Epoch: 2, Loss:  0.01041898038238287\n"
          ]
        },
        {
          "output_type": "stream",
          "name": "stderr",
          "text": [
            "Training: 100%|██████████| 800/800 [10:35<00:00,  1.26it/s]\n",
            "Validating: 100%|██████████| 100/100 [02:16<00:00,  1.37s/it]\n"
          ]
        },
        {
          "output_type": "stream",
          "name": "stdout",
          "text": [
            "Validation Loss: 0.03800369553035125\n",
            "Validation METEOR Score: 0.30925584170646236\n",
            "0.30925584170646236\n"
          ]
        },
        {
          "output_type": "stream",
          "name": "stderr",
          "text": [
            "Training:   0%|          | 1/800 [00:00<11:13,  1.19it/s]"
          ]
        },
        {
          "output_type": "stream",
          "name": "stdout",
          "text": [
            "Epoch: 3, Loss:  0.08806454390287399\n"
          ]
        },
        {
          "output_type": "stream",
          "name": "stderr",
          "text": [
            "Training:  13%|█▎        | 101/800 [01:20<09:23,  1.24it/s]"
          ]
        },
        {
          "output_type": "stream",
          "name": "stdout",
          "text": [
            "Epoch: 3, Loss:  0.11478236317634583\n"
          ]
        },
        {
          "output_type": "stream",
          "name": "stderr",
          "text": [
            "Training:  25%|██▌       | 201/800 [02:40<08:02,  1.24it/s]"
          ]
        },
        {
          "output_type": "stream",
          "name": "stdout",
          "text": [
            "Epoch: 3, Loss:  0.011972528882324696\n"
          ]
        },
        {
          "output_type": "stream",
          "name": "stderr",
          "text": [
            "Training:  38%|███▊      | 301/800 [03:59<06:45,  1.23it/s]"
          ]
        },
        {
          "output_type": "stream",
          "name": "stdout",
          "text": [
            "Epoch: 3, Loss:  0.027692025527358055\n"
          ]
        },
        {
          "output_type": "stream",
          "name": "stderr",
          "text": [
            "Training:  50%|█████     | 401/800 [05:19<05:21,  1.24it/s]"
          ]
        },
        {
          "output_type": "stream",
          "name": "stdout",
          "text": [
            "Epoch: 3, Loss:  0.03462832421064377\n"
          ]
        },
        {
          "output_type": "stream",
          "name": "stderr",
          "text": [
            "Training:  63%|██████▎   | 501/800 [06:38<04:00,  1.24it/s]"
          ]
        },
        {
          "output_type": "stream",
          "name": "stdout",
          "text": [
            "Epoch: 3, Loss:  0.015421800315380096\n"
          ]
        },
        {
          "output_type": "stream",
          "name": "stderr",
          "text": [
            "Training:  75%|███████▌  | 601/800 [07:58<02:40,  1.24it/s]"
          ]
        },
        {
          "output_type": "stream",
          "name": "stdout",
          "text": [
            "Epoch: 3, Loss:  0.009477361105382442\n"
          ]
        },
        {
          "output_type": "stream",
          "name": "stderr",
          "text": [
            "Training:  88%|████████▊ | 701/800 [09:17<01:19,  1.24it/s]"
          ]
        },
        {
          "output_type": "stream",
          "name": "stdout",
          "text": [
            "Epoch: 3, Loss:  0.008730911649763584\n"
          ]
        },
        {
          "output_type": "stream",
          "name": "stderr",
          "text": [
            "Training: 100%|██████████| 800/800 [10:36<00:00,  1.26it/s]\n",
            "Validating: 100%|██████████| 100/100 [02:16<00:00,  1.37s/it]\n"
          ]
        },
        {
          "output_type": "stream",
          "name": "stdout",
          "text": [
            "Validation Loss: 0.03771935596363619\n",
            "Validation METEOR Score: 0.33352353332744644\n",
            "0.33352353332744644\n"
          ]
        },
        {
          "output_type": "display_data",
          "data": {
            "text/plain": [
              "<IPython.core.display.HTML object>"
            ],
            "text/html": [
              "Waiting for W&B process to finish... <strong style=\"color:green\">(success).</strong>"
            ]
          },
          "metadata": {}
        },
        {
          "output_type": "display_data",
          "data": {
            "text/plain": [
              "<IPython.core.display.HTML object>"
            ],
            "text/html": [
              "<style>\n",
              "    table.wandb td:nth-child(1) { padding: 0 10px; text-align: left ; width: auto;} td:nth-child(2) {text-align: left ; width: 100%}\n",
              "    .wandb-row { display: flex; flex-direction: row; flex-wrap: wrap; justify-content: flex-start; width: 100% }\n",
              "    .wandb-col { display: flex; flex-direction: column; flex-basis: 100%; flex: 1; padding: 10px; }\n",
              "    </style>\n",
              "<div class=\"wandb-row\"><div class=\"wandb-col\"><h3>Run history:</h3><br/><table class=\"wandb\"><tr><td>Learning Rate</td><td>▁▁▁▁</td></tr><tr><td>Number of Epochs</td><td>▁▁▁▁</td></tr><tr><td>Validation Accuracy</td><td>▁▂▄█</td></tr><tr><td>Validation Loss</td><td>█▅▂▁</td></tr></table><br/></div><div class=\"wandb-col\"><h3>Run summary:</h3><br/><table class=\"wandb\"><tr><td>Learning Rate</td><td>1e-05</td></tr><tr><td>Number of Epochs</td><td>4</td></tr><tr><td>Validation Accuracy</td><td>0.33352</td></tr><tr><td>Validation Loss</td><td>0.03772</td></tr></table><br/></div></div>"
            ]
          },
          "metadata": {}
        },
        {
          "output_type": "display_data",
          "data": {
            "text/plain": [
              "<IPython.core.display.HTML object>"
            ],
            "text/html": [
              " View run <strong style=\"color:#cdcd00\">glowing-sweep-4</strong> at: <a href='https://wandb.ai/team_vico/T5%20Large%20Parameter%20Sweep%20Aug%202%20Task%202/runs/yej244nm' target=\"_blank\">https://wandb.ai/team_vico/T5%20Large%20Parameter%20Sweep%20Aug%202%20Task%202/runs/yej244nm</a><br/>Synced 5 W&B file(s), 0 media file(s), 0 artifact file(s) and 0 other file(s)"
            ]
          },
          "metadata": {}
        },
        {
          "output_type": "display_data",
          "data": {
            "text/plain": [
              "<IPython.core.display.HTML object>"
            ],
            "text/html": [
              "Find logs at: <code>./wandb/run-20230802_003607-yej244nm/logs</code>"
            ]
          },
          "metadata": {}
        },
        {
          "output_type": "stream",
          "name": "stderr",
          "text": [
            "\u001b[34m\u001b[1mwandb\u001b[0m: Sweep Agent: Waiting for job.\n",
            "\u001b[34m\u001b[1mwandb\u001b[0m: Sweep Agent: Exiting.\n"
          ]
        }
      ]
    },
    {
      "cell_type": "code",
      "source": [
        "torch.save(model, 'model.pth')"
      ],
      "metadata": {
        "id": "Py9HsBt7byld"
      },
      "execution_count": null,
      "outputs": []
    },
    {
      "cell_type": "code",
      "source": [
        "model = torch.load('model.pth')"
      ],
      "metadata": {
        "id": "12rB4UMXb0V5"
      },
      "execution_count": null,
      "outputs": []
    },
    {
      "cell_type": "code",
      "source": [
        "#best_model_path = f\"t5_spoiler_generation_model_best_lr_{learning_rate}_epoch{num_epochs}\"\n",
        "#best_model_path = f\"t5_spoiler_generation_model_best_lr_6.777947478792724e-06_epoch7\"\n",
        "#best_model = T5ForConditionalGeneration.from_pretrained(best_model_path)\n",
        "\n",
        "test_dataset = ClickBaitTestDataset(test_data, tokenizer, max_length=512)\n",
        "test_loader = DataLoader(test_dataset, batch_size=4)\n",
        "\n",
        "device = torch.device('cuda' if torch.cuda.is_available() else 'cpu')\n",
        "model.to(device)\n",
        "model.eval()  # Set the model to evaluation mode\n",
        "generated_spoilers = []\n",
        "\n",
        "with torch.no_grad():  # No need to track gradients\n",
        "  for i, batch in enumerate(test_loader):\n",
        "\n",
        "\n",
        "    input_ids = batch[\"input_ids\"].to(device)\n",
        "    attention_mask = batch[\"attention_mask\"].to(device)\n",
        "\n",
        "    # Generate spoilers\n",
        "    outputs = model.generate(input_ids, attention_mask=attention_mask)\n",
        "\n",
        "\n",
        "    # Decode the outputs into text\n",
        "    outputs = [tokenizer.decode(g, skip_special_tokens=True, clean_up_tokenization_spaces=False) for g in outputs]\n",
        "\n",
        "\n",
        "    generated_spoilers.extend(outputs)\n",
        "\n",
        "# Create a DataFrame from the generated spoilers\n",
        "df = pd.DataFrame(generated_spoilers, columns=['spoiler'])\n",
        "\n",
        "# Add an index column\n",
        "df.reset_index(level=0, inplace=True)\n",
        "df = df.rename(columns = {'index':'id'})\n",
        "\n",
        "# Save the DataFrame to a CSV file\n",
        "#filename = f\"generated_spoilers_lr_{learning_rate}_epochs_{num_epochs}_jul31.csv\"\n",
        "#df.to_csv(filename, index=False)\n",
        "df.to_csv('generated_spoilers_aug1.csv', index=False)"
      ],
      "metadata": {
        "colab": {
          "base_uri": "https://localhost:8080/"
        },
        "id": "3mmSF-GGQL0d",
        "outputId": "b0ca4348-f187-46da-96f7-18d271ed121b"
      },
      "execution_count": null,
      "outputs": [
        {
          "output_type": "stream",
          "name": "stderr",
          "text": [
            "/usr/local/lib/python3.10/dist-packages/transformers/generation/utils.py:1369: UserWarning: Using `max_length`'s default (20) to control the generation length. This behaviour is deprecated and will be removed from the config in v5 of Transformers -- we recommend using `max_new_tokens` to control the maximum length of the generation.\n",
            "  warnings.warn(\n"
          ]
        }
      ]
    },
    {
      "cell_type": "code",
      "source": [
        "#best_model_path = f\"t5_spoiler_generation_model_best_lr_{learning_rate}_epoch{num_epochs}\"\n",
        "best_model_path = f\"t5_spoiler_generation_model_lr8.252438953448873e-06_accuracy0.31_epoch4\"\n",
        "best_model = T5ForConditionalGeneration.from_pretrained(best_model_path)\n",
        "#/content/t5_spoiler_generation_model_best_lr_2.5812780043687333e-06_epoch5\n",
        "#/content/t5_spoiler_generation_model_best_lr_7.728040301416214e-06_epoch4\n",
        "#/content/t5_spoiler_generation_model_best_lr_6.601001159736487e-06_epoch4\n",
        "#/content/t5_spoiler_generation_model_best_lr_8.316230405993195e-06_epoch3\n",
        "#/content/t5_spoiler_generation_model_best_lr_9.415651315383846e-06_epoch3\n",
        "#/content/t5_spoiler_generation_model_best_lr_6.777947478792724e-06_epoch7\n",
        "#/content/t5_spoiler_generation_model_lr8.252438953448873e-06_accuracy0.33_epoch4\n",
        "#/content/t5_spoiler_generation_model_lr8.252438953448873e-06_accuracy0.31_epoch4\n",
        "test_dataset = ClickBaitTestDataset(test_data, tokenizer, max_length=512)\n",
        "test_loader = DataLoader(test_dataset, batch_size=4)\n",
        "\n",
        "device = torch.device('cuda' if torch.cuda.is_available() else 'cpu')\n",
        "best_model.to(device)\n",
        "best_model.eval()  # Set the model to evaluation mode\n",
        "generated_spoilers = []\n",
        "\n",
        "with torch.no_grad():  # No need to track gradients\n",
        "  for i, batch in enumerate(test_loader):\n",
        "\n",
        "\n",
        "    input_ids = batch[\"input_ids\"].to(device)\n",
        "    attention_mask = batch[\"attention_mask\"].to(device)\n",
        "\n",
        "    # Generate spoilers\n",
        "    outputs = best_model.generate(input_ids, attention_mask=attention_mask)\n",
        "\n",
        "\n",
        "    # Decode the outputs into text\n",
        "    outputs = [tokenizer.decode(g, skip_special_tokens=True, clean_up_tokenization_spaces=False) for g in outputs]\n",
        "\n",
        "\n",
        "    generated_spoilers.extend(outputs)\n",
        "\n",
        "# Create a DataFrame from the generated spoilers\n",
        "df = pd.DataFrame(generated_spoilers, columns=['spoiler'])\n",
        "\n",
        "# Add an index column\n",
        "df.reset_index(level=0, inplace=True)\n",
        "df = df.rename(columns = {'index':'id'})\n",
        "\n",
        "# Save the DataFrame to a CSV file\n",
        "#filename = f\"generated_spoilers_lr_{learning_rate}_epochs_{num_epochs}_jul31.csv\"\n",
        "#df.to_csv(filename, index=False)\n",
        "df.to_csv('generated_spoilers_lr8.252438953448873e-06_accuracy0.31_epoch4', index=False)"
      ],
      "metadata": {
        "colab": {
          "base_uri": "https://localhost:8080/"
        },
        "id": "7V3zhwok5o-U",
        "outputId": "4799f64a-80c8-439f-9a4a-4964c1f75486"
      },
      "execution_count": null,
      "outputs": [
        {
          "output_type": "stream",
          "name": "stderr",
          "text": [
            "/usr/local/lib/python3.10/dist-packages/transformers/generation/utils.py:1369: UserWarning: Using `max_length`'s default (20) to control the generation length. This behaviour is deprecated and will be removed from the config in v5 of Transformers -- we recommend using `max_new_tokens` to control the maximum length of the generation.\n",
            "  warnings.warn(\n"
          ]
        }
      ]
    },
    {
      "cell_type": "code",
      "source": [],
      "metadata": {
        "id": "YLs5MDXNW_vk"
      },
      "execution_count": null,
      "outputs": []
    },
    {
      "cell_type": "code",
      "source": [
        "\n"
      ],
      "metadata": {
        "id": "BQ0Wqz8lWeXR"
      },
      "execution_count": null,
      "outputs": []
    },
    {
      "cell_type": "code",
      "source": [
        "test_data"
      ],
      "metadata": {
        "id": "1RtrsAhzYIuR"
      },
      "execution_count": null,
      "outputs": []
    },
    {
      "cell_type": "code",
      "source": [
        "max_length=512"
      ],
      "metadata": {
        "id": "ER8l3mKXXVCY"
      },
      "execution_count": null,
      "outputs": []
    },
    {
      "cell_type": "code",
      "source": [
        "batch_size=8"
      ],
      "metadata": {
        "id": "a8xjLHj-Xhju"
      },
      "execution_count": null,
      "outputs": []
    },
    {
      "cell_type": "code",
      "source": [],
      "metadata": {
        "id": "uqGsyPksYs8b"
      },
      "execution_count": null,
      "outputs": []
    },
    {
      "cell_type": "code",
      "source": [
        "\n"
      ],
      "metadata": {
        "id": "6gaV-4EuWmXA"
      },
      "execution_count": null,
      "outputs": []
    },
    {
      "cell_type": "code",
      "source": [
        "model"
      ],
      "metadata": {
        "id": "v14PRleGhtQu"
      },
      "execution_count": null,
      "outputs": []
    },
    {
      "cell_type": "code",
      "source": [
        "# Map location to where you want to load the model, 'cuda' or 'cpu'\n",
        "device = torch.device('cuda' if torch.cuda.is_available() else 'cpu')\n",
        "model = T5ForConditionalGeneration.from_pretrained(\"t5_spoiler_generation_model\")\n",
        "# Load the state dictionary\n",
        "#model.load_state_dict(torch.load(t5_spoiler_generation_model, map_location=device))"
      ],
      "metadata": {
        "colab": {
          "base_uri": "https://localhost:8080/",
          "height": 209
        },
        "id": "QpSbjZhRhSpr",
        "outputId": "296646af-8044-4646-f972-2b337a405639"
      },
      "execution_count": null,
      "outputs": [
        {
          "output_type": "error",
          "ename": "NameError",
          "evalue": "ignored",
          "traceback": [
            "\u001b[0;31m---------------------------------------------------------------------------\u001b[0m",
            "\u001b[0;31mNameError\u001b[0m                                 Traceback (most recent call last)",
            "\u001b[0;32m<ipython-input-12-bc560f28c362>\u001b[0m in \u001b[0;36m<cell line: 5>\u001b[0;34m()\u001b[0m\n\u001b[1;32m      3\u001b[0m \u001b[0;34m\u001b[0m\u001b[0m\n\u001b[1;32m      4\u001b[0m \u001b[0;31m# Load the state dictionary\u001b[0m\u001b[0;34m\u001b[0m\u001b[0;34m\u001b[0m\u001b[0m\n\u001b[0;32m----> 5\u001b[0;31m \u001b[0mmodel\u001b[0m\u001b[0;34m.\u001b[0m\u001b[0mload_state_dict\u001b[0m\u001b[0;34m(\u001b[0m\u001b[0mtorch\u001b[0m\u001b[0;34m.\u001b[0m\u001b[0mload\u001b[0m\u001b[0;34m(\u001b[0m\u001b[0mt5_spoiler_generation_model\u001b[0m\u001b[0;34m,\u001b[0m \u001b[0mmap_location\u001b[0m\u001b[0;34m=\u001b[0m\u001b[0mdevice\u001b[0m\u001b[0;34m)\u001b[0m\u001b[0;34m)\u001b[0m\u001b[0;34m\u001b[0m\u001b[0;34m\u001b[0m\u001b[0m\n\u001b[0m",
            "\u001b[0;31mNameError\u001b[0m: name 't5_spoiler_generation_model' is not defined"
          ]
        }
      ]
    },
    {
      "cell_type": "code",
      "source": [
        "model.eval()  # Set the model to evaluation mode\n",
        "\n",
        "generated_spoilers = []\n",
        "\n",
        "with torch.no_grad():  # No need to track gradients\n",
        "  for i, batch in enumerate(test_loader):\n",
        "    print(f\"Processing batch {i+1}/{len(test_loader)}\")\n",
        "\n",
        "    input_ids = batch[\"input_ids\"].to(device)\n",
        "    attention_mask = batch[\"attention_mask\"].to(device)\n",
        "\n",
        "    # Generate spoilers\n",
        "    outputs = model.generate(input_ids, attention_mask=attention_mask)\n",
        "    print(f\"Generated output: {outputs}\")\n",
        "\n",
        "    # Decode the outputs into text\n",
        "    outputs = [tokenizer.decode(g, skip_special_tokens=True, clean_up_tokenization_spaces=False) for g in outputs]\n",
        "    print(f\"Decoded output: {outputs}\")\n",
        "\n",
        "    generated_spoilers.extend(outputs)\n",
        "\n",
        "print(\"Finished processing test data\")\n"
      ],
      "metadata": {
        "colab": {
          "base_uri": "https://localhost:8080/"
        },
        "id": "lC7IxRSIZnQ9",
        "outputId": "2985c493-4cf9-4aa2-cb69-251c798eedb5"
      },
      "execution_count": null,
      "outputs": [
        {
          "output_type": "stream",
          "name": "stdout",
          "text": [
            "Processing batch 1/50\n"
          ]
        },
        {
          "output_type": "stream",
          "name": "stderr",
          "text": [
            "/usr/local/lib/python3.10/dist-packages/transformers/generation/utils.py:1369: UserWarning: Using `max_length`'s default (20) to control the generation length. This behaviour is deprecated and will be removed from the config in v5 of Transformers -- we recommend using `max_new_tokens` to control the maximum length of the generation.\n",
            "  warnings.warn(\n"
          ]
        },
        {
          "output_type": "stream",
          "name": "stdout",
          "text": [
            "Generated output: tensor([[    0, 10998,     1,     0,     0,     0,     0,     0,     0,     0,\n",
            "             0,     0,     0,     0,     0,     0,     0,     0,     0,     0],\n",
            "        [    0, 10998,     1,     0,     0,     0,     0,     0,     0,     0,\n",
            "             0,     0,     0,     0,     0,     0,     0,     0,     0,     0],\n",
            "        [    0,     3,     9,   126,   810,  1416,    44,  2055,    11,   280,\n",
            "          1672,  6833,   227,  1246,  1283,     3,     5,     3, 27341,     3],\n",
            "        [    0, 10998,     1,     0,     0,     0,     0,     0,     0,     0,\n",
            "             0,     0,     0,     0,     0,     0,     0,     0,     0,     0],\n",
            "        [    0,     3,     9,   126,   194,    12,     3,  1544,  5875,    24,\n",
            "            65,   921,   352,  6139,     3,     5,     3,     9,   126,   194],\n",
            "        [    0, 10998,     1,     0,     0,     0,     0,     0,     0,     0,\n",
            "             0,     0,     0,     0,     0,     0,     0,     0,     0,     0],\n",
            "        [    0, 10998,     1,     0,     0,     0,     0,     0,     0,     0,\n",
            "             0,     0,     0,     0,     0,     0,     0,     0,     0,     0],\n",
            "        [    0, 10998,     1,     0,     0,     0,     0,     0,     0,     0,\n",
            "             0,     0,     0,     0,     0,     0,     0,     0,     0,     0]],\n",
            "       device='cuda:0')\n",
            "Decoded output: ['True', 'True', 'a new study looks at income and life expectancy after age 40 . john', 'True', 'a new way to eat eggs that has everyone going crazy . a new way', 'True', 'True', 'True']\n",
            "Processing batch 2/50\n",
            "Generated output: tensor([[    0,     3,     9,     3,     7,   994,   326,  3868,    65,  5111,\n",
            "             3,    88,    19,   230,  4134,     3,     9,   388,   227,     3],\n",
            "        [    0, 10998,   733,    10, 20446, 10611,    44,  6154,   203,   625,\n",
            "            12,  1097,    11,  4032,    81,  2861,    13,   112,   227,  1104],\n",
            "        [    0, 10998,     1,     0,     0,     0,     0,     0,     0,     0,\n",
            "             0,     0,     0,     0,     0,     0,     0,     0,     0,     0],\n",
            "        [    0, 10998,     1,     0,     0,     0,     0,     0,     0,     0,\n",
            "             0,     0,     0,     0,     0,     0,     0,     0,     0,     0],\n",
            "        [    0,     3,     9,  1000,   443,    10, 10283,  4036,     7,   125,\n",
            "           133,    43,   118,   205, 13240, 17714,     3,     7,     3,  4060],\n",
            "        [    0,     3,     9,  7812,    50,   195,   152,     9,    10,    20,\n",
            "           961,     9,     3,     7,  1251,  2622,    33, 31973,  1329,     3],\n",
            "        [    0, 10998,     1,     0,     0,     0,     0,     0,     0,     0,\n",
            "             0,     0,     0,     0,     0,     0,     0,     0,     0,     0],\n",
            "        [    0,     3,     9,   291,   106,  3293,    49,    10,     3, 20159,\n",
            "           505,  2108,    13,     8, 14740,     3,     7,  2814, 10762,    34]],\n",
            "       device='cuda:0')\n",
            "Decoded output: ['a sex offender has revealed he is now dating a man after', 'True story: Brandon retired at 34 years old to save and invest about 70 of his after tax', 'True', 'True', 'azu car: google celebrates what would have been Celia Cruz s 88', 'adam lallana: de Gea s latest comments are disrespectful', 'True', 'aaron miller: 116 8 billion of the kingdom s debt puts it']\n",
            "Processing batch 3/50\n",
            "Generated output: tensor([[    0,     3,     9, 19010,  1139,  1622,     3,     9,  2068,    12,\n",
            "          5929, 20730,  7437,  3558,    81,     8,   814,     3,     5,     3],\n",
            "        [    0,     3,     9,   291,   106,  3293,    49,    10,     3,     9,\n",
            "           126,  3381,    13,  1812,  4251,  3357,   107,     7,    19,     3],\n",
            "        [    0,     3, 29702,     7,    33,    59,    38,  1312,    44,  8448,\n",
            "            38,  1767,  9298,     6,   845,     3,   354,   603,     3,   157],\n",
            "        [    0,     3,     9,  4514,    30,  1712,    20,  4651,  3108,   228,\n",
            "           582,  6016,    16,   126, 25453,     3,    99,  6704,  1550,   190],\n",
            "        [    0, 10998,     1,     0,     0,     0,     0,     0,     0,     0,\n",
            "             0,     0,     0,     0,     0,     0,     0,     0,     0,     0],\n",
            "        [    0, 10998,     1,     0,     0,     0,     0,     0,     0,     0,\n",
            "             0,     0,     0,     0,     0,     0,     0,     0,     0,     0],\n",
            "        [    0,     3,     9,   291,   106,     3,  2375,    23,  2638,    10,\n",
            "             3,     9,   126,  8493,   353,  3014,   306,  5256,    11,  3873],\n",
            "        [    0, 10998,     1,     0,     0,     0,     0,     0,     0,     0,\n",
            "             0,     0,     0,     0,     0,     0,     0,     0,     0,     0]],\n",
            "       device='cuda:0')\n",
            "Decoded output: ['a twitter user sent a letter to Studio Ghibli asking about the film .', 'aaron miller: a new generation of creative polymaths is', 'Millennials are not as hot at investing as previous generations, says jim k', 'a ban on cat declawing could become illegal in new york if legislation goes through', 'True', 'True', 'aaron ramirez: a new auction site selling high tech and luxury', 'True']\n",
            "Processing batch 4/50\n",
            "Generated output: tensor([[    0, 10998,     1,     0,     0,     0,     0,     0,     0,     0,\n",
            "             0,     0,     0,     0,     0,     0,     0,     0,     0,     0],\n",
            "        [    0, 10998,     1,     0,     0,     0,     0,     0,     0,     0,\n",
            "             0,     0,     0,     0,     0,     0,     0,     0,     0,     0],\n",
            "        [    0, 10998,     1,     0,     0,     0,     0,     0,     0,     0,\n",
            "             0,     0,     0,     0,     0,     0,     0,     0,     0,     0],\n",
            "        [    0,  5492,    10,  6897,  1093,    13,  5452,   317,  3298,   483,\n",
            "            19,  1341,    12,    72,  8325,    11,  5274,   793,  6912,     7],\n",
            "        [    0, 10998,     1,     0,     0,     0,     0,     0,     0,     0,\n",
            "             0,     0,     0,     0,     0,     0,     0,     0,     0,     0],\n",
            "        [    0,     3,     9,   478,    12,   794,     3,     9,  5336,   718,\n",
            "          7687,  1857,  2055,    19,   271,   661,    16,     3,    32,   107],\n",
            "        [    0,     3,     9,  1252,   934, 13799,     3, 23459,  1440,   213,\n",
            "             8,  7285,  6813,    19,   422,    49,   145,    16,     8,   412],\n",
            "        [    0, 10998,     1,     0,     0,     0,     0,     0,     0,     0,\n",
            "             0,     0,     0,     0,     0,     0,     0,     0,     0,     0]],\n",
            "       device='cuda:0')\n",
            "Decoded output: ['True', 'True', 'True', 'poll: 55 percent of Americans think climate change is related to more frequent and severe natural disasters', 'True', 'a program to test a scheme called universal basic income is being run in oh', 'a global report ranks 136 countries where the gender gap is smaller than in the U', 'True']\n",
            "Processing batch 5/50\n",
            "Generated output: tensor([[    0, 10747,     7,    15,     1,     0,     0,     0,     0,     0,\n",
            "             0,     0,     0,     0,     0,     0,     0,     0,     0,     0],\n",
            "        [    0,     3, 16560,  6744,  7504,    19,    59,   347,    21,   554,\n",
            "           455,   780,     3,     5,     3,     7,   152,  3515,     3, 23685],\n",
            "        [    0,     3,     9,   291,   106,   443,  4046,    10,  1900, 19533,\n",
            "          1596,    33,  6937,   250,   481,    33, 28821,  3674,     3,     5],\n",
            "        [    0, 10998,     1,     0,     0,     0,     0,     0,     0,     0,\n",
            "             0,     0,     0,     0,     0,     0,     0,     0,     0,     0],\n",
            "        [    0, 10998,     1,     0,     0,     0,     0,     0,     0,     0,\n",
            "             0,     0,     0,     0,     0,     0,     0,     0,     0,     0],\n",
            "        [    0,     3,     9,  7812,     3,    51,    75,  1720,    17,  3186,\n",
            "            10,  8513,    19,    80,    13,     8,   694,  2168,   222, 10088],\n",
            "        [    0, 10998,     1,     0,     0,     0,     0,     0,     0,     0,\n",
            "             0,     0,     0,     0,     0,     0,     0,     0,     0,     0],\n",
            "        [    0,  7004, 21169,  2928,     3,     9,   126, 17151,    11,    34,\n",
            "             3,     7,   786,     3,     5,     3,    63,    77,   329,    29]],\n",
            "       device='cuda:0')\n",
            "Decoded output: ['False', 'NES Classic Edition is not available for pre order yet . sandra borg', 'aaron carroll: college textbook prices are rising because students are captive consumers .', 'True', 'True', 'adam mccartney: Austin is one of the funkiest weird', 'True', 'scientists accidentally discover a new pigment and it s beautiful . yinMn']\n",
            "Processing batch 6/50\n",
            "Generated output: tensor([[    0, 10747,     7,    15,     1,     0,     0,     0,     0,     0,\n",
            "             0,     0,     0,     0,     0,     0,     0,     0,     0,     0],\n",
            "        [    0,     3,    15,     9,  3537,  1580,    26,  8113, 23236,    63,\n",
            "          8069,    49,     3, 16972,     3,     9,  4782,    24,  1416,   114],\n",
            "        [    0, 10998,     1,     0,     0,     0,     0,     0,     0,     0,\n",
            "             0,     0,     0,     0,     0,     0,     0,     0,     0,     0],\n",
            "        [    0,     3,     9,   291,   106,   443,  4046,    10,  1248,    16,\n",
            "           126, 25453,   690,  5949,     7,    78, 16242,     3,     5,   443],\n",
            "        [    0,     3,     9,     3,    52, 21007,   106,    47, 19779,  1096,\n",
            "             3,     9,  4021,    16,   638,   106,     7,  2917,  1061,     6],\n",
            "        [    0, 10998,     1,     0,     0,     0,     0,     0,     0,     0,\n",
            "             0,     0,     0,     0,     0,     0,     0,     0,     0,     0],\n",
            "        [    0, 10747,     7,    15,     1,     0,     0,     0,     0,     0,\n",
            "             0,     0,     0,     0,     0,     0,     0,     0,     0,     0],\n",
            "        [    0, 10998,     1,     0,     0,     0,     0,     0,     0,     0,\n",
            "             0,     0,     0,     0,     0,     0,     0,     0,     0,     0]],\n",
            "       device='cuda:0')\n",
            "Decoded output: ['False', 'eagle eyed mars anomaly hunter spotted a bottle that looks like', 'True', 'aaron carroll: summer in new york city smells so awful . car', 'a raccoon was trapped inside a dumpster in Coonskin Park,', 'True', 'False', 'True']\n",
            "Processing batch 7/50\n",
            "Generated output: tensor([[    0,     3,     9,   291,   106,   443,  4046,    10,     3,     9,\n",
            "          3422,     7,  1225,   723,    19,     3,     9,   248,   194,    12],\n",
            "        [    0,     3,     9,  7812,     3,     7, 10405,    10,     3,     9,\n",
            "             3,   157, 17132,  6625,    19,   396,   861,  1273,     8,    72],\n",
            "        [    0,     3,     9,   291,   106,  6102,  1304,     7,    10,     3,\n",
            "            23,     3,   162,   118,   692,  6878,    53,    21,     8,   657],\n",
            "        [    0,     3,     9,   875,   442,    81,   149,    24,     3,     7,\n",
            "          2767,    21,   135,     3,     5,     3,     9,   339,   309,  6480],\n",
            "        [    0,     3,     9,   291,   106,   443,  4046,    10,     8,   783,\n",
            "         11858,    81,     8,   504,   250,   132,     3,     7,     3,     9],\n",
            "        [    0, 10998,     1,     0,     0,     0,     0,     0,     0,     0,\n",
            "             0,     0,     0,     0,     0,     0,     0,     0,     0,     0],\n",
            "        [    0, 10998,     1,     0,     0,     0,     0,     0,     0,     0,\n",
            "             0,     0,     0,     0,     0,     0,     0,     0,     0,     0],\n",
            "        [    0,     3,     9,  2785,  1576,    47,   787,    45, 19461,     7,\n",
            "         14143,  5838,  4008,  2924,     8, 18214,     7,  9705,  9505,     7]],\n",
            "       device='cuda:0')\n",
            "Decoded output: ['aaron carroll: acoustic music is a great way to', 'adam scott: a kitty folder is too childish the more', 'aaron rodgers: i ve been doing broadcasting for the past', 'a blog post about how that s gone for them . a free DLC', 'aaron carroll: the media writes about the show because there s a', 'True', 'True', 'a press release was given from Schleswig Holstein showing the whales necrops']\n",
            "Processing batch 8/50\n",
            "Generated output: tensor([[    0,     3,     9,   126,   810,    57,   158,   210,     3, 15503,\n",
            "           113,     3,     7,   952,    12,   129,  4464,    72,   145,   728],\n",
            "        [    0,     3,     9,     3,   157,    32,   138,     9,  2650,   227,\n",
            "          9635,    52,  5181,    15,  8567,  1496,    65,   118,     3,     9],\n",
            "        [    0,     3,     9,   260,  2719,  2325,     7,     8,  7873,    13,\n",
            "          1556,  3654,     3,     5,     3,     9,   260,  2719,    54,     3],\n",
            "        [    0, 10998,     1,     0,     0,     0,     0,     0,     0,     0,\n",
            "             0,     0,     0,     0,     0,     0,     0,     0,     0,     0],\n",
            "        [    0, 10998,     1,     0,     0,     0,     0,     0,     0,     0,\n",
            "             0,     0,     0,     0,     0,     0,     0,     0,     0,     0],\n",
            "        [    0,     3,     9,     3,     7, 18461,    21,  1131,  6764,  8082,\n",
            "             3,   287,   845,    24,     8,  7873,    19,    59,     3,     9],\n",
            "        [    0,     3,     9,     3, 23125,   810,   435,    24,   335,  1093,\n",
            "            13,   151,   737,     3,    17,  6179,    70,  1780,   227,   338],\n",
            "        [    0,     3,     9,     3,     7,   994,    18,  2113,  5012,  2772,\n",
            "            28,     8, 15676,     3,  2378,    26,    30,     3,    17,    76]],\n",
            "       device='cuda:0')\n",
            "Decoded output: ['a new study by pew reveals who s likely to get married more than once', 'a koala named after rescuer Louise Haynes has been a', 'a parrot masters the trick of playing dead . a parrot can', 'True', 'True', 'a spokesman for redmondpie com says that the trick is not a', 'a CDC study found that 10 percent of people didn t wash their hands after using', 'a sex-freedom interview with the actress aired on tu']\n",
            "Processing batch 9/50\n",
            "Generated output: tensor([[    0,     3,     9,   291,   106,  3293,    49,    10,  5492,     7,\n",
            "           504,    24,     3,     9,     3,  6347,    40,  1599,   228,    36],\n",
            "        [    0, 10998,     1,     0,     0,     0,     0,     0,     0,     0,\n",
            "             0,     0,     0,     0,     0,     0,     0,     0,     0,     0],\n",
            "        [    0, 10998,     1,     0,     0,     0,     0,     0,     0,     0,\n",
            "             0,     0,     0,     0,     0,     0,     0,     0,     0,     0],\n",
            "        [    0, 10998,     1,     0,     0,     0,     0,     0,     0,     0,\n",
            "             0,     0,     0,     0,     0,     0,     0,     0,     0,     0],\n",
            "        [    0,     3,     9,   291,   106,   443,  4046,    10, 18861,  3427,\n",
            "          1154,    19,   207,    21,   625,  1267,    11,   625,  1267,     3],\n",
            "        [    0,     3,     9,     3,     7,  3877,  3781,  4550,    17,  1840,\n",
            "            16,   126, 25453,   690,    19,   271,  3170,    21,     8, 15676],\n",
            "        [    0,     3,     9,   291,   106,   443,  4046,    10,   192, 23147,\n",
            "         17844,    43,   118,  3883,    84,   164,  1137,  2713,    13,     8],\n",
            "        [    0,     3,     9,     3,     7, 18461,    21,     8,  3819,    13,\n",
            "         18878,   845,    34,    56,   169,     8,   126,   564,     3,     5]],\n",
            "       device='cuda:0')\n",
            "Decoded output: ['aaron miller: polls show that a landslide could be', 'True', 'True', 'True', 'aaron carroll: amazon prime deal is good for old shows and old shows', 'a swanky penthouse in new york city is being rent for the actress', 'aaron carroll: two nasty surprises have been discovered which may cause owners of the', 'a spokesman for the university of Vermont says it will use the new name .']\n",
            "Processing batch 10/50\n",
            "Generated output: tensor([[    0,     3,     9,   291,   106,   443,  4046,    10,  1415,  1867,\n",
            "            24,    19,    38,  1176,   469,    38,    34,    47,    16,  6911],\n",
            "        [    0,     3,     9,    10,  8798,  3904, 17385,    12,   719,   274,\n",
            "            25,    67,     3,     5,     3,     9,    10,    37, 29993,  3312],\n",
            "        [    0, 10998,     1,     0,     0,     0,     0,     0,     0,     0,\n",
            "             0,     0,     0,     0,     0,     0,     0,     0,     0,     0],\n",
            "        [    0,     3,     9, 12481,   814,    65,   118,   263,    81,     8,\n",
            "           460,   189,  7685,    13,     8,  5714,     3,     5,     3,     9],\n",
            "        [    0,     3,     9,  2164,  8114, 15607,     7,  1796, 19509,     3,\n",
            "             9, 10382,  4345,     3,     5,     3,     9,  8114, 15607,     7],\n",
            "        [    0,     3,     9,     3,  2781,  1211,    24,  2480,  3624,    56,\n",
            "            36,   479,    44,     3,     9,   126,  1128,    21,     8, 12953],\n",
            "        [    0, 10998,     1,     0,     0,     0,     0,     0,     0,     0,\n",
            "             0,     0,     0,     0,     0,     0,     0,     0,     0,     0],\n",
            "        [    0,     3, 24127,    10,    79,    56,    59,  1520,    70,     3,\n",
            "         24127,  3351,   605,    44,  8327,     3,     7,  2523,  6200,   138]],\n",
            "       device='cuda:0')\n",
            "Decoded output: ['aaron carroll: career advice that is as true today as it was in 1996', 'a: 41 incredible museums to visit before you die . a: The Whitney Museum', 'True', 'a documentary film has been made about the 20th anniversary of the prison . a', 'a dark moon orbits Makemake a distant planet . a moon orbits', 'a rumour that rockstar will be looking at a new location for the epic', 'True', 'PGA: they will not hold their PGA Tour event at Miami s Trump Doral']\n",
            "Processing batch 11/50\n",
            "Generated output: tensor([[    0, 10998,     1,     0,     0,     0,     0,     0,     0,     0,\n",
            "             0,     0,     0,     0,     0,     0,     0,     0,     0,     0],\n",
            "        [    0,     3,     9,     3,  6808,    65,   141,    48,  1837,    12,\n",
            "           160,    21,   192,   203,     3,     5,     3,     9,  8985,    16],\n",
            "        [    0, 10998,     1,     0,     0,     0,     0,     0,     0,     0,\n",
            "             0,     0,     0,     0,     0,     0,     0,     0,     0,     0],\n",
            "        [    0, 10998,     1,     0,     0,     0,     0,     0,     0,     0,\n",
            "             0,     0,     0,     0,     0,     0,     0,     0,     0,     0],\n",
            "        [    0, 10998,     1,     0,     0,     0,     0,     0,     0,     0,\n",
            "             0,     0,     0,     0,     0,     0,     0,     0,     0,     0],\n",
            "        [    0, 10998,     1,     0,     0,     0,     0,     0,     0,     0,\n",
            "             0,     0,     0,     0,     0,     0,     0,     0,     0,     0],\n",
            "        [    0,     3,     9,  1202,    13,  7482,    63, 18786,     3,  2748,\n",
            "            53,    28,     8,  3652,    19,  1694,    12,  4601,     3,     5],\n",
            "        [    0,     3,     9,   291,   106,     3,  2375,     7,    15,    63,\n",
            "            10,     8, 12023,    65,  3759,  1281, 13339,   581,  4623,   147]],\n",
            "       device='cuda:0')\n",
            "Decoded output: ['True', 'a teen has had this happen to her for two years . a tumor in', 'True', 'True', 'True', 'True', 'a photo of Katy Perry posing with the flowers is posted to Instagram .', 'aaron ramsey: the Netherlands has launched legal proceedings against Russia over']\n",
            "Processing batch 12/50\n",
            "Generated output: tensor([[    0, 10998,     1,     0,     0,     0,     0,     0,     0,     0,\n",
            "             0,     0,     0,     0,     0,     0,     0,     0,     0,     0],\n",
            "        [    0,     3,     9,  7812,     3,    51,    75,  1720,    17,  3186,\n",
            "            10,     8,  6943,    21,     8,   467,    65,   118,     3,     9],\n",
            "        [    0,     3,     9,  1202,    13,     3,     9,  1365,  3357,     3,\n",
            "         27950,    12,   192,  2161,    13,  6910,    47,   435,    30,     8],\n",
            "        [    0, 10998,     1,     0,     0,     0,     0,     0,     0,     0,\n",
            "             0,     0,     0,     0,     0,     0,     0,     0,     0,     0],\n",
            "        [    0,     3,     9,     3,     7, 18461,    21,     3,     9,     3,\n",
            "             7, 18461,    21,     3,     9,     3,     7, 18461,    21,     3],\n",
            "        [    0,     3,     9, 27456, 16381, 15817,  6632,     3,  3436,   134,\n",
            "            47,   435,    16,     8,  3543, 18905,  9872,     7,    13,  1035],\n",
            "        [    0,     3,     9,   291,   106,  3293,    49,    10,  2753,  4534,\n",
            "             3,     7,   985,  4284,  2746,    12,   143,  1371,   248,   541],\n",
            "        [    0, 10998,     1,     0,     0,     0,     0,     0,     0,     0,\n",
            "             0,     0,     0,     0,     0,     0,     0,     0,     0,     0]],\n",
            "       device='cuda:0')\n",
            "Decoded output: ['True', 'adam mccartney: the trailer for the game has been a', 'a photo of a doormat glued to two pieces of foam was found on the', 'True', 'a spokesman for a spokesman for a spokesman for', 'a 1937 Bugatti Type 57S was found in the garage amid piles of medical', 'aaron miller: president Obama s half brother wants to make America great again', 'True']\n",
            "Processing batch 13/50\n",
            "Generated output: tensor([[    0, 10998,     1,     0,     0,     0,     0,     0,     0,     0,\n",
            "             0,     0,     0,     0,     0,     0,     0,     0,     0,     0],\n",
            "        [    0, 10998,     1,     0,     0,     0,     0,     0,     0,     0,\n",
            "             0,     0,     0,     0,     0,     0,     0,     0,     0,     0],\n",
            "        [    0,     3,     9,   291,   106,   443,  4046,    10,     3,     9,\n",
            "         15053, 13074,  4775,    65,    59,   751,     3,     9,  2942,    13],\n",
            "        [    0,     3,     9,   291,   106,   443,  4046,    10,     3,     9,\n",
            "           843,  1291,  2493,    28,  6149, 10933,   307,  1657, 12418,     3],\n",
            "        [    0, 10998,   733,    10,   874,  9468,  2297,  6846,    12,   143,\n",
            "            48,  2297,   774,     3,     5,     3,     9,     3,     7,  6010],\n",
            "        [    0, 10998,   733,    10,  4291,  2669,    12, 17729,     7,   874,\n",
            "          4454,    21,   262,   519,     1,     0,     0,     0,     0,     0],\n",
            "        [    0, 10998,     1,     0,     0,     0,     0,     0,     0,     0,\n",
            "             0,     0,     0,     0,     0,     0,     0,     0,     0,     0],\n",
            "        [    0,     3,     9,   126,  2270,    21,     8, 14480,   555,   988,\n",
            "            13, 17462,    52,    23,     9,    65,  2953,     3,     9,  2261]],\n",
            "       device='cuda:0')\n",
            "Decoded output: ['True', 'True', 'aaron carroll: a democratic presidential candidate has not won a majority of', 'aaron carroll: a key policy statement with potentially enormous long term implications', 'True story: five extraordinary holiday trips to make this holiday season . a satur', 'True story: virtual reality to androids five expectations for E3', 'True', 'a new update for the Xbox One version of Terraria has caused a serious']\n",
            "Processing batch 14/50\n",
            "Generated output: tensor([[    0, 10998,     1,     0,     0,     0,     0,     0,     0,     0,\n",
            "             0,     0,     0,     0,     0,     0,     0,     0,     0,     0],\n",
            "        [    0, 10998,     1,     0,     0,     0,     0,     0,     0,     0,\n",
            "             0,     0,     0,     0,     0,     0,     0,     0,     0,     0],\n",
            "        [    0,     3, 22392, 17431,   630, 19850,    32,    19,    29,     3,\n",
            "            17,   435,    16,  7332,   250,    34,   470,  3060,  1019,     8],\n",
            "        [    0, 10998,     1,     0,     0,     0,     0,     0,     0,     0,\n",
            "             0,     0,     0,     0,     0,     0,     0,     0,     0,     0],\n",
            "        [    0, 10998,     1,     0,     0,     0,     0,     0,     0,     0,\n",
            "             0,     0,     0,     0,     0,     0,     0,     0,     0,     0],\n",
            "        [    0, 10998,     1,     0,     0,     0,     0,     0,     0,     0,\n",
            "             0,     0,     0,     0,     0,     0,     0,     0,     0,     0],\n",
            "        [    0, 10998,     1,     0,     0,     0,     0,     0,     0,     0,\n",
            "             0,     0,     0,     0,     0,     0,     0,     0,     0,     0],\n",
            "        [    0, 10998,   733,    13,   365,  9817,  2095,  5502,   113,  1869,\n",
            "           147,     3,     9,  5112,    16,  8027,  1313,  1222,  7190,     3]],\n",
            "       device='cuda:0')\n",
            "Decoded output: ['True', 'True', 'fettuccine Alfredo isn t found in Rome because it never spread throughout the', 'True', 'True', 'True', 'True', 'True story of undercover police officer who spent over a decade infiltrating Britain']\n",
            "Processing batch 15/50\n",
            "Generated output: tensor([[    0,     3,     9,  2805,  6106,    40,    16,     3,     9,   542,\n",
            "          6291,    16,     3,  4606,    40,   232,  4728,   139,     3,     9],\n",
            "        [    0, 10998,     1,     0,     0,     0,     0,     0,     0,     0,\n",
            "             0,     0,     0,     0,     0,     0,     0,     0,     0,     0],\n",
            "        [    0, 10998,     1,     0,     0,     0,     0,     0,     0,     0,\n",
            "             0,     0,     0,     0,     0,     0,     0,     0,     0,     0],\n",
            "        [    0,  6510,     9, 25099,    33,   338,     3,     9,   126,  3317,\n",
            "            12,   960,    21,     3,     9,   384,  1144,     3,     5,     3],\n",
            "        [    0,     3,     7,   994,    10,  1523,   381,    13,   151,    25,\n",
            "          2085,    28,    21,   321,  1076,    11,   887,    12,  7365,  1046],\n",
            "        [    0, 10998,     1,     0,     0,     0,     0,     0,     0,     0,\n",
            "             0,     0,     0,     0,     0,     0,     0,     0,     0,     0],\n",
            "        [    0, 10998,   733,    10,    73, 14577,   179,    19,     8,  5737,\n",
            "         23586,  1974,    16,     8,  1176,     7,    17,  1254,     3,     5],\n",
            "        [    0,     3,  9079,     7,    33,     3,     9,   600,  1154,    30,\n",
            "          1157,  3285,  9079,   239,     3,     5,     3,  3436,  1093,    13]],\n",
            "       device='cuda:0')\n",
            "Decoded output: ['a seagull in a food factory in england fell into a', 'True', 'True', 'genealogists are using a new technique to search for a family member .', 'sex: ideal number of people you sleep with for both men and women to retain interest', 'True', 'True story: unbreakable is the ultimate superhero movie in the truest sense .', 'burgers are a big deal on national cheeseburger day . 57 percent of']\n",
            "Processing batch 16/50\n",
            "Generated output: tensor([[    0,     3,     9,   291,   106,   443,  4046,    10,   789, 13237,\n",
            "            33,  7306,  2049,    12, 17267,  4367,  2611,   135,    21,    70],\n",
            "        [    0, 10998,     1,     0,     0,     0,     0,     0,     0,     0,\n",
            "             0,     0,     0,     0,     0,     0,     0,     0,     0,     0],\n",
            "        [    0, 10998,     1,     0,     0,     0,     0,     0,     0,     0,\n",
            "             0,     0,     0,     0,     0,     0,     0,     0,     0,     0],\n",
            "        [    0,     3,     9,   291,   106,   443,  4046,    10,     3,     9,\n",
            "          1798,  7021,  7930,    65,     3,     9,  8197,   800,    30,   149],\n",
            "        [    0, 10747,     7,    15,     1,     0,     0,     0,     0,     0,\n",
            "             0,     0,     0,     0,     0,     0,     0,     0,     0,     0],\n",
            "        [    0,     3,     9,     3,     7,   994,  4874,    13,     3,     9,\n",
            "          2669,   504,     3,     7,   994,  4874,    47,  1883,    30,     3],\n",
            "        [    0, 10998,     1,     0,     0,     0,     0,     0,     0,     0,\n",
            "             0,     0,     0,     0,     0,     0,     0,     0,     0,     0],\n",
            "        [    0, 10747,     7,    15,     1,     0,     0,     0,     0,     0,\n",
            "             0,     0,     0,     0,     0,     0,     0,     0,     0,     0]],\n",
            "       device='cuda:0')\n",
            "Decoded output: ['aaron carroll: government bonds are falling thanks to anxious investors buying them for their', 'True', 'True', 'aaron carroll: a former union boss has a bold idea on how', 'False', 'a sex tape of a reality show sex tape was released on', 'True', 'False']\n",
            "Processing batch 17/50\n",
            "Generated output: tensor([[    0,     3,     9,  1132,    49,   845,    24,     8,  2249,   147,\n",
            "           161,    30,     8,   467,    19,  1134, 12658,   291,   179,     3],\n",
            "        [    0,     3,     9,   126,   988,    13,     8,  2911,  6682,   314,\n",
            "           228,    36,  1107,  1116,     3,     5,     3,     9,   126,   988],\n",
            "        [    0,     3,     9,   126,   583,   509, 14203,   895,    19,   230,\n",
            "             8,   163,   998,   895,  4307,    44,  6409,   509,   374,  2360],\n",
            "        [    0,     3,     9,     3,     7, 18461,    21,     3,     9,  3856,\n",
            "           120,   776,    26,   388,   845,     3,    88,    19,    96,  9776],\n",
            "        [    0,     3,     9,  1554,    13,     3,     9,  1554,    13, 13816,\n",
            "           352, 16686,    30, 13301,   336,  1186,     3,     5,     3,    88],\n",
            "        [    0, 10998,     1,     0,     0,     0,     0,     0,     0,     0,\n",
            "             0,     0,     0,     0,     0,     0,     0,     0,     0,     0],\n",
            "        [    0,     3,     9,   291,   106,   443,  4046,    10,   150,  1396,\n",
            "            16, 11796,  2358,   117,     3,    88,   845,  2136,    13,  1396],\n",
            "        [    0,     3,     9,  1202,    13,     3,     9,  2335,    28,  2515,\n",
            "          3481, 26040, 10518,    19,  1026,    57,     3,     9, 10444,     3]],\n",
            "       device='cuda:0')\n",
            "Decoded output: ['a reviewer says that the voice over work on the game is pretty unbearable', 'a new version of the Playstation 4 could be coming soon . a new version', 'a new costco Visa card is now the only credit card accepted at Costco Debit', 'a spokesman for a paralyzed man says he is \"dev', 'a picture of a picture of Howard going viral on facebook last April . he', 'True', 'aaron carroll: no internet in jail cell; he says lack of internet', 'a photo of a woman with frostbitten fingers is taken by a nurse']\n",
            "Processing batch 18/50\n",
            "Generated output: tensor([[    0,     3,     9,  9901,     3,  2781,   127,    24, 15676, 13560,\n",
            "         16617,    19,   271,  4061,    38, 10094,   152,    65,  2953,    46],\n",
            "        [    0,     3,     9,  2983,  5630,    15,  4728,    11,    47,  6229,\n",
            "            16,     3,     9,  2195,   168,    21,    72,   145,  2391,   716],\n",
            "        [    0,     3,     9,   126,  1131,    26,   155,  3071,     3, 15503,\n",
            "          1595,   871,  6731,  2554,   167,     3,  9667,    15,  5529,  8966],\n",
            "        [    0, 10998,     1,     0,     0,     0,     0,     0,     0,     0,\n",
            "             0,     0,     0,     0,     0,     0,     0,     0,     0,     0],\n",
            "        [    0,     3,    10,     3,     9,     3,  2771,   106,    49,    10,\n",
            "             3,     9,  9503,  1208, 11511,  7634,  7250,   326,  1726,   383],\n",
            "        [    0,     3,     9,     3,    76,     5,     7,     5, 13008,   133,\n",
            "            43,    12,   726,  6897,  1093,    12,  7123,  1093,    13,   165],\n",
            "        [    0,     3,     9,   291,   106,   443,  4046,    10,  1421,    47,\n",
            "             3,     9,   215,    13,   207,  1506,    21,   186,     3,     5],\n",
            "        [    0, 10998,     1,     0,     0,     0,     0,     0,     0,     0,\n",
            "             0,     0,     0,     0,     0,     0,     0,     0,     0,     0]],\n",
            "       device='cuda:0')\n",
            "Decoded output: ['a fake rumor that actress Jennifer Lawrence is being cast as Mulan has caused an', 'a snowshoe fell and was stuck in a tree well for more than seven hours', 'a new reddit discussion reveals hotel staff reveal guests most gruesome habits', 'True', ': a crooner: a legendary Mexican singer falls off stage during', 'a u.s. citizen would have to pay 55 percent to 65 percent of its', 'aaron carroll: 2016 was a year of good news for many .', 'True']\n",
            "Processing batch 19/50\n",
            "Generated output: tensor([[    0,     3,     9,   102,   994,  1614,  7020,     3,     9,   997,\n",
            "           471,  9841,  2335,  6059,    12, 13813,   160,  8999,     3,     5],\n",
            "        [    0,     3,     9,   291,   106,   443,  4046,    10,    21,     8,\n",
            "           166,    97,    16, 13074,  5492,    53,  7459,  2523,  1330,    12],\n",
            "        [    0,     3,     9,   372,    13,  7004,    44, 10210,   322,  3819,\n",
            "            16,  8036,   509,  2514, 21527,    46,     3,  2741,   102,  8076],\n",
            "        [    0, 10998,     1,     0,     0,     0,     0,     0,     0,     0,\n",
            "             0,     0,     0,     0,     0,     0,     0,     0,     0,     0],\n",
            "        [    0,     3,     9,     3,     7, 18461,    21,     8, 14915,     3,\n",
            "             7,  1798,  1711,  5502,  7881,     7, 13033,    53,   139, 11618],\n",
            "        [    0,     3,     9,   126,   671,    45,  5061,  3313,  1267,     3,\n",
            "             9,   388,   479,  1149,    15,  8692,    26,     3,     5,     8],\n",
            "        [    0,     3,     9,   291,   106,   443,  4046,    10,     8,   997,\n",
            "           215,   625,    19,  1735,    30,    45,     8,  8929, 16023,  7884],\n",
            "        [    0, 10998,     1,     0,     0,     0,     0,     0,     0,     0,\n",
            "             0,     0,     0,     0,     0,     0,     0,     0,     0,     0]],\n",
            "       device='cuda:0')\n",
            "Decoded output: ['apex court granted a 24 week pregnant woman permission to terminate her pregnancy .', 'aaron carroll: for the first time in presidential polling Donald Trump seems to', 'a team of scientists at baylor university in waco Texas extracted an earplug', 'True', 'a spokesman for the queen s former protection officer recalls bumping into tourists', 'a new video from Radiohead shows a man looking unsettled . the', 'aaron carroll: the 24 year old is moving on from the Harry Potter franchise', 'True']\n",
            "Processing batch 20/50\n",
            "Generated output: tensor([[    0, 10998,     1,     0,     0,     0,     0,     0,     0,     0,\n",
            "             0,     0,     0,     0,     0,     0,     0,     0,     0,     0],\n",
            "        [    0,     3,     9,   291,   106,   443,  4046,    10,  2391, 11252,\n",
            "          2431,     7,   225,    36,    30,   334, 10211,     3,     7,  1335],\n",
            "        [    0, 10747,     7,    15,     1,     0,     0,     0,     0,     0,\n",
            "             0,     0,     0,     0,     0,     0,     0,     0,     0,     0],\n",
            "        [    0, 10998,     1,     0,     0,     0,     0,     0,     0,     0,\n",
            "             0,     0,     0,     0,     0,     0,     0,     0,     0,     0],\n",
            "        [    0, 10998,     1,     0,     0,     0,     0,     0,     0,     0,\n",
            "             0,     0,     0,     0,     0,     0,     0,     0,     0,     0],\n",
            "        [    0, 10998,     1,     0,     0,     0,     0,     0,     0,     0,\n",
            "             0,     0,     0,     0,     0,     0,     0,     0,     0,     0],\n",
            "        [    0,     3,     9,  2714,   917,  3317,    54,   617,  4160,    12,\n",
            "            39,  1416,     3,     5,     3,     9,  2437,  3361,    54,   310],\n",
            "        [    0,     3,     9,   291,   106,   443,  4046,    10,   192,  4061,\n",
            "           724,    43,   646,     3, 15829,     3,     7,     3,     7,  1856]],\n",
            "       device='cuda:0')\n",
            "Decoded output: ['True', 'aaron carroll: seven conservative classics should be on every american s books', 'False', 'True', 'True', 'True', 'a poor application technique can add decades to your looks . a heavy foundation can really', 'aaron carroll: two cast members have left NBC s s Saturday']\n",
            "Processing batch 21/50\n",
            "Generated output: tensor([[    0, 10998,     1,     0,     0,     0,     0,     0,     0,     0,\n",
            "             0,     0,     0,     0,     0,     0,     0,     0,     0,     0],\n",
            "        [    0, 10998,     1,     0,     0,     0,     0,     0,     0,     0,\n",
            "             0,     0,     0,     0,     0,     0,     0,     0,     0,     0],\n",
            "        [    0,     3,     9,   671,    13,     3,     9,  2335,  7306, 25429,\n",
            "            16,   160,   443,   227,   147,    26,    32,     7,    53,    30],\n",
            "        [    0, 10998,     1,     0,     0,     0,     0,     0,     0,     0,\n",
            "             0,     0,     0,     0,     0,     0,     0,     0,     0,     0],\n",
            "        [    0,     3,     9,   291,   106,   443,  4046,    10,     3,  4013,\n",
            "           215,   625,   643, 16422,    49,   845,  1246,    19,  1327,    68],\n",
            "        [    0, 10998,     1,     0,     0,     0,     0,     0,     0,     0,\n",
            "             0,     0,     0,     0,     0,     0,     0,     0,     0,     0],\n",
            "        [    0,     3,     9,   291,   106,  3293,    49,    10,  1614,    13,\n",
            "         17834,   257,    21,  2600,    95,  6134,     7, 12346,    30,  4263],\n",
            "        [    0,     3,     9, 13802, 15480,    13,    80,   530,     3,     9,\n",
            "          8700,   116,   160,  1466,    13, 13654,  2299,   131,   114,     3]],\n",
            "       device='cuda:0')\n",
            "Decoded output: ['True', 'True', 'a video of a woman falling unconscious in her car after overdosing on', 'True', 'aaron carroll: 77 year old bodybuilder says age is nothing but', 'True', 'aaron miller: court of arbitration for sport upholds ruling on Russian', 'a hungry mum of one got a shock when her piece of pork looked just like']\n",
            "Processing batch 22/50\n",
            "Generated output: tensor([[    0,     3,     9,     3,     7,   994,    63,  8999,  1867,  6710,\n",
            "           343,    10,   278,     3,    17,  1586,   160, 13033,    11, 28218],\n",
            "        [    0, 10998,     1,     0,     0,     0,     0,     0,     0,     0,\n",
            "             0,     0,     0,     0,     0,     0,     0,     0,     0,     0],\n",
            "        [    0, 10998,     1,     0,     0,     0,     0,     0,     0,     0,\n",
            "             0,     0,     0,     0,     0,     0,     0,     0,     0,     0],\n",
            "        [    0,     3,     9,  1132,    13,  2116,  1267,    24,     8,  1281,\n",
            "          6663,  1246,    13,  1401,  1097,     7,  1342,    30,     8,  1373],\n",
            "        [    0, 10998,     1,     0,     0,     0,     0,     0,     0,     0,\n",
            "             0,     0,     0,     0,     0,     0,     0,     0,     0,     0],\n",
            "        [    0,     3,     9,   498,    29,    45,   945,   962,  1694,     3,\n",
            "             9,  5296,   629,  1552,    13,     8, 28868,     7,   234,     3],\n",
            "        [    0, 10998,     1,     0,     0,     0,     0,     0,     0,     0,\n",
            "             0,     0,     0,     0,     0,     0,     0,     0,     0,     0],\n",
            "        [    0,     3,     9,   764,    32,    21,     8, 19826,    12,     8,\n",
            "          1560,  1974,    19,  1644,     3,     5,     3,     9,   764,    32]],\n",
            "       device='cuda:0')\n",
            "Decoded output: ['a sexy pregnancy advice columnist: don t touch her bump and NEVER', 'True', 'True', 'a review of studies shows that the legal drinking age of 21 saves lives on the road', 'True', 'aarean from color issue posted a gorgeous house tour of the Romneys home', 'True', 'a cameo for the sequel to the hit movie is expected . a cameo']\n",
            "Processing batch 23/50\n",
            "Generated output: tensor([[    0, 10998,     1,     0,     0,     0,     0,     0,     0,     0,\n",
            "             0,     0,     0,     0,     0,     0,     0,     0,     0,     0],\n",
            "        [    0, 10998,     1,     0,     0,     0,     0,     0,     0,     0,\n",
            "             0,     0,     0,     0,     0,     0,     0,     0,     0,     0],\n",
            "        [    0,     3,     9,     3,    17,     9,  2907,    23,   895,   265,\n",
            "            32,    51, 21248,  6253,    19,   263,    45,     3,     9,  1196],\n",
            "        [    0,     3,     9,     3,     7, 18461,    21,     8,  1928,   845,\n",
            "             8,  7634,     3,     7,  1357,    12,  1205,    12,  9825,  7116],\n",
            "        [    0,     3,     9, 25226, 10529,  4595,  8238,   139,     3,     9,\n",
            "         25552,    11, 30722,    15,    26,   997,     3,  8497,     3,     5],\n",
            "        [    0, 10998,     1,     0,     0,     0,     0,     0,     0,     0,\n",
            "             0,     0,     0,     0,     0,     0,     0,     0,     0,     0],\n",
            "        [    0,     3,     9,   420, 23032,  2205,    65,     3, 19492,     8,\n",
            "          2982,     3,     7,  3989,     7,    12, 27812,    70,  1295,    12],\n",
            "        [    0,     3,     9,     3,  5670,    13,     8, 12219, 21783, 18882,\n",
            "          1290,   343,   459,  2558,    19,     3,     9,   417,   194,    12]],\n",
            "       device='cuda:0')\n",
            "Decoded output: ['True', 'True', 'a tahini cardamom squash pie is made from a variety', 'a spokesman for the band says the singer s decision to return to Reading Fest', 'a ravenous bear broke into a bakery and devoured 24 pies .', 'True', 'a top sprout expert has urged the nation s cooks to reconsider their approach to', 'a jar of the Sephora Instant Moisturizer is a sure way to']\n",
            "Processing batch 24/50\n",
            "Generated output: tensor([[    0,     3,     9,   291,   106,   443,  4046,    10,     3,     9,\n",
            "          2431,  1848,   751,     3,    17,    43,     3,     9,   764,    32],\n",
            "        [    0, 10998,     1,     0,     0,     0,     0,     0,     0,     0,\n",
            "             0,     0,     0,     0,     0,     0,     0,     0,     0,     0],\n",
            "        [    0, 10998,     1,     0,     0,     0,     0,     0,     0,     0,\n",
            "             0,     0,     0,     0,     0,     0,     0,     0,     0,     0],\n",
            "        [    0, 10998,     1,     0,     0,     0,     0,     0,     0,     0,\n",
            "             0,     0,     0,     0,     0,     0,     0,     0,     0,     0],\n",
            "        [    0,     3,     9,     3,  2781,   127,   845,    24,     8,   467,\n",
            "            56,    36,  1883, 17078,    48,  8990,  3381,     3,     5,     3],\n",
            "        [    0, 10998,     1,     0,     0,     0,     0,     0,     0,     0,\n",
            "             0,     0,     0,     0,     0,     0,     0,     0,     0,     0],\n",
            "        [    0,     3,     9,     3,   324,   215,   625,  3202,    47,  1556,\n",
            "          7387,    11,  2762,    28,   160,   803,   116,   192,  1076, 15319],\n",
            "        [    0,     3,     9, 23909,    21,     8,  1798,  1485,  3712, 11958,\n",
            "         22547,    24,   255,    47,  3956, 10213,     3,     5,     3,     9]],\n",
            "       device='cuda:0')\n",
            "Decoded output: ['aaron carroll: a classic character won t have a cameo', 'True', 'True', 'True', 'a rumor says that the game will be released sometime this console generation .', 'True', 'a ten year old girl was playing hide and seek with her friends when two men approached', 'a spokesperson for the former First Family denied speculation that she was supporting Clinton . a']\n",
            "Processing batch 25/50\n",
            "Generated output: tensor([[    0,     3,     9,  1614,  1943,  2241,   133,  7873, 23633,  9812,\n",
            "            91,    13,  1723,    42, 11332,    70, 19749,     3,     5,     3],\n",
            "        [    0,     3,     9,    26,   400,    10,     3, 15311,    15,    65,\n",
            "           141,    12,   428,    95,    80,    13,   280,     3,     7,  4016],\n",
            "        [    0, 10998,     1,     0,     0,     0,     0,     0,     0,     0,\n",
            "             0,     0,     0,     0,     0,     0,     0,     0,     0,     0],\n",
            "        [    0,     3,     9,   126,   810,  1267,    24,  3648,  1759,  1358,\n",
            "            95,    12,  1640,  1093,    72,   145,  7450,   494,     3,     5],\n",
            "        [    0,     3,     9,     3,     7, 18461,    21,     8,   538,    13,\n",
            "             3,  8135, 14382,     9,   845,     8,   538,    19,     3,     9],\n",
            "        [    0, 10998,     1,     0,     0,     0,     0,     0,     0,     0,\n",
            "             0,     0,     0,     0,     0,     0,     0,     0,     0,     0],\n",
            "        [    0,     3,     9,   291,   106,   443,  4046,    10, 23249,    19,\n",
            "          8335,    12,   453,    95,    28,  2173,    21,   165,   740,  6438],\n",
            "        [    0,     3,     9,     3,     7, 18461,    21,     8,  3100,   845,\n",
            "             3,    88,    19,    59,     3,     9,  1819,    13,     8,   814]],\n",
            "       device='cuda:0')\n",
            "Decoded output: ['a court heard brain would trick lonely hearts out of cash or steal their jewellery .', 'adele: adele has had to give up one of life s greatest', 'True', 'a new study shows that organic produce costs up to 60 percent more than conventional products .', 'a spokesman for the state of colombia says the state is a', 'True', 'aaron carroll: Lego is struggling to keep up with demand for its building blocks', 'a spokesman for the studio says he is not a fan of the film']\n",
            "Processing batch 26/50\n",
            "Generated output: tensor([[    0, 10998,     1,     0,     0,     0,     0,     0,     0,     0,\n",
            "             0,     0,     0,     0,     0,     0,     0,     0,     0,     0],\n",
            "        [    0,     3,     9,   511,   774,    13, 22115,    52,  9171,    56,\n",
            "         13539,    16,  1233,     3,     5,     3,     9,  2198,     7,    49],\n",
            "        [    0,     3,     9,   291,   106,   443,  4046,    10,     3,    88,\n",
            "             3,     7,     3,     9,   248,  2090,    68,     3,    88,     3],\n",
            "        [    0, 10998,     1,     0,     0,     0,     0,     0,     0,     0,\n",
            "             0,     0,     0,     0,     0,     0,     0,     0,     0,     0],\n",
            "        [    0,     3,     9,   388,     3, 28423,    45,     3,     9, 13709,\n",
            "           365,     8,  8820,    13, 17539,  4660,     3,     5,     3,     9],\n",
            "        [    0, 10998,     1,     0,     0,     0,     0,     0,     0,     0,\n",
            "             0,     0,     0,     0,     0,     0,     0,     0,     0,     0],\n",
            "        [    0,     3,     9,  7799,  7358,    49,    65,  3977,   227,  7306,\n",
            "            16,     3,     9, 19866,  3125,   716,   227,  3447,     3,     9],\n",
            "        [    0, 10998,     1,     0,     0,     0,     0,     0,     0,     0,\n",
            "             0,     0,     0,     0,     0,     0,     0,     0,     0,     0]],\n",
            "       device='cuda:0')\n",
            "Decoded output: ['True', 'a second season of Stranger Things will premiere in 2017 . a teaser', 'aaron carroll: he s a great director but he', 'True', 'a man escaped from a pursuit under the nose of choppers . a', 'True', 'a talented rower has died after falling in a freak accident hours after winning a', 'True']\n",
            "Processing batch 27/50\n",
            "Generated output: tensor([[    0, 10998,     1,     0,     0,     0,     0,     0,     0,     0,\n",
            "             0,     0,     0,     0,     0,     0,     0,     0,     0,     0],\n",
            "        [    0,     3, 11430,   226,  3774,   189,    10,     3,     9, 11761,\n",
            "            81,  6949,  3735,  2420,     3,     5,     3,     9,     3, 11430],\n",
            "        [    0,     3,     9,   291,   106,   443,  4046,    10,     3,     9,\n",
            "          1902,   215,   625,  9994,   530,  6257,  7122,   139,     3,     9],\n",
            "        [    0,     3,     9,   126,   934,  8285,     8,     3,  3523,   450,\n",
            "           397,    13,  1460,  8631,  1575,    16,     8,   412,   180,     3],\n",
            "        [    0,     3,     9,  5958,    17,  4595,  6817,   435,    16,     8,\n",
            "          9634,    47, 10635,  7366,   203,   625,     3,     5,     3,     9],\n",
            "        [    0, 10998,     1,     0,     0,     0,     0,     0,     0,     0,\n",
            "             0,     0,     0,     0,     0,     0,     0,     0,     0,     0],\n",
            "        [    0, 10998,     1,     0,     0,     0,     0,     0,     0,     0,\n",
            "             0,     0,     0,     0,     0,     0,     0,     0,     0,     0],\n",
            "        [    0,     3,  3491,   232,  3157,    17,    77,    10,     8,   650,\n",
            "          1053,     8, 17655,     7,    54,     3,    17,  1369,     8, 14512]],\n",
            "       device='cuda:0')\n",
            "Decoded output: ['True', 'TEDxYouth: a lie about sexual objectification . a TED', 'aaron carroll: a 23 year old journalist got herself checked into a', 'a new report highlights the scourge of malnutrition in the U S', 'a burnt bear bone found in the cave was 47 600 years old . a', 'True', 'True', 'roland martin: the simple reason the Cavs can t win the NBA']\n",
            "Processing batch 28/50\n",
            "Generated output: tensor([[    0,     3,     9,   126, 10069,  2062,  3741,    19,   479,    12,\n",
            "          9481,  1737,     8,   542,   681,     3,     5,     8,  2077,    19],\n",
            "        [    0,     3,     9,   291,   106,   443,  4046,    10,     8,  1974,\n",
            "            96,   188,   162,  9369,     7,   121,    19,     3,     9, 27145],\n",
            "        [    0, 10998,     1,     0,     0,     0,     0,     0,     0,     0,\n",
            "             0,     0,     0,     0,     0,     0,     0,     0,     0,     0],\n",
            "        [    0,     3, 25212,     7,  9100, 12936,    21,  6937,  1236,  2814,\n",
            "             6,   845,     3, 25212, 11223,     3,     5,     3,     9,  2942],\n",
            "        [    0,     3,     9,  2353,    13,   662,    47,    20,   208,   670,\n",
            "           120,  4761,    11,   141,     3,  9925,    30,   112,   293,     3],\n",
            "        [    0, 10998,     1,     0,     0,     0,     0,     0,     0,     0,\n",
            "             0,     0,     0,     0,     0,     0,     0,     0,     0,     0],\n",
            "        [    0,     3,     9, 14065,   113,     3,    15,    76,  6736,  3375,\n",
            "          6257,    16, 14441,     3,     7,  3947, 10755,   297,  3392,    19],\n",
            "        [    0, 10998,     1,     0,     0,     0,     0,     0,     0,     0,\n",
            "             0,     0,     0,     0,     0,     0,     0,     0,     0,     0]],\n",
            "       device='cuda:0')\n",
            "Decoded output: ['a new automated restaurant chain is looking to revolutionize the food industry . the concept is', 'aaron carroll: the movie \"Avengers\" is a culmin', 'True', 'millennials blame colleges for rising student debt, says millennial advocate . a majority', 'a father of four was devoutly religious and had acted on his own', 'True', 'a vet who euthanised herself in Taiwan s pet abandonment battle is', 'True']\n",
            "Processing batch 29/50\n",
            "Generated output: tensor([[    0, 10998,     1,     0,     0,     0,     0,     0,     0,     0,\n",
            "             0,     0,     0,     0,     0,     0,     0,     0,     0,     0],\n",
            "        [    0,     3,     9,   291,   106,   443,  4046,    10,    66,   813,\n",
            "          3610,     7,   281,    12, 19837, 13016,   588,     7,  1959,   113],\n",
            "        [    0, 10998,     1,     0,     0,     0,     0,     0,     0,     0,\n",
            "             0,     0,     0,     0,     0,     0,     0,     0,     0,     0],\n",
            "        [    0, 10998,     1,     0,     0,     0,     0,     0,     0,     0,\n",
            "             0,     0,     0,     0,     0,     0,     0,     0,     0,     0],\n",
            "        [    0,     3,     9,   126,   160,    32,    65,   118,  2162,    12,\n",
            "          1715,     8, 17727,    13,   147,  9237,     3,     5,     3,     9],\n",
            "        [    0,     3,     9,   239,   227,    90, 22780,    29,  2549,   718,\n",
            "           376,     3,     9,     3,   547,    49,    11,   146,   122,    95],\n",
            "        [    0, 10998,     1,     0,     0,     0,     0,     0,     0,     0,\n",
            "             0,     0,     0,     0,     0,     0,     0,     0,     0,     0],\n",
            "        [    0,     3, 29892,    33,     3, 15733,   626,    28,  2022,  1792,\n",
            "             8,  5113,    13,     3,     9,  5168,  1890,     3,     5,     3]],\n",
            "       device='cuda:0')\n",
            "Decoded output: ['True', 'aaron carroll: all pro honors go to Oakland Raiders player who', 'True', 'True', 'a new hero has been announced to join the roster of overwatch . a', 'a day after leBron James called him a hater and dug up', 'True', 'pears are reportedly perfect with helping avoid the possibility of a hangover .']\n",
            "Processing batch 30/50\n",
            "Generated output: tensor([[    0, 10998,     1,     0,     0,     0,     0,     0,     0,     0,\n",
            "             0,     0,     0,     0,     0,     0,     0,     0,     0,     0],\n",
            "        [    0, 10998,     1,     0,     0,     0,     0,     0,     0,     0,\n",
            "             0,     0,     0,     0,     0,     0,     0,     0,     0,     0],\n",
            "        [    0, 10998,     1,     0,     0,     0,     0,     0,     0,     0,\n",
            "             0,     0,     0,     0,     0,     0,     0,     0,     0,     0],\n",
            "        [    0,     3,     9,   291,   106,   443,  4046,    10,   149,   410,\n",
            "         11705,    63,   254,    63,  4502,  3853,   493,    63, 14549,    58],\n",
            "        [    0, 10998,     1,     0,     0,     0,     0,     0,     0,     0,\n",
            "             0,     0,     0,     0,     0,     0,     0,     0,     0,     0],\n",
            "        [    0,     3,     9,  7812,     3,  1618,  1629,    10,   212,   155,\n",
            "           120,    29,     3,    75, 17805,     3,     7,   215,  2567,  5035],\n",
            "        [    0, 10998,     1,     0,     0,     0,     0,     0,     0,     0,\n",
            "             0,     0,     0,     0,     0,     0,     0,     0,     0,     0],\n",
            "        [    0, 10998,   733,    10, 13349,  6824,   935,  1217,    30,     8,\n",
            "          1506,  3082,    11, 17315,    34,     3,     5,     3,     9,   260]],\n",
            "       device='cuda:0')\n",
            "Decoded output: ['True', 'True', 'True', 'aaron carroll: how did MileyCyrus beat Beyonce?', 'True', 'adam lanza: caitlyn cannon s yearbook quote', 'True', 'True story: Amy Schumer takes on the newsroom and nails it . a par']\n",
            "Processing batch 31/50\n",
            "Generated output: tensor([[    0, 10998,     1,     0,     0,     0,     0,     0,     0,     0,\n",
            "             0,     0,     0,     0,     0,     0,     0,     0,     0,     0],\n",
            "        [    0, 10998,     1,     0,     0,     0,     0,     0,     0,     0,\n",
            "             0,     0,     0,     0,     0,     0,     0,     0,     0,     0],\n",
            "        [    0,     3,     9,     3,     7,   152,  2515, 11389,  3523,    18,\n",
            "           390,   349,    19,     3,     9,   248,   286,    12,   456,     3],\n",
            "        [    0,     3,     9,   671,    13,     3,     9,   388,   113,    47,\n",
            "           578,     3,     9,  1282,   239,    44,   161,  2347,   147,   220],\n",
            "        [    0, 10998,     1,     0,     0,     0,     0,     0,     0,     0,\n",
            "             0,     0,     0,     0,     0,     0,     0,     0,     0,     0],\n",
            "        [    0, 10998,     1,     0,     0,     0,     0,     0,     0,     0,\n",
            "             0,     0,     0,     0,     0,     0,     0,     0,     0,     0],\n",
            "        [    0, 10998,     1,     0,     0,     0,     0,     0,     0,     0,\n",
            "             0,     0,     0,     0,     0,     0,     0,     0,     0,     0],\n",
            "        [    0, 10998,     1,     0,     0,     0,     0,     0,     0,     0,\n",
            "             0,     0,     0,     0,     0,     0,     0,     0,     0,     0]],\n",
            "       device='cuda:0')\n",
            "Decoded output: ['True', 'True', 'a san francisco-based company is a great place to start', 'a video of a man who was having a bad day at work gets over 3', 'True', 'True', 'True', 'True']\n",
            "Processing batch 32/50\n",
            "Generated output: tensor([[    0,     3,     9,   381,    13,  9227,    43,   118, 24882, 15157,\n",
            "           123,  5341, 30756,     7,     3,     5,     8, 30756,     7,    33],\n",
            "        [    0,     3,     9,   671,  1694,    30, 13301,  1267,  4973,   277,\n",
            "         19781,   619, 28957,   139,     8,   799,     3,     5,     3,     9],\n",
            "        [    0, 10998,     1,     0,     0,     0,     0,     0,     0,     0,\n",
            "             0,     0,     0,     0,     0,     0,     0,     0,     0,     0],\n",
            "        [    0, 10998,     1,     0,     0,     0,     0,     0,     0,     0,\n",
            "             0,     0,     0,     0,     0,     0,     0,     0,     0,     0],\n",
            "        [    0, 10747,     7,    15,     1,     0,     0,     0,     0,     0,\n",
            "             0,     0,     0,     0,     0,     0,     0,     0,     0,     0],\n",
            "        [    0,     3,     9,     3,    75, 13419,   109,    19,     3,     9,\n",
            "          1450,  3711,     3,    75, 13419,   109,    24,    19,   386,  5075],\n",
            "        [    0, 10998,     1,     0,     0,     0,     0,     0,     0,     0,\n",
            "             0,     0,     0,     0,     0,     0,     0,     0,     0,     0],\n",
            "        [    0, 10998,     1,     0,     0,     0,     0,     0,     0,     0,\n",
            "             0,     0,     0,     0,     0,     0,     0,     0,     0,     0]],\n",
            "       device='cuda:0')\n",
            "Decoded output: ['a number of athletes have been photographed sporting cupping bruises . the bruises are', 'a video posted on facebook shows protesters firing live ammunition into the air . a', 'True', 'True', 'False', 'a crinkle is a huge chocolate crinkle that is three inches', 'True', 'True']\n",
            "Processing batch 33/50\n",
            "Generated output: tensor([[    0, 10998,     1,     0,     0,     0,     0,     0,     0,     0,\n",
            "             0,     0,     0,     0,     0,     0,     0,     0,     0,     0],\n",
            "        [    0, 10998,     1,     0,     0,     0,     0,     0,     0,     0,\n",
            "             0,     0,     0,     0,     0,     0,     0,     0,     0,     0],\n",
            "        [    0, 10998,     1,     0,     0,     0,     0,     0,     0,     0,\n",
            "             0,     0,     0,     0,     0,     0,     0,     0,     0,     0],\n",
            "        [    0,     3,     9,     3,     7,   152,  2515, 11389,  3523,  2472,\n",
            "           845,    24,     3,    99,    25,  2615,  1293,    25,    54,   700],\n",
            "        [    0,     3,     9,   291,   106,   443,  4046,    10, 10601,    21,\n",
            "             3,     9,   207,  4775,    28,  5731,   210,     7,    19,     3],\n",
            "        [    0, 10998,     1,     0,     0,     0,     0,     0,     0,     0,\n",
            "             0,     0,     0,     0,     0,     0,     0,     0,     0,     0],\n",
            "        [    0,     3, 17396,  1442,    15,    10, 16700, 25128,    17,   317,\n",
            "             7,  2798,  8942,  5979,    15,   225,  1049,    30,    38, 10803],\n",
            "        [    0,     3,     9,  5404,  1647,   939,    56,    36,  2546,    57,\n",
            "             8,  1480,   706, 27870,     3,     5,     3,     9,    10, 12373]],\n",
            "       device='cuda:0')\n",
            "Decoded output: ['True', 'True', 'True', 'a san francisco doctor says that if you lose weight you can actually', 'aaron carroll: voting for a good candidate with flaws is', 'True', 'bob greene: Warren Buffett thinks Ben Bernanke should stay on as Fed', 'a spinoff series will be produced by the late night comedian . a: comedy']\n",
            "Processing batch 34/50\n",
            "Generated output: tensor([[    0, 10998,    10,    48,    19,     8,   167,   359,  1506,    25,\n",
            "           608,    66,   215,     5,     3,     9,   126,  1120,    19,   230],\n",
            "        [    0,     3,     9,   291,   106,   443,  4046,    10,  2085,    20,\n",
            "          2246,   208,   257,    19,    92,     8,  1137,    13,    46,   993],\n",
            "        [    0, 10998,     1,     0,     0,     0,     0,     0,     0,     0,\n",
            "             0,     0,     0,     0,     0,     0,     0,     0,     0,     0],\n",
            "        [    0,     3,     9,     3,     7, 18461,    21,     8,     3,    76,\n",
            "             5,     7,     5,   789,   845,  1717,    19,  1346,    12,  3281],\n",
            "        [    0,     3, 10494,  1925,  2129,    11,  8833,  9165,    10,     3,\n",
            "         25212,     7,    33,   394,    44,     3,     9,   824,  1675,  4359],\n",
            "        [    0,     3,     9,   291,   106,     3,    15,     5,     3,    51,\n",
            "            75,  1720,    17,  3186,    10,     3,    23,     3,    26,   470],\n",
            "        [    0,     3,     9,  9600,    19,   142,   210,    29,   544,    28,\n",
            "             3, 16169, 27199,   227,   165,   336,  2233,     3,     5,     3],\n",
            "        [    0, 10998,     1,     0,     0,     0,     0,     0,     0,     0,\n",
            "             0,     0,     0,     0,     0,     0,     0,     0,     0,     0]],\n",
            "       device='cuda:0')\n",
            "Decoded output: ['True: this is the most important news you read all year. a new app is now', 'aaron carroll: sleep deprivation is also the cause of an increase', 'True', 'a spokesman for the u.s. government says blood is safe to drink', 'TD Bank Love and Money Study: millennials are better at a certain relationship skill', 'aaron e. mccartney: i d never', 'a baseball is sewn together with 108 stitches after its last title .', 'True']\n",
            "Processing batch 35/50\n",
            "Generated output: tensor([[    0, 10998,     1,     0,     0,     0,     0,     0,     0,     0,\n",
            "             0,     0,     0,     0,     0,     0,     0,     0,     0,     0],\n",
            "        [    0,     3,     9,     3,     7, 18461,    21,     8,     3,    52,\n",
            "             7,   102,   658,   845,     8,  7475,    33,    29,     3,    17],\n",
            "        [    0, 10998,     1,     0,     0,     0,     0,     0,     0,     0,\n",
            "             0,     0,     0,     0,     0,     0,     0,     0,     0,     0],\n",
            "        [    0,     3,     9,     3,     7,   109,   210,    13,  6800,     7,\n",
            "         11308,     8, 15676,    21,   160,   821,    16,   160,   126,   814],\n",
            "        [    0, 10998,     1,     0,     0,     0,     0,     0,     0,     0,\n",
            "             0,     0,     0,     0,     0,     0,     0,     0,     0,     0],\n",
            "        [    0, 10998,     1,     0,     0,     0,     0,     0,     0,     0,\n",
            "             0,     0,     0,     0,     0,     0,     0,     0,     0,     0],\n",
            "        [    0, 10998,     1,     0,     0,     0,     0,     0,     0,     0,\n",
            "             0,     0,     0,     0,     0,     0,     0,     0,     0,     0],\n",
            "        [    0,     3, 17396,  1442,    15,    10,    21,    72,   145,     3,\n",
            "             9,  2646,     8, 17353,     3, 10503,  6606,    65,   118,    80]],\n",
            "       device='cuda:0')\n",
            "Decoded output: ['True', 'a spokesman for the rspca says the statistics aren t', 'True', 'a slew of critics praise the actress for her performance in her new film', 'True', 'True', 'True', 'bob greene: for more than a century the seventh inning stretch has been one']\n",
            "Processing batch 36/50\n",
            "Generated output: tensor([[    0,     3,     9,     3,    76,     5,     7,     5,   372,    13,\n",
            "          7004,    65,  1340,     8, 10004,    16,  6605,    57,   985,    42],\n",
            "        [    0, 10998,     1,     0,     0,     0,     0,     0,     0,     0,\n",
            "             0,     0,     0,     0,     0,     0,     0,     0,     0,     0],\n",
            "        [    0, 10998,     1,     0,     0,     0,     0,     0,     0,     0,\n",
            "             0,     0,     0,     0,     0,     0,     0,     0,     0,     0],\n",
            "        [    0,     3,     9,   291,   106,   443,  4046,    10, 24852, 13799,\n",
            "             8,  5987,    23,   222, 10211, 20076,     3,     5,     3,    88],\n",
            "        [    0,     3,     9,   291,   106,   443,  4046,    10,   213,  1004,\n",
            "         25649,    19,     3,     9,   126, 13391,     3,    60,  5660,   478],\n",
            "        [    0, 10998,     1,     0,     0,     0,     0,     0,     0,     0,\n",
            "             0,     0,     0,     0,     0,     0,     0,     0,     0,     0],\n",
            "        [    0, 10998,     1,     0,     0,     0,     0,     0,     0,     0,\n",
            "             0,     0,     0,     0,     0,     0,     0,     0,     0,     0],\n",
            "        [    0,     3,     9,  9240,    68,   359,   483,    47,   263,    12,\n",
            "             8,  9301,     3,  5885,  2675,    12, 14314,    28,     3,  3537]],\n",
            "       device='cuda:0')\n",
            "Decoded output: ['a u.s. team of scientists has cut the calories in rice by half or', 'True', 'True', 'aaron carroll: Forbes ranks the wealthiest american celebrities . he', 'aaron carroll: where opportunity Knox is a new veterans re integration program', 'True', 'True', 'a subtle but important change was made to the animation causing fans to shout with gle']\n",
            "Processing batch 37/50\n",
            "Generated output: tensor([[    0, 10998,     1,     0,     0,     0,     0,     0,     0,     0,\n",
            "             0,     0,     0,     0,     0,     0,     0,     0,     0,     0],\n",
            "        [    0,     3,     9,   291,   106,     3, 14312,    15,    10,     3,\n",
            "            88,     3,     7,  1560,     3, 17147,  1922,    11,    19,     3],\n",
            "        [    0,     3,     9,     3,     7,   109,   210,    13,   119,  1440,\n",
            "            33,  7283,    16,     8,  2007,   460,     3,     5,     3,     9],\n",
            "        [    0, 10747,     7,    15,     1,     0,     0,     0,     0,     0,\n",
            "             0,     0,     0,     0,     0,     0,     0,     0,     0,     0],\n",
            "        [    0,     3,     9,     3,  7015,  2812,  2418, 20680,  4579,    16,\n",
            "             8,  1784,   690,    13,  6590,   235,  3511,    44,   131,   305],\n",
            "        [    0,     3,     9,  2085,   810,  1790,    48,   847,  6490,    59,\n",
            "           652,   631,  2085,    19,    80,   194,    13,   492,    69,  1806],\n",
            "        [    0,     3,     9,  1132,    13,     8, 28994,    13,     8,  9957,\n",
            "         16822,  2431,     3,     5,     3,     9,  1132,    13,     8, 28994],\n",
            "        [    0, 10998,     1,     0,     0,     0,     0,     0,     0,     0,\n",
            "             0,     0,     0,     0,     0,     0,     0,     0,     0,     0]],\n",
            "       device='cuda:0')\n",
            "Decoded output: ['True', 'aaron jude: he s hit 550 feet and is', 'a slew of other countries are represented in the bottom 20 . a', 'False', 'a 900 square foot furnished apartment in the capital city of Quito starts at just 5', 'a sleep study published this month suggests not getting enough sleep is one way of making our gut', 'a review of the remake of the 1991 animated classic . a review of the remake', 'True']\n",
            "Processing batch 38/50\n",
            "Generated output: tensor([[    0,     3,     9,   126,  5492,  1267,    24,     8, 13074,   851,\n",
            "         10806,     7,   698,     3,     9,  1017, 10152,     3,     5,     3],\n",
            "        [    0, 10998,   733,    10,     3,     9,   385,   504,   718, 26912,\n",
            "           549,    99,    15,  2369,    16,     3,     9,  6177,    21,   944],\n",
            "        [    0, 10998,     1,     0,     0,     0,     0,     0,     0,     0,\n",
            "             0,     0,     0,     0,     0,     0,     0,     0,     0,     0],\n",
            "        [    0, 10998,     1,     0,     0,     0,     0,     0,     0,     0,\n",
            "             0,     0,     0,     0,     0,     0,     0,     0,     0,     0],\n",
            "        [    0, 10998,     1,     0,     0,     0,     0,     0,     0,     0,\n",
            "             0,     0,     0,     0,     0,     0,     0,     0,     0,     0],\n",
            "        [    0, 10998,     1,     0,     0,     0,     0,     0,     0,     0,\n",
            "             0,     0,     0,     0,     0,     0,     0,     0,     0,     0],\n",
            "        [    0,     3,     9,   291,   106,   443,  4046,    10,  1415,   658,\n",
            "             7,    17, 13799,  2382,  6945,     7,    30,   850,  3629,    13],\n",
            "        [    0,     3,     9,     3,     7, 18461,    21,     8,     3,  8118,\n",
            "         25216,   573,   845,     8,  3719,    19,    59, 29124,     3,     5]],\n",
            "       device='cuda:0')\n",
            "Decoded output: ['a new poll shows that the presidential frontrunners share a common trait .', 'True story: a little show called Trophy Wife finished in a tie for 25', 'True', 'True', 'True', 'True', 'aaron carroll: careercast ranks 200 professions on 11 measures of', 'a spokesman for the psychopathic community says the survey is not exhaustive .']\n",
            "Processing batch 39/50\n",
            "Generated output: tensor([[    0, 10998,     1,     0,     0,     0,     0,     0,     0,     0,\n",
            "             0,     0,     0,     0,     0,     0,     0,     0,     0,     0],\n",
            "        [    0, 10998,     1,     0,     0,     0,     0,     0,     0,     0,\n",
            "             0,     0,     0,     0,     0,     0,     0,     0,     0,     0],\n",
            "        [    0, 10283,     3,     7,   126,   339,  8340,   313,    73, 20321,\n",
            "          2818,     3,     5,     3,     9,    26,  3510,   988,    13,   165],\n",
            "        [    0,     3,     9,     3, 22625,    18,    26,  5167,  3178,    54,\n",
            "           199,    25,  2615,  1293,    57,     3, 24220,     8, 16325,     3],\n",
            "        [    0, 10998,     1,     0,     0,     0,     0,     0,     0,     0,\n",
            "             0,     0,     0,     0,     0,     0,     0,     0,     0,     0],\n",
            "        [    0, 10998,     1,     0,     0,     0,     0,     0,     0,     0,\n",
            "             0,     0,     0,     0,     0,     0,     0,     0,     0,     0],\n",
            "        [    0,     3,     9,   671,    13,  1001,   481,     3, 21008,  3315,\n",
            "            81,  7322,    44,    70,   496,     3,     5,     3,     9,   291],\n",
            "        [    0,     3,     9,   291,   106,   443,  4046,    10,   150,   861,\n",
            "           646,  2238,    19,     8,   126,  7982,    16,     8,   412,   180]],\n",
            "       device='cuda:0')\n",
            "Decoded output: ['True', 'True', 'google s new free streaming service unveiled Tuesday . ad supported version of its', 'a calorie-dense diet can help you lose weight by boosting the metabolism', 'True', 'True', 'a video of black students expressing concerns about diversity at their school . aar', 'aaron carroll: no child left alone is the new norm in the U S']\n",
            "Processing batch 40/50\n",
            "Generated output: tensor([[    0,     3,     9,   418,    13,     3, 24637,    11,  7653,     7,\n",
            "            81,     8,   416, 10141,  1846,   467,    43,   118,    90, 15461],\n",
            "        [    0,     3,     9,     3,  2246,    63,  5979,     9,  6285,  5319,\n",
            "          7478,    16,     8,   126, 10210,  9237,  6943,    19, 21566,     3],\n",
            "        [    0, 10998,     1,     0,     0,     0,     0,     0,     0,     0,\n",
            "             0,     0,     0,     0,     0,     0,     0,     0,     0,     0],\n",
            "        [    0,     3,     9,   291,   106,   443,  4046,    10,  2085,    54,\n",
            "            36,    46,     3, 29748,  1565,     3,     5,   443,  4046,    10],\n",
            "        [    0,     3,     9,     3,    17,   208,  2772,    28,     3, 29367,\n",
            "          8051,     3, 15503,   149,     3,    17,     9,    63,   322,     7],\n",
            "        [    0, 10998,     1,     0,     0,     0,     0,     0,     0,     0,\n",
            "             0,     0,     0,     0,     0,     0,     0,     0,     0,     0],\n",
            "        [    0,     3,     9,     3,     7, 18461,    21,     8,     3,    76,\n",
            "             5,     7,     5, 20596,   845,     3,    88,     3,     7,    59],\n",
            "        [    0,     3,   122,  4184,  4729,    75,     7,   226,   196,   196,\n",
            "            10,  2753,    56,    43,     8,  3135,    12,   918,     8,  1481]],\n",
            "       device='cuda:0')\n",
            "Decoded output: ['a lot of rumors and leaks about the next Battlefield game have been leaked', 'a priyanka Chopra dialogue in the new baywatch trailer is hilarious', 'True', 'aaron carroll: sleep can be an elusive friend . carroll:', 'a tv interview with Darren Stein reveals how taylors', 'True', 'a spokesman for the u.s. senator says he s not', 'gCP91csxII: president will have the funding to build the wall']\n",
            "Processing batch 41/50\n",
            "Generated output: tensor([[    0,     3,     9,   291,   106,  3293,    49,    10,     3,    99,\n",
            "           255,  9204,    16,  1671,    62,   225,  1672,   126,   615,     7],\n",
            "        [    0,     3,     9,  4301,   106,    49,     3, 16718,    24,     8,\n",
            "          1687,    13,     3,     9,  1798, 10439,  1959,     3,     7,  5714],\n",
            "        [    0, 10998,     1,     0,     0,     0,     0,     0,     0,     0,\n",
            "             0,     0,     0,     0,     0,     0,     0,     0,     0,     0],\n",
            "        [    0, 10998,   733,    10,  1908,  1050,  1911,  1263,  8813,     3,\n",
            "         23386,    66,     3, 24978,  4291, 11604,     7,   347,    16,     8],\n",
            "        [    0, 10998,     1,     0,     0,     0,     0,     0,     0,     0,\n",
            "             0,     0,     0,     0,     0,     0,     0,     0,     0,     0],\n",
            "        [    0, 10998,     1,     0,     0,     0,     0,     0,     0,     0,\n",
            "             0,     0,     0,     0,     0,     0,     0,     0,     0,     0],\n",
            "        [    0,     3,     9,   291,   106,   443,  4046,    10,  1355, 23414,\n",
            "          1575,    19,     3,     9,  3400, 15037,    16,  6917,     3,     5],\n",
            "        [    0, 10998,     1,     0,     0,     0,     0,     0,     0,     0,\n",
            "             0,     0,     0,     0,     0,     0,     0,     0,     0,     0]],\n",
            "       device='cuda:0')\n",
            "Decoded output: ['aaron miller: if she wins in November we should expect new wars', 'a coroner ruled that the death of a former NFL player s prison', 'True', 'True story: Poke mon Go trainer catches all 142 virtual monsters available in the', 'True', 'True', 'aaron carroll: superfetation is a rare phenomenon in humans .', 'True']\n",
            "Processing batch 42/50\n",
            "Generated output: tensor([[    0, 10998,     1,     0,     0,     0,     0,     0,     0,     0,\n",
            "             0,     0,     0,     0,     0,     0,     0,     0,     0,     0],\n",
            "        [    0, 10998,     1,     0,     0,     0,     0,     0,     0,     0,\n",
            "             0,     0,     0,     0,     0,     0,     0,     0,     0,     0],\n",
            "        [    0,     3, 25212,     7,    33,    80,    13,     8,  2329,  1637,\n",
            "         14498,  2297,  2887,    48,   215,     3,     5,     3, 25212,     7],\n",
            "        [    0,     3,     9,   291,   106,   443,  4046,    10,     3,   324,\n",
            "          4062,    13,  2868,  2317,     7,    24,    33,  1494,   705,     3],\n",
            "        [    0,     3,     9,  2716,  1506,   313,   661,    57, 21502,     3,\n",
            "             7,   813, 10939,     9,     7,  1071,     7,  2018,   172, 20638],\n",
            "        [    0, 10998,     1,     0,     0,     0,     0,     0,     0,     0,\n",
            "             0,     0,     0,     0,     0,     0,     0,     0,     0,     0],\n",
            "        [    0,     3,     9,   126,   939,    13,     8,   167,  5107,  2669,\n",
            "           504,    30,  4390,    56,  1731,    48,   847,     3,     5,     3],\n",
            "        [    0, 10998,     1,     0,     0,     0,     0,     0,     0,     0,\n",
            "             0,     0,     0,     0,     0,     0,     0,     0,     0,     0]],\n",
            "       device='cuda:0')\n",
            "Decoded output: ['True', 'True', 'millennials are one of the primary groups controlling holiday spending this year . millennials', 'aaron carroll: ten examples of collectibles that are worth less', 'a military news service run by Lebanon s pro Damascus Hizbull', 'True', 'a new series of the most dangerous reality show on television will begin this month .', 'True']\n",
            "Processing batch 43/50\n",
            "Generated output: tensor([[    0,     3,     9,   291,   106,   443,  4046,    10,     3,    99,\n",
            "            48,  2906,     6,     3,    88,    54,   217,     3,  3522,    32],\n",
            "        [    0,     3,     9,     3,    60,  4350,    13,     3,     9,  2431,\n",
            "         29061,    19,     3,  5885,     3,     9,  7831,     3,     5,     3],\n",
            "        [    0, 10998,     1,     0,     0,     0,     0,     0,     0,     0,\n",
            "             0,     0,     0,     0,     0,     0,     0,     0,     0,     0],\n",
            "        [    0,     3,     9,  7812,     3,    51,    75,  1720,   189,    63,\n",
            "            10, 13503, 16333,  8065,    33,     3,  5885, 19598,  2660,  2317],\n",
            "        [    0, 10747,     7,    15,     1,     0,     0,     0,     0,     0,\n",
            "             0,     0,     0,     0,     0,     0,     0,     0,     0,     0],\n",
            "        [    0, 10998,     1,     0,     0,     0,     0,     0,     0,     0,\n",
            "             0,     0,     0,     0,     0,     0,     0,     0,     0,     0],\n",
            "        [    0, 10998,     1,     0,     0,     0,     0,     0,     0,     0,\n",
            "             0,     0,     0,     0,     0,     0,     0,     0,     0,     0],\n",
            "        [    0,     3,     9,   291,   106,   443,  4046,    10,    12,    51,\n",
            "          2618,   157,     7,     3,     9,   192,    97,  1648,  1983,   127]],\n",
            "       device='cuda:0')\n",
            "Decoded output: ['aaron carroll: if this happens, he can see romo', 'a rename of a classic Pokemon is causing a stir .', 'True', 'adam mccarthy: homo sapiens are causing irreversible', 'False', 'True', 'True', 'aaron carroll: tomhanks a two time Best Actor']\n",
            "Processing batch 44/50\n",
            "Generated output: tensor([[    0, 10998,     1,     0,     0,     0,     0,     0,     0,     0,\n",
            "             0,     0,     0,     0,     0,     0,     0,     0,     0,     0],\n",
            "        [    0, 10998,     1,     0,     0,     0,     0,     0,     0,     0,\n",
            "             0,     0,     0,     0,     0,     0,     0,     0,     0,     0],\n",
            "        [    0, 10998,     1,     0,     0,     0,     0,     0,     0,     0,\n",
            "             0,     0,     0,     0,     0,     0,     0,     0,     0,     0],\n",
            "        [    0,     3,  5846,    15, 11945,   560, 11432,  5977,    11,  1722,\n",
            "          2084,     3,  9094,    45,  6949, 12710,  8926,     3,     5,     3],\n",
            "        [    0, 10998,   733,    10,    82,  1651, 27626,  5429,   739,  1891,\n",
            "           178,     3,     9,  1367,    24,   608,    96,  4135,    59,   539],\n",
            "        [    0, 10998,     1,     0,     0,     0,     0,     0,     0,     0,\n",
            "             0,     0,     0,     0,     0,     0,     0,     0,     0,     0],\n",
            "        [    0,     3,     9,     3,     7, 18461,    21,     8,  3835,   845,\n",
            "             8,  1189,    19,     3,     9,     3, 18760,  7235,  3409,     3],\n",
            "        [    0,     3,     9,     3,     7,   152,   155,  8585,    19,   352,\n",
            "            12,    36,     3,     9,    72,   359,   962,   270,   145,  9834]],\n",
            "       device='cuda:0')\n",
            "Decoded output: ['True', 'True', 'True', 'rape kits include biological samples and physical evidence gathered from sexual assault victims .', 'True story: my Great Aunt Alison gave us a box that read \"Do not open', 'True', 'a spokesman for the magazine says the cover is a purely artistic creation', 'a sanitizer is going to be a more important issue here than washing']\n",
            "Processing batch 45/50\n",
            "Generated output: tensor([[    0, 10998,     1,     0,     0,     0,     0,     0,     0,     0,\n",
            "             0,     0,     0,     0,     0,     0,     0,     0,     0,     0],\n",
            "        [    0, 10998,     1,     0,     0,     0,     0,     0,     0,     0,\n",
            "             0,     0,     0,     0,     0,     0,     0,     0,     0,     0],\n",
            "        [    0, 10998,     1,     0,     0,     0,     0,     0,     0,     0,\n",
            "             0,     0,     0,     0,     0,     0,     0,     0,     0,     0],\n",
            "        [    0,     3,     9,  1202,  1694,    57,   140,   122,    52,    26,\n",
            "          2407,   106,    30, 29976,    76,  1208,   305,  1233,    44,   489],\n",
            "        [    0,     3,     9,   126,  2066,    19,   271,  3759,    57, 10211,\n",
            "          1120,   355,    40,     3,     5,     3,     9,  1202,  4279,    47],\n",
            "        [    0,     3,     9,   810,    57,     8,  3819,    13, 19343,   435,\n",
            "            24,  2983,    54,   993,     8,  1020,    13,   842,  3211,     3],\n",
            "        [    0, 10998,     1,     0,     0,     0,     0,     0,     0,     0,\n",
            "             0,     0,     0,     0,     0,     0,     0,     0,     0,     0],\n",
            "        [    0, 10998,     1,     0,     0,     0,     0,     0,     0,     0,\n",
            "             0,     0,     0,     0,     0,     0,     0,     0,     0,     0]],\n",
            "       device='cuda:0')\n",
            "Decoded output: ['True', 'True', 'True', 'a photo posted by megrdixon on february 5 2017 at 7', 'a new campaign is being launched by american apparel . a photo shoot was', 'a study by the university of canada found that snow can increase the risk of heart attack', 'True', 'True']\n",
            "Processing batch 46/50\n",
            "Generated output: tensor([[    0,     3,     9,  2876,    16,     8,   538,  1384,    13, 13517,\n",
            "             7,   133,  1281,  1737,     8,  8244,    11,   169,    13,    95],\n",
            "        [    0, 10998,     1,     0,     0,     0,     0,     0,     0,     0,\n",
            "             0,     0,     0,     0,     0,     0,     0,     0,     0,     0],\n",
            "        [    0,     3,  5430,   383,   467,  4895,    19,     3,     9,  4700,\n",
            "           682,    16,     8,   220,  3592,     3,     5,     3,  5430,    19],\n",
            "        [    0, 10998,     1,     0,     0,     0,     0,     0,     0,     0,\n",
            "             0,     0,     0,     0,     0,     0,     0,     0,     0,     0],\n",
            "        [    0,     3,     9,   291,   106,   443,  4046,    10,     3, 24637,\n",
            "            33, 25466,    53,    24,     3,     9,   126,  1851,  2270, 12865],\n",
            "        [    0,     3,     9,     3,     7,   152,  2515, 11389,  3523,     3,\n",
            "           390,   268,   348,   113,    19,     3,     9,   306,  2453,   568],\n",
            "        [    0,     3,     9,   515,  4382,    57,   538, 20596,     7,   133,\n",
            "           995,  8160,  4298,    12,   942, 19852,    12, 17405,    11,  6488],\n",
            "        [    0, 10998,     1,     0,     0,     0,     0,     0,     0,     0,\n",
            "             0,     0,     0,     0,     0,     0,     0,     0,     0,     0]],\n",
            "       device='cuda:0')\n",
            "Decoded output: ['a bill in the state House of Representatives would legalize the possession and use of up', 'True', 'lag during gameplay is a consistent problem in the 3DS . lag is', 'True', 'aaron carroll: rumors are swirling that a new weekend update anchor', 'a san francisco based businessman who is a high maintenance person', 'a plan proposed by state senators would allow elected officials to meet privately to negotiate and draft', 'True']\n",
            "Processing batch 47/50\n",
            "Generated output: tensor([[    0,     3,     9, 17021,    45,    82,  6861,   476,   127,   157,\n",
            "           427,    63,    15, 30766,   120,  1380,  4297,  8211,   901,  3966],\n",
            "        [    0, 10998,     1,     0,     0,     0,     0,     0,     0,     0,\n",
            "             0,     0,     0,     0,     0,     0,     0,     0,     0,     0],\n",
            "        [    0,     3,     9,   291,   106,   443,  4046,    10,  8357,     3,\n",
            "             7,  1773,    12,  2803,     3,     7,  7146,    21,     3, 11182],\n",
            "        [    0, 10998,     1,     0,     0,     0,     0,     0,     0,     0,\n",
            "             0,     0,     0,     0,     0,     0,     0,     0,     0,     0],\n",
            "        [    0, 10998,     1,     0,     0,     0,     0,     0,     0,     0,\n",
            "             0,     0,     0,     0,     0,     0,     0,     0,     0,     0],\n",
            "        [    0, 10747,     7,    15,     1,     0,     0,     0,     0,     0,\n",
            "             0,     0,     0,     0,     0,     0,     0,     0,     0,     0],\n",
            "        [    0, 10998,     1,     0,     0,     0,     0,     0,     0,     0,\n",
            "             0,     0,     0,     0,     0,     0,     0,     0,     0,     0],\n",
            "        [    0, 10998,     1,     0,     0,     0,     0,     0,     0,     0,\n",
            "             0,     0,     0,     0,     0,     0,     0,     0,     0,     0]],\n",
            "       device='cuda:0')\n",
            "Decoded output: ['a reporter from myNewYorkEye bluntly asked executive producer Al Jean', 'True', 'aaron carroll: Sony s response to Microsoft s invitation for utilizing', 'True', 'True', 'False', 'True', 'True']\n",
            "Processing batch 48/50\n",
            "Generated output: tensor([[    0, 10998,     1,     0,     0,     0,     0,     0,     0,     0,\n",
            "             0,     0,     0,     0,     0,     0,     0,     0,     0,     0],\n",
            "        [    0,     3,     9,   291,   106,  3293,    49,    10,  2753,  2523,\n",
            "            65, 22399,    57,  8434,  5605,  6031,     5,     3,    88,   845],\n",
            "        [    0, 10998,     1,     0,     0,     0,     0,     0,     0,     0,\n",
            "             0,     0,     0,     0,     0,     0,     0,     0,     0,     0],\n",
            "        [    0,     3,     9,   126,   570,    13,   850,    13,     8,  2982,\n",
            "             3,     7,   910,   167,  5107,  3119,    33,    16, 12215,    26],\n",
            "        [    0,     3,  2092,     3,     9,  1593,    71,    30, 19010,     6,\n",
            "          7358,   697,  5111,     3,     9, 10306, 20022,    81, 19905,  4055],\n",
            "        [    0, 10998,     1,     0,     0,     0,     0,     0,     0,     0,\n",
            "             0,     0,     0,     0,     0,     0,     0,     0,     0,     0],\n",
            "        [    0, 10998,     1,     0,     0,     0,     0,     0,     0,     0,\n",
            "             0,     0,     0,     0,     0,     0,     0,     0,     0,     0],\n",
            "        [    0, 10998,     1,     0,     0,     0,     0,     0,     0,     0,\n",
            "             0,     0,     0,     0,     0,     0,     0,     0,     0,     0]],\n",
            "       device='cuda:0')\n",
            "Decoded output: ['True', 'aaron miller: president Trump has succeeded by bullshitting. he says', 'True', 'a new list of 11 of the nation s 100 most dangerous cities are in florid', 'During a Q A on twitter, rowling revealed a surprising revelation about Hagrid', 'True', 'True', 'True']\n",
            "Processing batch 49/50\n",
            "Generated output: tensor([[    0,     3,     9,   291,   106,   443,  4046,    10,     8,   814,\n",
            "            47,   263,   116,   132,   130, 12166, 16348,    13,   149, 26907],\n",
            "        [    0,     3,     9,     3,     7,   109,   210,    13, 14856,    33,\n",
            "           838,   286,   300,     8,   296,    12,  4036,     8,   423,  8114],\n",
            "        [    0,     3,     9,  2829,  2696,    21,     3,   157,  5390,  3832,\n",
            "            65,   118,  5111,     3,     5,  2696,   963,   872,  5270,     6],\n",
            "        [    0,     3,     9,   291,   106,   443,  4046,    10,    72,  2541,\n",
            "          1076,    33,  6990,    46,   138,     3,     7,   994,     3,     5],\n",
            "        [    0,     3,     9,   291,   106,   443,  4046,    10,     8,     3,\n",
            "           210,  4365,    63,   280,    13,     8,  5424,     7,    35,  7390],\n",
            "        [    0,     3,     9,     3,     7,   109,   210,    13, 29061,    43,\n",
            "           118,   876,    12,    36,     3,     9,   720,     3,     7, 10536],\n",
            "        [    0,     3,     9,   291,   106,   443,  4046,    10,    16,  3610,\n",
            "            13,   125,   133,    43,   118,   160, 11989,   189,  3591,   270],\n",
            "        [    0,     3,     9,   291,   106,   443,  4046,    10,     8,  8018,\n",
            "         26143,    65,  8441,     3, 24975,     8,     3, 19679, 20855, 10213]],\n",
            "       device='cuda:0')\n",
            "Decoded output: ['aaron carroll: the film was made when there were competing theories of how antibodies', 'a slew of festivals are taking place around the world to celebrate the full moon', 'a secret recipe for kFC chicken has been revealed . recipe includes white pepper,', 'aaron carroll: more straight men are exploring anal sex .', 'aaron carroll: the wacky life of the Olsen twin', 'a slew of Pokemon have been designed to be a bit shit', 'aaron carroll: in honor of what would have been her 85th birthday here', 'aaron carroll: the Houston Chronicle has officially endorsed the Democrat Hillary Clinton']\n",
            "Processing batch 50/50\n",
            "Generated output: tensor([[    0,     3,     9,     3,     7,   152,  2515, 11389,  3523,   388,\n",
            "          2204,     7,    12,  2075,    46, 13876,  4579,  1561,    11,  8361],\n",
            "        [    0,     3,  4950,  7645,    10,     3,    99, 20576,    19,  3508,\n",
            "            53,   396,   778,    34,    19,   194,   396,   778,     3,     5],\n",
            "        [    0, 10998,     1,     0,     0,     0,     0,     0,     0,     0,\n",
            "             0,     0,     0,     0,     0,     0,     0,     0,     0,     0],\n",
            "        [    0, 10998,     1,     0,     0,     0,     0,     0,     0,     0,\n",
            "             0,     0,     0,     0,     0,     0,     0,     0,     0,     0],\n",
            "        [    0,     3,     9,     3,     7, 18461,    21,     8,     3, 21543,\n",
            "          8563,  1888,   845,     3,    88,    56,    59,  2902,    21,  2523],\n",
            "        [    0,     3,     9,  2790,   543,   288,  4233,   288,    65,  1026,\n",
            "            12,  4601,    12,   698,   160,  3392,    28, 15496,     3,     5],\n",
            "        [    0,     3,     9,     3, 13708,   447,   206, 17552, 10657,     7,\n",
            "          2237,    12, 10785,   288,     3, 24637,    38,     7,  3280,   141],\n",
            "        [    0, 10998,     1,     0,     0,     0,     0,     0,     0,     0,\n",
            "             0,     0,     0,     0,     0,     0,     0,     0,     0,     0]],\n",
            "       device='cuda:0')\n",
            "Decoded output: ['a san francisco man decides to explore an abandoned apartment complex and instantly', 'HSBC: if china is transitioning too early it is way too early .', 'True', 'True', 'a spokesman for the Electoral College says he will not vote for Trump', 'a beauty pageant contestant has taken to Instagram to share her battle with acne .', 'a cryptic numeric tweets led to rampant rumors assange had', 'True']\n",
            "Finished processing test data\n"
          ]
        }
      ]
    },
    {
      "cell_type": "code",
      "source": [
        "model.eval()  # Set the model to evaluation mode\n",
        "\n",
        "generated_spoilers = []\n",
        "\n",
        "with torch.no_grad():  # No need to track gradients\n",
        "    for i, batch in enumerate(test_loader):\n",
        "        input_ids = batch[\"input_ids\"].to(device)\n",
        "        attention_mask = batch[\"attention_mask\"].to(device)\n",
        "\n",
        "        # Generate spoilers\n",
        "        outputs = model.generate(input_ids, attention_mask=attention_mask)\n",
        "        outputs = [tokenizer.decode(g, skip_special_tokens=True, clean_up_tokenization_spaces=False) for g in outputs]\n",
        "\n",
        "        generated_spoilers.extend(outputs)\n"
      ],
      "metadata": {
        "colab": {
          "base_uri": "https://localhost:8080/"
        },
        "id": "YLdNoJ9_WnAm",
        "outputId": "36c16d2c-04e3-4ed5-e489-31024a8b364e"
      },
      "execution_count": null,
      "outputs": [
        {
          "output_type": "stream",
          "name": "stderr",
          "text": [
            "/usr/local/lib/python3.10/dist-packages/transformers/generation/utils.py:1369: UserWarning: Using `max_length`'s default (20) to control the generation length. This behaviour is deprecated and will be removed from the config in v5 of Transformers -- we recommend using `max_new_tokens` to control the maximum length of the generation.\n",
            "  warnings.warn(\n"
          ]
        }
      ]
    },
    {
      "cell_type": "code",
      "source": [
        "generated_spoilers"
      ],
      "metadata": {
        "colab": {
          "base_uri": "https://localhost:8080/"
        },
        "id": "9SsBZkc_Y8VC",
        "outputId": "fceb191a-e644-4794-972a-1e9f94e6b253"
      },
      "execution_count": null,
      "outputs": [
        {
          "output_type": "execute_result",
          "data": {
            "text/plain": [
              "['True',\n",
              " 'True',\n",
              " 'a new study looks at income and life expectancy after age 40 . john',\n",
              " 'True',\n",
              " 'a new way to eat eggs that has everyone going crazy . a new way',\n",
              " 'True',\n",
              " 'True',\n",
              " 'True',\n",
              " 'a sex offender has revealed he is now dating a man after',\n",
              " 'True story: Brandon retired at 34 years old to save and invest about 70 of his after tax',\n",
              " 'True',\n",
              " 'True',\n",
              " 'azu car: google celebrates what would have been Celia Cruz s 88',\n",
              " 'adam lallana: de Gea s latest comments are disrespectful',\n",
              " 'True',\n",
              " 'aaron miller: 116 8 billion of the kingdom s debt puts it',\n",
              " 'a twitter user sent a letter to Studio Ghibli asking about the film .',\n",
              " 'aaron miller: a new generation of creative polymaths is',\n",
              " 'Millennials are not as hot at investing as previous generations, says jim k',\n",
              " 'a ban on cat declawing could become illegal in new york if legislation goes through',\n",
              " 'True',\n",
              " 'True',\n",
              " 'aaron ramirez: a new auction site selling high tech and luxury',\n",
              " 'True',\n",
              " 'True',\n",
              " 'True',\n",
              " 'True',\n",
              " 'poll: 55 percent of Americans think climate change is related to more frequent and severe natural disasters',\n",
              " 'True',\n",
              " 'a program to test a scheme called universal basic income is being run in oh',\n",
              " 'a global report ranks 136 countries where the gender gap is smaller than in the U',\n",
              " 'True',\n",
              " 'False',\n",
              " 'NES Classic Edition is not available for pre order yet . sandra borg',\n",
              " 'aaron carroll: college textbook prices are rising because students are captive consumers .',\n",
              " 'True',\n",
              " 'True',\n",
              " 'adam mccartney: Austin is one of the funkiest weird',\n",
              " 'True',\n",
              " 'scientists accidentally discover a new pigment and it s beautiful . yinMn',\n",
              " 'False',\n",
              " 'eagle eyed mars anomaly hunter spotted a bottle that looks like',\n",
              " 'True',\n",
              " 'aaron carroll: summer in new york city smells so awful . car',\n",
              " 'a raccoon was trapped inside a dumpster in Coonskin Park,',\n",
              " 'True',\n",
              " 'False',\n",
              " 'True',\n",
              " 'aaron carroll: acoustic music is a great way to',\n",
              " 'adam scott: a kitty folder is too childish the more',\n",
              " 'aaron rodgers: i ve been doing broadcasting for the past',\n",
              " 'a blog post about how that s gone for them . a free DLC',\n",
              " 'aaron carroll: the media writes about the show because there s a',\n",
              " 'True',\n",
              " 'True',\n",
              " 'a press release was given from Schleswig Holstein showing the whales necrops',\n",
              " 'a new study by pew reveals who s likely to get married more than once',\n",
              " 'a koala named after rescuer Louise Haynes has been a',\n",
              " 'a parrot masters the trick of playing dead . a parrot can',\n",
              " 'True',\n",
              " 'True',\n",
              " 'a spokesman for redmondpie com says that the trick is not a',\n",
              " 'a CDC study found that 10 percent of people didn t wash their hands after using',\n",
              " 'a sex-freedom interview with the actress aired on tu',\n",
              " 'aaron miller: polls show that a landslide could be',\n",
              " 'True',\n",
              " 'True',\n",
              " 'True',\n",
              " 'aaron carroll: amazon prime deal is good for old shows and old shows',\n",
              " 'a swanky penthouse in new york city is being rent for the actress',\n",
              " 'aaron carroll: two nasty surprises have been discovered which may cause owners of the',\n",
              " 'a spokesman for the university of Vermont says it will use the new name .',\n",
              " 'aaron carroll: career advice that is as true today as it was in 1996',\n",
              " 'a: 41 incredible museums to visit before you die . a: The Whitney Museum',\n",
              " 'True',\n",
              " 'a documentary film has been made about the 20th anniversary of the prison . a',\n",
              " 'a dark moon orbits Makemake a distant planet . a moon orbits',\n",
              " 'a rumour that rockstar will be looking at a new location for the epic',\n",
              " 'True',\n",
              " 'PGA: they will not hold their PGA Tour event at Miami s Trump Doral',\n",
              " 'True',\n",
              " 'a teen has had this happen to her for two years . a tumor in',\n",
              " 'True',\n",
              " 'True',\n",
              " 'True',\n",
              " 'True',\n",
              " 'a photo of Katy Perry posing with the flowers is posted to Instagram .',\n",
              " 'aaron ramsey: the Netherlands has launched legal proceedings against Russia over',\n",
              " 'True',\n",
              " 'adam mccartney: the trailer for the game has been a',\n",
              " 'a photo of a doormat glued to two pieces of foam was found on the',\n",
              " 'True',\n",
              " 'a spokesman for a spokesman for a spokesman for',\n",
              " 'a 1937 Bugatti Type 57S was found in the garage amid piles of medical',\n",
              " 'aaron miller: president Obama s half brother wants to make America great again',\n",
              " 'True',\n",
              " 'True',\n",
              " 'True',\n",
              " 'aaron carroll: a democratic presidential candidate has not won a majority of',\n",
              " 'aaron carroll: a key policy statement with potentially enormous long term implications',\n",
              " 'True story: five extraordinary holiday trips to make this holiday season . a satur',\n",
              " 'True story: virtual reality to androids five expectations for E3',\n",
              " 'True',\n",
              " 'a new update for the Xbox One version of Terraria has caused a serious',\n",
              " 'True',\n",
              " 'True',\n",
              " 'fettuccine Alfredo isn t found in Rome because it never spread throughout the',\n",
              " 'True',\n",
              " 'True',\n",
              " 'True',\n",
              " 'True',\n",
              " 'True story of undercover police officer who spent over a decade infiltrating Britain',\n",
              " 'a seagull in a food factory in england fell into a',\n",
              " 'True',\n",
              " 'True',\n",
              " 'genealogists are using a new technique to search for a family member .',\n",
              " 'sex: ideal number of people you sleep with for both men and women to retain interest',\n",
              " 'True',\n",
              " 'True story: unbreakable is the ultimate superhero movie in the truest sense .',\n",
              " 'burgers are a big deal on national cheeseburger day . 57 percent of',\n",
              " 'aaron carroll: government bonds are falling thanks to anxious investors buying them for their',\n",
              " 'True',\n",
              " 'True',\n",
              " 'aaron carroll: a former union boss has a bold idea on how',\n",
              " 'False',\n",
              " 'a sex tape of a reality show sex tape was released on',\n",
              " 'True',\n",
              " 'False',\n",
              " 'a reviewer says that the voice over work on the game is pretty unbearable',\n",
              " 'a new version of the Playstation 4 could be coming soon . a new version',\n",
              " 'a new costco Visa card is now the only credit card accepted at Costco Debit',\n",
              " 'a spokesman for a paralyzed man says he is \"dev',\n",
              " 'a picture of a picture of Howard going viral on facebook last April . he',\n",
              " 'True',\n",
              " 'aaron carroll: no internet in jail cell; he says lack of internet',\n",
              " 'a photo of a woman with frostbitten fingers is taken by a nurse',\n",
              " 'a fake rumor that actress Jennifer Lawrence is being cast as Mulan has caused an',\n",
              " 'a snowshoe fell and was stuck in a tree well for more than seven hours',\n",
              " 'a new reddit discussion reveals hotel staff reveal guests most gruesome habits',\n",
              " 'True',\n",
              " ': a crooner: a legendary Mexican singer falls off stage during',\n",
              " 'a u.s. citizen would have to pay 55 percent to 65 percent of its',\n",
              " 'aaron carroll: 2016 was a year of good news for many .',\n",
              " 'True',\n",
              " 'apex court granted a 24 week pregnant woman permission to terminate her pregnancy .',\n",
              " 'aaron carroll: for the first time in presidential polling Donald Trump seems to',\n",
              " 'a team of scientists at baylor university in waco Texas extracted an earplug',\n",
              " 'True',\n",
              " 'a spokesman for the queen s former protection officer recalls bumping into tourists',\n",
              " 'a new video from Radiohead shows a man looking unsettled . the',\n",
              " 'aaron carroll: the 24 year old is moving on from the Harry Potter franchise',\n",
              " 'True',\n",
              " 'True',\n",
              " 'aaron carroll: seven conservative classics should be on every american s books',\n",
              " 'False',\n",
              " 'True',\n",
              " 'True',\n",
              " 'True',\n",
              " 'a poor application technique can add decades to your looks . a heavy foundation can really',\n",
              " 'aaron carroll: two cast members have left NBC s s Saturday',\n",
              " 'True',\n",
              " 'True',\n",
              " 'a video of a woman falling unconscious in her car after overdosing on',\n",
              " 'True',\n",
              " 'aaron carroll: 77 year old bodybuilder says age is nothing but',\n",
              " 'True',\n",
              " 'aaron miller: court of arbitration for sport upholds ruling on Russian',\n",
              " 'a hungry mum of one got a shock when her piece of pork looked just like',\n",
              " 'a sexy pregnancy advice columnist: don t touch her bump and NEVER',\n",
              " 'True',\n",
              " 'True',\n",
              " 'a review of studies shows that the legal drinking age of 21 saves lives on the road',\n",
              " 'True',\n",
              " 'aarean from color issue posted a gorgeous house tour of the Romneys home',\n",
              " 'True',\n",
              " 'a cameo for the sequel to the hit movie is expected . a cameo',\n",
              " 'True',\n",
              " 'True',\n",
              " 'a tahini cardamom squash pie is made from a variety',\n",
              " 'a spokesman for the band says the singer s decision to return to Reading Fest',\n",
              " 'a ravenous bear broke into a bakery and devoured 24 pies .',\n",
              " 'True',\n",
              " 'a top sprout expert has urged the nation s cooks to reconsider their approach to',\n",
              " 'a jar of the Sephora Instant Moisturizer is a sure way to',\n",
              " 'aaron carroll: a classic character won t have a cameo',\n",
              " 'True',\n",
              " 'True',\n",
              " 'True',\n",
              " 'a rumor says that the game will be released sometime this console generation .',\n",
              " 'True',\n",
              " 'a ten year old girl was playing hide and seek with her friends when two men approached',\n",
              " 'a spokesperson for the former First Family denied speculation that she was supporting Clinton . a',\n",
              " 'a court heard brain would trick lonely hearts out of cash or steal their jewellery .',\n",
              " 'adele: adele has had to give up one of life s greatest',\n",
              " 'True',\n",
              " 'a new study shows that organic produce costs up to 60 percent more than conventional products .',\n",
              " 'a spokesman for the state of colombia says the state is a',\n",
              " 'True',\n",
              " 'aaron carroll: Lego is struggling to keep up with demand for its building blocks',\n",
              " 'a spokesman for the studio says he is not a fan of the film',\n",
              " 'True',\n",
              " 'a second season of Stranger Things will premiere in 2017 . a teaser',\n",
              " 'aaron carroll: he s a great director but he',\n",
              " 'True',\n",
              " 'a man escaped from a pursuit under the nose of choppers . a',\n",
              " 'True',\n",
              " 'a talented rower has died after falling in a freak accident hours after winning a',\n",
              " 'True',\n",
              " 'True',\n",
              " 'TEDxYouth: a lie about sexual objectification . a TED',\n",
              " 'aaron carroll: a 23 year old journalist got herself checked into a',\n",
              " 'a new report highlights the scourge of malnutrition in the U S',\n",
              " 'a burnt bear bone found in the cave was 47 600 years old . a',\n",
              " 'True',\n",
              " 'True',\n",
              " 'roland martin: the simple reason the Cavs can t win the NBA',\n",
              " 'a new automated restaurant chain is looking to revolutionize the food industry . the concept is',\n",
              " 'aaron carroll: the movie \"Avengers\" is a culmin',\n",
              " 'True',\n",
              " 'millennials blame colleges for rising student debt, says millennial advocate . a majority',\n",
              " 'a father of four was devoutly religious and had acted on his own',\n",
              " 'True',\n",
              " 'a vet who euthanised herself in Taiwan s pet abandonment battle is',\n",
              " 'True',\n",
              " 'True',\n",
              " 'aaron carroll: all pro honors go to Oakland Raiders player who',\n",
              " 'True',\n",
              " 'True',\n",
              " 'a new hero has been announced to join the roster of overwatch . a',\n",
              " 'a day after leBron James called him a hater and dug up',\n",
              " 'True',\n",
              " 'pears are reportedly perfect with helping avoid the possibility of a hangover .',\n",
              " 'True',\n",
              " 'True',\n",
              " 'True',\n",
              " 'aaron carroll: how did MileyCyrus beat Beyonce?',\n",
              " 'True',\n",
              " 'adam lanza: caitlyn cannon s yearbook quote',\n",
              " 'True',\n",
              " 'True story: Amy Schumer takes on the newsroom and nails it . a par',\n",
              " 'True',\n",
              " 'True',\n",
              " 'a san francisco-based company is a great place to start',\n",
              " 'a video of a man who was having a bad day at work gets over 3',\n",
              " 'True',\n",
              " 'True',\n",
              " 'True',\n",
              " 'True',\n",
              " 'a number of athletes have been photographed sporting cupping bruises . the bruises are',\n",
              " 'a video posted on facebook shows protesters firing live ammunition into the air . a',\n",
              " 'True',\n",
              " 'True',\n",
              " 'False',\n",
              " 'a crinkle is a huge chocolate crinkle that is three inches',\n",
              " 'True',\n",
              " 'True',\n",
              " 'True',\n",
              " 'True',\n",
              " 'True',\n",
              " 'a san francisco doctor says that if you lose weight you can actually',\n",
              " 'aaron carroll: voting for a good candidate with flaws is',\n",
              " 'True',\n",
              " 'bob greene: Warren Buffett thinks Ben Bernanke should stay on as Fed',\n",
              " 'a spinoff series will be produced by the late night comedian . a: comedy',\n",
              " 'True: this is the most important news you read all year. a new app is now',\n",
              " 'aaron carroll: sleep deprivation is also the cause of an increase',\n",
              " 'True',\n",
              " 'a spokesman for the u.s. government says blood is safe to drink',\n",
              " 'TD Bank Love and Money Study: millennials are better at a certain relationship skill',\n",
              " 'aaron e. mccartney: i d never',\n",
              " 'a baseball is sewn together with 108 stitches after its last title .',\n",
              " 'True',\n",
              " 'True',\n",
              " 'a spokesman for the rspca says the statistics aren t',\n",
              " 'True',\n",
              " 'a slew of critics praise the actress for her performance in her new film',\n",
              " 'True',\n",
              " 'True',\n",
              " 'True',\n",
              " 'bob greene: for more than a century the seventh inning stretch has been one',\n",
              " 'a u.s. team of scientists has cut the calories in rice by half or',\n",
              " 'True',\n",
              " 'True',\n",
              " 'aaron carroll: Forbes ranks the wealthiest american celebrities . he',\n",
              " 'aaron carroll: where opportunity Knox is a new veterans re integration program',\n",
              " 'True',\n",
              " 'True',\n",
              " 'a subtle but important change was made to the animation causing fans to shout with gle',\n",
              " 'True',\n",
              " 'aaron jude: he s hit 550 feet and is',\n",
              " 'a slew of other countries are represented in the bottom 20 . a',\n",
              " 'False',\n",
              " 'a 900 square foot furnished apartment in the capital city of Quito starts at just 5',\n",
              " 'a sleep study published this month suggests not getting enough sleep is one way of making our gut',\n",
              " 'a review of the remake of the 1991 animated classic . a review of the remake',\n",
              " 'True',\n",
              " 'a new poll shows that the presidential frontrunners share a common trait .',\n",
              " 'True story: a little show called Trophy Wife finished in a tie for 25',\n",
              " 'True',\n",
              " 'True',\n",
              " 'True',\n",
              " 'True',\n",
              " 'aaron carroll: careercast ranks 200 professions on 11 measures of',\n",
              " 'a spokesman for the psychopathic community says the survey is not exhaustive .',\n",
              " 'True',\n",
              " 'True',\n",
              " 'google s new free streaming service unveiled Tuesday . ad supported version of its',\n",
              " 'a calorie-dense diet can help you lose weight by boosting the metabolism',\n",
              " 'True',\n",
              " 'True',\n",
              " 'a video of black students expressing concerns about diversity at their school . aar',\n",
              " 'aaron carroll: no child left alone is the new norm in the U S',\n",
              " 'a lot of rumors and leaks about the next Battlefield game have been leaked',\n",
              " 'a priyanka Chopra dialogue in the new baywatch trailer is hilarious',\n",
              " 'True',\n",
              " 'aaron carroll: sleep can be an elusive friend . carroll:',\n",
              " 'a tv interview with Darren Stein reveals how taylors',\n",
              " 'True',\n",
              " 'a spokesman for the u.s. senator says he s not',\n",
              " 'gCP91csxII: president will have the funding to build the wall',\n",
              " 'aaron miller: if she wins in November we should expect new wars',\n",
              " 'a coroner ruled that the death of a former NFL player s prison',\n",
              " 'True',\n",
              " 'True story: Poke mon Go trainer catches all 142 virtual monsters available in the',\n",
              " 'True',\n",
              " 'True',\n",
              " 'aaron carroll: superfetation is a rare phenomenon in humans .',\n",
              " 'True',\n",
              " 'True',\n",
              " 'True',\n",
              " 'millennials are one of the primary groups controlling holiday spending this year . millennials',\n",
              " 'aaron carroll: ten examples of collectibles that are worth less',\n",
              " 'a military news service run by Lebanon s pro Damascus Hizbull',\n",
              " 'True',\n",
              " 'a new series of the most dangerous reality show on television will begin this month .',\n",
              " 'True',\n",
              " 'aaron carroll: if this happens, he can see romo',\n",
              " 'a rename of a classic Pokemon is causing a stir .',\n",
              " 'True',\n",
              " 'adam mccarthy: homo sapiens are causing irreversible',\n",
              " 'False',\n",
              " 'True',\n",
              " 'True',\n",
              " 'aaron carroll: tomhanks a two time Best Actor',\n",
              " 'True',\n",
              " 'True',\n",
              " 'True',\n",
              " 'rape kits include biological samples and physical evidence gathered from sexual assault victims .',\n",
              " 'True story: my Great Aunt Alison gave us a box that read \"Do not open',\n",
              " 'True',\n",
              " 'a spokesman for the magazine says the cover is a purely artistic creation',\n",
              " 'a sanitizer is going to be a more important issue here than washing',\n",
              " 'True',\n",
              " 'True',\n",
              " 'True',\n",
              " 'a photo posted by megrdixon on february 5 2017 at 7',\n",
              " 'a new campaign is being launched by american apparel . a photo shoot was',\n",
              " 'a study by the university of canada found that snow can increase the risk of heart attack',\n",
              " 'True',\n",
              " 'True',\n",
              " 'a bill in the state House of Representatives would legalize the possession and use of up',\n",
              " 'True',\n",
              " 'lag during gameplay is a consistent problem in the 3DS . lag is',\n",
              " 'True',\n",
              " 'aaron carroll: rumors are swirling that a new weekend update anchor',\n",
              " 'a san francisco based businessman who is a high maintenance person',\n",
              " 'a plan proposed by state senators would allow elected officials to meet privately to negotiate and draft',\n",
              " 'True',\n",
              " 'a reporter from myNewYorkEye bluntly asked executive producer Al Jean',\n",
              " 'True',\n",
              " 'aaron carroll: Sony s response to Microsoft s invitation for utilizing',\n",
              " 'True',\n",
              " 'True',\n",
              " 'False',\n",
              " 'True',\n",
              " 'True',\n",
              " 'True',\n",
              " 'aaron miller: president Trump has succeeded by bullshitting. he says',\n",
              " 'True',\n",
              " 'a new list of 11 of the nation s 100 most dangerous cities are in florid',\n",
              " 'During a Q A on twitter, rowling revealed a surprising revelation about Hagrid',\n",
              " 'True',\n",
              " 'True',\n",
              " 'True',\n",
              " 'aaron carroll: the film was made when there were competing theories of how antibodies',\n",
              " 'a slew of festivals are taking place around the world to celebrate the full moon',\n",
              " 'a secret recipe for kFC chicken has been revealed . recipe includes white pepper,',\n",
              " 'aaron carroll: more straight men are exploring anal sex .',\n",
              " 'aaron carroll: the wacky life of the Olsen twin',\n",
              " 'a slew of Pokemon have been designed to be a bit shit',\n",
              " 'aaron carroll: in honor of what would have been her 85th birthday here',\n",
              " 'aaron carroll: the Houston Chronicle has officially endorsed the Democrat Hillary Clinton',\n",
              " 'a san francisco man decides to explore an abandoned apartment complex and instantly',\n",
              " 'HSBC: if china is transitioning too early it is way too early .',\n",
              " 'True',\n",
              " 'True',\n",
              " 'a spokesman for the Electoral College says he will not vote for Trump',\n",
              " 'a beauty pageant contestant has taken to Instagram to share her battle with acne .',\n",
              " 'a cryptic numeric tweets led to rampant rumors assange had',\n",
              " 'True']"
            ]
          },
          "metadata": {},
          "execution_count": 15
        }
      ]
    },
    {
      "cell_type": "code",
      "source": [
        "import pandas as pd\n",
        "\n",
        "# Create a DataFrame from the generated spoilers\n",
        "df = pd.DataFrame(generated_spoilers, columns=['Generated Spoilers'])\n",
        "\n",
        "# Add an index column\n",
        "df.reset_index(level=0, inplace=True)\n",
        "df = df.rename(columns = {'index':'Test Index'})\n",
        "\n",
        "# Save the DataFrame to a CSV file\n",
        "df.to_csv('generated_spoilers.csv', index=False)\n"
      ],
      "metadata": {
        "id": "0J5-QAIqW3P1"
      },
      "execution_count": null,
      "outputs": []
    },
    {
      "cell_type": "code",
      "source": [
        "def encode_labels(train_labels):\n",
        "    flattened_labels = [label for sublist in train_labels for label in sublist]\n",
        "    label_encoder = LabelEncoder()\n",
        "    label_encoder.fit(flattened_labels)\n",
        "    encoded_labels = label_encoder.transform(flattened_labels)\n",
        "    return encoded_labels, label_encoder"
      ],
      "metadata": {
        "id": "fCXI4o7x5Em1"
      },
      "execution_count": null,
      "outputs": []
    },
    {
      "cell_type": "code",
      "source": [
        "def encode_texts(texts, tokenizer, max_seq_length):\n",
        "    input_ids = []\n",
        "    attention_masks = []\n",
        "\n",
        "    for text in texts:\n",
        "        encoding = tokenizer.encode_plus(\n",
        "            text,\n",
        "            add_special_tokens=True,\n",
        "            max_length=max_seq_length,\n",
        "            padding='max_length',\n",
        "            truncation=True,\n",
        "            return_tensors='pt'\n",
        "        )\n",
        "\n",
        "        input_ids.append(encoding['input_ids'].squeeze())\n",
        "        attention_masks.append(encoding['attention_mask'].squeeze())\n",
        "\n",
        "    input_ids = torch.stack(input_ids)\n",
        "    attention_masks = torch.stack(attention_masks)\n",
        "\n",
        "    return input_ids, attention_masks"
      ],
      "metadata": {
        "id": "A7U20w8U5KWi"
      },
      "execution_count": null,
      "outputs": []
    },
    {
      "cell_type": "code",
      "source": [
        "class DebertaClassifier(nn.Module):\n",
        "  def __init__(self, hidden_size, output_size):\n",
        "    super(DebertaClassifier, self).__init__()\n",
        "    self.deberta = DebertaModel.from_pretrained('microsoft/deberta-base')\n",
        "    self.dropout = nn.Dropout(0.1)\n",
        "    self.fc1 = nn.Linear(hidden_size, hidden_size)\n",
        "    self.fc2 = nn.Linear(hidden_size, output_size)\n",
        "\n",
        "  def forward(self, input_ids, attention_mask):\n",
        "    outputs = self.deberta(input_ids=input_ids, attention_mask=attention_mask)\n",
        "    # Get the hidden state of the [CLS] token\n",
        "    cls_output = outputs.last_hidden_state[:, 0, :]\n",
        "    cls_output = self.dropout(cls_output)\n",
        "    cls_output = self.fc1(cls_output)\n",
        "    logits = self.fc2(cls_output)\n",
        "    return F.softmax(logits, dim=1)\n",
        "    #return logits # Applying softmax activation to get class probabilities\n"
      ],
      "metadata": {
        "id": "RX1We8lZVbtX"
      },
      "execution_count": null,
      "outputs": []
    },
    {
      "cell_type": "code",
      "source": [
        "train_selected = preprocess_data(df)\n",
        "val_selected = preprocess_data(df2)\n",
        "test_selected = preprocess_data(df3)\n",
        "\n",
        "X_train = train_selected['combined_texts']\n",
        "X_val = val_selected['combined_texts']\n",
        "X_test = test_selected['combined_texts']"
      ],
      "metadata": {
        "colab": {
          "base_uri": "https://localhost:8080/"
        },
        "id": "jljdELCK5lqQ",
        "outputId": "e4e2526f-0509-4f5c-ccd1-c0fc34953da2"
      },
      "execution_count": null,
      "outputs": [
        {
          "output_type": "stream",
          "name": "stderr",
          "text": [
            "<ipython-input-11-90efcd88b1a8>:10: SettingWithCopyWarning: \n",
            "A value is trying to be set on a copy of a slice from a DataFrame\n",
            "\n",
            "See the caveats in the documentation: https://pandas.pydata.org/pandas-docs/stable/user_guide/indexing.html#returning-a-view-versus-a-copy\n",
            "  df.loc[:, ['postText', 'targetTitle']] = df.loc[:, ['postText', 'targetTitle']].astype(str)\n",
            "<ipython-input-11-90efcd88b1a8>:14: SettingWithCopyWarning: \n",
            "A value is trying to be set on a copy of a slice from a DataFrame.\n",
            "Try using .loc[row_indexer,col_indexer] = value instead\n",
            "\n",
            "See the caveats in the documentation: https://pandas.pydata.org/pandas-docs/stable/user_guide/indexing.html#returning-a-view-versus-a-copy\n",
            "  df[\"postText_tokens\"] = df.apply(lambda row: tokenizer.tokenize(row[\"postText\"]), axis=1)\n",
            "<ipython-input-11-90efcd88b1a8>:15: SettingWithCopyWarning: \n",
            "A value is trying to be set on a copy of a slice from a DataFrame.\n",
            "Try using .loc[row_indexer,col_indexer] = value instead\n",
            "\n",
            "See the caveats in the documentation: https://pandas.pydata.org/pandas-docs/stable/user_guide/indexing.html#returning-a-view-versus-a-copy\n",
            "  df[\"paragraph_tokens\"] = df.apply(lambda row: tokenizer.tokenize(row[\"targetTitle\"]), axis=1)\n",
            "<ipython-input-11-90efcd88b1a8>:25: SettingWithCopyWarning: \n",
            "A value is trying to be set on a copy of a slice from a DataFrame.\n",
            "Try using .loc[row_indexer,col_indexer] = value instead\n",
            "\n",
            "See the caveats in the documentation: https://pandas.pydata.org/pandas-docs/stable/user_guide/indexing.html#returning-a-view-versus-a-copy\n",
            "  df['postText_tokens'] = df['postText_tokens'].map(lambda row: list(map(str.lower, row)))\n",
            "<ipython-input-11-90efcd88b1a8>:26: SettingWithCopyWarning: \n",
            "A value is trying to be set on a copy of a slice from a DataFrame.\n",
            "Try using .loc[row_indexer,col_indexer] = value instead\n",
            "\n",
            "See the caveats in the documentation: https://pandas.pydata.org/pandas-docs/stable/user_guide/indexing.html#returning-a-view-versus-a-copy\n",
            "  df['paragraph_tokens'] = df['paragraph_tokens'].map(lambda row: list(map(str.lower, row)))\n",
            "<ipython-input-11-90efcd88b1a8>:31: SettingWithCopyWarning: \n",
            "A value is trying to be set on a copy of a slice from a DataFrame.\n",
            "Try using .loc[row_indexer,col_indexer] = value instead\n",
            "\n",
            "See the caveats in the documentation: https://pandas.pydata.org/pandas-docs/stable/user_guide/indexing.html#returning-a-view-versus-a-copy\n",
            "  df[['postText_tokens', 'paragraph_tokens']] = df[['postText_tokens', 'paragraph_tokens']].replace(r'\\s+', ' ', regex=True).replace(r'\\W', ' ', regex=True)\n",
            "<ipython-input-11-90efcd88b1a8>:34: SettingWithCopyWarning: \n",
            "A value is trying to be set on a copy of a slice from a DataFrame.\n",
            "Try using .loc[row_indexer,col_indexer] = value instead\n",
            "\n",
            "See the caveats in the documentation: https://pandas.pydata.org/pandas-docs/stable/user_guide/indexing.html#returning-a-view-versus-a-copy\n",
            "  df['postText_tokens'] = df['postText_tokens'].apply(lemmatize_text)\n",
            "<ipython-input-11-90efcd88b1a8>:35: SettingWithCopyWarning: \n",
            "A value is trying to be set on a copy of a slice from a DataFrame.\n",
            "Try using .loc[row_indexer,col_indexer] = value instead\n",
            "\n",
            "See the caveats in the documentation: https://pandas.pydata.org/pandas-docs/stable/user_guide/indexing.html#returning-a-view-versus-a-copy\n",
            "  df['paragraph_tokens'] = df['paragraph_tokens'].apply(lemmatize_text)\n",
            "<ipython-input-11-90efcd88b1a8>:39: SettingWithCopyWarning: \n",
            "A value is trying to be set on a copy of a slice from a DataFrame.\n",
            "Try using .loc[row_indexer,col_indexer] = value instead\n",
            "\n",
            "See the caveats in the documentation: https://pandas.pydata.org/pandas-docs/stable/user_guide/indexing.html#returning-a-view-versus-a-copy\n",
            "  df['combined_texts'] = df['postText_tokens'].apply(lambda tokens: ' '.join(tokens)) + \" \" + df['paragraph_tokens'].apply(lambda tokens: ' '.join(tokens))\n",
            "<ipython-input-11-90efcd88b1a8>:10: SettingWithCopyWarning: \n",
            "A value is trying to be set on a copy of a slice from a DataFrame\n",
            "\n",
            "See the caveats in the documentation: https://pandas.pydata.org/pandas-docs/stable/user_guide/indexing.html#returning-a-view-versus-a-copy\n",
            "  df.loc[:, ['postText', 'targetTitle']] = df.loc[:, ['postText', 'targetTitle']].astype(str)\n",
            "<ipython-input-11-90efcd88b1a8>:14: SettingWithCopyWarning: \n",
            "A value is trying to be set on a copy of a slice from a DataFrame.\n",
            "Try using .loc[row_indexer,col_indexer] = value instead\n",
            "\n",
            "See the caveats in the documentation: https://pandas.pydata.org/pandas-docs/stable/user_guide/indexing.html#returning-a-view-versus-a-copy\n",
            "  df[\"postText_tokens\"] = df.apply(lambda row: tokenizer.tokenize(row[\"postText\"]), axis=1)\n",
            "<ipython-input-11-90efcd88b1a8>:15: SettingWithCopyWarning: \n",
            "A value is trying to be set on a copy of a slice from a DataFrame.\n",
            "Try using .loc[row_indexer,col_indexer] = value instead\n",
            "\n",
            "See the caveats in the documentation: https://pandas.pydata.org/pandas-docs/stable/user_guide/indexing.html#returning-a-view-versus-a-copy\n",
            "  df[\"paragraph_tokens\"] = df.apply(lambda row: tokenizer.tokenize(row[\"targetTitle\"]), axis=1)\n",
            "<ipython-input-11-90efcd88b1a8>:25: SettingWithCopyWarning: \n",
            "A value is trying to be set on a copy of a slice from a DataFrame.\n",
            "Try using .loc[row_indexer,col_indexer] = value instead\n",
            "\n",
            "See the caveats in the documentation: https://pandas.pydata.org/pandas-docs/stable/user_guide/indexing.html#returning-a-view-versus-a-copy\n",
            "  df['postText_tokens'] = df['postText_tokens'].map(lambda row: list(map(str.lower, row)))\n",
            "<ipython-input-11-90efcd88b1a8>:26: SettingWithCopyWarning: \n",
            "A value is trying to be set on a copy of a slice from a DataFrame.\n",
            "Try using .loc[row_indexer,col_indexer] = value instead\n",
            "\n",
            "See the caveats in the documentation: https://pandas.pydata.org/pandas-docs/stable/user_guide/indexing.html#returning-a-view-versus-a-copy\n",
            "  df['paragraph_tokens'] = df['paragraph_tokens'].map(lambda row: list(map(str.lower, row)))\n",
            "<ipython-input-11-90efcd88b1a8>:31: SettingWithCopyWarning: \n",
            "A value is trying to be set on a copy of a slice from a DataFrame.\n",
            "Try using .loc[row_indexer,col_indexer] = value instead\n",
            "\n",
            "See the caveats in the documentation: https://pandas.pydata.org/pandas-docs/stable/user_guide/indexing.html#returning-a-view-versus-a-copy\n",
            "  df[['postText_tokens', 'paragraph_tokens']] = df[['postText_tokens', 'paragraph_tokens']].replace(r'\\s+', ' ', regex=True).replace(r'\\W', ' ', regex=True)\n",
            "<ipython-input-11-90efcd88b1a8>:34: SettingWithCopyWarning: \n",
            "A value is trying to be set on a copy of a slice from a DataFrame.\n",
            "Try using .loc[row_indexer,col_indexer] = value instead\n",
            "\n",
            "See the caveats in the documentation: https://pandas.pydata.org/pandas-docs/stable/user_guide/indexing.html#returning-a-view-versus-a-copy\n",
            "  df['postText_tokens'] = df['postText_tokens'].apply(lemmatize_text)\n",
            "<ipython-input-11-90efcd88b1a8>:35: SettingWithCopyWarning: \n",
            "A value is trying to be set on a copy of a slice from a DataFrame.\n",
            "Try using .loc[row_indexer,col_indexer] = value instead\n",
            "\n",
            "See the caveats in the documentation: https://pandas.pydata.org/pandas-docs/stable/user_guide/indexing.html#returning-a-view-versus-a-copy\n",
            "  df['paragraph_tokens'] = df['paragraph_tokens'].apply(lemmatize_text)\n",
            "<ipython-input-11-90efcd88b1a8>:39: SettingWithCopyWarning: \n",
            "A value is trying to be set on a copy of a slice from a DataFrame.\n",
            "Try using .loc[row_indexer,col_indexer] = value instead\n",
            "\n",
            "See the caveats in the documentation: https://pandas.pydata.org/pandas-docs/stable/user_guide/indexing.html#returning-a-view-versus-a-copy\n",
            "  df['combined_texts'] = df['postText_tokens'].apply(lambda tokens: ' '.join(tokens)) + \" \" + df['paragraph_tokens'].apply(lambda tokens: ' '.join(tokens))\n",
            "<ipython-input-11-90efcd88b1a8>:10: SettingWithCopyWarning: \n",
            "A value is trying to be set on a copy of a slice from a DataFrame\n",
            "\n",
            "See the caveats in the documentation: https://pandas.pydata.org/pandas-docs/stable/user_guide/indexing.html#returning-a-view-versus-a-copy\n",
            "  df.loc[:, ['postText', 'targetTitle']] = df.loc[:, ['postText', 'targetTitle']].astype(str)\n",
            "<ipython-input-11-90efcd88b1a8>:14: SettingWithCopyWarning: \n",
            "A value is trying to be set on a copy of a slice from a DataFrame.\n",
            "Try using .loc[row_indexer,col_indexer] = value instead\n",
            "\n",
            "See the caveats in the documentation: https://pandas.pydata.org/pandas-docs/stable/user_guide/indexing.html#returning-a-view-versus-a-copy\n",
            "  df[\"postText_tokens\"] = df.apply(lambda row: tokenizer.tokenize(row[\"postText\"]), axis=1)\n",
            "<ipython-input-11-90efcd88b1a8>:15: SettingWithCopyWarning: \n",
            "A value is trying to be set on a copy of a slice from a DataFrame.\n",
            "Try using .loc[row_indexer,col_indexer] = value instead\n",
            "\n",
            "See the caveats in the documentation: https://pandas.pydata.org/pandas-docs/stable/user_guide/indexing.html#returning-a-view-versus-a-copy\n",
            "  df[\"paragraph_tokens\"] = df.apply(lambda row: tokenizer.tokenize(row[\"targetTitle\"]), axis=1)\n",
            "<ipython-input-11-90efcd88b1a8>:25: SettingWithCopyWarning: \n",
            "A value is trying to be set on a copy of a slice from a DataFrame.\n",
            "Try using .loc[row_indexer,col_indexer] = value instead\n",
            "\n",
            "See the caveats in the documentation: https://pandas.pydata.org/pandas-docs/stable/user_guide/indexing.html#returning-a-view-versus-a-copy\n",
            "  df['postText_tokens'] = df['postText_tokens'].map(lambda row: list(map(str.lower, row)))\n",
            "<ipython-input-11-90efcd88b1a8>:26: SettingWithCopyWarning: \n",
            "A value is trying to be set on a copy of a slice from a DataFrame.\n",
            "Try using .loc[row_indexer,col_indexer] = value instead\n",
            "\n",
            "See the caveats in the documentation: https://pandas.pydata.org/pandas-docs/stable/user_guide/indexing.html#returning-a-view-versus-a-copy\n",
            "  df['paragraph_tokens'] = df['paragraph_tokens'].map(lambda row: list(map(str.lower, row)))\n",
            "<ipython-input-11-90efcd88b1a8>:31: SettingWithCopyWarning: \n",
            "A value is trying to be set on a copy of a slice from a DataFrame.\n",
            "Try using .loc[row_indexer,col_indexer] = value instead\n",
            "\n",
            "See the caveats in the documentation: https://pandas.pydata.org/pandas-docs/stable/user_guide/indexing.html#returning-a-view-versus-a-copy\n",
            "  df[['postText_tokens', 'paragraph_tokens']] = df[['postText_tokens', 'paragraph_tokens']].replace(r'\\s+', ' ', regex=True).replace(r'\\W', ' ', regex=True)\n",
            "<ipython-input-11-90efcd88b1a8>:34: SettingWithCopyWarning: \n",
            "A value is trying to be set on a copy of a slice from a DataFrame.\n",
            "Try using .loc[row_indexer,col_indexer] = value instead\n",
            "\n",
            "See the caveats in the documentation: https://pandas.pydata.org/pandas-docs/stable/user_guide/indexing.html#returning-a-view-versus-a-copy\n",
            "  df['postText_tokens'] = df['postText_tokens'].apply(lemmatize_text)\n",
            "<ipython-input-11-90efcd88b1a8>:35: SettingWithCopyWarning: \n",
            "A value is trying to be set on a copy of a slice from a DataFrame.\n",
            "Try using .loc[row_indexer,col_indexer] = value instead\n",
            "\n",
            "See the caveats in the documentation: https://pandas.pydata.org/pandas-docs/stable/user_guide/indexing.html#returning-a-view-versus-a-copy\n",
            "  df['paragraph_tokens'] = df['paragraph_tokens'].apply(lemmatize_text)\n",
            "<ipython-input-11-90efcd88b1a8>:39: SettingWithCopyWarning: \n",
            "A value is trying to be set on a copy of a slice from a DataFrame.\n",
            "Try using .loc[row_indexer,col_indexer] = value instead\n",
            "\n",
            "See the caveats in the documentation: https://pandas.pydata.org/pandas-docs/stable/user_guide/indexing.html#returning-a-view-versus-a-copy\n",
            "  df['combined_texts'] = df['postText_tokens'].apply(lambda tokens: ' '.join(tokens)) + \" \" + df['paragraph_tokens'].apply(lambda tokens: ' '.join(tokens))\n"
          ]
        }
      ]
    },
    {
      "cell_type": "code",
      "source": [
        "train_labels, label_encoder = encode_labels(df['tags'].tolist())\n",
        "val_labels, vlabel_encoder = encode_labels(df2['tags'].tolist())\n",
        "\n",
        "#tokenizer = RobertaTokenizer.from_pretrained('roberta-base')\n",
        "tokenizer = DebertaTokenizer.from_pretrained('microsoft/deberta-base')\n",
        "input_size = tokenizer.vocab_size\n",
        "max_seq_length = 40"
      ],
      "metadata": {
        "id": "x3LTq3hI5s88",
        "colab": {
          "base_uri": "https://localhost:8080/",
          "height": 145,
          "referenced_widgets": [
            "9199bbe697604d3192b9e65a3c49fff0",
            "efc1f194b7c8477aae4b213d16b686cf",
            "44c0e0114bec446d9f78adb5c4ef8873",
            "17876e520c794290b44b547dca26ca93",
            "1bb446d0cf6b47f3b94eac8dcaf0b185",
            "8b0873707ace4ef281aafbbea4ecb673",
            "109a2ab323de430885ef6f892f7f562d",
            "7fb0f9bf94564998befe5d1e1b010a74",
            "bd5ce2df4a784fc4ad4fe8f6e365d8b4",
            "036b88db8d084082889587b48c694b18",
            "d051ae8b1b6446a59d77739eb18f0d11",
            "7add80831cf34e04a9044758de61666c",
            "393f182e5f4843b69faf875c99aea5c8",
            "86698c7485c7465d99083ff118b7a3f5",
            "478016aefe904d5dbd9505a6a591d6d4",
            "b0d9ad3c08a0462ab38d0425f519104f",
            "541407e8b3a7499c838cb200a6c725ce",
            "d3a3eeda339c46d086c2956ad97f449e",
            "9594453a8ceb45159d5384fe74f47eef",
            "388cebf8a24e423c831f737c60e786fd",
            "f6014daf5bf946e997c5e243397b7201",
            "e3e9ae3f75a8489f8c3250367ddb8a16",
            "6b0156b3ac364a20ac3dc958c19a6715",
            "4c4a509e3005466f98e0cca1f458ceab",
            "56e2a77901be4e0584623232037c11c1",
            "69d79e63d8e84579ae6a61299cd0a2e8",
            "0bb2c2f9d42e44e09929663293d81a1b",
            "42b2e9969ac94b7087b0f0cef60c94d4",
            "66610a4e3447485f8c35a509cfa6f07d",
            "a2436f42263d4377add49ad997db0ae8",
            "b59d8be642d54c12a9127f550967cc7d",
            "f7955b5a0c18416398f9e31078cd6b17",
            "f630e0d22da448778eee9f341f64f2a7",
            "5368742126df404f848eaaf53995000f",
            "cf9d130e253a4afc9c0212223a60c56e",
            "f3e4155b0cba4546b3d5e60e1a53c5fb",
            "2edf3b51abf14cdaae437ccd2ef41fc7",
            "ba93467b5f674278a8e73e882ffe0deb",
            "e4927fa87bdd436584243d57163a26aa",
            "0e46ec0df2f34699969a5232ec81b2e7",
            "9540621829904f3e8a9644fcc67f880c",
            "7e06b6d81ae545218f0d3adcb0288db0",
            "3956d22669be403794f2c5a3a042e5af",
            "1f44edb1c92441b28733fbfabb3f0fdb"
          ]
        },
        "outputId": "566f70d9-e0c4-4e10-985d-c1ae57128f97"
      },
      "execution_count": null,
      "outputs": [
        {
          "output_type": "display_data",
          "data": {
            "text/plain": [
              "Downloading (…)olve/main/vocab.json:   0%|          | 0.00/899k [00:00<?, ?B/s]"
            ],
            "application/vnd.jupyter.widget-view+json": {
              "version_major": 2,
              "version_minor": 0,
              "model_id": "9199bbe697604d3192b9e65a3c49fff0"
            }
          },
          "metadata": {}
        },
        {
          "output_type": "display_data",
          "data": {
            "text/plain": [
              "Downloading (…)olve/main/merges.txt:   0%|          | 0.00/456k [00:00<?, ?B/s]"
            ],
            "application/vnd.jupyter.widget-view+json": {
              "version_major": 2,
              "version_minor": 0,
              "model_id": "7add80831cf34e04a9044758de61666c"
            }
          },
          "metadata": {}
        },
        {
          "output_type": "display_data",
          "data": {
            "text/plain": [
              "Downloading (…)okenizer_config.json:   0%|          | 0.00/52.0 [00:00<?, ?B/s]"
            ],
            "application/vnd.jupyter.widget-view+json": {
              "version_major": 2,
              "version_minor": 0,
              "model_id": "6b0156b3ac364a20ac3dc958c19a6715"
            }
          },
          "metadata": {}
        },
        {
          "output_type": "display_data",
          "data": {
            "text/plain": [
              "Downloading (…)lve/main/config.json:   0%|          | 0.00/474 [00:00<?, ?B/s]"
            ],
            "application/vnd.jupyter.widget-view+json": {
              "version_major": 2,
              "version_minor": 0,
              "model_id": "5368742126df404f848eaaf53995000f"
            }
          },
          "metadata": {}
        }
      ]
    },
    {
      "cell_type": "code",
      "source": [
        "train_input_ids, train_attention_masks = encode_texts(X_train, tokenizer, max_seq_length)\n",
        "val_input_ids, val_attention_masks = encode_texts(X_val, tokenizer, max_seq_length)\n",
        "test_input_ids, test_attention_masks = encode_texts(X_test, tokenizer, max_seq_length)\n",
        "train_labels = torch.tensor(train_labels, dtype=torch.long)\n",
        "val_labels = torch.tensor(val_labels, dtype=torch.long)\n",
        "\n",
        "train_dataset = TensorDataset(train_input_ids, train_attention_masks, train_labels)\n",
        "train_loader = DataLoader(train_dataset, batch_size=16, shuffle=True)\n",
        "val_dataset = TensorDataset(val_input_ids, val_attention_masks, val_labels)\n",
        "val_loader = DataLoader(val_dataset, batch_size=16, shuffle=False)\n"
      ],
      "metadata": {
        "id": "4etFP97-53C6"
      },
      "execution_count": null,
      "outputs": []
    },
    {
      "cell_type": "code",
      "source": [
        "def main():\n",
        "\n",
        "  best_val_accuracy = 0.0\n",
        "  best_model_state = None\n",
        "  hidden_size = 768\n",
        "  output_size = len(label_encoder.classes_)\n",
        "  learning_rate = 1e-5\n",
        "\n",
        "\n",
        "\n",
        "\n",
        "  model = DebertaClassifier(hidden_size, output_size)\n",
        "\n",
        "  device = torch.device('cuda' if torch.cuda.is_available() else 'cpu')\n",
        "  model = model.to(device)\n",
        "\n",
        "\n",
        "  criterion = nn.CrossEntropyLoss()\n",
        "  optimizer = optim.AdamW(model.parameters(), lr=learning_rate)\n",
        "\n",
        "\n",
        "\n",
        "\n",
        "  num_epochs = 1\n",
        "\n",
        "\n",
        "  for epoch in range(num_epochs):\n",
        "      model.train()\n",
        "      for input_ids, attention_masks, labels in tqdm(train_loader):\n",
        "          input_ids = input_ids.to(device)\n",
        "          attention_masks = attention_masks.to(device)\n",
        "          labels = labels.to(device)\n",
        "\n",
        "          optimizer.zero_grad()\n",
        "          logits = model(input_ids, attention_masks)\n",
        "          loss = criterion(logits, labels)\n",
        "          loss.backward()\n",
        "          optimizer.step()\n",
        "\n",
        "      model.eval()\n",
        "      val_loss = 0.0\n",
        "      val_correct = 0\n",
        "      total_samples = 0\n",
        "\n",
        "      with torch.no_grad():\n",
        "          for input_ids, attention_masks, v_labels in tqdm(val_loader):\n",
        "              input_ids = input_ids.to(device)\n",
        "              attention_masks = attention_masks.to(device)\n",
        "              v_labels = v_labels.to(device)\n",
        "\n",
        "              logits = model(input_ids, attention_masks)\n",
        "              loss = criterion(logits, v_labels)\n",
        "              val_loss += loss.item()\n",
        "              _, predicted = torch.max(logits, 1)\n",
        "              val_correct += (predicted == v_labels).sum().item()\n",
        "              total_samples +=v_labels.size(0)\n",
        "\n",
        "      #val_loss /= len(val_loader)\n",
        "      val_loss /= total_samples\n",
        "      val_accuracy = val_correct / total_samples\n",
        "\n",
        "      if val_accuracy > best_val_accuracy:\n",
        "          best_val_accuracy = val_accuracy\n",
        "          best_model_state = model.state_dict()\n",
        "\n",
        "      print(f\"Epoch [{epoch+1}/{num_epochs}], Validation Accuracy: {val_accuracy:.4f}\")\n",
        "      print()\n",
        "\n",
        "      print(best_val_accuracy)\n",
        "\n",
        "  #best_model_filename = \"best_model_roberta_wandb.pth\"\n",
        "  #torch.save(best_model_state, best_model_filename)\n",
        "  best_model_filename = f\"best_model_Deberta_jul28b_lr_{learning_rate}_epochs_{num_epochs}.pth\"\n",
        "  torch.save(best_model_state, best_model_filename)\n",
        "  model.load_state_dict(torch.load(best_model_filename))\n",
        "  model.eval()\n",
        "\n",
        "  test_batch_size = 16\n",
        "  test_dataset = TensorDataset(test_input_ids, test_attention_masks)\n",
        "  test_loader = DataLoader(test_dataset, batch_size=test_batch_size, shuffle=False)\n",
        "  test_outputs = []\n",
        "\n",
        "  with torch.no_grad():\n",
        "    for input_ids, attention_masks in tqdm(test_loader):\n",
        "      input_ids = input_ids.to(device)\n",
        "      attention_masks = attention_masks.to(device)\n",
        "\n",
        "      batch_outputs = model(input_ids, attention_masks)\n",
        "      _, predicted = torch.max(batch_outputs, 1)\n",
        "      test_outputs.append(predicted)\n",
        "  test_outputs = torch.cat(test_outputs, dim=0)\n",
        "  test_predicted = test_outputs.cpu()\n",
        "  converted_array = test_predicted.numpy()\n",
        "  converted_array_tags = label_encoder.inverse_transform(converted_array)\n",
        "  output_data = []\n",
        "\n",
        "  for index, pred in enumerate(converted_array_tags):\n",
        "      prediction = {'id': index, 'spoilerType': pred}\n",
        "      output_data.append(prediction)\n",
        "\n",
        "  out_df = pd.DataFrame(output_data)\n",
        "  #out_df.to_csv(\"output_big_bird_jul21.csv\", index=False)\n",
        "  filename = f\"output_Deberta_lr_{learning_rate}_epochs_{num_epochs}_jul28b.csv\"\n",
        "  out_df.to_csv(filename, index=False)\n",
        "\n",
        "if __name__ == \"__main__\":\n",
        "  main()\n",
        "\n",
        "\n"
      ],
      "metadata": {
        "id": "AlJBdlFI1l7s",
        "colab": {
          "base_uri": "https://localhost:8080/",
          "height": 160,
          "referenced_widgets": [
            "97abb541a9dd40fe9c0f93bf01c7f19f",
            "9a434ce0916942cbbf374bad480df3b5",
            "8297fbec203c488ab6ef38696d7671b5",
            "211fe72c058b4a81a469c7afed8d7bb8",
            "6797814380c548529421e389c26cc61e",
            "3ddc12d2350e49c58b5a41d75f3d817c",
            "5d11139bbe4e4e89b54127a1ef19c333",
            "8ec54e7d54344a9dab7d03a679430239",
            "f4ee580db4074c59adcb415edc158656",
            "8676360611234b189fa109061d9fd229",
            "049889917702450bbbd2f25d387eb8f3"
          ]
        },
        "outputId": "897eb4f4-1274-462b-a12c-cc458e515fb7"
      },
      "execution_count": null,
      "outputs": [
        {
          "output_type": "display_data",
          "data": {
            "text/plain": [
              "Downloading pytorch_model.bin:   0%|          | 0.00/559M [00:00<?, ?B/s]"
            ],
            "application/vnd.jupyter.widget-view+json": {
              "version_major": 2,
              "version_minor": 0,
              "model_id": "97abb541a9dd40fe9c0f93bf01c7f19f"
            }
          },
          "metadata": {}
        },
        {
          "output_type": "stream",
          "name": "stderr",
          "text": [
            "100%|██████████| 200/200 [00:20<00:00,  9.81it/s]\n",
            "100%|██████████| 25/25 [00:00<00:00, 41.47it/s]\n"
          ]
        },
        {
          "output_type": "stream",
          "name": "stdout",
          "text": [
            "Epoch [1/1], Validation Accuracy: 0.5725\n",
            "\n",
            "0.5725\n"
          ]
        },
        {
          "output_type": "stream",
          "name": "stderr",
          "text": [
            "100%|██████████| 25/25 [00:00<00:00, 41.40it/s]\n"
          ]
        }
      ]
    },
    {
      "cell_type": "code",
      "source": [
        "print(best_val_accuracy)"
      ],
      "metadata": {
        "id": "amKbkilbw5j0",
        "colab": {
          "base_uri": "https://localhost:8080/"
        },
        "outputId": "d2f0a07e-55ed-4928-8006-28035c0c753b"
      },
      "execution_count": null,
      "outputs": [
        {
          "output_type": "stream",
          "name": "stdout",
          "text": [
            "0.6875\n"
          ]
        }
      ]
    },
    {
      "cell_type": "code",
      "source": [
        "class T5BaseModel(nn.Module):\n",
        "    def __init__(self):\n",
        "        super(T5BaseModel, self).__init__()\n",
        "\n",
        "        self.t5_model = T5ForConditionalGeneration.from_pretrained('t5-base')\n",
        "        self.tokenizer = T5Tokenizer.from_pretrained('t5-base')\n",
        "\n",
        "    def forward(self, input_ids, attention_mask, labels=None):\n",
        "        if labels is not None:  # Training\n",
        "            outputs = self.t5_model(input_ids=input_ids, attention_mask=attention_mask, labels=labels)\n",
        "            return outputs.loss\n",
        "        else:  # Evaluation\n",
        "            outputs = self.t5_model.generate(input_ids=input_ids, attention_mask=attention_mask)\n",
        "            return outputs"
      ],
      "metadata": {
        "id": "m7VifdszqxGc"
      },
      "execution_count": null,
      "outputs": []
    },
    {
      "cell_type": "code",
      "source": [
        "class T5BaseModelWithLinear(nn.Module):\n",
        "    def __init__(self):\n",
        "        super(T5BaseModelWithLinear, self).__init__()\n",
        "\n",
        "        self.t5_model = T5ForConditionalGeneration.from_pretrained('t5-base')\n",
        "       # self.linear = nn.Linear(self.t5_model.config.d_model, self.t5_model.config.vocab_size)\n",
        "        self.linear = nn.Linear(768, self.t5_model.config.vocab_size)\n",
        "        self.tokenizer = T5Tokenizer.from_pretrained('t5-base')\n",
        "\n",
        "    def forward(self, input_ids, attention_mask, decoder_input_ids=None, labels=None):\n",
        "        # Pass input through T5 model\n",
        "        if labels is not None:  # Training\n",
        "            outputs = self.t5_model(\n",
        "                input_ids=input_ids,\n",
        "                attention_mask=attention_mask,\n",
        "                decoder_input_ids=decoder_input_ids,\n",
        "                labels=labels,\n",
        "            )\n",
        "            # Pass model's output through new linear layer\n",
        "            logits = self.linear(outputs.logits)\n",
        "            # Compute loss\n",
        "            loss_fct = nn.CrossEntropyLoss()\n",
        "            loss = loss_fct(logits.view(-1, logits.size(-1)), labels.view(-1))\n",
        "            return loss\n",
        "        else:  # Evaluation\n",
        "            outputs = self.t5_model(\n",
        "                input_ids=input_ids,\n",
        "                attention_mask=attention_mask,\n",
        "                decoder_input_ids=decoder_input_ids,\n",
        "            )\n",
        "            # Pass model's output through new linear layer\n",
        "            logits = self.linear(outputs)\n",
        "            # Generate and return output sequences\n",
        "            return logits\n"
      ],
      "metadata": {
        "id": "KlpYlQC2qxPM"
      },
      "execution_count": null,
      "outputs": []
    }
  ]
}