{
  "cells": [
    {
      "cell_type": "markdown",
      "metadata": {
        "colab_type": "text",
        "id": "view-in-github"
      },
      "source": [
        "<a href=\"https://colab.research.google.com/github/lordbvico/msci-641-final-project/blob/main/task1_rerun_final_training.ipynb\" target=\"_parent\"><img src=\"https://colab.research.google.com/assets/colab-badge.svg\" alt=\"Open In Colab\"/></a>"
      ]
    },
    {
      "cell_type": "code",
      "execution_count": null,
      "metadata": {
        "id": "B45tFkZv1VpY"
      },
      "outputs": [],
      "source": [
        "# Code to read csv file into Colaboratory:\n",
        "!pip install -U -q PyDrive\n",
        "from pydrive.auth import GoogleAuth\n",
        "from pydrive.drive import GoogleDrive\n",
        "from google.colab import auth\n",
        "from oauth2client.client import GoogleCredentials\n",
        "# Authenticate and create the PyDrive client.\n",
        "auth.authenticate_user()\n",
        "gauth = GoogleAuth()\n",
        "gauth.credentials = GoogleCredentials.get_application_default()\n",
        "drive = GoogleDrive(gauth)"
      ]
    },
    {
      "cell_type": "code",
      "execution_count": null,
      "metadata": {
        "id": "QkHh_vGm1h0N"
      },
      "outputs": [],
      "source": [
        "import pandas as pd\n",
        "id = \"1AYls0rBsSfK9HsWWj8kdN6prEJcZsFEk\"\n",
        "downloaded = drive.CreateFile({'id':id})\n",
        "downloaded.GetContentFile('train.jsonl')\n",
        "df = pd.read_json('train.jsonl', lines=True)\n"
      ]
    },
    {
      "cell_type": "code",
      "execution_count": null,
      "metadata": {
        "id": "nco15hP73AmA"
      },
      "outputs": [],
      "source": [
        "id1 = \"18yu4xEsU1W_DYlT4dE6fCeXIvFJ_JSWQ\"\n",
        "downloaded1 = drive.CreateFile({'id':id1})\n",
        "downloaded1.GetContentFile('val.jsonl')\n",
        "df2 = pd.read_json('val.jsonl', lines=True)"
      ]
    },
    {
      "cell_type": "code",
      "execution_count": null,
      "metadata": {
        "id": "tqd0iKMY33CM"
      },
      "outputs": [],
      "source": [
        "id2 = \"1z3X-ZrhbwIiabENW69nBUmj8O0Mb-_Er\"\n",
        "downloaded2 = drive.CreateFile({'id':id2})\n",
        "downloaded2.GetContentFile('test.jsonl')\n",
        "df3 = pd.read_json('test.jsonl', lines=True)"
      ]
    },
    {
      "cell_type": "code",
      "execution_count": null,
      "metadata": {
        "colab": {
          "base_uri": "https://localhost:8080/"
        },
        "id": "0vTQl-LvlZlm",
        "outputId": "71ea6143-2c98-42f3-cda6-4518f522e283"
      },
      "outputs": [
        {
          "name": "stdout",
          "output_type": "stream",
          "text": [
            "\u001b[2K     \u001b[90m━━━━━━━━━━━━━━━━━━━━━━━━━━━━━━━━━━━━━━━━\u001b[0m \u001b[32m2.1/2.1 MB\u001b[0m \u001b[31m22.0 MB/s\u001b[0m eta \u001b[36m0:00:00\u001b[0m\n",
            "\u001b[2K     \u001b[90m━━━━━━━━━━━━━━━━━━━━━━━━━━━━━━━━━━━━━━\u001b[0m \u001b[32m188.5/188.5 kB\u001b[0m \u001b[31m20.0 MB/s\u001b[0m eta \u001b[36m0:00:00\u001b[0m\n",
            "\u001b[2K     \u001b[90m━━━━━━━━━━━━━━━━━━━━━━━━━━━━━━━━━━━━━━\u001b[0m \u001b[32m215.6/215.6 kB\u001b[0m \u001b[31m23.9 MB/s\u001b[0m eta \u001b[36m0:00:00\u001b[0m\n",
            "\u001b[?25h  Preparing metadata (setup.py) ... \u001b[?25l\u001b[?25hdone\n",
            "\u001b[2K     \u001b[90m━━━━━━━━━━━━━━━━━━━━━━━━━━━━━━━━━━━━━━━━\u001b[0m \u001b[32m62.7/62.7 kB\u001b[0m \u001b[31m7.3 MB/s\u001b[0m eta \u001b[36m0:00:00\u001b[0m\n",
            "\u001b[?25h  Building wheel for pathtools (setup.py) ... \u001b[?25l\u001b[?25hdone\n"
          ]
        }
      ],
      "source": [
        "!pip install wandb -qU"
      ]
    },
    {
      "cell_type": "code",
      "execution_count": null,
      "metadata": {
        "colab": {
          "base_uri": "https://localhost:8080/",
          "height": 71
        },
        "id": "iJ-lcDZAleMx",
        "outputId": "3e6e9a9e-b22d-4370-fc0f-57b18e21f38f"
      },
      "outputs": [
        {
          "data": {
            "application/javascript": "\n        window._wandbApiKey = new Promise((resolve, reject) => {\n            function loadScript(url) {\n            return new Promise(function(resolve, reject) {\n                let newScript = document.createElement(\"script\");\n                newScript.onerror = reject;\n                newScript.onload = resolve;\n                document.body.appendChild(newScript);\n                newScript.src = url;\n            });\n            }\n            loadScript(\"https://cdn.jsdelivr.net/npm/postmate/build/postmate.min.js\").then(() => {\n            const iframe = document.createElement('iframe')\n            iframe.style.cssText = \"width:0;height:0;border:none\"\n            document.body.appendChild(iframe)\n            const handshake = new Postmate({\n                container: iframe,\n                url: 'https://wandb.ai/authorize'\n            });\n            const timeout = setTimeout(() => reject(\"Couldn't auto authenticate\"), 5000)\n            handshake.then(function(child) {\n                child.on('authorize', data => {\n                    clearTimeout(timeout)\n                    resolve(data)\n                });\n            });\n            })\n        });\n    ",
            "text/plain": [
              "<IPython.core.display.Javascript object>"
            ]
          },
          "metadata": {},
          "output_type": "display_data"
        },
        {
          "name": "stderr",
          "output_type": "stream",
          "text": [
            "\u001b[34m\u001b[1mwandb\u001b[0m: Appending key for api.wandb.ai to your netrc file: /root/.netrc\n"
          ]
        },
        {
          "data": {
            "text/plain": [
              "True"
            ]
          },
          "execution_count": 6,
          "metadata": {},
          "output_type": "execute_result"
        }
      ],
      "source": [
        "# Log in to your W&B account\n",
        "import wandb\n",
        "wandb.login()"
      ]
    },
    {
      "cell_type": "code",
      "execution_count": null,
      "metadata": {
        "colab": {
          "base_uri": "https://localhost:8080/"
        },
        "id": "eWLSmxtQ4ii-",
        "outputId": "30bcee61-8c0f-4d34-d6ad-d029383bea90"
      },
      "outputs": [
        {
          "name": "stdout",
          "output_type": "stream",
          "text": [
            "Collecting transformers\n",
            "  Downloading transformers-4.31.0-py3-none-any.whl (7.4 MB)\n",
            "\u001b[2K     \u001b[90m━━━━━━━━━━━━━━━━━━━━━━━━━━━━━━━━━━━━━━━━\u001b[0m \u001b[32m7.4/7.4 MB\u001b[0m \u001b[31m49.5 MB/s\u001b[0m eta \u001b[36m0:00:00\u001b[0m\n",
            "\u001b[?25hRequirement already satisfied: filelock in /usr/local/lib/python3.10/dist-packages (from transformers) (3.12.2)\n",
            "Collecting huggingface-hub<1.0,>=0.14.1 (from transformers)\n",
            "  Downloading huggingface_hub-0.16.4-py3-none-any.whl (268 kB)\n",
            "\u001b[2K     \u001b[90m━━━━━━━━━━━━━━━━━━━━━━━━━━━━━━━━━━━━━━\u001b[0m \u001b[32m268.8/268.8 kB\u001b[0m \u001b[31m27.1 MB/s\u001b[0m eta \u001b[36m0:00:00\u001b[0m\n",
            "\u001b[?25hRequirement already satisfied: numpy>=1.17 in /usr/local/lib/python3.10/dist-packages (from transformers) (1.22.4)\n",
            "Requirement already satisfied: packaging>=20.0 in /usr/local/lib/python3.10/dist-packages (from transformers) (23.1)\n",
            "Requirement already satisfied: pyyaml>=5.1 in /usr/local/lib/python3.10/dist-packages (from transformers) (6.0.1)\n",
            "Requirement already satisfied: regex!=2019.12.17 in /usr/local/lib/python3.10/dist-packages (from transformers) (2022.10.31)\n",
            "Requirement already satisfied: requests in /usr/local/lib/python3.10/dist-packages (from transformers) (2.27.1)\n",
            "Collecting tokenizers!=0.11.3,<0.14,>=0.11.1 (from transformers)\n",
            "  Downloading tokenizers-0.13.3-cp310-cp310-manylinux_2_17_x86_64.manylinux2014_x86_64.whl (7.8 MB)\n",
            "\u001b[2K     \u001b[90m━━━━━━━━━━━━━━━━━━━━━━━━━━━━━━━━━━━━━━━━\u001b[0m \u001b[32m7.8/7.8 MB\u001b[0m \u001b[31m107.7 MB/s\u001b[0m eta \u001b[36m0:00:00\u001b[0m\n",
            "\u001b[?25hCollecting safetensors>=0.3.1 (from transformers)\n",
            "  Downloading safetensors-0.3.1-cp310-cp310-manylinux_2_17_x86_64.manylinux2014_x86_64.whl (1.3 MB)\n",
            "\u001b[2K     \u001b[90m━━━━━━━━━━━━━━━━━━━━━━━━━━━━━━━━━━━━━━━━\u001b[0m \u001b[32m1.3/1.3 MB\u001b[0m \u001b[31m76.4 MB/s\u001b[0m eta \u001b[36m0:00:00\u001b[0m\n",
            "\u001b[?25hRequirement already satisfied: tqdm>=4.27 in /usr/local/lib/python3.10/dist-packages (from transformers) (4.65.0)\n",
            "Requirement already satisfied: fsspec in /usr/local/lib/python3.10/dist-packages (from huggingface-hub<1.0,>=0.14.1->transformers) (2023.6.0)\n",
            "Requirement already satisfied: typing-extensions>=3.7.4.3 in /usr/local/lib/python3.10/dist-packages (from huggingface-hub<1.0,>=0.14.1->transformers) (4.7.1)\n",
            "Requirement already satisfied: urllib3<1.27,>=1.21.1 in /usr/local/lib/python3.10/dist-packages (from requests->transformers) (1.26.16)\n",
            "Requirement already satisfied: certifi>=2017.4.17 in /usr/local/lib/python3.10/dist-packages (from requests->transformers) (2023.7.22)\n",
            "Requirement already satisfied: charset-normalizer~=2.0.0 in /usr/local/lib/python3.10/dist-packages (from requests->transformers) (2.0.12)\n",
            "Requirement already satisfied: idna<4,>=2.5 in /usr/local/lib/python3.10/dist-packages (from requests->transformers) (3.4)\n",
            "Installing collected packages: tokenizers, safetensors, huggingface-hub, transformers\n",
            "Successfully installed huggingface-hub-0.16.4 safetensors-0.3.1 tokenizers-0.13.3 transformers-4.31.0\n"
          ]
        }
      ],
      "source": [
        "!pip install transformers"
      ]
    },
    {
      "cell_type": "code",
      "execution_count": null,
      "metadata": {
        "id": "MuIMa_2e17os"
      },
      "outputs": [],
      "source": [
        "import numpy as np\n",
        "import pandas as pd\n",
        "import torch\n",
        "import torch.nn as nn\n",
        "import torch.optim as optim\n",
        "import torch.nn.functional as F\n",
        "from torch.utils.data import DataLoader, TensorDataset\n",
        "from transformers import RobertaTokenizer, RobertaModel\n",
        "from sklearn.preprocessing import LabelEncoder\n",
        "from sklearn.model_selection import train_test_split\n",
        "from sklearn.metrics import accuracy_score, precision_score, recall_score, f1_score\n",
        "from tqdm import tqdm\n",
        "import wandb\n",
        "import nltk\n",
        "from nltk.tokenize import RegexpTokenizer\n",
        "from nltk.stem import WordNetLemmatizer"
      ]
    },
    {
      "cell_type": "code",
      "execution_count": null,
      "metadata": {
        "colab": {
          "base_uri": "https://localhost:8080/"
        },
        "id": "r7kfXJuDlqmI",
        "outputId": "a4aa9ae6-3a5e-4b9f-de7c-551b191dbc8f"
      },
      "outputs": [
        {
          "name": "stdout",
          "output_type": "stream",
          "text": [
            "Create sweep with ID: yhnisnkq\n",
            "Sweep URL: https://wandb.ai/team_vico/Roberta%20Param%20Sweep%20Rerun%20Testing/sweeps/yhnisnkq\n"
          ]
        }
      ],
      "source": [
        "sweep_config = {\n",
        "        \"name\": \"sweep\",\n",
        "        \"method\": \"random\",\n",
        "        \"metric\": {\"name\": \"Validation F1 Score\", \"goal\": \"maximize\"},\n",
        "        \"parameters\": {\n",
        "            'learning_rate': {'max': 0.00001, 'min': 0.000001},\n",
        "            \"num_epochs\": {\"values\": [3,4,5,7]},\n",
        "            \"hidden_size\": {\"value\": 768},\n",
        "            #'learning_rate': {'value':0.00000892589530014827},\n",
        "            #\"num_epochs\": {\"value\": 3},\n",
        "            #\"hidden_size\": {\"value\": 768},\n",
        "            #'weight_decay': {'value':0.0031730901067438273 }\n",
        "            #\"weight_decay\": {\"values\": [0.3,0.4,0.5]}\n",
        "            #'weight_decay': {'max': 0.5, 'min': 0.2}\n",
        "            'weight_decay': {'max': 0.05, 'min': 0.001}\n",
        "\n",
        "        }\n",
        "    }\n",
        "\n",
        "    # Initialize Wandb sweep\n",
        "sweep_id = wandb.sweep(sweep=sweep_config, project=\"Roberta Param Sweep\")"
      ]
    },
    {
      "cell_type": "code",
      "execution_count": null,
      "metadata": {
        "colab": {
          "base_uri": "https://localhost:8080/"
        },
        "id": "utbgKHJMwB5a",
        "outputId": "0053e31b-c207-45ab-b0c0-937cea9baae5"
      },
      "outputs": [
        {
          "name": "stderr",
          "output_type": "stream",
          "text": [
            "[nltk_data] Downloading package stopwords to /root/nltk_data...\n",
            "[nltk_data]   Unzipping corpora/stopwords.zip.\n"
          ]
        },
        {
          "data": {
            "text/plain": [
              "True"
            ]
          },
          "execution_count": 10,
          "metadata": {},
          "output_type": "execute_result"
        }
      ],
      "source": [
        "nltk.download('stopwords')"
      ]
    },
    {
      "cell_type": "code",
      "execution_count": null,
      "metadata": {
        "colab": {
          "base_uri": "https://localhost:8080/"
        },
        "id": "vsvAzWbKwLAp",
        "outputId": "50f292d6-3cf2-4777-b306-c2a6d75b0e8b"
      },
      "outputs": [
        {
          "name": "stderr",
          "output_type": "stream",
          "text": [
            "[nltk_data] Downloading package wordnet to /root/nltk_data...\n"
          ]
        },
        {
          "data": {
            "text/plain": [
              "True"
            ]
          },
          "execution_count": 11,
          "metadata": {},
          "output_type": "execute_result"
        }
      ],
      "source": [
        "nltk.download('wordnet')"
      ]
    },
    {
      "cell_type": "code",
      "execution_count": null,
      "metadata": {
        "id": "lUWHqg7m82tQ"
      },
      "outputs": [],
      "source": [
        "def lemmatize_text(text):\n",
        "    lemmatizer = WordNetLemmatizer()\n",
        "    return [lemmatizer.lemmatize(w) for w in text]\n",
        "\n",
        "\n",
        "def preprocess_data(df):\n",
        "    df = df[['postText', 'targetTitle']]\n",
        "\n",
        "    # Convert all columns into strings\n",
        "    df.loc[:, ['postText', 'targetTitle']] = df.loc[:, ['postText', 'targetTitle']].astype(str)\n",
        "\n",
        "    # Tokenize the relevant columns (not actually used for the Bag of Word approach)\n",
        "    tokenizer = RegexpTokenizer(r\"\\w+\")\n",
        "    df[\"postText_tokens\"] = df.apply(lambda row: tokenizer.tokenize(row[\"postText\"]), axis=1)\n",
        "    df[\"paragraph_tokens\"] = df.apply(lambda row: tokenizer.tokenize(row[\"targetTitle\"]), axis=1)\n",
        "    #df[\"targetTitle_tokens\"] = df.apply(lambda row: tokenizer.tokenize(row[\"targetTitle\"]), axis=1)\n",
        "\n",
        "       # Lowercasing\n",
        "    df['postText_tokens'] = df['postText_tokens'].map(lambda row: list(map(str.lower, row)))\n",
        "    df['paragraph_tokens'] = df['paragraph_tokens'].map(lambda row: list(map(str.lower, row)))\n",
        "    #df['targetTitle_tokens'] = df['targetTitle_tokens'].map(lambda row: list(map(str.lower, row)))\n",
        "\n",
        "    # Multiple space to single space and remove special characters\n",
        "    #df[['postText_tokens', 'paragraph_tokens', 'targetTitle_tokens']] = df[['postText_tokens', 'paragraph_tokens', 'targetTitle_tokens']].replace(r'\\s+', ' ', regex=True).replace(r'\\W', ' ', regex=True)\n",
        "    df[['postText_tokens', 'paragraph_tokens']] = df[['postText_tokens', 'paragraph_tokens']].replace(r'\\s+', ' ', regex=True).replace(r'\\W', ' ', regex=True)\n",
        "\n",
        "    # Lemmatize tokens\n",
        "    df['postText_tokens'] = df['postText_tokens'].apply(lemmatize_text)\n",
        "    df['paragraph_tokens'] = df['paragraph_tokens'].apply(lemmatize_text)\n",
        "    #df['targetTitle_tokens'] = df['targetTitle_tokens'].apply(lemmatize_text)\n",
        "\n",
        "    #df['combined_texts'] = df['postText_tokens'].apply(lambda tokens: ' '.join(tokens)) + \" \" + df['paragraph_tokens'].apply(lambda tokens: ' '.join(tokens)) + \" \" + df['targetTitle_tokens'].apply(lambda tokens: ' '.join(tokens))\n",
        "    df['combined_texts'] = df['postText_tokens'].apply(lambda tokens: ' '.join(tokens)) + \" \" + df['paragraph_tokens'].apply(lambda tokens: ' '.join(tokens))\n",
        "    #df['combined_texts'] = df['postText_tokens'].apply(lambda tokens: ' '.join(tokens))\n",
        "\n",
        "    return df"
      ]
    },
    {
      "cell_type": "code",
      "execution_count": null,
      "metadata": {
        "id": "fCXI4o7x5Em1"
      },
      "outputs": [],
      "source": [
        "def encode_labels(train_labels):\n",
        "    flattened_labels = [label for sublist in train_labels for label in sublist]\n",
        "    label_encoder = LabelEncoder()\n",
        "    label_encoder.fit(flattened_labels)\n",
        "    encoded_labels = label_encoder.transform(flattened_labels)\n",
        "    return encoded_labels, label_encoder"
      ]
    },
    {
      "cell_type": "code",
      "execution_count": null,
      "metadata": {
        "id": "A7U20w8U5KWi"
      },
      "outputs": [],
      "source": [
        "def encode_texts(texts, tokenizer, max_seq_length):\n",
        "    input_ids = []\n",
        "    attention_masks = []\n",
        "\n",
        "    for text in texts:\n",
        "        encoding = tokenizer.encode_plus(\n",
        "            text,\n",
        "            add_special_tokens=True,\n",
        "            max_length=max_seq_length,\n",
        "            padding='max_length',\n",
        "            truncation=True,\n",
        "            return_tensors='pt'\n",
        "        )\n",
        "\n",
        "        input_ids.append(encoding['input_ids'].squeeze())\n",
        "        attention_masks.append(encoding['attention_mask'].squeeze())\n",
        "\n",
        "    input_ids = torch.stack(input_ids)\n",
        "    attention_masks = torch.stack(attention_masks)\n",
        "\n",
        "    return input_ids, attention_masks"
      ]
    },
    {
      "cell_type": "code",
      "execution_count": null,
      "metadata": {
        "id": "-OySZSvD_EOr"
      },
      "outputs": [],
      "source": [
        "# lastest\n",
        "class RoBERTaClassifier(nn.Module):\n",
        "    def __init__(self, hidden_size, output_size):\n",
        "        super(RoBERTaClassifier, self).__init__()\n",
        "        self.roberta = RobertaModel.from_pretrained('roberta-base')\n",
        "        self.dropout = nn.Dropout(0.1)\n",
        "        self.fc1 = nn.Linear(hidden_size, hidden_size)\n",
        "        self.fc2 = nn.Linear(hidden_size, output_size)\n",
        "\n",
        "    def forward(self, input_ids, attention_mask):\n",
        "        outputs = self.roberta(input_ids=input_ids, attention_mask=attention_mask)\n",
        "        pooled_output = outputs.pooler_output\n",
        "        pooled_output = self.dropout(pooled_output)\n",
        "        #pooled_output = self.fc1(pooled_output)\n",
        "        pooled_output = F.relu(self.fc1(pooled_output)) # Added activation function\n",
        "        logits = self.fc2(pooled_output)\n",
        "\n",
        "        #return logits\n",
        "        return F.softmax(logits, dim=1)"
      ]
    },
    {
      "cell_type": "code",
      "execution_count": null,
      "metadata": {
        "colab": {
          "base_uri": "https://localhost:8080/"
        },
        "id": "jljdELCK5lqQ",
        "outputId": "dbd51b36-ba61-4369-8192-ac91ab3b5ead"
      },
      "outputs": [
        {
          "name": "stderr",
          "output_type": "stream",
          "text": [
            "<ipython-input-12-90efcd88b1a8>:10: SettingWithCopyWarning: \n",
            "A value is trying to be set on a copy of a slice from a DataFrame\n",
            "\n",
            "See the caveats in the documentation: https://pandas.pydata.org/pandas-docs/stable/user_guide/indexing.html#returning-a-view-versus-a-copy\n",
            "  df.loc[:, ['postText', 'targetTitle']] = df.loc[:, ['postText', 'targetTitle']].astype(str)\n",
            "<ipython-input-12-90efcd88b1a8>:14: SettingWithCopyWarning: \n",
            "A value is trying to be set on a copy of a slice from a DataFrame.\n",
            "Try using .loc[row_indexer,col_indexer] = value instead\n",
            "\n",
            "See the caveats in the documentation: https://pandas.pydata.org/pandas-docs/stable/user_guide/indexing.html#returning-a-view-versus-a-copy\n",
            "  df[\"postText_tokens\"] = df.apply(lambda row: tokenizer.tokenize(row[\"postText\"]), axis=1)\n",
            "<ipython-input-12-90efcd88b1a8>:15: SettingWithCopyWarning: \n",
            "A value is trying to be set on a copy of a slice from a DataFrame.\n",
            "Try using .loc[row_indexer,col_indexer] = value instead\n",
            "\n",
            "See the caveats in the documentation: https://pandas.pydata.org/pandas-docs/stable/user_guide/indexing.html#returning-a-view-versus-a-copy\n",
            "  df[\"paragraph_tokens\"] = df.apply(lambda row: tokenizer.tokenize(row[\"targetTitle\"]), axis=1)\n",
            "<ipython-input-12-90efcd88b1a8>:25: SettingWithCopyWarning: \n",
            "A value is trying to be set on a copy of a slice from a DataFrame.\n",
            "Try using .loc[row_indexer,col_indexer] = value instead\n",
            "\n",
            "See the caveats in the documentation: https://pandas.pydata.org/pandas-docs/stable/user_guide/indexing.html#returning-a-view-versus-a-copy\n",
            "  df['postText_tokens'] = df['postText_tokens'].map(lambda row: list(map(str.lower, row)))\n",
            "<ipython-input-12-90efcd88b1a8>:26: SettingWithCopyWarning: \n",
            "A value is trying to be set on a copy of a slice from a DataFrame.\n",
            "Try using .loc[row_indexer,col_indexer] = value instead\n",
            "\n",
            "See the caveats in the documentation: https://pandas.pydata.org/pandas-docs/stable/user_guide/indexing.html#returning-a-view-versus-a-copy\n",
            "  df['paragraph_tokens'] = df['paragraph_tokens'].map(lambda row: list(map(str.lower, row)))\n",
            "<ipython-input-12-90efcd88b1a8>:31: SettingWithCopyWarning: \n",
            "A value is trying to be set on a copy of a slice from a DataFrame.\n",
            "Try using .loc[row_indexer,col_indexer] = value instead\n",
            "\n",
            "See the caveats in the documentation: https://pandas.pydata.org/pandas-docs/stable/user_guide/indexing.html#returning-a-view-versus-a-copy\n",
            "  df[['postText_tokens', 'paragraph_tokens']] = df[['postText_tokens', 'paragraph_tokens']].replace(r'\\s+', ' ', regex=True).replace(r'\\W', ' ', regex=True)\n",
            "<ipython-input-12-90efcd88b1a8>:34: SettingWithCopyWarning: \n",
            "A value is trying to be set on a copy of a slice from a DataFrame.\n",
            "Try using .loc[row_indexer,col_indexer] = value instead\n",
            "\n",
            "See the caveats in the documentation: https://pandas.pydata.org/pandas-docs/stable/user_guide/indexing.html#returning-a-view-versus-a-copy\n",
            "  df['postText_tokens'] = df['postText_tokens'].apply(lemmatize_text)\n",
            "<ipython-input-12-90efcd88b1a8>:35: SettingWithCopyWarning: \n",
            "A value is trying to be set on a copy of a slice from a DataFrame.\n",
            "Try using .loc[row_indexer,col_indexer] = value instead\n",
            "\n",
            "See the caveats in the documentation: https://pandas.pydata.org/pandas-docs/stable/user_guide/indexing.html#returning-a-view-versus-a-copy\n",
            "  df['paragraph_tokens'] = df['paragraph_tokens'].apply(lemmatize_text)\n",
            "<ipython-input-12-90efcd88b1a8>:39: SettingWithCopyWarning: \n",
            "A value is trying to be set on a copy of a slice from a DataFrame.\n",
            "Try using .loc[row_indexer,col_indexer] = value instead\n",
            "\n",
            "See the caveats in the documentation: https://pandas.pydata.org/pandas-docs/stable/user_guide/indexing.html#returning-a-view-versus-a-copy\n",
            "  df['combined_texts'] = df['postText_tokens'].apply(lambda tokens: ' '.join(tokens)) + \" \" + df['paragraph_tokens'].apply(lambda tokens: ' '.join(tokens))\n",
            "<ipython-input-12-90efcd88b1a8>:10: SettingWithCopyWarning: \n",
            "A value is trying to be set on a copy of a slice from a DataFrame\n",
            "\n",
            "See the caveats in the documentation: https://pandas.pydata.org/pandas-docs/stable/user_guide/indexing.html#returning-a-view-versus-a-copy\n",
            "  df.loc[:, ['postText', 'targetTitle']] = df.loc[:, ['postText', 'targetTitle']].astype(str)\n",
            "<ipython-input-12-90efcd88b1a8>:14: SettingWithCopyWarning: \n",
            "A value is trying to be set on a copy of a slice from a DataFrame.\n",
            "Try using .loc[row_indexer,col_indexer] = value instead\n",
            "\n",
            "See the caveats in the documentation: https://pandas.pydata.org/pandas-docs/stable/user_guide/indexing.html#returning-a-view-versus-a-copy\n",
            "  df[\"postText_tokens\"] = df.apply(lambda row: tokenizer.tokenize(row[\"postText\"]), axis=1)\n",
            "<ipython-input-12-90efcd88b1a8>:15: SettingWithCopyWarning: \n",
            "A value is trying to be set on a copy of a slice from a DataFrame.\n",
            "Try using .loc[row_indexer,col_indexer] = value instead\n",
            "\n",
            "See the caveats in the documentation: https://pandas.pydata.org/pandas-docs/stable/user_guide/indexing.html#returning-a-view-versus-a-copy\n",
            "  df[\"paragraph_tokens\"] = df.apply(lambda row: tokenizer.tokenize(row[\"targetTitle\"]), axis=1)\n",
            "<ipython-input-12-90efcd88b1a8>:25: SettingWithCopyWarning: \n",
            "A value is trying to be set on a copy of a slice from a DataFrame.\n",
            "Try using .loc[row_indexer,col_indexer] = value instead\n",
            "\n",
            "See the caveats in the documentation: https://pandas.pydata.org/pandas-docs/stable/user_guide/indexing.html#returning-a-view-versus-a-copy\n",
            "  df['postText_tokens'] = df['postText_tokens'].map(lambda row: list(map(str.lower, row)))\n",
            "<ipython-input-12-90efcd88b1a8>:26: SettingWithCopyWarning: \n",
            "A value is trying to be set on a copy of a slice from a DataFrame.\n",
            "Try using .loc[row_indexer,col_indexer] = value instead\n",
            "\n",
            "See the caveats in the documentation: https://pandas.pydata.org/pandas-docs/stable/user_guide/indexing.html#returning-a-view-versus-a-copy\n",
            "  df['paragraph_tokens'] = df['paragraph_tokens'].map(lambda row: list(map(str.lower, row)))\n",
            "<ipython-input-12-90efcd88b1a8>:31: SettingWithCopyWarning: \n",
            "A value is trying to be set on a copy of a slice from a DataFrame.\n",
            "Try using .loc[row_indexer,col_indexer] = value instead\n",
            "\n",
            "See the caveats in the documentation: https://pandas.pydata.org/pandas-docs/stable/user_guide/indexing.html#returning-a-view-versus-a-copy\n",
            "  df[['postText_tokens', 'paragraph_tokens']] = df[['postText_tokens', 'paragraph_tokens']].replace(r'\\s+', ' ', regex=True).replace(r'\\W', ' ', regex=True)\n",
            "<ipython-input-12-90efcd88b1a8>:34: SettingWithCopyWarning: \n",
            "A value is trying to be set on a copy of a slice from a DataFrame.\n",
            "Try using .loc[row_indexer,col_indexer] = value instead\n",
            "\n",
            "See the caveats in the documentation: https://pandas.pydata.org/pandas-docs/stable/user_guide/indexing.html#returning-a-view-versus-a-copy\n",
            "  df['postText_tokens'] = df['postText_tokens'].apply(lemmatize_text)\n",
            "<ipython-input-12-90efcd88b1a8>:35: SettingWithCopyWarning: \n",
            "A value is trying to be set on a copy of a slice from a DataFrame.\n",
            "Try using .loc[row_indexer,col_indexer] = value instead\n",
            "\n",
            "See the caveats in the documentation: https://pandas.pydata.org/pandas-docs/stable/user_guide/indexing.html#returning-a-view-versus-a-copy\n",
            "  df['paragraph_tokens'] = df['paragraph_tokens'].apply(lemmatize_text)\n",
            "<ipython-input-12-90efcd88b1a8>:39: SettingWithCopyWarning: \n",
            "A value is trying to be set on a copy of a slice from a DataFrame.\n",
            "Try using .loc[row_indexer,col_indexer] = value instead\n",
            "\n",
            "See the caveats in the documentation: https://pandas.pydata.org/pandas-docs/stable/user_guide/indexing.html#returning-a-view-versus-a-copy\n",
            "  df['combined_texts'] = df['postText_tokens'].apply(lambda tokens: ' '.join(tokens)) + \" \" + df['paragraph_tokens'].apply(lambda tokens: ' '.join(tokens))\n",
            "<ipython-input-12-90efcd88b1a8>:10: SettingWithCopyWarning: \n",
            "A value is trying to be set on a copy of a slice from a DataFrame\n",
            "\n",
            "See the caveats in the documentation: https://pandas.pydata.org/pandas-docs/stable/user_guide/indexing.html#returning-a-view-versus-a-copy\n",
            "  df.loc[:, ['postText', 'targetTitle']] = df.loc[:, ['postText', 'targetTitle']].astype(str)\n",
            "<ipython-input-12-90efcd88b1a8>:14: SettingWithCopyWarning: \n",
            "A value is trying to be set on a copy of a slice from a DataFrame.\n",
            "Try using .loc[row_indexer,col_indexer] = value instead\n",
            "\n",
            "See the caveats in the documentation: https://pandas.pydata.org/pandas-docs/stable/user_guide/indexing.html#returning-a-view-versus-a-copy\n",
            "  df[\"postText_tokens\"] = df.apply(lambda row: tokenizer.tokenize(row[\"postText\"]), axis=1)\n",
            "<ipython-input-12-90efcd88b1a8>:15: SettingWithCopyWarning: \n",
            "A value is trying to be set on a copy of a slice from a DataFrame.\n",
            "Try using .loc[row_indexer,col_indexer] = value instead\n",
            "\n",
            "See the caveats in the documentation: https://pandas.pydata.org/pandas-docs/stable/user_guide/indexing.html#returning-a-view-versus-a-copy\n",
            "  df[\"paragraph_tokens\"] = df.apply(lambda row: tokenizer.tokenize(row[\"targetTitle\"]), axis=1)\n",
            "<ipython-input-12-90efcd88b1a8>:25: SettingWithCopyWarning: \n",
            "A value is trying to be set on a copy of a slice from a DataFrame.\n",
            "Try using .loc[row_indexer,col_indexer] = value instead\n",
            "\n",
            "See the caveats in the documentation: https://pandas.pydata.org/pandas-docs/stable/user_guide/indexing.html#returning-a-view-versus-a-copy\n",
            "  df['postText_tokens'] = df['postText_tokens'].map(lambda row: list(map(str.lower, row)))\n",
            "<ipython-input-12-90efcd88b1a8>:26: SettingWithCopyWarning: \n",
            "A value is trying to be set on a copy of a slice from a DataFrame.\n",
            "Try using .loc[row_indexer,col_indexer] = value instead\n",
            "\n",
            "See the caveats in the documentation: https://pandas.pydata.org/pandas-docs/stable/user_guide/indexing.html#returning-a-view-versus-a-copy\n",
            "  df['paragraph_tokens'] = df['paragraph_tokens'].map(lambda row: list(map(str.lower, row)))\n",
            "<ipython-input-12-90efcd88b1a8>:31: SettingWithCopyWarning: \n",
            "A value is trying to be set on a copy of a slice from a DataFrame.\n",
            "Try using .loc[row_indexer,col_indexer] = value instead\n",
            "\n",
            "See the caveats in the documentation: https://pandas.pydata.org/pandas-docs/stable/user_guide/indexing.html#returning-a-view-versus-a-copy\n",
            "  df[['postText_tokens', 'paragraph_tokens']] = df[['postText_tokens', 'paragraph_tokens']].replace(r'\\s+', ' ', regex=True).replace(r'\\W', ' ', regex=True)\n",
            "<ipython-input-12-90efcd88b1a8>:34: SettingWithCopyWarning: \n",
            "A value is trying to be set on a copy of a slice from a DataFrame.\n",
            "Try using .loc[row_indexer,col_indexer] = value instead\n",
            "\n",
            "See the caveats in the documentation: https://pandas.pydata.org/pandas-docs/stable/user_guide/indexing.html#returning-a-view-versus-a-copy\n",
            "  df['postText_tokens'] = df['postText_tokens'].apply(lemmatize_text)\n",
            "<ipython-input-12-90efcd88b1a8>:35: SettingWithCopyWarning: \n",
            "A value is trying to be set on a copy of a slice from a DataFrame.\n",
            "Try using .loc[row_indexer,col_indexer] = value instead\n",
            "\n",
            "See the caveats in the documentation: https://pandas.pydata.org/pandas-docs/stable/user_guide/indexing.html#returning-a-view-versus-a-copy\n",
            "  df['paragraph_tokens'] = df['paragraph_tokens'].apply(lemmatize_text)\n",
            "<ipython-input-12-90efcd88b1a8>:39: SettingWithCopyWarning: \n",
            "A value is trying to be set on a copy of a slice from a DataFrame.\n",
            "Try using .loc[row_indexer,col_indexer] = value instead\n",
            "\n",
            "See the caveats in the documentation: https://pandas.pydata.org/pandas-docs/stable/user_guide/indexing.html#returning-a-view-versus-a-copy\n",
            "  df['combined_texts'] = df['postText_tokens'].apply(lambda tokens: ' '.join(tokens)) + \" \" + df['paragraph_tokens'].apply(lambda tokens: ' '.join(tokens))\n"
          ]
        }
      ],
      "source": [
        "train_selected = preprocess_data(df)\n",
        "val_selected = preprocess_data(df2)\n",
        "test_selected = preprocess_data(df3)\n",
        "\n",
        "X_train = train_selected['combined_texts']\n",
        "X_val = val_selected['combined_texts']\n",
        "X_test = test_selected['combined_texts']"
      ]
    },
    {
      "cell_type": "code",
      "execution_count": null,
      "metadata": {
        "colab": {
          "base_uri": "https://localhost:8080/",
          "height": 113,
          "referenced_widgets": [
            "da004201c515436f9f73d616f0fd1fb0",
            "f293d5533b26495dba4472b3c136fa16",
            "f4265b4d70af4c679df979234f0bf411",
            "5e096e0a215048e4a80856710356dcdd",
            "c379941bf82543f58b28669cdde05684",
            "72cb0acbb1294c278993f31f1e56f534",
            "b492a338393146dca7f9a13097366f2a",
            "4cd7039a28ae449084ebbeb56ea4d00d",
            "164a107353bf487d84f19f180492471f",
            "10c12b8efa694bd2b1f23deb19a8456a",
            "ad62fe45d8374b408680ecb390655e58",
            "81aade5c51904722a2781181fd065eca",
            "2e44b4e8c0134788b400a0943aa96cbc",
            "e36be66cfb214f83a9c7d462eef4722a",
            "ec2ae0734c7349ca92a0b327d2f16f00",
            "77dbba3ce9db4c79990fb3446cd22606",
            "72effb4708c04d14a1aec87009fad415",
            "6bdc3e9f27194e4eaf44528c93695bd7",
            "50ef5520df834500b7f523a84f1b196e",
            "5c35bf70568441d0a8bfcb23a0faaabc",
            "865cc875c5fd463784f2d4c929721cad",
            "ef72a563dc354c88b0b134b0aaf1750c",
            "91c5af82821a4f4e931cd136c9999f56",
            "e85599e5b10e404c912537511febda09",
            "dc1f4850afda4d549c65b93561f9af27",
            "ec00884d77a5457f9e2f9e38fdf2d407",
            "fcefcc6779024bba804cc12b1daf6acb",
            "ebaa88bb566f4f689d32b357d00a8c95",
            "fd452c22a43c4d6e914f9f7a70f6be68",
            "422a0e08feb047e98204e4e1577aba9e",
            "3a9614cc16654453b08587f89ee5bf27",
            "22ba099d35404c1a888d2a5f244d91dd",
            "c9425754cfe74e26925861a29f17fbc4"
          ]
        },
        "id": "x3LTq3hI5s88",
        "outputId": "11b0ba98-53be-4c13-e76b-03d8caea2266"
      },
      "outputs": [
        {
          "data": {
            "application/vnd.jupyter.widget-view+json": {
              "model_id": "da004201c515436f9f73d616f0fd1fb0",
              "version_major": 2,
              "version_minor": 0
            },
            "text/plain": [
              "Downloading (…)olve/main/vocab.json:   0%|          | 0.00/899k [00:00<?, ?B/s]"
            ]
          },
          "metadata": {},
          "output_type": "display_data"
        },
        {
          "data": {
            "application/vnd.jupyter.widget-view+json": {
              "model_id": "81aade5c51904722a2781181fd065eca",
              "version_major": 2,
              "version_minor": 0
            },
            "text/plain": [
              "Downloading (…)olve/main/merges.txt:   0%|          | 0.00/456k [00:00<?, ?B/s]"
            ]
          },
          "metadata": {},
          "output_type": "display_data"
        },
        {
          "data": {
            "application/vnd.jupyter.widget-view+json": {
              "model_id": "91c5af82821a4f4e931cd136c9999f56",
              "version_major": 2,
              "version_minor": 0
            },
            "text/plain": [
              "Downloading (…)lve/main/config.json:   0%|          | 0.00/481 [00:00<?, ?B/s]"
            ]
          },
          "metadata": {},
          "output_type": "display_data"
        }
      ],
      "source": [
        "train_labels, label_encoder = encode_labels(df['tags'].tolist())\n",
        "val_labels, vlabel_encoder = encode_labels(df2['tags'].tolist())\n",
        "\n",
        "tokenizer = RobertaTokenizer.from_pretrained('roberta-base')\n",
        "input_size = tokenizer.vocab_size\n",
        "max_seq_length = 60"
      ]
    },
    {
      "cell_type": "code",
      "execution_count": null,
      "metadata": {
        "id": "4etFP97-53C6"
      },
      "outputs": [],
      "source": [
        "train_input_ids, train_attention_masks = encode_texts(X_train, tokenizer, max_seq_length)\n",
        "val_input_ids, val_attention_masks = encode_texts(X_val, tokenizer, max_seq_length)\n",
        "test_input_ids, test_attention_masks = encode_texts(X_test, tokenizer, max_seq_length)\n",
        "train_labels = torch.tensor(train_labels, dtype=torch.long)\n",
        "val_labels = torch.tensor(val_labels, dtype=torch.long)\n",
        "\n",
        "train_dataset = TensorDataset(train_input_ids, train_attention_masks, train_labels)\n",
        "train_loader = DataLoader(train_dataset, batch_size=16, shuffle=True)\n",
        "val_dataset = TensorDataset(val_input_ids, val_attention_masks, val_labels)\n",
        "val_loader = DataLoader(val_dataset, batch_size=16, shuffle=False)\n"
      ]
    },
    {
      "cell_type": "code",
      "execution_count": null,
      "metadata": {
        "colab": {
          "base_uri": "https://localhost:8080/",
          "height": 1000,
          "referenced_widgets": [
            "83373b6e5f954d799ab3588b9c9a480b",
            "2b5ae9fbe4e049dc8b1b38fc1ea0ad12",
            "a997f8462f764c2889af35ebb41cfbf9",
            "0764ce3c633c475ebf6eebcc8919e1df",
            "aa3d68c8a66a443dbe69d448c7994d23",
            "3b98e579d02b4e26bad19dfd8b782013",
            "3b3d3db4379a4cbc9fb855da94ac4226",
            "78ba864ce623419dbc010b3294634d22",
            "6e8696dbdda24eef82b2b5f38d281f46",
            "cd9074ccc47847aa9a4f7290837db40b",
            "94c639c7a52e45179c3c0e5f4cea365d",
            "86445d12eb4143df98f65a8ee1af5f2b",
            "0507b9ee70004622a28c18af275435d0",
            "bb514f1096bf4faf9877ed06fd80d50e",
            "7300e06418b642249e5e143c6900b0e1",
            "a769696821304c1b964667d74a8e898c",
            "8f5f871f91c741149e59471400f5ab5c",
            "e31122c4118b4c9bb6a136a862013f16",
            "db89c6d13c0c4760aa8cfa8a6b56118e"
          ]
        },
        "id": "AlJBdlFI1l7s",
        "outputId": "d9528793-72fd-4726-bc9f-ec667edd2097"
      },
      "outputs": [
        {
          "name": "stderr",
          "output_type": "stream",
          "text": [
            "\u001b[34m\u001b[1mwandb\u001b[0m: Agent Starting Run: tj6wrxqm with config:\n",
            "\u001b[34m\u001b[1mwandb\u001b[0m: \thidden_size: 768\n",
            "\u001b[34m\u001b[1mwandb\u001b[0m: \tlearning_rate: 8.92589530014827e-06\n",
            "\u001b[34m\u001b[1mwandb\u001b[0m: \tnum_epochs: 3\n",
            "\u001b[34m\u001b[1mwandb\u001b[0m: \tweight_decay: 0.0031730901067438273\n",
            "\u001b[34m\u001b[1mwandb\u001b[0m: Currently logged in as: \u001b[33mlordbvico\u001b[0m (\u001b[33mteam_vico\u001b[0m). Use \u001b[1m`wandb login --relogin`\u001b[0m to force relogin\n"
          ]
        },
        {
          "data": {
            "text/html": [
              "Tracking run with wandb version 0.15.8"
            ],
            "text/plain": [
              "<IPython.core.display.HTML object>"
            ]
          },
          "metadata": {},
          "output_type": "display_data"
        },
        {
          "data": {
            "text/html": [
              "Run data is saved locally in <code>/content/wandb/run-20230804_203339-tj6wrxqm</code>"
            ],
            "text/plain": [
              "<IPython.core.display.HTML object>"
            ]
          },
          "metadata": {},
          "output_type": "display_data"
        },
        {
          "data": {
            "text/html": [
              "Syncing run <strong><a href='https://wandb.ai/team_vico/Roberta%20Param%20Sweep%20Rerun%20Testing/runs/tj6wrxqm' target=\"_blank\">earnest-sweep-1</a></strong> to <a href='https://wandb.ai/team_vico/Roberta%20Param%20Sweep%20Rerun%20Testing' target=\"_blank\">Weights & Biases</a> (<a href='https://wandb.me/run' target=\"_blank\">docs</a>)<br/>Sweep page: <a href='https://wandb.ai/team_vico/Roberta%20Param%20Sweep%20Rerun%20Testing/sweeps/yhnisnkq' target=\"_blank\">https://wandb.ai/team_vico/Roberta%20Param%20Sweep%20Rerun%20Testing/sweeps/yhnisnkq</a>"
            ],
            "text/plain": [
              "<IPython.core.display.HTML object>"
            ]
          },
          "metadata": {},
          "output_type": "display_data"
        },
        {
          "data": {
            "text/html": [
              " View project at <a href='https://wandb.ai/team_vico/Roberta%20Param%20Sweep%20Rerun%20Testing' target=\"_blank\">https://wandb.ai/team_vico/Roberta%20Param%20Sweep%20Rerun%20Testing</a>"
            ],
            "text/plain": [
              "<IPython.core.display.HTML object>"
            ]
          },
          "metadata": {},
          "output_type": "display_data"
        },
        {
          "data": {
            "text/html": [
              " View sweep at <a href='https://wandb.ai/team_vico/Roberta%20Param%20Sweep%20Rerun%20Testing/sweeps/yhnisnkq' target=\"_blank\">https://wandb.ai/team_vico/Roberta%20Param%20Sweep%20Rerun%20Testing/sweeps/yhnisnkq</a>"
            ],
            "text/plain": [
              "<IPython.core.display.HTML object>"
            ]
          },
          "metadata": {},
          "output_type": "display_data"
        },
        {
          "data": {
            "text/html": [
              " View run at <a href='https://wandb.ai/team_vico/Roberta%20Param%20Sweep%20Rerun%20Testing/runs/tj6wrxqm' target=\"_blank\">https://wandb.ai/team_vico/Roberta%20Param%20Sweep%20Rerun%20Testing/runs/tj6wrxqm</a>"
            ],
            "text/plain": [
              "<IPython.core.display.HTML object>"
            ]
          },
          "metadata": {},
          "output_type": "display_data"
        },
        {
          "data": {
            "application/vnd.jupyter.widget-view+json": {
              "model_id": "83373b6e5f954d799ab3588b9c9a480b",
              "version_major": 2,
              "version_minor": 0
            },
            "text/plain": [
              "Downloading model.safetensors:   0%|          | 0.00/499M [00:00<?, ?B/s]"
            ]
          },
          "metadata": {},
          "output_type": "display_data"
        },
        {
          "name": "stderr",
          "output_type": "stream",
          "text": [
            "Some weights of RobertaModel were not initialized from the model checkpoint at roberta-base and are newly initialized: ['roberta.pooler.dense.bias', 'roberta.pooler.dense.weight']\n",
            "You should probably TRAIN this model on a down-stream task to be able to use it for predictions and inference.\n",
            "100%|██████████| 200/200 [00:38<00:00,  5.23it/s]\n",
            "100%|██████████| 25/25 [00:01<00:00, 18.20it/s]\n"
          ]
        },
        {
          "name": "stdout",
          "output_type": "stream",
          "text": [
            "Validation Accuracy: 0.4375\n",
            "Validation Precision: 0.38541666666666663\n",
            "Validation Recall: 0.4375\n",
            "Validation F1 Score: 0.3720588235294118\n",
            "Epoch [1/3], Validation Accuracy: 0.5200\n",
            "\n",
            "0.3720588235294118\n"
          ]
        },
        {
          "name": "stderr",
          "output_type": "stream",
          "text": [
            "100%|██████████| 200/200 [00:36<00:00,  5.50it/s]\n",
            "100%|██████████| 25/25 [00:01<00:00, 17.33it/s]\n"
          ]
        },
        {
          "name": "stdout",
          "output_type": "stream",
          "text": [
            "Validation Accuracy: 0.5625\n",
            "Validation Precision: 0.7375\n",
            "Validation Recall: 0.5625\n",
            "Validation F1 Score: 0.5435606060606061\n",
            "Epoch [2/3], Validation Accuracy: 0.5850\n",
            "\n",
            "0.5435606060606061\n"
          ]
        },
        {
          "name": "stderr",
          "output_type": "stream",
          "text": [
            "100%|██████████| 200/200 [00:37<00:00,  5.30it/s]\n",
            "100%|██████████| 25/25 [00:01<00:00, 16.93it/s]\n"
          ]
        },
        {
          "name": "stdout",
          "output_type": "stream",
          "text": [
            "Validation Accuracy: 0.6875\n",
            "Validation Precision: 0.78125\n",
            "Validation Recall: 0.6875\n",
            "Validation F1 Score: 0.6833791208791209\n",
            "Epoch [3/3], Validation Accuracy: 0.6800\n",
            "\n",
            "0.6833791208791209\n"
          ]
        },
        {
          "name": "stderr",
          "output_type": "stream",
          "text": [
            "100%|██████████| 25/25 [00:01<00:00, 19.56it/s]\n"
          ]
        },
        {
          "data": {
            "text/html": [
              "Waiting for W&B process to finish... <strong style=\"color:green\">(success).</strong>"
            ],
            "text/plain": [
              "<IPython.core.display.HTML object>"
            ]
          },
          "metadata": {},
          "output_type": "display_data"
        },
        {
          "data": {
            "text/html": [
              "<style>\n",
              "    table.wandb td:nth-child(1) { padding: 0 10px; text-align: left ; width: auto;} td:nth-child(2) {text-align: left ; width: 100%}\n",
              "    .wandb-row { display: flex; flex-direction: row; flex-wrap: wrap; justify-content: flex-start; width: 100% }\n",
              "    .wandb-col { display: flex; flex-direction: column; flex-basis: 100%; flex: 1; padding: 10px; }\n",
              "    </style>\n",
              "<div class=\"wandb-row\"><div class=\"wandb-col\"><h3>Run history:</h3><br/><table class=\"wandb\"><tr><td>Hidden Size</td><td>▁▁▁</td></tr><tr><td>Learning Rate</td><td>▁▁▁</td></tr><tr><td>Number of Epochs</td><td>▁▁▁</td></tr><tr><td>Val Accuracy</td><td>▁▄█</td></tr><tr><td>Validation Accuracy</td><td>▁▅█</td></tr><tr><td>Validation F1 Score</td><td>▁▅█</td></tr><tr><td>Validation Loss</td><td>█▄▁</td></tr><tr><td>Validation Precision</td><td>▁▇█</td></tr><tr><td>Validation Recall</td><td>▁▅█</td></tr></table><br/></div><div class=\"wandb-col\"><h3>Run summary:</h3><br/><table class=\"wandb\"><tr><td>Hidden Size</td><td>768</td></tr><tr><td>Learning Rate</td><td>1e-05</td></tr><tr><td>Number of Epochs</td><td>3</td></tr><tr><td>Val Accuracy</td><td>0.68</td></tr><tr><td>Validation Accuracy</td><td>0.6875</td></tr><tr><td>Validation F1 Score</td><td>0.68338</td></tr><tr><td>Validation Loss</td><td>0.05454</td></tr><tr><td>Validation Precision</td><td>0.78125</td></tr><tr><td>Validation Recall</td><td>0.6875</td></tr></table><br/></div></div>"
            ],
            "text/plain": [
              "<IPython.core.display.HTML object>"
            ]
          },
          "metadata": {},
          "output_type": "display_data"
        },
        {
          "data": {
            "text/html": [
              " View run <strong style=\"color:#cdcd00\">earnest-sweep-1</strong> at: <a href='https://wandb.ai/team_vico/Roberta%20Param%20Sweep%20Rerun%20Testing/runs/tj6wrxqm' target=\"_blank\">https://wandb.ai/team_vico/Roberta%20Param%20Sweep%20Rerun%20Testing/runs/tj6wrxqm</a><br/>Synced 5 W&B file(s), 0 media file(s), 0 artifact file(s) and 0 other file(s)"
            ],
            "text/plain": [
              "<IPython.core.display.HTML object>"
            ]
          },
          "metadata": {},
          "output_type": "display_data"
        },
        {
          "data": {
            "text/html": [
              "Find logs at: <code>./wandb/run-20230804_203339-tj6wrxqm/logs</code>"
            ],
            "text/plain": [
              "<IPython.core.display.HTML object>"
            ]
          },
          "metadata": {},
          "output_type": "display_data"
        },
        {
          "name": "stderr",
          "output_type": "stream",
          "text": [
            "\u001b[34m\u001b[1mwandb\u001b[0m: Agent Starting Run: a6sattub with config:\n",
            "\u001b[34m\u001b[1mwandb\u001b[0m: \thidden_size: 768\n",
            "\u001b[34m\u001b[1mwandb\u001b[0m: \tlearning_rate: 8.92589530014827e-06\n",
            "\u001b[34m\u001b[1mwandb\u001b[0m: \tnum_epochs: 3\n",
            "\u001b[34m\u001b[1mwandb\u001b[0m: \tweight_decay: 0.0031730901067438273\n"
          ]
        },
        {
          "data": {
            "text/html": [
              "Tracking run with wandb version 0.15.8"
            ],
            "text/plain": [
              "<IPython.core.display.HTML object>"
            ]
          },
          "metadata": {},
          "output_type": "display_data"
        },
        {
          "data": {
            "text/html": [
              "Run data is saved locally in <code>/content/wandb/run-20230804_203607-a6sattub</code>"
            ],
            "text/plain": [
              "<IPython.core.display.HTML object>"
            ]
          },
          "metadata": {},
          "output_type": "display_data"
        },
        {
          "data": {
            "text/html": [
              "Syncing run <strong><a href='https://wandb.ai/team_vico/Roberta%20Param%20Sweep%20Rerun%20Testing/runs/a6sattub' target=\"_blank\">iconic-sweep-2</a></strong> to <a href='https://wandb.ai/team_vico/Roberta%20Param%20Sweep%20Rerun%20Testing' target=\"_blank\">Weights & Biases</a> (<a href='https://wandb.me/run' target=\"_blank\">docs</a>)<br/>Sweep page: <a href='https://wandb.ai/team_vico/Roberta%20Param%20Sweep%20Rerun%20Testing/sweeps/yhnisnkq' target=\"_blank\">https://wandb.ai/team_vico/Roberta%20Param%20Sweep%20Rerun%20Testing/sweeps/yhnisnkq</a>"
            ],
            "text/plain": [
              "<IPython.core.display.HTML object>"
            ]
          },
          "metadata": {},
          "output_type": "display_data"
        },
        {
          "data": {
            "text/html": [
              " View project at <a href='https://wandb.ai/team_vico/Roberta%20Param%20Sweep%20Rerun%20Testing' target=\"_blank\">https://wandb.ai/team_vico/Roberta%20Param%20Sweep%20Rerun%20Testing</a>"
            ],
            "text/plain": [
              "<IPython.core.display.HTML object>"
            ]
          },
          "metadata": {},
          "output_type": "display_data"
        },
        {
          "data": {
            "text/html": [
              " View sweep at <a href='https://wandb.ai/team_vico/Roberta%20Param%20Sweep%20Rerun%20Testing/sweeps/yhnisnkq' target=\"_blank\">https://wandb.ai/team_vico/Roberta%20Param%20Sweep%20Rerun%20Testing/sweeps/yhnisnkq</a>"
            ],
            "text/plain": [
              "<IPython.core.display.HTML object>"
            ]
          },
          "metadata": {},
          "output_type": "display_data"
        },
        {
          "data": {
            "text/html": [
              " View run at <a href='https://wandb.ai/team_vico/Roberta%20Param%20Sweep%20Rerun%20Testing/runs/a6sattub' target=\"_blank\">https://wandb.ai/team_vico/Roberta%20Param%20Sweep%20Rerun%20Testing/runs/a6sattub</a>"
            ],
            "text/plain": [
              "<IPython.core.display.HTML object>"
            ]
          },
          "metadata": {},
          "output_type": "display_data"
        },
        {
          "name": "stderr",
          "output_type": "stream",
          "text": [
            "Some weights of RobertaModel were not initialized from the model checkpoint at roberta-base and are newly initialized: ['roberta.pooler.dense.bias', 'roberta.pooler.dense.weight']\n",
            "You should probably TRAIN this model on a down-stream task to be able to use it for predictions and inference.\n",
            "100%|██████████| 200/200 [00:37<00:00,  5.33it/s]\n",
            "100%|██████████| 25/25 [00:01<00:00, 16.88it/s]\n"
          ]
        },
        {
          "name": "stdout",
          "output_type": "stream",
          "text": [
            "Validation Accuracy: 0.5\n",
            "Validation Precision: 0.4136363636363637\n",
            "Validation Recall: 0.5\n",
            "Validation F1 Score: 0.4289772727272727\n",
            "Epoch [1/3], Validation Accuracy: 0.5100\n",
            "\n",
            "0.4289772727272727\n"
          ]
        },
        {
          "name": "stderr",
          "output_type": "stream",
          "text": [
            "100%|██████████| 200/200 [00:37<00:00,  5.32it/s]\n",
            "100%|██████████| 25/25 [00:01<00:00, 17.16it/s]\n"
          ]
        },
        {
          "name": "stdout",
          "output_type": "stream",
          "text": [
            "Validation Accuracy: 0.625\n",
            "Validation Precision: 0.7253787878787878\n",
            "Validation Recall: 0.625\n",
            "Validation F1 Score: 0.5995273109243697\n",
            "Epoch [2/3], Validation Accuracy: 0.6150\n",
            "\n",
            "0.5995273109243697\n"
          ]
        },
        {
          "name": "stderr",
          "output_type": "stream",
          "text": [
            "100%|██████████| 200/200 [00:37<00:00,  5.34it/s]\n",
            "100%|██████████| 25/25 [00:01<00:00, 16.97it/s]\n"
          ]
        },
        {
          "name": "stdout",
          "output_type": "stream",
          "text": [
            "Validation Accuracy: 0.6875\n",
            "Validation Precision: 0.78125\n",
            "Validation Recall: 0.6875\n",
            "Validation F1 Score: 0.6833791208791209\n",
            "Epoch [3/3], Validation Accuracy: 0.6300\n",
            "\n",
            "0.6833791208791209\n"
          ]
        },
        {
          "name": "stderr",
          "output_type": "stream",
          "text": [
            "100%|██████████| 25/25 [00:01<00:00, 19.73it/s]\n"
          ]
        },
        {
          "data": {
            "text/html": [
              "Waiting for W&B process to finish... <strong style=\"color:green\">(success).</strong>"
            ],
            "text/plain": [
              "<IPython.core.display.HTML object>"
            ]
          },
          "metadata": {},
          "output_type": "display_data"
        },
        {
          "data": {
            "application/vnd.jupyter.widget-view+json": {
              "model_id": "86445d12eb4143df98f65a8ee1af5f2b",
              "version_major": 2,
              "version_minor": 0
            },
            "text/plain": [
              "VBox(children=(Label(value='0.001 MB of 0.001 MB uploaded (0.000 MB deduped)\\r'), FloatProgress(value=1.0, max…"
            ]
          },
          "metadata": {},
          "output_type": "display_data"
        },
        {
          "data": {
            "text/html": [
              "<style>\n",
              "    table.wandb td:nth-child(1) { padding: 0 10px; text-align: left ; width: auto;} td:nth-child(2) {text-align: left ; width: 100%}\n",
              "    .wandb-row { display: flex; flex-direction: row; flex-wrap: wrap; justify-content: flex-start; width: 100% }\n",
              "    .wandb-col { display: flex; flex-direction: column; flex-basis: 100%; flex: 1; padding: 10px; }\n",
              "    </style>\n",
              "<div class=\"wandb-row\"><div class=\"wandb-col\"><h3>Run history:</h3><br/><table class=\"wandb\"><tr><td>Hidden Size</td><td>▁▁▁</td></tr><tr><td>Learning Rate</td><td>▁▁▁</td></tr><tr><td>Number of Epochs</td><td>▁▁▁</td></tr><tr><td>Val Accuracy</td><td>▁▇█</td></tr><tr><td>Validation Accuracy</td><td>▁▆█</td></tr><tr><td>Validation F1 Score</td><td>▁▆█</td></tr><tr><td>Validation Loss</td><td>█▂▁</td></tr><tr><td>Validation Precision</td><td>▁▇█</td></tr><tr><td>Validation Recall</td><td>▁▆█</td></tr></table><br/></div><div class=\"wandb-col\"><h3>Run summary:</h3><br/><table class=\"wandb\"><tr><td>Hidden Size</td><td>768</td></tr><tr><td>Learning Rate</td><td>1e-05</td></tr><tr><td>Number of Epochs</td><td>3</td></tr><tr><td>Val Accuracy</td><td>0.63</td></tr><tr><td>Validation Accuracy</td><td>0.6875</td></tr><tr><td>Validation F1 Score</td><td>0.68338</td></tr><tr><td>Validation Loss</td><td>0.05691</td></tr><tr><td>Validation Precision</td><td>0.78125</td></tr><tr><td>Validation Recall</td><td>0.6875</td></tr></table><br/></div></div>"
            ],
            "text/plain": [
              "<IPython.core.display.HTML object>"
            ]
          },
          "metadata": {},
          "output_type": "display_data"
        },
        {
          "data": {
            "text/html": [
              " View run <strong style=\"color:#cdcd00\">iconic-sweep-2</strong> at: <a href='https://wandb.ai/team_vico/Roberta%20Param%20Sweep%20Rerun%20Testing/runs/a6sattub' target=\"_blank\">https://wandb.ai/team_vico/Roberta%20Param%20Sweep%20Rerun%20Testing/runs/a6sattub</a><br/>Synced 5 W&B file(s), 0 media file(s), 0 artifact file(s) and 0 other file(s)"
            ],
            "text/plain": [
              "<IPython.core.display.HTML object>"
            ]
          },
          "metadata": {},
          "output_type": "display_data"
        },
        {
          "data": {
            "text/html": [
              "Find logs at: <code>./wandb/run-20230804_203607-a6sattub/logs</code>"
            ],
            "text/plain": [
              "<IPython.core.display.HTML object>"
            ]
          },
          "metadata": {},
          "output_type": "display_data"
        },
        {
          "name": "stderr",
          "output_type": "stream",
          "text": [
            "\u001b[34m\u001b[1mwandb\u001b[0m: Agent Starting Run: 7p78lbfz with config:\n",
            "\u001b[34m\u001b[1mwandb\u001b[0m: \thidden_size: 768\n",
            "\u001b[34m\u001b[1mwandb\u001b[0m: \tlearning_rate: 8.92589530014827e-06\n",
            "\u001b[34m\u001b[1mwandb\u001b[0m: \tnum_epochs: 3\n",
            "\u001b[34m\u001b[1mwandb\u001b[0m: \tweight_decay: 0.0031730901067438273\n"
          ]
        },
        {
          "data": {
            "text/html": [
              "Tracking run with wandb version 0.15.8"
            ],
            "text/plain": [
              "<IPython.core.display.HTML object>"
            ]
          },
          "metadata": {},
          "output_type": "display_data"
        },
        {
          "data": {
            "text/html": [
              "Run data is saved locally in <code>/content/wandb/run-20230804_203819-7p78lbfz</code>"
            ],
            "text/plain": [
              "<IPython.core.display.HTML object>"
            ]
          },
          "metadata": {},
          "output_type": "display_data"
        },
        {
          "data": {
            "text/html": [
              "Syncing run <strong><a href='https://wandb.ai/team_vico/Roberta%20Param%20Sweep%20Rerun%20Testing/runs/7p78lbfz' target=\"_blank\">peachy-sweep-3</a></strong> to <a href='https://wandb.ai/team_vico/Roberta%20Param%20Sweep%20Rerun%20Testing' target=\"_blank\">Weights & Biases</a> (<a href='https://wandb.me/run' target=\"_blank\">docs</a>)<br/>Sweep page: <a href='https://wandb.ai/team_vico/Roberta%20Param%20Sweep%20Rerun%20Testing/sweeps/yhnisnkq' target=\"_blank\">https://wandb.ai/team_vico/Roberta%20Param%20Sweep%20Rerun%20Testing/sweeps/yhnisnkq</a>"
            ],
            "text/plain": [
              "<IPython.core.display.HTML object>"
            ]
          },
          "metadata": {},
          "output_type": "display_data"
        },
        {
          "data": {
            "text/html": [
              " View project at <a href='https://wandb.ai/team_vico/Roberta%20Param%20Sweep%20Rerun%20Testing' target=\"_blank\">https://wandb.ai/team_vico/Roberta%20Param%20Sweep%20Rerun%20Testing</a>"
            ],
            "text/plain": [
              "<IPython.core.display.HTML object>"
            ]
          },
          "metadata": {},
          "output_type": "display_data"
        },
        {
          "data": {
            "text/html": [
              " View sweep at <a href='https://wandb.ai/team_vico/Roberta%20Param%20Sweep%20Rerun%20Testing/sweeps/yhnisnkq' target=\"_blank\">https://wandb.ai/team_vico/Roberta%20Param%20Sweep%20Rerun%20Testing/sweeps/yhnisnkq</a>"
            ],
            "text/plain": [
              "<IPython.core.display.HTML object>"
            ]
          },
          "metadata": {},
          "output_type": "display_data"
        },
        {
          "data": {
            "text/html": [
              " View run at <a href='https://wandb.ai/team_vico/Roberta%20Param%20Sweep%20Rerun%20Testing/runs/7p78lbfz' target=\"_blank\">https://wandb.ai/team_vico/Roberta%20Param%20Sweep%20Rerun%20Testing/runs/7p78lbfz</a>"
            ],
            "text/plain": [
              "<IPython.core.display.HTML object>"
            ]
          },
          "metadata": {},
          "output_type": "display_data"
        },
        {
          "name": "stderr",
          "output_type": "stream",
          "text": [
            "Some weights of RobertaModel were not initialized from the model checkpoint at roberta-base and are newly initialized: ['roberta.pooler.dense.bias', 'roberta.pooler.dense.weight']\n",
            "You should probably TRAIN this model on a down-stream task to be able to use it for predictions and inference.\n",
            "100%|██████████| 200/200 [00:37<00:00,  5.27it/s]\n",
            "100%|██████████| 25/25 [00:01<00:00, 16.76it/s]\n"
          ]
        },
        {
          "name": "stdout",
          "output_type": "stream",
          "text": [
            "Validation Accuracy: 0.5\n",
            "Validation Precision: 0.375\n",
            "Validation Recall: 0.5\n",
            "Validation F1 Score: 0.41666666666666663\n",
            "Epoch [1/3], Validation Accuracy: 0.5675\n",
            "\n",
            "0.41666666666666663\n"
          ]
        },
        {
          "name": "stderr",
          "output_type": "stream",
          "text": [
            " 48%|████▊     | 95/200 [00:17<00:19,  5.33it/s]\u001b[34m\u001b[1mwandb\u001b[0m: Ctrl + C detected. Stopping sweep.\n"
          ]
        }
      ],
      "source": [
        "def main():\n",
        "  run = wandb.init()\n",
        "  #best_val_accuracy = 0.0\n",
        "  best_val_f1 = 0.0\n",
        "  best_model_state = None\n",
        "  #hidden_size = 768\n",
        "  output_size = len(label_encoder.classes_)\n",
        "  #learning_rate = 1e-5 0.05207827445417903\n",
        "\n",
        "  hidden_size = wandb.config.hidden_size\n",
        "  learning_rate = wandb.config.learning_rate\n",
        "  weight_decay = wandb.config.weight_decay\n",
        "\n",
        "\n",
        "  model = RoBERTaClassifier(hidden_size, output_size)\n",
        "  device = torch.device('cuda' if torch.cuda.is_available() else 'cpu')\n",
        "  model = model.to(device)\n",
        "\n",
        "  # Define the focal loss function\n",
        "  #gamma = 2  # The focal loss gamma parameter\n",
        "  #alpha = None  # The focal loss alpha parameter (optional)\n",
        "  #criterion = FocalLoss()\n",
        "\n",
        "  criterion = nn.CrossEntropyLoss()\n",
        "  optimizer = optim.AdamW(model.parameters(), lr=learning_rate, weight_decay=weight_decay)\n",
        "  #optimizer = optim.RMSprop(model.parameters(), lr=learning_rate)\n",
        "\n",
        "\n",
        "\n",
        "  #num_epochs = 5\n",
        "  num_epochs = wandb.config.num_epochs\n",
        "\n",
        "  for epoch in range(num_epochs):\n",
        "      model.train()\n",
        "      for input_ids, attention_masks, labels in tqdm(train_loader):\n",
        "          input_ids = input_ids.to(device)\n",
        "          attention_masks = attention_masks.to(device)\n",
        "          labels = labels.to(device)\n",
        "\n",
        "          optimizer.zero_grad()\n",
        "          logits = model(input_ids, attention_masks)\n",
        "          loss = criterion(logits, labels)\n",
        "          loss.backward()\n",
        "          optimizer.step()\n",
        "\n",
        "      model.eval()\n",
        "      val_loss = 0.0\n",
        "      val_correct = 0\n",
        "      total_samples = 0\n",
        "     # epsilon = 0.0000001\n",
        "      val_outputs = []\n",
        "\n",
        "      with torch.no_grad():\n",
        "          all_labels = []\n",
        "          all_predictions = []\n",
        "         # true_positive = 0\n",
        "         # false_positive = 0\n",
        "         # false_negative = 0\n",
        "         # true_negative = 0\n",
        "\n",
        "\n",
        "          for input_ids, attention_masks, v_labels in tqdm(val_loader):\n",
        "              input_ids = input_ids.to(device)\n",
        "              attention_masks = attention_masks.to(device)\n",
        "              v_labels = v_labels.to(device)\n",
        "\n",
        "              logits = model(input_ids, attention_masks)\n",
        "              loss = criterion(logits, v_labels)\n",
        "              val_loss += loss.item()\n",
        "              _, predicted = torch.max(logits, 1)\n",
        "              val_correct += (predicted == v_labels).sum().item()\n",
        "              total_samples +=v_labels.size(0)\n",
        "              val_outputs.append(predicted)\n",
        "      val_outputs = torch.cat(val_outputs, dim=0)\n",
        "      val_predicted = val_outputs.cpu()\n",
        "      val_converted_array = val_predicted.numpy()\n",
        "      val_converted_array_tags = label_encoder.inverse_transform(val_converted_array)\n",
        "      v_output_data = []\n",
        "\n",
        "      for index, pred in enumerate(val_converted_array_tags):\n",
        "          prediction1 = {'id': index, 'spoilerType': pred}\n",
        "          v_output_data.append(prediction1)\n",
        "\n",
        "      v_out_df = pd.DataFrame(v_output_data)\n",
        "      #out_df.to_csv(\"output_big_bird_jul21.csv\", index=False)\n",
        "      filename = f\"output_roberta_val_aug4c.csv\"\n",
        "      v_out_df.to_csv(filename, index=False)\n",
        "\n",
        "              # Update TP, FP, FN, and TN based on predictions and true labels\n",
        "             # true_positive += ((predicted == 1) & (v_labels == 1)).sum().item()\n",
        "             # false_positive += ((predicted == 1) & (v_labels == 0)).sum().item()\n",
        "             # false_negative += ((predicted == 0) & (v_labels == 1)).sum().item()\n",
        "             # true_negative += ((predicted == 0) & (v_labels == 0)).sum().item()\n",
        "              #val_correct += (predicted == v_labels).sum().item()\n",
        "         # try:\n",
        "        #      precision = true_positive / (true_positive + false_positive)\n",
        "       #   except ZeroDivisionError:\n",
        "       #       precision = 0.0\n",
        "\n",
        "       #   try:\n",
        "        #      recall = true_positive / (true_positive + false_negative)\n",
        "       #   except ZeroDivisionError:\n",
        "       #       recall = 0.0\n",
        "\n",
        "       #   try:\n",
        "       #       f1 = 2 * precision * recall / (precision + recall)\n",
        "       #   except ZeroDivisionError:\n",
        "       #       f1 = 0.0\n",
        "\n",
        "       #   accuracy = (true_positive + true_negative) / (true_positive + false_positive + false_negative + true_negative)\n",
        "\n",
        "        #  print(f'Validation Accuracy: {accuracy}')\n",
        "       #   print(f'Validation Precision: {precision}')\n",
        "       #   print(f'Validation Recall: {recall}')\n",
        "       #   print(f'Validation F1 Score: {f1}')\n",
        "\n",
        "\n",
        "\n",
        "      all_labels.extend(v_labels.detach().cpu().numpy())\n",
        "      all_predictions.extend(predicted.detach().cpu().numpy())\n",
        "\n",
        "      val_loss /= total_samples\n",
        "      val_accuracy = val_correct / total_samples\n",
        "      accuracy = accuracy_score(all_labels, all_predictions)\n",
        "      precision = precision_score(all_labels, all_predictions, average='weighted', zero_division=0)\n",
        "      recall = recall_score(all_labels, all_predictions, average='weighted', zero_division=0)\n",
        "      f1 = f1_score(all_labels, all_predictions, average='weighted', zero_division=0)\n",
        "\n",
        "      if f1 > best_val_f1:\n",
        "          best_val_f1 = f1\n",
        "          best_model_state = model.state_dict()\n",
        "\n",
        "\n",
        "\n",
        "\n",
        "      print(f'Validation Accuracy: {accuracy}')\n",
        "      print(f'Validation Precision: {precision}')\n",
        "      print(f'Validation Recall: {recall}')\n",
        "      print(f'Validation F1 Score: {f1}')\n",
        "\n",
        "      print(f\"Epoch [{epoch+1}/{num_epochs}], Validation Accuracy: {val_accuracy:.4f}\")\n",
        "      print()\n",
        "      #wandb.log({\"Validation Accuracy\": accuracy,\"Validation Precision\": precision,\"Validation Recall\": recall,\"Validation F1 Score\": f1,\"Val Accuracy\": val_accuracy, \"Weight Decay\": weight_decay, \"Validation Loss\": val_loss, \"Learning Rate\": learning_rate, \"Number of Epochs\": num_epochs, \"Hidden Size\": hidden_size})\n",
        "      wandb.log({\"Validation Accuracy\": accuracy,\"Validation Precision\": precision,\"Validation Recall\": recall,\"Validation F1 Score\": f1,\"Val Accuracy\": val_accuracy, \"Validation Loss\": val_loss, \"Learning Rate\": learning_rate, \"Number of Epochs\": num_epochs, \"Hidden Size\": hidden_size})\n",
        "\n",
        "      print(best_val_f1)\n",
        "\n",
        "  best_model_filename = f\"best_model_roberta_aug4c_lr_{learning_rate}_epochs_{num_epochs}.pth\"\n",
        "  torch.save(best_model_state, best_model_filename)\n",
        "  model.load_state_dict(torch.load(best_model_filename))\n",
        "  model.eval()\n",
        "\n",
        "  test_batch_size = 16\n",
        "  test_dataset = TensorDataset(test_input_ids, test_attention_masks)\n",
        "  test_loader = DataLoader(test_dataset, batch_size=test_batch_size, shuffle=False)\n",
        "  test_outputs = []\n",
        "\n",
        "  with torch.no_grad():\n",
        "    for input_ids, attention_masks in tqdm(test_loader):\n",
        "      input_ids = input_ids.to(device)\n",
        "      attention_masks = attention_masks.to(device)\n",
        "\n",
        "      batch_outputs = model(input_ids, attention_masks)\n",
        "      _, predicted = torch.max(batch_outputs, 1)\n",
        "      test_outputs.append(predicted)\n",
        "  test_outputs = torch.cat(test_outputs, dim=0)\n",
        "  test_predicted = test_outputs.cpu()\n",
        "  converted_array = test_predicted.numpy()\n",
        "  converted_array_tags = label_encoder.inverse_transform(converted_array)\n",
        "  output_data = []\n",
        "\n",
        "  for index, pred in enumerate(converted_array_tags):\n",
        "      prediction = {'id': index, 'spoilerType': pred}\n",
        "      output_data.append(prediction)\n",
        "\n",
        "  out_df = pd.DataFrame(output_data)\n",
        "  #out_df.to_csv(\"output_big_bird_jul21.csv\", index=False)\n",
        "  filename = f\"output_roberta_lr_{learning_rate}_epochs_{num_epochs}_aug4c.csv\"\n",
        "  out_df.to_csv(filename, index=False)\n",
        "\n",
        "if __name__ == \"__main__\":\n",
        "  wandb.agent(sweep_id, function=main)\n",
        "\n",
        "\n"
      ]
    }
  ],
  "metadata": {
    "accelerator": "GPU",
    "colab": {
      "authorship_tag": "ABX9TyNJj1CIE3gHgouUZB0Hx77t",
      "gpuType": "T4",
      "include_colab_link": true,
      "machine_shape": "hm",
      "provenance": []
    },
    "kernelspec": {
      "display_name": "Python 3",
      "name": "python3"
    },
    "language_info": {
      "name": "python"
    },
    "widgets": {
      "application/vnd.jupyter.widget-state+json": {
        "0507b9ee70004622a28c18af275435d0": {
          "model_module": "@jupyter-widgets/controls",
          "model_module_version": "1.5.0",
          "model_name": "LabelModel",
          "state": {
            "_dom_classes": [],
            "_model_module": "@jupyter-widgets/controls",
            "_model_module_version": "1.5.0",
            "_model_name": "LabelModel",
            "_view_count": null,
            "_view_module": "@jupyter-widgets/controls",
            "_view_module_version": "1.5.0",
            "_view_name": "LabelView",
            "description": "",
            "description_tooltip": null,
            "layout": "IPY_MODEL_a769696821304c1b964667d74a8e898c",
            "placeholder": "​",
            "style": "IPY_MODEL_8f5f871f91c741149e59471400f5ab5c",
            "value": "0.002 MB of 0.012 MB uploaded (0.000 MB deduped)\r"
          }
        },
        "0764ce3c633c475ebf6eebcc8919e1df": {
          "model_module": "@jupyter-widgets/controls",
          "model_module_version": "1.5.0",
          "model_name": "HTMLModel",
          "state": {
            "_dom_classes": [],
            "_model_module": "@jupyter-widgets/controls",
            "_model_module_version": "1.5.0",
            "_model_name": "HTMLModel",
            "_view_count": null,
            "_view_module": "@jupyter-widgets/controls",
            "_view_module_version": "1.5.0",
            "_view_name": "HTMLView",
            "description": "",
            "description_tooltip": null,
            "layout": "IPY_MODEL_cd9074ccc47847aa9a4f7290837db40b",
            "placeholder": "​",
            "style": "IPY_MODEL_94c639c7a52e45179c3c0e5f4cea365d",
            "value": " 499M/499M [00:10&lt;00:00, 62.4MB/s]"
          }
        },
        "10c12b8efa694bd2b1f23deb19a8456a": {
          "model_module": "@jupyter-widgets/base",
          "model_module_version": "1.2.0",
          "model_name": "LayoutModel",
          "state": {
            "_model_module": "@jupyter-widgets/base",
            "_model_module_version": "1.2.0",
            "_model_name": "LayoutModel",
            "_view_count": null,
            "_view_module": "@jupyter-widgets/base",
            "_view_module_version": "1.2.0",
            "_view_name": "LayoutView",
            "align_content": null,
            "align_items": null,
            "align_self": null,
            "border": null,
            "bottom": null,
            "display": null,
            "flex": null,
            "flex_flow": null,
            "grid_area": null,
            "grid_auto_columns": null,
            "grid_auto_flow": null,
            "grid_auto_rows": null,
            "grid_column": null,
            "grid_gap": null,
            "grid_row": null,
            "grid_template_areas": null,
            "grid_template_columns": null,
            "grid_template_rows": null,
            "height": null,
            "justify_content": null,
            "justify_items": null,
            "left": null,
            "margin": null,
            "max_height": null,
            "max_width": null,
            "min_height": null,
            "min_width": null,
            "object_fit": null,
            "object_position": null,
            "order": null,
            "overflow": null,
            "overflow_x": null,
            "overflow_y": null,
            "padding": null,
            "right": null,
            "top": null,
            "visibility": null,
            "width": null
          }
        },
        "164a107353bf487d84f19f180492471f": {
          "model_module": "@jupyter-widgets/controls",
          "model_module_version": "1.5.0",
          "model_name": "ProgressStyleModel",
          "state": {
            "_model_module": "@jupyter-widgets/controls",
            "_model_module_version": "1.5.0",
            "_model_name": "ProgressStyleModel",
            "_view_count": null,
            "_view_module": "@jupyter-widgets/base",
            "_view_module_version": "1.2.0",
            "_view_name": "StyleView",
            "bar_color": null,
            "description_width": ""
          }
        },
        "22ba099d35404c1a888d2a5f244d91dd": {
          "model_module": "@jupyter-widgets/base",
          "model_module_version": "1.2.0",
          "model_name": "LayoutModel",
          "state": {
            "_model_module": "@jupyter-widgets/base",
            "_model_module_version": "1.2.0",
            "_model_name": "LayoutModel",
            "_view_count": null,
            "_view_module": "@jupyter-widgets/base",
            "_view_module_version": "1.2.0",
            "_view_name": "LayoutView",
            "align_content": null,
            "align_items": null,
            "align_self": null,
            "border": null,
            "bottom": null,
            "display": null,
            "flex": null,
            "flex_flow": null,
            "grid_area": null,
            "grid_auto_columns": null,
            "grid_auto_flow": null,
            "grid_auto_rows": null,
            "grid_column": null,
            "grid_gap": null,
            "grid_row": null,
            "grid_template_areas": null,
            "grid_template_columns": null,
            "grid_template_rows": null,
            "height": null,
            "justify_content": null,
            "justify_items": null,
            "left": null,
            "margin": null,
            "max_height": null,
            "max_width": null,
            "min_height": null,
            "min_width": null,
            "object_fit": null,
            "object_position": null,
            "order": null,
            "overflow": null,
            "overflow_x": null,
            "overflow_y": null,
            "padding": null,
            "right": null,
            "top": null,
            "visibility": null,
            "width": null
          }
        },
        "2b5ae9fbe4e049dc8b1b38fc1ea0ad12": {
          "model_module": "@jupyter-widgets/controls",
          "model_module_version": "1.5.0",
          "model_name": "HTMLModel",
          "state": {
            "_dom_classes": [],
            "_model_module": "@jupyter-widgets/controls",
            "_model_module_version": "1.5.0",
            "_model_name": "HTMLModel",
            "_view_count": null,
            "_view_module": "@jupyter-widgets/controls",
            "_view_module_version": "1.5.0",
            "_view_name": "HTMLView",
            "description": "",
            "description_tooltip": null,
            "layout": "IPY_MODEL_3b98e579d02b4e26bad19dfd8b782013",
            "placeholder": "​",
            "style": "IPY_MODEL_3b3d3db4379a4cbc9fb855da94ac4226",
            "value": "Downloading model.safetensors: 100%"
          }
        },
        "2e44b4e8c0134788b400a0943aa96cbc": {
          "model_module": "@jupyter-widgets/controls",
          "model_module_version": "1.5.0",
          "model_name": "HTMLModel",
          "state": {
            "_dom_classes": [],
            "_model_module": "@jupyter-widgets/controls",
            "_model_module_version": "1.5.0",
            "_model_name": "HTMLModel",
            "_view_count": null,
            "_view_module": "@jupyter-widgets/controls",
            "_view_module_version": "1.5.0",
            "_view_name": "HTMLView",
            "description": "",
            "description_tooltip": null,
            "layout": "IPY_MODEL_72effb4708c04d14a1aec87009fad415",
            "placeholder": "​",
            "style": "IPY_MODEL_6bdc3e9f27194e4eaf44528c93695bd7",
            "value": "Downloading (…)olve/main/merges.txt: 100%"
          }
        },
        "3a9614cc16654453b08587f89ee5bf27": {
          "model_module": "@jupyter-widgets/controls",
          "model_module_version": "1.5.0",
          "model_name": "ProgressStyleModel",
          "state": {
            "_model_module": "@jupyter-widgets/controls",
            "_model_module_version": "1.5.0",
            "_model_name": "ProgressStyleModel",
            "_view_count": null,
            "_view_module": "@jupyter-widgets/base",
            "_view_module_version": "1.2.0",
            "_view_name": "StyleView",
            "bar_color": null,
            "description_width": ""
          }
        },
        "3b3d3db4379a4cbc9fb855da94ac4226": {
          "model_module": "@jupyter-widgets/controls",
          "model_module_version": "1.5.0",
          "model_name": "DescriptionStyleModel",
          "state": {
            "_model_module": "@jupyter-widgets/controls",
            "_model_module_version": "1.5.0",
            "_model_name": "DescriptionStyleModel",
            "_view_count": null,
            "_view_module": "@jupyter-widgets/base",
            "_view_module_version": "1.2.0",
            "_view_name": "StyleView",
            "description_width": ""
          }
        },
        "3b98e579d02b4e26bad19dfd8b782013": {
          "model_module": "@jupyter-widgets/base",
          "model_module_version": "1.2.0",
          "model_name": "LayoutModel",
          "state": {
            "_model_module": "@jupyter-widgets/base",
            "_model_module_version": "1.2.0",
            "_model_name": "LayoutModel",
            "_view_count": null,
            "_view_module": "@jupyter-widgets/base",
            "_view_module_version": "1.2.0",
            "_view_name": "LayoutView",
            "align_content": null,
            "align_items": null,
            "align_self": null,
            "border": null,
            "bottom": null,
            "display": null,
            "flex": null,
            "flex_flow": null,
            "grid_area": null,
            "grid_auto_columns": null,
            "grid_auto_flow": null,
            "grid_auto_rows": null,
            "grid_column": null,
            "grid_gap": null,
            "grid_row": null,
            "grid_template_areas": null,
            "grid_template_columns": null,
            "grid_template_rows": null,
            "height": null,
            "justify_content": null,
            "justify_items": null,
            "left": null,
            "margin": null,
            "max_height": null,
            "max_width": null,
            "min_height": null,
            "min_width": null,
            "object_fit": null,
            "object_position": null,
            "order": null,
            "overflow": null,
            "overflow_x": null,
            "overflow_y": null,
            "padding": null,
            "right": null,
            "top": null,
            "visibility": null,
            "width": null
          }
        },
        "422a0e08feb047e98204e4e1577aba9e": {
          "model_module": "@jupyter-widgets/base",
          "model_module_version": "1.2.0",
          "model_name": "LayoutModel",
          "state": {
            "_model_module": "@jupyter-widgets/base",
            "_model_module_version": "1.2.0",
            "_model_name": "LayoutModel",
            "_view_count": null,
            "_view_module": "@jupyter-widgets/base",
            "_view_module_version": "1.2.0",
            "_view_name": "LayoutView",
            "align_content": null,
            "align_items": null,
            "align_self": null,
            "border": null,
            "bottom": null,
            "display": null,
            "flex": null,
            "flex_flow": null,
            "grid_area": null,
            "grid_auto_columns": null,
            "grid_auto_flow": null,
            "grid_auto_rows": null,
            "grid_column": null,
            "grid_gap": null,
            "grid_row": null,
            "grid_template_areas": null,
            "grid_template_columns": null,
            "grid_template_rows": null,
            "height": null,
            "justify_content": null,
            "justify_items": null,
            "left": null,
            "margin": null,
            "max_height": null,
            "max_width": null,
            "min_height": null,
            "min_width": null,
            "object_fit": null,
            "object_position": null,
            "order": null,
            "overflow": null,
            "overflow_x": null,
            "overflow_y": null,
            "padding": null,
            "right": null,
            "top": null,
            "visibility": null,
            "width": null
          }
        },
        "4cd7039a28ae449084ebbeb56ea4d00d": {
          "model_module": "@jupyter-widgets/base",
          "model_module_version": "1.2.0",
          "model_name": "LayoutModel",
          "state": {
            "_model_module": "@jupyter-widgets/base",
            "_model_module_version": "1.2.0",
            "_model_name": "LayoutModel",
            "_view_count": null,
            "_view_module": "@jupyter-widgets/base",
            "_view_module_version": "1.2.0",
            "_view_name": "LayoutView",
            "align_content": null,
            "align_items": null,
            "align_self": null,
            "border": null,
            "bottom": null,
            "display": null,
            "flex": null,
            "flex_flow": null,
            "grid_area": null,
            "grid_auto_columns": null,
            "grid_auto_flow": null,
            "grid_auto_rows": null,
            "grid_column": null,
            "grid_gap": null,
            "grid_row": null,
            "grid_template_areas": null,
            "grid_template_columns": null,
            "grid_template_rows": null,
            "height": null,
            "justify_content": null,
            "justify_items": null,
            "left": null,
            "margin": null,
            "max_height": null,
            "max_width": null,
            "min_height": null,
            "min_width": null,
            "object_fit": null,
            "object_position": null,
            "order": null,
            "overflow": null,
            "overflow_x": null,
            "overflow_y": null,
            "padding": null,
            "right": null,
            "top": null,
            "visibility": null,
            "width": null
          }
        },
        "50ef5520df834500b7f523a84f1b196e": {
          "model_module": "@jupyter-widgets/base",
          "model_module_version": "1.2.0",
          "model_name": "LayoutModel",
          "state": {
            "_model_module": "@jupyter-widgets/base",
            "_model_module_version": "1.2.0",
            "_model_name": "LayoutModel",
            "_view_count": null,
            "_view_module": "@jupyter-widgets/base",
            "_view_module_version": "1.2.0",
            "_view_name": "LayoutView",
            "align_content": null,
            "align_items": null,
            "align_self": null,
            "border": null,
            "bottom": null,
            "display": null,
            "flex": null,
            "flex_flow": null,
            "grid_area": null,
            "grid_auto_columns": null,
            "grid_auto_flow": null,
            "grid_auto_rows": null,
            "grid_column": null,
            "grid_gap": null,
            "grid_row": null,
            "grid_template_areas": null,
            "grid_template_columns": null,
            "grid_template_rows": null,
            "height": null,
            "justify_content": null,
            "justify_items": null,
            "left": null,
            "margin": null,
            "max_height": null,
            "max_width": null,
            "min_height": null,
            "min_width": null,
            "object_fit": null,
            "object_position": null,
            "order": null,
            "overflow": null,
            "overflow_x": null,
            "overflow_y": null,
            "padding": null,
            "right": null,
            "top": null,
            "visibility": null,
            "width": null
          }
        },
        "5c35bf70568441d0a8bfcb23a0faaabc": {
          "model_module": "@jupyter-widgets/controls",
          "model_module_version": "1.5.0",
          "model_name": "ProgressStyleModel",
          "state": {
            "_model_module": "@jupyter-widgets/controls",
            "_model_module_version": "1.5.0",
            "_model_name": "ProgressStyleModel",
            "_view_count": null,
            "_view_module": "@jupyter-widgets/base",
            "_view_module_version": "1.2.0",
            "_view_name": "StyleView",
            "bar_color": null,
            "description_width": ""
          }
        },
        "5e096e0a215048e4a80856710356dcdd": {
          "model_module": "@jupyter-widgets/controls",
          "model_module_version": "1.5.0",
          "model_name": "HTMLModel",
          "state": {
            "_dom_classes": [],
            "_model_module": "@jupyter-widgets/controls",
            "_model_module_version": "1.5.0",
            "_model_name": "HTMLModel",
            "_view_count": null,
            "_view_module": "@jupyter-widgets/controls",
            "_view_module_version": "1.5.0",
            "_view_name": "HTMLView",
            "description": "",
            "description_tooltip": null,
            "layout": "IPY_MODEL_10c12b8efa694bd2b1f23deb19a8456a",
            "placeholder": "​",
            "style": "IPY_MODEL_ad62fe45d8374b408680ecb390655e58",
            "value": " 899k/899k [00:00&lt;00:00, 8.49MB/s]"
          }
        },
        "6bdc3e9f27194e4eaf44528c93695bd7": {
          "model_module": "@jupyter-widgets/controls",
          "model_module_version": "1.5.0",
          "model_name": "DescriptionStyleModel",
          "state": {
            "_model_module": "@jupyter-widgets/controls",
            "_model_module_version": "1.5.0",
            "_model_name": "DescriptionStyleModel",
            "_view_count": null,
            "_view_module": "@jupyter-widgets/base",
            "_view_module_version": "1.2.0",
            "_view_name": "StyleView",
            "description_width": ""
          }
        },
        "6e8696dbdda24eef82b2b5f38d281f46": {
          "model_module": "@jupyter-widgets/controls",
          "model_module_version": "1.5.0",
          "model_name": "ProgressStyleModel",
          "state": {
            "_model_module": "@jupyter-widgets/controls",
            "_model_module_version": "1.5.0",
            "_model_name": "ProgressStyleModel",
            "_view_count": null,
            "_view_module": "@jupyter-widgets/base",
            "_view_module_version": "1.2.0",
            "_view_name": "StyleView",
            "bar_color": null,
            "description_width": ""
          }
        },
        "72cb0acbb1294c278993f31f1e56f534": {
          "model_module": "@jupyter-widgets/base",
          "model_module_version": "1.2.0",
          "model_name": "LayoutModel",
          "state": {
            "_model_module": "@jupyter-widgets/base",
            "_model_module_version": "1.2.0",
            "_model_name": "LayoutModel",
            "_view_count": null,
            "_view_module": "@jupyter-widgets/base",
            "_view_module_version": "1.2.0",
            "_view_name": "LayoutView",
            "align_content": null,
            "align_items": null,
            "align_self": null,
            "border": null,
            "bottom": null,
            "display": null,
            "flex": null,
            "flex_flow": null,
            "grid_area": null,
            "grid_auto_columns": null,
            "grid_auto_flow": null,
            "grid_auto_rows": null,
            "grid_column": null,
            "grid_gap": null,
            "grid_row": null,
            "grid_template_areas": null,
            "grid_template_columns": null,
            "grid_template_rows": null,
            "height": null,
            "justify_content": null,
            "justify_items": null,
            "left": null,
            "margin": null,
            "max_height": null,
            "max_width": null,
            "min_height": null,
            "min_width": null,
            "object_fit": null,
            "object_position": null,
            "order": null,
            "overflow": null,
            "overflow_x": null,
            "overflow_y": null,
            "padding": null,
            "right": null,
            "top": null,
            "visibility": null,
            "width": null
          }
        },
        "72effb4708c04d14a1aec87009fad415": {
          "model_module": "@jupyter-widgets/base",
          "model_module_version": "1.2.0",
          "model_name": "LayoutModel",
          "state": {
            "_model_module": "@jupyter-widgets/base",
            "_model_module_version": "1.2.0",
            "_model_name": "LayoutModel",
            "_view_count": null,
            "_view_module": "@jupyter-widgets/base",
            "_view_module_version": "1.2.0",
            "_view_name": "LayoutView",
            "align_content": null,
            "align_items": null,
            "align_self": null,
            "border": null,
            "bottom": null,
            "display": null,
            "flex": null,
            "flex_flow": null,
            "grid_area": null,
            "grid_auto_columns": null,
            "grid_auto_flow": null,
            "grid_auto_rows": null,
            "grid_column": null,
            "grid_gap": null,
            "grid_row": null,
            "grid_template_areas": null,
            "grid_template_columns": null,
            "grid_template_rows": null,
            "height": null,
            "justify_content": null,
            "justify_items": null,
            "left": null,
            "margin": null,
            "max_height": null,
            "max_width": null,
            "min_height": null,
            "min_width": null,
            "object_fit": null,
            "object_position": null,
            "order": null,
            "overflow": null,
            "overflow_x": null,
            "overflow_y": null,
            "padding": null,
            "right": null,
            "top": null,
            "visibility": null,
            "width": null
          }
        },
        "7300e06418b642249e5e143c6900b0e1": {
          "model_module": "@jupyter-widgets/base",
          "model_module_version": "1.2.0",
          "model_name": "LayoutModel",
          "state": {
            "_model_module": "@jupyter-widgets/base",
            "_model_module_version": "1.2.0",
            "_model_name": "LayoutModel",
            "_view_count": null,
            "_view_module": "@jupyter-widgets/base",
            "_view_module_version": "1.2.0",
            "_view_name": "LayoutView",
            "align_content": null,
            "align_items": null,
            "align_self": null,
            "border": null,
            "bottom": null,
            "display": null,
            "flex": null,
            "flex_flow": null,
            "grid_area": null,
            "grid_auto_columns": null,
            "grid_auto_flow": null,
            "grid_auto_rows": null,
            "grid_column": null,
            "grid_gap": null,
            "grid_row": null,
            "grid_template_areas": null,
            "grid_template_columns": null,
            "grid_template_rows": null,
            "height": null,
            "justify_content": null,
            "justify_items": null,
            "left": null,
            "margin": null,
            "max_height": null,
            "max_width": null,
            "min_height": null,
            "min_width": null,
            "object_fit": null,
            "object_position": null,
            "order": null,
            "overflow": null,
            "overflow_x": null,
            "overflow_y": null,
            "padding": null,
            "right": null,
            "top": null,
            "visibility": null,
            "width": null
          }
        },
        "77dbba3ce9db4c79990fb3446cd22606": {
          "model_module": "@jupyter-widgets/base",
          "model_module_version": "1.2.0",
          "model_name": "LayoutModel",
          "state": {
            "_model_module": "@jupyter-widgets/base",
            "_model_module_version": "1.2.0",
            "_model_name": "LayoutModel",
            "_view_count": null,
            "_view_module": "@jupyter-widgets/base",
            "_view_module_version": "1.2.0",
            "_view_name": "LayoutView",
            "align_content": null,
            "align_items": null,
            "align_self": null,
            "border": null,
            "bottom": null,
            "display": null,
            "flex": null,
            "flex_flow": null,
            "grid_area": null,
            "grid_auto_columns": null,
            "grid_auto_flow": null,
            "grid_auto_rows": null,
            "grid_column": null,
            "grid_gap": null,
            "grid_row": null,
            "grid_template_areas": null,
            "grid_template_columns": null,
            "grid_template_rows": null,
            "height": null,
            "justify_content": null,
            "justify_items": null,
            "left": null,
            "margin": null,
            "max_height": null,
            "max_width": null,
            "min_height": null,
            "min_width": null,
            "object_fit": null,
            "object_position": null,
            "order": null,
            "overflow": null,
            "overflow_x": null,
            "overflow_y": null,
            "padding": null,
            "right": null,
            "top": null,
            "visibility": null,
            "width": null
          }
        },
        "78ba864ce623419dbc010b3294634d22": {
          "model_module": "@jupyter-widgets/base",
          "model_module_version": "1.2.0",
          "model_name": "LayoutModel",
          "state": {
            "_model_module": "@jupyter-widgets/base",
            "_model_module_version": "1.2.0",
            "_model_name": "LayoutModel",
            "_view_count": null,
            "_view_module": "@jupyter-widgets/base",
            "_view_module_version": "1.2.0",
            "_view_name": "LayoutView",
            "align_content": null,
            "align_items": null,
            "align_self": null,
            "border": null,
            "bottom": null,
            "display": null,
            "flex": null,
            "flex_flow": null,
            "grid_area": null,
            "grid_auto_columns": null,
            "grid_auto_flow": null,
            "grid_auto_rows": null,
            "grid_column": null,
            "grid_gap": null,
            "grid_row": null,
            "grid_template_areas": null,
            "grid_template_columns": null,
            "grid_template_rows": null,
            "height": null,
            "justify_content": null,
            "justify_items": null,
            "left": null,
            "margin": null,
            "max_height": null,
            "max_width": null,
            "min_height": null,
            "min_width": null,
            "object_fit": null,
            "object_position": null,
            "order": null,
            "overflow": null,
            "overflow_x": null,
            "overflow_y": null,
            "padding": null,
            "right": null,
            "top": null,
            "visibility": null,
            "width": null
          }
        },
        "81aade5c51904722a2781181fd065eca": {
          "model_module": "@jupyter-widgets/controls",
          "model_module_version": "1.5.0",
          "model_name": "HBoxModel",
          "state": {
            "_dom_classes": [],
            "_model_module": "@jupyter-widgets/controls",
            "_model_module_version": "1.5.0",
            "_model_name": "HBoxModel",
            "_view_count": null,
            "_view_module": "@jupyter-widgets/controls",
            "_view_module_version": "1.5.0",
            "_view_name": "HBoxView",
            "box_style": "",
            "children": [
              "IPY_MODEL_2e44b4e8c0134788b400a0943aa96cbc",
              "IPY_MODEL_e36be66cfb214f83a9c7d462eef4722a",
              "IPY_MODEL_ec2ae0734c7349ca92a0b327d2f16f00"
            ],
            "layout": "IPY_MODEL_77dbba3ce9db4c79990fb3446cd22606"
          }
        },
        "83373b6e5f954d799ab3588b9c9a480b": {
          "model_module": "@jupyter-widgets/controls",
          "model_module_version": "1.5.0",
          "model_name": "HBoxModel",
          "state": {
            "_dom_classes": [],
            "_model_module": "@jupyter-widgets/controls",
            "_model_module_version": "1.5.0",
            "_model_name": "HBoxModel",
            "_view_count": null,
            "_view_module": "@jupyter-widgets/controls",
            "_view_module_version": "1.5.0",
            "_view_name": "HBoxView",
            "box_style": "",
            "children": [
              "IPY_MODEL_2b5ae9fbe4e049dc8b1b38fc1ea0ad12",
              "IPY_MODEL_a997f8462f764c2889af35ebb41cfbf9",
              "IPY_MODEL_0764ce3c633c475ebf6eebcc8919e1df"
            ],
            "layout": "IPY_MODEL_aa3d68c8a66a443dbe69d448c7994d23"
          }
        },
        "86445d12eb4143df98f65a8ee1af5f2b": {
          "model_module": "@jupyter-widgets/controls",
          "model_module_version": "1.5.0",
          "model_name": "VBoxModel",
          "state": {
            "_dom_classes": [],
            "_model_module": "@jupyter-widgets/controls",
            "_model_module_version": "1.5.0",
            "_model_name": "VBoxModel",
            "_view_count": null,
            "_view_module": "@jupyter-widgets/controls",
            "_view_module_version": "1.5.0",
            "_view_name": "VBoxView",
            "box_style": "",
            "children": [
              "IPY_MODEL_0507b9ee70004622a28c18af275435d0",
              "IPY_MODEL_bb514f1096bf4faf9877ed06fd80d50e"
            ],
            "layout": "IPY_MODEL_7300e06418b642249e5e143c6900b0e1"
          }
        },
        "865cc875c5fd463784f2d4c929721cad": {
          "model_module": "@jupyter-widgets/base",
          "model_module_version": "1.2.0",
          "model_name": "LayoutModel",
          "state": {
            "_model_module": "@jupyter-widgets/base",
            "_model_module_version": "1.2.0",
            "_model_name": "LayoutModel",
            "_view_count": null,
            "_view_module": "@jupyter-widgets/base",
            "_view_module_version": "1.2.0",
            "_view_name": "LayoutView",
            "align_content": null,
            "align_items": null,
            "align_self": null,
            "border": null,
            "bottom": null,
            "display": null,
            "flex": null,
            "flex_flow": null,
            "grid_area": null,
            "grid_auto_columns": null,
            "grid_auto_flow": null,
            "grid_auto_rows": null,
            "grid_column": null,
            "grid_gap": null,
            "grid_row": null,
            "grid_template_areas": null,
            "grid_template_columns": null,
            "grid_template_rows": null,
            "height": null,
            "justify_content": null,
            "justify_items": null,
            "left": null,
            "margin": null,
            "max_height": null,
            "max_width": null,
            "min_height": null,
            "min_width": null,
            "object_fit": null,
            "object_position": null,
            "order": null,
            "overflow": null,
            "overflow_x": null,
            "overflow_y": null,
            "padding": null,
            "right": null,
            "top": null,
            "visibility": null,
            "width": null
          }
        },
        "8f5f871f91c741149e59471400f5ab5c": {
          "model_module": "@jupyter-widgets/controls",
          "model_module_version": "1.5.0",
          "model_name": "DescriptionStyleModel",
          "state": {
            "_model_module": "@jupyter-widgets/controls",
            "_model_module_version": "1.5.0",
            "_model_name": "DescriptionStyleModel",
            "_view_count": null,
            "_view_module": "@jupyter-widgets/base",
            "_view_module_version": "1.2.0",
            "_view_name": "StyleView",
            "description_width": ""
          }
        },
        "91c5af82821a4f4e931cd136c9999f56": {
          "model_module": "@jupyter-widgets/controls",
          "model_module_version": "1.5.0",
          "model_name": "HBoxModel",
          "state": {
            "_dom_classes": [],
            "_model_module": "@jupyter-widgets/controls",
            "_model_module_version": "1.5.0",
            "_model_name": "HBoxModel",
            "_view_count": null,
            "_view_module": "@jupyter-widgets/controls",
            "_view_module_version": "1.5.0",
            "_view_name": "HBoxView",
            "box_style": "",
            "children": [
              "IPY_MODEL_e85599e5b10e404c912537511febda09",
              "IPY_MODEL_dc1f4850afda4d549c65b93561f9af27",
              "IPY_MODEL_ec00884d77a5457f9e2f9e38fdf2d407"
            ],
            "layout": "IPY_MODEL_fcefcc6779024bba804cc12b1daf6acb"
          }
        },
        "94c639c7a52e45179c3c0e5f4cea365d": {
          "model_module": "@jupyter-widgets/controls",
          "model_module_version": "1.5.0",
          "model_name": "DescriptionStyleModel",
          "state": {
            "_model_module": "@jupyter-widgets/controls",
            "_model_module_version": "1.5.0",
            "_model_name": "DescriptionStyleModel",
            "_view_count": null,
            "_view_module": "@jupyter-widgets/base",
            "_view_module_version": "1.2.0",
            "_view_name": "StyleView",
            "description_width": ""
          }
        },
        "a769696821304c1b964667d74a8e898c": {
          "model_module": "@jupyter-widgets/base",
          "model_module_version": "1.2.0",
          "model_name": "LayoutModel",
          "state": {
            "_model_module": "@jupyter-widgets/base",
            "_model_module_version": "1.2.0",
            "_model_name": "LayoutModel",
            "_view_count": null,
            "_view_module": "@jupyter-widgets/base",
            "_view_module_version": "1.2.0",
            "_view_name": "LayoutView",
            "align_content": null,
            "align_items": null,
            "align_self": null,
            "border": null,
            "bottom": null,
            "display": null,
            "flex": null,
            "flex_flow": null,
            "grid_area": null,
            "grid_auto_columns": null,
            "grid_auto_flow": null,
            "grid_auto_rows": null,
            "grid_column": null,
            "grid_gap": null,
            "grid_row": null,
            "grid_template_areas": null,
            "grid_template_columns": null,
            "grid_template_rows": null,
            "height": null,
            "justify_content": null,
            "justify_items": null,
            "left": null,
            "margin": null,
            "max_height": null,
            "max_width": null,
            "min_height": null,
            "min_width": null,
            "object_fit": null,
            "object_position": null,
            "order": null,
            "overflow": null,
            "overflow_x": null,
            "overflow_y": null,
            "padding": null,
            "right": null,
            "top": null,
            "visibility": null,
            "width": null
          }
        },
        "a997f8462f764c2889af35ebb41cfbf9": {
          "model_module": "@jupyter-widgets/controls",
          "model_module_version": "1.5.0",
          "model_name": "FloatProgressModel",
          "state": {
            "_dom_classes": [],
            "_model_module": "@jupyter-widgets/controls",
            "_model_module_version": "1.5.0",
            "_model_name": "FloatProgressModel",
            "_view_count": null,
            "_view_module": "@jupyter-widgets/controls",
            "_view_module_version": "1.5.0",
            "_view_name": "ProgressView",
            "bar_style": "success",
            "description": "",
            "description_tooltip": null,
            "layout": "IPY_MODEL_78ba864ce623419dbc010b3294634d22",
            "max": 498818054,
            "min": 0,
            "orientation": "horizontal",
            "style": "IPY_MODEL_6e8696dbdda24eef82b2b5f38d281f46",
            "value": 498818054
          }
        },
        "aa3d68c8a66a443dbe69d448c7994d23": {
          "model_module": "@jupyter-widgets/base",
          "model_module_version": "1.2.0",
          "model_name": "LayoutModel",
          "state": {
            "_model_module": "@jupyter-widgets/base",
            "_model_module_version": "1.2.0",
            "_model_name": "LayoutModel",
            "_view_count": null,
            "_view_module": "@jupyter-widgets/base",
            "_view_module_version": "1.2.0",
            "_view_name": "LayoutView",
            "align_content": null,
            "align_items": null,
            "align_self": null,
            "border": null,
            "bottom": null,
            "display": null,
            "flex": null,
            "flex_flow": null,
            "grid_area": null,
            "grid_auto_columns": null,
            "grid_auto_flow": null,
            "grid_auto_rows": null,
            "grid_column": null,
            "grid_gap": null,
            "grid_row": null,
            "grid_template_areas": null,
            "grid_template_columns": null,
            "grid_template_rows": null,
            "height": null,
            "justify_content": null,
            "justify_items": null,
            "left": null,
            "margin": null,
            "max_height": null,
            "max_width": null,
            "min_height": null,
            "min_width": null,
            "object_fit": null,
            "object_position": null,
            "order": null,
            "overflow": null,
            "overflow_x": null,
            "overflow_y": null,
            "padding": null,
            "right": null,
            "top": null,
            "visibility": null,
            "width": null
          }
        },
        "ad62fe45d8374b408680ecb390655e58": {
          "model_module": "@jupyter-widgets/controls",
          "model_module_version": "1.5.0",
          "model_name": "DescriptionStyleModel",
          "state": {
            "_model_module": "@jupyter-widgets/controls",
            "_model_module_version": "1.5.0",
            "_model_name": "DescriptionStyleModel",
            "_view_count": null,
            "_view_module": "@jupyter-widgets/base",
            "_view_module_version": "1.2.0",
            "_view_name": "StyleView",
            "description_width": ""
          }
        },
        "b492a338393146dca7f9a13097366f2a": {
          "model_module": "@jupyter-widgets/controls",
          "model_module_version": "1.5.0",
          "model_name": "DescriptionStyleModel",
          "state": {
            "_model_module": "@jupyter-widgets/controls",
            "_model_module_version": "1.5.0",
            "_model_name": "DescriptionStyleModel",
            "_view_count": null,
            "_view_module": "@jupyter-widgets/base",
            "_view_module_version": "1.2.0",
            "_view_name": "StyleView",
            "description_width": ""
          }
        },
        "bb514f1096bf4faf9877ed06fd80d50e": {
          "model_module": "@jupyter-widgets/controls",
          "model_module_version": "1.5.0",
          "model_name": "FloatProgressModel",
          "state": {
            "_dom_classes": [],
            "_model_module": "@jupyter-widgets/controls",
            "_model_module_version": "1.5.0",
            "_model_name": "FloatProgressModel",
            "_view_count": null,
            "_view_module": "@jupyter-widgets/controls",
            "_view_module_version": "1.5.0",
            "_view_name": "ProgressView",
            "bar_style": "",
            "description": "",
            "description_tooltip": null,
            "layout": "IPY_MODEL_e31122c4118b4c9bb6a136a862013f16",
            "max": 1,
            "min": 0,
            "orientation": "horizontal",
            "style": "IPY_MODEL_db89c6d13c0c4760aa8cfa8a6b56118e",
            "value": 0.17488494411571334
          }
        },
        "c379941bf82543f58b28669cdde05684": {
          "model_module": "@jupyter-widgets/base",
          "model_module_version": "1.2.0",
          "model_name": "LayoutModel",
          "state": {
            "_model_module": "@jupyter-widgets/base",
            "_model_module_version": "1.2.0",
            "_model_name": "LayoutModel",
            "_view_count": null,
            "_view_module": "@jupyter-widgets/base",
            "_view_module_version": "1.2.0",
            "_view_name": "LayoutView",
            "align_content": null,
            "align_items": null,
            "align_self": null,
            "border": null,
            "bottom": null,
            "display": null,
            "flex": null,
            "flex_flow": null,
            "grid_area": null,
            "grid_auto_columns": null,
            "grid_auto_flow": null,
            "grid_auto_rows": null,
            "grid_column": null,
            "grid_gap": null,
            "grid_row": null,
            "grid_template_areas": null,
            "grid_template_columns": null,
            "grid_template_rows": null,
            "height": null,
            "justify_content": null,
            "justify_items": null,
            "left": null,
            "margin": null,
            "max_height": null,
            "max_width": null,
            "min_height": null,
            "min_width": null,
            "object_fit": null,
            "object_position": null,
            "order": null,
            "overflow": null,
            "overflow_x": null,
            "overflow_y": null,
            "padding": null,
            "right": null,
            "top": null,
            "visibility": null,
            "width": null
          }
        },
        "c9425754cfe74e26925861a29f17fbc4": {
          "model_module": "@jupyter-widgets/controls",
          "model_module_version": "1.5.0",
          "model_name": "DescriptionStyleModel",
          "state": {
            "_model_module": "@jupyter-widgets/controls",
            "_model_module_version": "1.5.0",
            "_model_name": "DescriptionStyleModel",
            "_view_count": null,
            "_view_module": "@jupyter-widgets/base",
            "_view_module_version": "1.2.0",
            "_view_name": "StyleView",
            "description_width": ""
          }
        },
        "cd9074ccc47847aa9a4f7290837db40b": {
          "model_module": "@jupyter-widgets/base",
          "model_module_version": "1.2.0",
          "model_name": "LayoutModel",
          "state": {
            "_model_module": "@jupyter-widgets/base",
            "_model_module_version": "1.2.0",
            "_model_name": "LayoutModel",
            "_view_count": null,
            "_view_module": "@jupyter-widgets/base",
            "_view_module_version": "1.2.0",
            "_view_name": "LayoutView",
            "align_content": null,
            "align_items": null,
            "align_self": null,
            "border": null,
            "bottom": null,
            "display": null,
            "flex": null,
            "flex_flow": null,
            "grid_area": null,
            "grid_auto_columns": null,
            "grid_auto_flow": null,
            "grid_auto_rows": null,
            "grid_column": null,
            "grid_gap": null,
            "grid_row": null,
            "grid_template_areas": null,
            "grid_template_columns": null,
            "grid_template_rows": null,
            "height": null,
            "justify_content": null,
            "justify_items": null,
            "left": null,
            "margin": null,
            "max_height": null,
            "max_width": null,
            "min_height": null,
            "min_width": null,
            "object_fit": null,
            "object_position": null,
            "order": null,
            "overflow": null,
            "overflow_x": null,
            "overflow_y": null,
            "padding": null,
            "right": null,
            "top": null,
            "visibility": null,
            "width": null
          }
        },
        "da004201c515436f9f73d616f0fd1fb0": {
          "model_module": "@jupyter-widgets/controls",
          "model_module_version": "1.5.0",
          "model_name": "HBoxModel",
          "state": {
            "_dom_classes": [],
            "_model_module": "@jupyter-widgets/controls",
            "_model_module_version": "1.5.0",
            "_model_name": "HBoxModel",
            "_view_count": null,
            "_view_module": "@jupyter-widgets/controls",
            "_view_module_version": "1.5.0",
            "_view_name": "HBoxView",
            "box_style": "",
            "children": [
              "IPY_MODEL_f293d5533b26495dba4472b3c136fa16",
              "IPY_MODEL_f4265b4d70af4c679df979234f0bf411",
              "IPY_MODEL_5e096e0a215048e4a80856710356dcdd"
            ],
            "layout": "IPY_MODEL_c379941bf82543f58b28669cdde05684"
          }
        },
        "db89c6d13c0c4760aa8cfa8a6b56118e": {
          "model_module": "@jupyter-widgets/controls",
          "model_module_version": "1.5.0",
          "model_name": "ProgressStyleModel",
          "state": {
            "_model_module": "@jupyter-widgets/controls",
            "_model_module_version": "1.5.0",
            "_model_name": "ProgressStyleModel",
            "_view_count": null,
            "_view_module": "@jupyter-widgets/base",
            "_view_module_version": "1.2.0",
            "_view_name": "StyleView",
            "bar_color": null,
            "description_width": ""
          }
        },
        "dc1f4850afda4d549c65b93561f9af27": {
          "model_module": "@jupyter-widgets/controls",
          "model_module_version": "1.5.0",
          "model_name": "FloatProgressModel",
          "state": {
            "_dom_classes": [],
            "_model_module": "@jupyter-widgets/controls",
            "_model_module_version": "1.5.0",
            "_model_name": "FloatProgressModel",
            "_view_count": null,
            "_view_module": "@jupyter-widgets/controls",
            "_view_module_version": "1.5.0",
            "_view_name": "ProgressView",
            "bar_style": "success",
            "description": "",
            "description_tooltip": null,
            "layout": "IPY_MODEL_422a0e08feb047e98204e4e1577aba9e",
            "max": 481,
            "min": 0,
            "orientation": "horizontal",
            "style": "IPY_MODEL_3a9614cc16654453b08587f89ee5bf27",
            "value": 481
          }
        },
        "e31122c4118b4c9bb6a136a862013f16": {
          "model_module": "@jupyter-widgets/base",
          "model_module_version": "1.2.0",
          "model_name": "LayoutModel",
          "state": {
            "_model_module": "@jupyter-widgets/base",
            "_model_module_version": "1.2.0",
            "_model_name": "LayoutModel",
            "_view_count": null,
            "_view_module": "@jupyter-widgets/base",
            "_view_module_version": "1.2.0",
            "_view_name": "LayoutView",
            "align_content": null,
            "align_items": null,
            "align_self": null,
            "border": null,
            "bottom": null,
            "display": null,
            "flex": null,
            "flex_flow": null,
            "grid_area": null,
            "grid_auto_columns": null,
            "grid_auto_flow": null,
            "grid_auto_rows": null,
            "grid_column": null,
            "grid_gap": null,
            "grid_row": null,
            "grid_template_areas": null,
            "grid_template_columns": null,
            "grid_template_rows": null,
            "height": null,
            "justify_content": null,
            "justify_items": null,
            "left": null,
            "margin": null,
            "max_height": null,
            "max_width": null,
            "min_height": null,
            "min_width": null,
            "object_fit": null,
            "object_position": null,
            "order": null,
            "overflow": null,
            "overflow_x": null,
            "overflow_y": null,
            "padding": null,
            "right": null,
            "top": null,
            "visibility": null,
            "width": null
          }
        },
        "e36be66cfb214f83a9c7d462eef4722a": {
          "model_module": "@jupyter-widgets/controls",
          "model_module_version": "1.5.0",
          "model_name": "FloatProgressModel",
          "state": {
            "_dom_classes": [],
            "_model_module": "@jupyter-widgets/controls",
            "_model_module_version": "1.5.0",
            "_model_name": "FloatProgressModel",
            "_view_count": null,
            "_view_module": "@jupyter-widgets/controls",
            "_view_module_version": "1.5.0",
            "_view_name": "ProgressView",
            "bar_style": "success",
            "description": "",
            "description_tooltip": null,
            "layout": "IPY_MODEL_50ef5520df834500b7f523a84f1b196e",
            "max": 456318,
            "min": 0,
            "orientation": "horizontal",
            "style": "IPY_MODEL_5c35bf70568441d0a8bfcb23a0faaabc",
            "value": 456318
          }
        },
        "e85599e5b10e404c912537511febda09": {
          "model_module": "@jupyter-widgets/controls",
          "model_module_version": "1.5.0",
          "model_name": "HTMLModel",
          "state": {
            "_dom_classes": [],
            "_model_module": "@jupyter-widgets/controls",
            "_model_module_version": "1.5.0",
            "_model_name": "HTMLModel",
            "_view_count": null,
            "_view_module": "@jupyter-widgets/controls",
            "_view_module_version": "1.5.0",
            "_view_name": "HTMLView",
            "description": "",
            "description_tooltip": null,
            "layout": "IPY_MODEL_ebaa88bb566f4f689d32b357d00a8c95",
            "placeholder": "​",
            "style": "IPY_MODEL_fd452c22a43c4d6e914f9f7a70f6be68",
            "value": "Downloading (…)lve/main/config.json: 100%"
          }
        },
        "ebaa88bb566f4f689d32b357d00a8c95": {
          "model_module": "@jupyter-widgets/base",
          "model_module_version": "1.2.0",
          "model_name": "LayoutModel",
          "state": {
            "_model_module": "@jupyter-widgets/base",
            "_model_module_version": "1.2.0",
            "_model_name": "LayoutModel",
            "_view_count": null,
            "_view_module": "@jupyter-widgets/base",
            "_view_module_version": "1.2.0",
            "_view_name": "LayoutView",
            "align_content": null,
            "align_items": null,
            "align_self": null,
            "border": null,
            "bottom": null,
            "display": null,
            "flex": null,
            "flex_flow": null,
            "grid_area": null,
            "grid_auto_columns": null,
            "grid_auto_flow": null,
            "grid_auto_rows": null,
            "grid_column": null,
            "grid_gap": null,
            "grid_row": null,
            "grid_template_areas": null,
            "grid_template_columns": null,
            "grid_template_rows": null,
            "height": null,
            "justify_content": null,
            "justify_items": null,
            "left": null,
            "margin": null,
            "max_height": null,
            "max_width": null,
            "min_height": null,
            "min_width": null,
            "object_fit": null,
            "object_position": null,
            "order": null,
            "overflow": null,
            "overflow_x": null,
            "overflow_y": null,
            "padding": null,
            "right": null,
            "top": null,
            "visibility": null,
            "width": null
          }
        },
        "ec00884d77a5457f9e2f9e38fdf2d407": {
          "model_module": "@jupyter-widgets/controls",
          "model_module_version": "1.5.0",
          "model_name": "HTMLModel",
          "state": {
            "_dom_classes": [],
            "_model_module": "@jupyter-widgets/controls",
            "_model_module_version": "1.5.0",
            "_model_name": "HTMLModel",
            "_view_count": null,
            "_view_module": "@jupyter-widgets/controls",
            "_view_module_version": "1.5.0",
            "_view_name": "HTMLView",
            "description": "",
            "description_tooltip": null,
            "layout": "IPY_MODEL_22ba099d35404c1a888d2a5f244d91dd",
            "placeholder": "​",
            "style": "IPY_MODEL_c9425754cfe74e26925861a29f17fbc4",
            "value": " 481/481 [00:00&lt;00:00, 35.9kB/s]"
          }
        },
        "ec2ae0734c7349ca92a0b327d2f16f00": {
          "model_module": "@jupyter-widgets/controls",
          "model_module_version": "1.5.0",
          "model_name": "HTMLModel",
          "state": {
            "_dom_classes": [],
            "_model_module": "@jupyter-widgets/controls",
            "_model_module_version": "1.5.0",
            "_model_name": "HTMLModel",
            "_view_count": null,
            "_view_module": "@jupyter-widgets/controls",
            "_view_module_version": "1.5.0",
            "_view_name": "HTMLView",
            "description": "",
            "description_tooltip": null,
            "layout": "IPY_MODEL_865cc875c5fd463784f2d4c929721cad",
            "placeholder": "​",
            "style": "IPY_MODEL_ef72a563dc354c88b0b134b0aaf1750c",
            "value": " 456k/456k [00:00&lt;00:00, 6.07MB/s]"
          }
        },
        "ef72a563dc354c88b0b134b0aaf1750c": {
          "model_module": "@jupyter-widgets/controls",
          "model_module_version": "1.5.0",
          "model_name": "DescriptionStyleModel",
          "state": {
            "_model_module": "@jupyter-widgets/controls",
            "_model_module_version": "1.5.0",
            "_model_name": "DescriptionStyleModel",
            "_view_count": null,
            "_view_module": "@jupyter-widgets/base",
            "_view_module_version": "1.2.0",
            "_view_name": "StyleView",
            "description_width": ""
          }
        },
        "f293d5533b26495dba4472b3c136fa16": {
          "model_module": "@jupyter-widgets/controls",
          "model_module_version": "1.5.0",
          "model_name": "HTMLModel",
          "state": {
            "_dom_classes": [],
            "_model_module": "@jupyter-widgets/controls",
            "_model_module_version": "1.5.0",
            "_model_name": "HTMLModel",
            "_view_count": null,
            "_view_module": "@jupyter-widgets/controls",
            "_view_module_version": "1.5.0",
            "_view_name": "HTMLView",
            "description": "",
            "description_tooltip": null,
            "layout": "IPY_MODEL_72cb0acbb1294c278993f31f1e56f534",
            "placeholder": "​",
            "style": "IPY_MODEL_b492a338393146dca7f9a13097366f2a",
            "value": "Downloading (…)olve/main/vocab.json: 100%"
          }
        },
        "f4265b4d70af4c679df979234f0bf411": {
          "model_module": "@jupyter-widgets/controls",
          "model_module_version": "1.5.0",
          "model_name": "FloatProgressModel",
          "state": {
            "_dom_classes": [],
            "_model_module": "@jupyter-widgets/controls",
            "_model_module_version": "1.5.0",
            "_model_name": "FloatProgressModel",
            "_view_count": null,
            "_view_module": "@jupyter-widgets/controls",
            "_view_module_version": "1.5.0",
            "_view_name": "ProgressView",
            "bar_style": "success",
            "description": "",
            "description_tooltip": null,
            "layout": "IPY_MODEL_4cd7039a28ae449084ebbeb56ea4d00d",
            "max": 898823,
            "min": 0,
            "orientation": "horizontal",
            "style": "IPY_MODEL_164a107353bf487d84f19f180492471f",
            "value": 898823
          }
        },
        "fcefcc6779024bba804cc12b1daf6acb": {
          "model_module": "@jupyter-widgets/base",
          "model_module_version": "1.2.0",
          "model_name": "LayoutModel",
          "state": {
            "_model_module": "@jupyter-widgets/base",
            "_model_module_version": "1.2.0",
            "_model_name": "LayoutModel",
            "_view_count": null,
            "_view_module": "@jupyter-widgets/base",
            "_view_module_version": "1.2.0",
            "_view_name": "LayoutView",
            "align_content": null,
            "align_items": null,
            "align_self": null,
            "border": null,
            "bottom": null,
            "display": null,
            "flex": null,
            "flex_flow": null,
            "grid_area": null,
            "grid_auto_columns": null,
            "grid_auto_flow": null,
            "grid_auto_rows": null,
            "grid_column": null,
            "grid_gap": null,
            "grid_row": null,
            "grid_template_areas": null,
            "grid_template_columns": null,
            "grid_template_rows": null,
            "height": null,
            "justify_content": null,
            "justify_items": null,
            "left": null,
            "margin": null,
            "max_height": null,
            "max_width": null,
            "min_height": null,
            "min_width": null,
            "object_fit": null,
            "object_position": null,
            "order": null,
            "overflow": null,
            "overflow_x": null,
            "overflow_y": null,
            "padding": null,
            "right": null,
            "top": null,
            "visibility": null,
            "width": null
          }
        },
        "fd452c22a43c4d6e914f9f7a70f6be68": {
          "model_module": "@jupyter-widgets/controls",
          "model_module_version": "1.5.0",
          "model_name": "DescriptionStyleModel",
          "state": {
            "_model_module": "@jupyter-widgets/controls",
            "_model_module_version": "1.5.0",
            "_model_name": "DescriptionStyleModel",
            "_view_count": null,
            "_view_module": "@jupyter-widgets/base",
            "_view_module_version": "1.2.0",
            "_view_name": "StyleView",
            "description_width": ""
          }
        }
      }
    }
  },
  "nbformat": 4,
  "nbformat_minor": 0
}
